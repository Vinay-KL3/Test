{
 "cells": [
  {
   "cell_type": "code",
   "execution_count": 22,
   "id": "ad3b391e",
   "metadata": {},
   "outputs": [],
   "source": [
    "import requests\n",
    "import random\n",
    "import json\n",
    "import pandas as pd\n",
    "import csv"
   ]
  },
  {
   "cell_type": "code",
   "execution_count": 25,
   "id": "44830733",
   "metadata": {},
   "outputs": [],
   "source": [
    "url = \"https://poojafin.saarthi.ai/lead_english/webhook\"\n",
    "\n",
    "\n",
    "def request_1(session_id,message=None,intent=None):\n",
    "    payload = json.dumps({\n",
    "    \"user_id\" : \"7893893270\",\n",
    "    \"request_id\" : \"request1127\",\n",
    "    \"sender\" : session_id,\n",
    "    \"message\" :  message\n",
    "})\n",
    "    headers = {\n",
    "    'Content-Type': 'application/json'\n",
    "    }\n",
    "\n",
    "    response = requests.request(\"POST\", url, headers=headers, data=payload).json()\n",
    "    #print(f'input message is {message} bot output is ------>{response[\"data\"][0][\"text\"]}'+\"\\n\")\n",
    "    print(f'{response[\"data\"][0][\"text\"]}'+\"\\n\")\n",
    "    #print(C)\n",
    "\n",
    "\n",
    "\n",
    "\n",
    "\n"
   ]
  },
  {
   "cell_type": "code",
   "execution_count": 26,
   "id": "abdc1f6c",
   "metadata": {},
   "outputs": [
    {
     "name": "stdout",
     "output_type": "stream",
     "text": [
      "54773781\n"
     ]
    }
   ],
   "source": [
    "session_id = random.randint(1,100000000)\n",
    "\n",
    "print(session_id)"
   ]
  },
  {
   "cell_type": "code",
   "execution_count": 30,
   "id": "5c78cca1",
   "metadata": {},
   "outputs": [
    {
     "name": "stdout",
     "output_type": "stream",
     "text": [
      "हेलो, मैं Guruprasad, TVS Credit से बात कर रही हूँ। क्या मेरी बात saketh से हो रही है?\n",
      "\n",
      "हमारे रिकार्ड्स के अकॉर्डिंग, आपने इंस्टाप्लस प्रोग्राम के लिए इनरोल किया है। क्या आप अपने रजिस्टर्ड बैंक में अप्रूव्ड लोन ट्रांसफर करने के लिए इंस्टाप्लस सर्विस को एक्टिवेट करना चाहेंगे?\n",
      "\n",
      "क्या आप मुझे इसका रीज़न बता सकते हैं?\n",
      "\n",
      "अपना टाइम देने के लिए थैंक यू। हमारी सर्विस के बारे में और जानने के लिए साथी ऍप में जा कर लॉगिन करें।\n",
      "\n",
      "हेलो, मैं Guruprasad, TVS Credit से बात कर रही हूँ। क्या मेरी बात saketh से हो रही है?\n",
      "\n",
      "डिस्टर्ब करने के लिए सॉरी। थैंक यू आपका टाइम देने के लिए।\n",
      "\n"
     ]
    },
    {
     "ename": "IndexError",
     "evalue": "list index out of range",
     "output_type": "error",
     "traceback": [
      "\u001b[0;31m---------------------------------------------------------------------------\u001b[0m",
      "\u001b[0;31mIndexError\u001b[0m                                Traceback (most recent call last)",
      "Input \u001b[0;32mIn [30]\u001b[0m, in \u001b[0;36m<cell line: 7>\u001b[0;34m()\u001b[0m\n\u001b[1;32m     13\u001b[0m message \u001b[38;5;241m=\u001b[39m the_whole_file[row][column]\n\u001b[1;32m     14\u001b[0m \u001b[38;5;66;03m#print(message)\u001b[39;00m\n\u001b[0;32m---> 16\u001b[0m \u001b[43mrequest_1\u001b[49m\u001b[43m(\u001b[49m\u001b[43msession_id\u001b[49m\u001b[43m,\u001b[49m\u001b[43mmessage\u001b[49m\u001b[43m)\u001b[49m\n",
      "Input \u001b[0;32mIn [25]\u001b[0m, in \u001b[0;36mrequest_1\u001b[0;34m(session_id, message, intent)\u001b[0m\n\u001b[1;32m     15\u001b[0m response \u001b[38;5;241m=\u001b[39m requests\u001b[38;5;241m.\u001b[39mrequest(\u001b[38;5;124m\"\u001b[39m\u001b[38;5;124mPOST\u001b[39m\u001b[38;5;124m\"\u001b[39m, url, headers\u001b[38;5;241m=\u001b[39mheaders, data\u001b[38;5;241m=\u001b[39mpayload)\u001b[38;5;241m.\u001b[39mjson()\n\u001b[1;32m     16\u001b[0m \u001b[38;5;66;03m#print(f'input message is {message} bot output is ------>{response[\"data\"][0][\"text\"]}'+\"\\n\")\u001b[39;00m\n\u001b[0;32m---> 17\u001b[0m \u001b[38;5;28mprint\u001b[39m(\u001b[38;5;124mf\u001b[39m\u001b[38;5;124m'\u001b[39m\u001b[38;5;132;01m{\u001b[39;00mresponse[\u001b[38;5;124m\"\u001b[39m\u001b[38;5;124mdata\u001b[39m\u001b[38;5;124m\"\u001b[39m][\u001b[38;5;241m0\u001b[39m][\u001b[38;5;124m\"\u001b[39m\u001b[38;5;124mtext\u001b[39m\u001b[38;5;124m\"\u001b[39m]\u001b[38;5;132;01m}\u001b[39;00m\u001b[38;5;124m'\u001b[39m\u001b[38;5;241m+\u001b[39m\u001b[38;5;124m\"\u001b[39m\u001b[38;5;130;01m\\n\u001b[39;00m\u001b[38;5;124m\"\u001b[39m)\n",
      "\u001b[0;31mIndexError\u001b[0m: list index out of range"
     ]
    }
   ],
   "source": [
    "with open('/Users/vinay_kl/Downloads/demo3.csv', 'r') as f:\n",
    "    reader = csv.reader(f)\n",
    "    the_whole_file = list(reader)\n",
    "    \n",
    "    \n",
    "count = 0\n",
    "while (count < 17):\n",
    "    count = count + 1\n",
    "\n",
    "    row = count\n",
    "    column = 1\n",
    "    coloum = 3\n",
    "    message = the_whole_file[row][column]\n",
    "    #print(message)\n",
    "     \n",
    "    request_1(session_id,message)\n"
   ]
  },
  {
   "cell_type": "code",
   "execution_count": null,
   "id": "41df68f2",
   "metadata": {},
   "outputs": [],
   "source": []
  }
 ],
 "metadata": {
  "kernelspec": {
   "display_name": "Python 3 (ipykernel)",
   "language": "python",
   "name": "python3"
  },
  "language_info": {
   "codemirror_mode": {
    "name": "ipython",
    "version": 3
   },
   "file_extension": ".py",
   "mimetype": "text/x-python",
   "name": "python",
   "nbconvert_exporter": "python",
   "pygments_lexer": "ipython3",
   "version": "3.9.12"
  }
 },
 "nbformat": 4,
 "nbformat_minor": 5
}
