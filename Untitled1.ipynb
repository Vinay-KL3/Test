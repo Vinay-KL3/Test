{
 "cells": [
  {
   "cell_type": "code",
   "execution_count": 13,
   "id": "a9762389",
   "metadata": {},
   "outputs": [],
   "source": [
    "import azure.cognitiveservices.speech as speechsdk\n",
    "speech_config = speechsdk.SpeechConfig(subscription=\"bc7e749ecc774a25b1fd1c61a0699c9e\", region=\"centralindia\")\n",
    "speech_config.set_speech_synthesis_output_format(speechsdk.SpeechSynthesisOutputFormat.Riff8Khz16BitMonoPcm)\n",
    "audio_config = speechsdk.audio.AudioOutputConfig(use_default_speaker=True)\n"
   ]
  },
  {
   "cell_type": "code",
   "execution_count": 9,
   "id": "7f9e2315",
   "metadata": {},
   "outputs": [
    {
     "name": "stdout",
     "output_type": "stream",
     "text": [
      "/Users/vinay_kl/Desktop/notebook\r\n"
     ]
    }
   ],
   "source": [
    "!pwd"
   ]
  },
  {
   "cell_type": "code",
   "execution_count": 15,
   "id": "79225686",
   "metadata": {},
   "outputs": [
    {
     "data": {
      "text/plain": [
       "<azure.cognitiveservices.speech.speech_py_impl.VoidFuture; proxy of <Swig Object of type 'FutureWrapper< void > *' at 0x7f86400ab4e0> >"
      ]
     },
     "execution_count": 15,
     "metadata": {},
     "output_type": "execute_result"
    }
   ],
   "source": [
    "dst_path = \"/Users/vinay_kl/Downloads/\"\n",
    "file_name = \"SBI\"\n",
    "english_TTS = \"en-IN-PrabhatNeural\"\n",
    "text = \"SBI\"\n",
    "save_path = dst_path+file_name+\".wav\"\n",
    "speech_config.speech_synthesis_voice_name=english_TTS\n",
    "speech_synthesizer = speechsdk.SpeechSynthesizer(speech_config=speech_config, audio_config=audio_config)\n",
    "speech_synthesis_result = speech_synthesizer.speak_text_async(text).get()\n",
    "stream = speechsdk.AudioDataStream(speech_synthesis_result)\n",
    "stream.save_to_wav_file_async(save_path)"
   ]
  },
  {
   "cell_type": "code",
   "execution_count": null,
   "id": "2ccfbdd6",
   "metadata": {},
   "outputs": [],
   "source": []
  }
 ],
 "metadata": {
  "kernelspec": {
   "display_name": "Python 3 (ipykernel)",
   "language": "python",
   "name": "python3"
  },
  "language_info": {
   "codemirror_mode": {
    "name": "ipython",
    "version": 3
   },
   "file_extension": ".py",
   "mimetype": "text/x-python",
   "name": "python",
   "nbconvert_exporter": "python",
   "pygments_lexer": "ipython3",
   "version": "3.9.12"
  }
 },
 "nbformat": 4,
 "nbformat_minor": 5
}
