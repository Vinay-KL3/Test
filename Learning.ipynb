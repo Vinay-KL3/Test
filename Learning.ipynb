{
 "cells": [
  {
   "cell_type": "code",
   "execution_count": null,
   "id": "282c08a0",
   "metadata": {},
   "outputs": [],
   "source": [
    "import pandas as pd"
   ]
  },
  {
   "cell_type": "code",
   "execution_count": 1,
   "id": "23ff0977",
   "metadata": {},
   "outputs": [],
   "source": [
    "import azure.cognitiveservices.speech as speechsdk\n",
    "speech_config = speechsdk.SpeechConfig(subscription=\"bc7e749ecc774a25b1fd1c61a0699c9e\", region=\"centralindia\")\n",
    "speech_config.set_speech_synthesis_output_format(speechsdk.SpeechSynthesisOutputFormat.Riff8Khz16BitMonoPcm)\n",
    "audio_config = speechsdk.audio.AudioOutputConfig(use_default_speaker=True)\n"
   ]
  },
  {
   "cell_type": "code",
   "execution_count": 3,
   "id": "a6fd51f4",
   "metadata": {},
   "outputs": [
    {
     "name": "stdout",
     "output_type": "stream",
     "text": [
      "file is downloaded\n",
      "file is downloaded\n",
      "file is downloaded\n",
      "loop ended\n"
     ]
    }
   ],
   "source": [
    "count = 0\n",
    "while (count < 3):\n",
    "    count = count + 1\n",
    "    \n",
    "    dst_path = \"/Users/vinay_kl/Downloads/\"\n",
    "    file_name = \"Abhishek Kumar Jha\"\n",
    "    english_TTS = \"en-IN-PrabhatNeural\"\n",
    "    text = \"Abhishek Kumar Jha\"\n",
    "    save_path = dst_path+file_name+\".wav\"\n",
    "    speech_config.speech_synthesis_voice_name=english_TTS\n",
    "    speech_synthesizer = speechsdk.SpeechSynthesizer(speech_config=speech_config, audio_config=audio_config)\n",
    "    speech_synthesis_result = speech_synthesizer.speak_text_async(text).get()\n",
    "    stream = speechsdk.AudioDataStream(speech_synthesis_result)\n",
    "    stream.save_to_wav_file_async(save_path)\n",
    "    \n",
    "    print(\"file is downloaded\")\n",
    "    \n",
    "    \n",
    "else:\n",
    "    print(\"loop ended\")\n",
    "\n"
   ]
  },
  {
   "cell_type": "code",
   "execution_count": null,
   "id": "31af6d89",
   "metadata": {},
   "outputs": [],
   "source": []
  }
 ],
 "metadata": {
  "kernelspec": {
   "display_name": "Python 3 (ipykernel)",
   "language": "python",
   "name": "python3"
  },
  "language_info": {
   "codemirror_mode": {
    "name": "ipython",
    "version": 3
   },
   "file_extension": ".py",
   "mimetype": "text/x-python",
   "name": "python",
   "nbconvert_exporter": "python",
   "pygments_lexer": "ipython3",
   "version": "3.9.12"
  }
 },
 "nbformat": 4,
 "nbformat_minor": 5
}
