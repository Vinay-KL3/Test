{
 "cells": [
  {
   "cell_type": "code",
   "execution_count": null,
   "id": "ff1f4d6d",
   "metadata": {},
   "outputs": [],
   "source": [
    "print(\"Hello, World!\")"
   ]
  },
  {
   "cell_type": "code",
   "execution_count": null,
   "id": "e4851976",
   "metadata": {},
   "outputs": [],
   "source": [
    "n = int(input().strip())\n",
    "    if n%2 != 0:\n",
    "        print(\"Weird\")\n",
    "    elif n%2 == 0 and n>=2 and n<=5:\n",
    "        print(\"Not Weird\")\n",
    "    elif n%2 == 0 and n>=6 and n<=20:\n",
    "        print(\"Weird\")            \n",
    "    elif n%2 == 0 and n>20:\n",
    "        print(\"Not Weird\")"
   ]
  },
  {
   "cell_type": "code",
   "execution_count": 5,
   "id": "adaa54ca",
   "metadata": {
    "collapsed": true
   },
   "outputs": [
    {
     "name": "stdout",
     "output_type": "stream",
     "text": [
      "4\n",
      "5\n",
      "0.8\n",
      "0\n"
     ]
    }
   ],
   "source": [
    "a = int(input())\n",
    "b = int(input())\n",
    "\n",
    "div = a/b\n",
    "# rounded_div = round(div,0)\n",
    "rounded_div = int(div)\n",
    "print(rounded_div)\n",
    "print(div)"
   ]
  },
  {
   "cell_type": "code",
   "execution_count": 6,
   "id": "4e189f2d",
   "metadata": {
    "collapsed": true
   },
   "outputs": [
    {
     "name": "stdout",
     "output_type": "stream",
     "text": [
      "5\n",
      "0\n",
      "1\n",
      "4\n",
      "9\n",
      "16\n"
     ]
    }
   ],
   "source": [
    "n = int(input())\n",
    "for i in range(0,n):\n",
    "    print(i*i)"
   ]
  },
  {
   "cell_type": "code",
   "execution_count": 21,
   "id": "4e09b200",
   "metadata": {
    "collapsed": true
   },
   "outputs": [
    {
     "name": "stdout",
     "output_type": "stream",
     "text": [
      "2100\n"
     ]
    },
    {
     "data": {
      "text/plain": [
       "False"
      ]
     },
     "execution_count": 21,
     "metadata": {},
     "output_type": "execute_result"
    }
   ],
   "source": [
    "def is_leap(year):\n",
    "    if year%4 == 0 and (year%100 != 0 or year%400 == 0):\n",
    "        return True\n",
    "    else:\n",
    "        return False\n",
    "\n",
    "year = int(input())\n",
    "is_leap(year)\n"
   ]
  },
  {
   "cell_type": "code",
   "execution_count": 23,
   "id": "49fd3439",
   "metadata": {},
   "outputs": [
    {
     "name": "stdout",
     "output_type": "stream",
     "text": [
      "7\n",
      "1 2 3 4 5 6 7 "
     ]
    }
   ],
   "source": [
    "n = int(input())\n",
    "for i in range(1,n+1):\n",
    "    print(i, end=\" \")"
   ]
  },
  {
   "cell_type": "code",
   "execution_count": 33,
   "id": "fa4c9163",
   "metadata": {},
   "outputs": [
    {
     "name": "stdout",
     "output_type": "stream",
     "text": [
      "3\n",
      "7893893270\n",
      "YES\n",
      "fsaalf\n",
      "NO\n",
      "85234789651\n",
      "NO\n"
     ]
    }
   ],
   "source": [
    "# ^ = start of string    |||||| & = end of string\n",
    "\n",
    "\n",
    "import re\n",
    "pattern = \"^[7|8|9]\\d{9}$\"\n",
    "n = int(input())\n",
    "for i in range(0,n):\n",
    "    text = input()\n",
    "    ans = re.findall(pattern, text)\n",
    "    if ans == []:\n",
    "        print(\"NO\")\n",
    "    else:\n",
    "        print(\"YES\")"
   ]
  },
  {
   "cell_type": "code",
   "execution_count": 47,
   "id": "062221f0",
   "metadata": {},
   "outputs": [
    {
     "name": "stdout",
     "output_type": "stream",
     "text": [
      "acdcdck\n",
      "cdc\n",
      "1\n"
     ]
    }
   ],
   "source": [
    "#not correct\n",
    "\n",
    "import re\n",
    "string = input()\n",
    "sub_string = str(input())\n",
    "ans = [match.start() for match in re.finditer(sub_string, string)]\n",
    "print(len(ans))"
   ]
  },
  {
   "cell_type": "code",
   "execution_count": 51,
   "id": "62dc7869",
   "metadata": {
    "scrolled": false
   },
   "outputs": [
    {
     "name": "stdout",
     "output_type": "stream",
     "text": [
      "apapak\n",
      "apa\n"
     ]
    },
    {
     "data": {
      "text/plain": [
       "1"
      ]
     },
     "execution_count": 51,
     "metadata": {},
     "output_type": "execute_result"
    }
   ],
   "source": [
    "#not correct\n",
    "\n",
    "string = input()\n",
    "sub_string = str(input())\n",
    "count = string.count(sub_string)\n",
    "count"
   ]
  },
  {
   "cell_type": "code",
   "execution_count": 28,
   "id": "573f672e",
   "metadata": {},
   "outputs": [
    {
     "name": "stdout",
     "output_type": "stream",
     "text": [
      "ABCDCDC\n",
      "cdc\n",
      "0\n"
     ]
    }
   ],
   "source": [
    "string = input()\n",
    "sub_string = str(input())\n",
    "s_len = len(string)\n",
    "ss_len = len(sub_string)\n",
    "\n",
    "s_list = list(string)\n",
    "\n",
    "string = ''\n",
    "final_list = []\n",
    "\n",
    "# print(s_len-ss_len)\n",
    "\n",
    "i=0\n",
    "while i < (s_len-(ss_len-1)):\n",
    "    for j in range(i,ss_len+i):\n",
    "#         print(s_list[j])\n",
    "        string = string + str(s_list[j])\n",
    "#     print(string)\n",
    "    final_list.append(string)\n",
    "    string = ''\n",
    "    i=i+1\n",
    "# print(final_list)\n",
    "\n",
    "# print(final_list.count(sub_string))\n",
    "return(final_list.count(sub_string))"
   ]
  },
  {
   "cell_type": "raw",
   "id": "91a4d6fb",
   "metadata": {},
   "source": []
  }
 ],
 "metadata": {
  "kernelspec": {
   "display_name": "Python 3 (ipykernel)",
   "language": "python",
   "name": "python3"
  },
  "language_info": {
   "codemirror_mode": {
    "name": "ipython",
    "version": 3
   },
   "file_extension": ".py",
   "mimetype": "text/x-python",
   "name": "python",
   "nbconvert_exporter": "python",
   "pygments_lexer": "ipython3",
   "version": "3.11.3"
  }
 },
 "nbformat": 4,
 "nbformat_minor": 5
}
