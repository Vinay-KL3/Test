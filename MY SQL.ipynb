{
 "cells": [
  {
   "cell_type": "code",
   "execution_count": 1,
   "id": "09d3e104",
   "metadata": {
    "collapsed": true
   },
   "outputs": [
    {
     "name": "stdout",
     "output_type": "stream",
     "text": [
      "Collecting mysql-connector-python\n",
      "  Downloading mysql_connector_python-8.0.33-py2.py3-none-any.whl (390 kB)\n",
      "\u001b[K     |████████████████████████████████| 390 kB 2.5 MB/s eta 0:00:01\n",
      "\u001b[?25hCollecting protobuf<=3.20.3,>=3.11.0\n",
      "  Downloading protobuf-3.20.3-cp39-cp39-macosx_10_9_x86_64.whl (982 kB)\n",
      "\u001b[K     |████████████████████████████████| 982 kB 1.4 MB/s eta 0:00:01\n",
      "\u001b[?25hInstalling collected packages: protobuf, mysql-connector-python\n",
      "  Attempting uninstall: protobuf\n",
      "    Found existing installation: protobuf 4.23.3\n",
      "    Uninstalling protobuf-4.23.3:\n",
      "      Successfully uninstalled protobuf-4.23.3\n",
      "\u001b[31mERROR: pip's dependency resolver does not currently take into account all the packages that are installed. This behaviour is the source of the following dependency conflicts.\n",
      "tensorboardx 2.5.1 requires protobuf<=3.20.1,>=3.8.0, but you have protobuf 3.20.3 which is incompatible.\n",
      "rasa 3.6.2 requires protobuf<4.23.4,>=4.23.3, but you have protobuf 3.20.3 which is incompatible.\n",
      "rasa 3.6.2 requires python-dateutil<2.9,>=2.8, but you have python-dateutil 2.7.5 which is incompatible.\n",
      "rasa 3.6.2 requires pyyaml<6.0,>=5.3.1, but you have pyyaml 3.13 which is incompatible.\n",
      "rasa 3.6.2 requires SQLAlchemy<1.5.0,>=1.4.0, but you have sqlalchemy 1.2.19 which is incompatible.\n",
      "google-api-core 1.25.1 requires google-auth<2.0dev,>=1.21.1, but you have google-auth 2.21.0 which is incompatible.\u001b[0m\n",
      "Successfully installed mysql-connector-python-8.0.33 protobuf-3.20.3\n",
      "Note: you may need to restart the kernel to use updated packages.\n"
     ]
    }
   ],
   "source": [
    "pip install mysql-connector-python"
   ]
  },
  {
   "cell_type": "code",
   "execution_count": null,
   "id": "99a7308f",
   "metadata": {},
   "outputs": [],
   "source": [
    "import mysql.connector\n",
    "\n",
    "# Replace the placeholders with your database credentials\n",
    "cnx = mysql.connector.connect(\n",
    "    host='localhost',\n",
    "    user='your_username',\n",
    "    password='your_password',\n",
    "    database='your_database_name'\n",
    ")\n",
    "\n",
    "#Create a cursor object to interact with the database\n",
    "cursor = cnx.cursor()\n",
    "\n",
    "#Execute an SQL query to read data from the database\n",
    "query = \"SELECT * FROM your_table_name\"\n",
    "cursor.execute(query)\n",
    "\n",
    "#Fetch the results of the query\n",
    "results = cursor.fetchall()\n",
    "\n",
    "#Process and utilize the fetched results as needed\n",
    "for row in results:\n",
    "    # Process the data from each row\n",
    "    print(row)\n",
    "#Close the cursor and the database connection\n",
    "cursor.close()\n",
    "cnx.close()\n"
   ]
  }
 ],
 "metadata": {
  "kernelspec": {
   "display_name": "Python 3 (ipykernel)",
   "language": "python",
   "name": "python3"
  },
  "language_info": {
   "codemirror_mode": {
    "name": "ipython",
    "version": 3
   },
   "file_extension": ".py",
   "mimetype": "text/x-python",
   "name": "python",
   "nbconvert_exporter": "python",
   "pygments_lexer": "ipython3",
   "version": "3.9.12"
  }
 },
 "nbformat": 4,
 "nbformat_minor": 5
}
