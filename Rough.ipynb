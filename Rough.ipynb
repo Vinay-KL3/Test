{
 "cells": [
  {
   "cell_type": "code",
   "execution_count": 1,
   "id": "66a83ec3",
   "metadata": {},
   "outputs": [
    {
     "name": "stdout",
     "output_type": "stream",
     "text": [
      "all required dependencies are imported successfully\n"
     ]
    }
   ],
   "source": [
    "#import the required dependencies\n",
    "\n",
    "import requests\n",
    "import json\n",
    "import pandas as pd\n",
    "from pprint import pprint\n",
    "import csv\n",
    "import time\n",
    "import random\n",
    "import datetime\n",
    "import re\n",
    "\n",
    "print(\"all required dependencies are imported successfully\")"
   ]
  },
  {
   "cell_type": "code",
   "execution_count": 3,
   "id": "944b449e",
   "metadata": {},
   "outputs": [
    {
     "name": "stdout",
     "output_type": "stream",
     "text": [
      "agent config and endpoints are pushed to respective variables\n",
      "/Users/vinay_kl/Downloads/Final_Sheet_Stellantis_English_['20:05:02'].csv\n",
      "testset and final_sheet is pushed to respective variables\n"
     ]
    }
   ],
   "source": [
    "#update the current (pushData endpoint, bot endpoint & agent config)\n",
    "\n",
    "language = \"English\"\n",
    "#pushData = \"https://poojafin.saarthi.ai/fetch_customer_data_stellantis\"\n",
    "botEndPoint = \"https://poojafin.saarthi.ai/stellantis_english/webhook\"\n",
    "\n",
    "#-----------------------------------------------------------------------------#\n",
    "\n",
    "#agentConfig = \"{\\\"_id\\\":\\\"63ad446a7c733d132e403a57\\\",\\\"parentFlow\\\":[{\\\"flow\\\":\\\"kyc\\\",\\\"isParent\\\":true,\\\"isChild\\\":false,\\\"channel\\\":[\\\"Call\\\"],\\\"type\\\":\\\"Female\\\",\\\"language\\\":[\\\"English\\\"],\\\"Call\\\":{\\\"voice\\\":\\\"Saarthi TTS\\\",\\\"thresholdDateCallBack\\\":2,\\\"thresholdTimeCallBack\\\":30},\\\"Whatsapp\\\":{\\\"slotReminder\\\":[{\\\"slot0\\\":120,\\\"slot1\\\":300}]},\\\"startDate\\\":\\\"04/09/2022\\\",\\\"endDate\\\":\\\"04/09/2022\\\",\\\"startTime\\\":540,\\\"endTime\\\":1120,\\\"dispositionNextNudge\\\":[{\\\"value\\\":\\\"Interested\\\",\\\"nextFlow\\\":\\\"Feedback\\\",\\\"callBackTime\\\":120},{\\\"value\\\":\\\"Already Availed\\\",\\\"nextFlow\\\":\\\"Feedback\\\",\\\"callBackTime\\\":120}]}],\\\"callFlow\\\":[{\\\"lead_generation\\\":{\\\"initial\\\":[{\\\"label\\\":\\\"lg_rpc_form\\\",\\\"next\\\":\\\"slot1\\\"}],\\\"slot1\\\":[{\\\"label\\\":\\\"sales_pitch_form\\\",\\\"next\\\":\\\"slot2\\\"}],\\\"slot2\\\":[{\\\"Interested\\\":{\\\"initial\\\":[{\\\"flow\\\":\\\"lead_qualification\\\"}]},\\\"Not_Interested\\\":{\\\"initial\\\":[{\\\"label\\\":\\\"Nurturing\\\",\\\"next\\\":\\\"subSlot1\\\"}],\\\"subSlot1\\\":[{\\\"label\\\":\\\"Nurturing\\\",\\\"next\\\":\\\"subSlot2\\\"}],\\\"subSlot2\\\":[{\\\"Interested\\\":{\\\"initial\\\":[{\\\"label\\\":\\\"Later_Date_Approach\\\",\\\"next\\\":\\\"slot3\\\"}]},\\\"Not_Interested\\\":{\\\"initial\\\":[{\\\"label\\\":\\\"Nurturing\\\",\\\"next\\\":\\\"subsubSlot1\\\"}],\\\"subsubSlot1\\\":[{\\\"label\\\":\\\"Later_Date_Approach\\\",\\\"next\\\":\\\"subsubSlot2\\\"}],\\\"subsubSlot2\\\":[{\\\"flow\\\":\\\"lead_qualification\\\"}]}}],\\\"subSlot3\\\":[{\\\"flow\\\":\\\"feed_back\\\"}]}}],\\\"slot3\\\":[{\\\"label\\\":\\\"Sales Pitch Message\\\",\\\"next\\\":\\\"slot2\\\"}]},\\\"kyc\\\":{\\\"initial\\\":[{\\\"label\\\":\\\"lg_rpc_form\\\",\\\"next\\\":\\\"slot1\\\"}],\\\"slot1\\\":[{\\\"label\\\":\\\"spm_agent_branch_later_3_form\\\",\\\"next\\\":\\\"slot2\\\"}],\\\"slot2\\\":[{\\\"visit_agent\\\":{\\\"initial\\\":[{\\\"label\\\":\\\"agent_visit_1_form\\\",\\\"next\\\":\\\"subSlot1\\\"}],\\\"subSlot1\\\":[{\\\"label\\\":\\\"beyond_tt_end_form\\\",\\\"next\\\":\\\"subSlot2\\\"}],\\\"subSlot2\\\":[{\\\"label\\\":\\\"stop_conversation\\\"}]},\\\"visit_branch\\\":{\\\"initial\\\":[{\\\"label\\\":\\\"branch_visit_1_form\\\",\\\"next\\\":\\\"subSlot1\\\"}],\\\"subSlot1\\\":[{\\\"label\\\":\\\"beyond_tt_end_form\\\",\\\"next\\\":\\\"subSlot2\\\"}],\\\"subSlot2\\\":[{\\\"label\\\":\\\"stop_conversation\\\"}]},\\\"interested_later\\\":{\\\"initial\\\":[{\\\"label\\\":\\\"interested_later_form\\\",\\\"next\\\":\\\"subSlot1\\\"}],\\\"subSlot1\\\":[{\\\"label\\\":\\\"stop_conversation\\\"}]}}]},\\\"follow_up\\\":{\\\"initial\\\":[{\\\"label\\\":\\\"lg_rpc_form\\\",\\\"next\\\":\\\"slot1\\\"}],\\\"slot1\\\":[{\\\"branch_visit\\\":{\\\"initial\\\":[{\\\"label\\\":\\\"spm_branch_visit_form\\\",\\\"next\\\":\\\"subSlot1\\\"}],\\\"subSlot1\\\":[{\\\"affirm\\\":{\\\"initial\\\":[{\\\"label\\\":\\\"branch_visit_1_form\\\",\\\"next\\\":\\\"sub1Slot1\\\"}],\\\"sub1Slot1\\\":[{\\\"label\\\":\\\"beyond_tt_end_form\\\",\\\"next\\\":\\\"sub1Slot2\\\"}],\\\"sub1Slot2\\\":[{\\\"label\\\":\\\"stop_conversation\\\"}]},\\\"nurturing\\\":{\\\"initial\\\":[{\\\"label\\\":\\\"nurturing_agent_branch_2_form\\\",\\\"next\\\":\\\"subSlot1\\\"}],\\\"subSlot1\\\":[{\\\"branch_visit\\\":{\\\"initial\\\":[{\\\"label\\\":\\\"branch_visit_1_form\\\",\\\"next\\\":\\\"sub2Slot1\\\"}],\\\"sub2Slot1\\\":[{\\\"label\\\":\\\"beyond_tt_end_form\\\",\\\"next\\\":\\\"sub3Slot1\\\"}],\\\"sub3Slot1\\\":[{\\\"label\\\":\\\"stop_conversation\\\"}]},\\\"agent_visit\\\":{\\\"initial\\\":[{\\\"label\\\":\\\"agent_visit_1_form\\\",\\\"next\\\":\\\"sub2Slot1\\\"}],\\\"sub2Slot1\\\":[{\\\"label\\\":\\\"beyond_tt_end_form\\\",\\\"next\\\":\\\"sub3Slot1\\\"}],\\\"sub3Slot1\\\":[{\\\"label\\\":\\\"stop_conversation\\\"}]}}]},\\\"interested_later\\\":{\\\"initial\\\":[{\\\"label\\\":\\\"interested_later_form\\\",\\\"next\\\":\\\"subSlot1\\\"}],\\\"subSlot1\\\":[{\\\"label\\\":\\\"stop_conversation\\\"}]},\\\"beyond_tt\\\":{\\\"initial\\\":[{\\\"label\\\":\\\"beyond_tt_end_form\\\",\\\"next\\\":\\\"subSlot1\\\"}],\\\"subSlot1\\\":[{\\\"label\\\":\\\"stop_conversation\\\"}]}}]},\\\"executive_visit\\\":{\\\"initial\\\":[{\\\"label\\\":\\\"spm_agent_visit_form\\\",\\\"next\\\":\\\"subSlot1\\\"}],\\\"subSlot1\\\":[{\\\"agent_visit\\\":{\\\"initial\\\":[{\\\"label\\\":\\\"agent_visit_1_form\\\",\\\"next\\\":\\\"sub1Slot1\\\"}],\\\"sub1Slot1\\\":[{\\\"label\\\":\\\"beyond_tt_end_form\\\",\\\"next\\\":\\\"sub2Slot1\\\"}],\\\"sub2Slot1\\\":[{\\\"label\\\":\\\"stop_conversation\\\"}]},\\\"nurturing\\\":{\\\"initial\\\":[{\\\"label\\\":\\\"nurturing_agent_branch_2_form\\\",\\\"next\\\":\\\"subSlot1\\\"}],\\\"subSlot1\\\":[{\\\"branch_visit\\\":{\\\"initial\\\":[{\\\"label\\\":\\\"branch_visit_1_form\\\",\\\"next\\\":\\\"sub2Slot1\\\"}],\\\"sub2Slot1\\\":[{\\\"label\\\":\\\"beyond_tt_end_form\\\",\\\"next\\\":\\\"sub3Slot1\\\"}],\\\"sub3Slot1\\\":[{\\\"label\\\":\\\"stop_conversation\\\"}]},\\\"agent_visit\\\":{\\\"initial\\\":[{\\\"label\\\":\\\"agent_visit_1_form\\\",\\\"next\\\":\\\"sub2Slot1\\\"}],\\\"sub2Slot1\\\":[{\\\"label\\\":\\\"beyond_tt_end_form\\\",\\\"next\\\":\\\"sub3Slot1\\\"}],\\\"sub3Slot1\\\":[{\\\"label\\\":\\\"stop_conversation\\\"}]}}]},\\\"interested_later\\\":{\\\"initial\\\":[{\\\"label\\\":\\\"interested_later_form\\\",\\\"next\\\":\\\"subSlot1\\\"}],\\\"subSlot1\\\":[{\\\"label\\\":\\\"stop_conversation\\\"}]},\\\"beyond_tt\\\":{\\\"initial\\\":[{\\\"label\\\":\\\"beyond_tt_end_form\\\",\\\"next\\\":\\\"subSlot1\\\"}],\\\"subSlot1\\\":[{\\\"label\\\":\\\"stop_conversation\\\"}]}}]}}]}}],\\\"accountId\\\":\\\"6389d4aab6d14fd1f0d68729\\\",\\\"agentName\\\":\\\"Divya\\\",\\\"domain\\\":\\\"Sales and onboarding\\\",\\\"subDomain\\\":\\\"Insurance\\\",\\\"productType\\\":\\\"personal loan\\\",\\\"agentId\\\":\\\"TvsCreditTesting_salesOnboarding_PersonalLoan_36\\\",\\\"createdAt\\\":\\\"2022-12-29T07:40:26.831Z\\\",\\\"updatedAt\\\":\\\"2022-12-29T07:40:26.831Z\\\",\\\"__v\\\":0}\"\n",
    "\n",
    "\n",
    "print(\"agent config and endpoints are pushed to respective variables\")\n",
    "\n",
    "#update the testset and final sheet's path. then run the block\n",
    "\n",
    "v = datetime.datetime.now()\n",
    "#print(v)\n",
    "\n",
    "#pattern = '\\d{4}-\\d{2}-\\d{2} (\\d{2}:\\d{2}:\\d{2})\\.\\d{6}'\n",
    "pattern = \"[\\d]+-[\\d]+-[\\d]+ ([\\d]+:[\\d]+:[\\d]+)\\.[\\d]+\"\n",
    "\n",
    "required = re.findall(pattern,str(v))\n",
    "#print(required)\n",
    "\n",
    "\n",
    "#---------------------------------------------------------------------------------------#\n",
    "\n",
    "\n",
    "dataCSV = \"/Users/vinay_kl/Downloads/Stellantis TestSet - General (2).csv\"\n",
    "Final_Sheet = \"/Users/vinay_kl/Downloads/Final_Sheet_Stellantis_\"+str(language)+\"_\"+str(required)+\".csv\"\n",
    "\n",
    "print(Final_Sheet)\n",
    "\n",
    "print(\"testset and final_sheet is pushed to respective variables\")"
   ]
  },
  {
   "cell_type": "code",
   "execution_count": null,
   "id": "ef1ce4c5",
   "metadata": {},
   "outputs": [],
   "source": []
  }
 ],
 "metadata": {
  "kernelspec": {
   "display_name": "Python 3 (ipykernel)",
   "language": "python",
   "name": "python3"
  },
  "language_info": {
   "codemirror_mode": {
    "name": "ipython",
    "version": 3
   },
   "file_extension": ".py",
   "mimetype": "text/x-python",
   "name": "python",
   "nbconvert_exporter": "python",
   "pygments_lexer": "ipython3",
   "version": "3.9.12"
  }
 },
 "nbformat": 4,
 "nbformat_minor": 5
}
