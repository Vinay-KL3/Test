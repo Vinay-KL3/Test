{
 "cells": [
  {
   "cell_type": "code",
   "execution_count": 7,
   "id": "fe2023fe",
   "metadata": {},
   "outputs": [
    {
     "name": "stdout",
     "output_type": "stream",
     "text": [
      "within non entity\n",
      "The final out paath /Users/vinay_kl/Downloads/out/static/\n",
      "Audio_ID out path /Users/vinay_kl/Downloads/out/ Response_ID\n",
      "source path  /Users/vinay_kl/Downloads/in/static/Audio_ID.wav\n",
      "Audio_ID.wav does not exist so  Response_ID.wav not exported or created.\n",
      "The final out paath /Users/vinay_kl/Downloads/out/static/\n",
      "P_14EF1 out path /Users/vinay_kl/Downloads/out/ app1\n",
      "source path  /Users/vinay_kl/Downloads/in/static/Audio_ID.wavstatic/P_14EF1.wav\n",
      "P_14EF1.wav does not exist so  app1.wav not exported or created.\n",
      "The final out paath /Users/vinay_kl/Downloads/out/static/\n",
      "P_14EF1 out path /Users/vinay_kl/Downloads/out/ app2\n",
      "source path  /Users/vinay_kl/Downloads/in/static/Audio_ID.wavstatic/P_14EF1.wavstatic/P_14EF1.wav\n",
      "P_14EF1.wav does not exist so  app2.wav not exported or created.\n",
      "The final out paath /Users/vinay_kl/Downloads/out/static/\n",
      "P_14EF1 out path /Users/vinay_kl/Downloads/out/ app3\n",
      "source path  /Users/vinay_kl/Downloads/in/static/Audio_ID.wavstatic/P_14EF1.wavstatic/P_14EF1.wavstatic/P_14EF1.wav\n",
      "P_14EF1.wav does not exist so  app3.wav not exported or created.\n",
      "The final out paath /Users/vinay_kl/Downloads/out/static/\n",
      "P_14EF1 out path /Users/vinay_kl/Downloads/out/ app4\n",
      "source path  /Users/vinay_kl/Downloads/in/static/Audio_ID.wavstatic/P_14EF1.wavstatic/P_14EF1.wavstatic/P_14EF1.wavstatic/P_14EF1.wav\n",
      "P_14EF1.wav does not exist so  app4.wav not exported or created.\n",
      "The final out paath /Users/vinay_kl/Downloads/out/static/\n",
      "P_14EF1 out path /Users/vinay_kl/Downloads/out/ app5\n",
      "source path  /Users/vinay_kl/Downloads/in/static/Audio_ID.wavstatic/P_14EF1.wavstatic/P_14EF1.wavstatic/P_14EF1.wavstatic/P_14EF1.wavstatic/P_14EF1.wav\n",
      "P_14EF1.wav does not exist so  app5.wav not exported or created.\n",
      "The final out paath /Users/vinay_kl/Downloads/out/static/\n",
      "P_14EF1 out path /Users/vinay_kl/Downloads/out/ app6\n",
      "source path  /Users/vinay_kl/Downloads/in/static/Audio_ID.wavstatic/P_14EF1.wavstatic/P_14EF1.wavstatic/P_14EF1.wavstatic/P_14EF1.wavstatic/P_14EF1.wavstatic/P_14EF1.wav\n",
      "P_14EF1.wav does not exist so  app6.wav not exported or created.\n",
      "The final out paath /Users/vinay_kl/Downloads/out/static/\n",
      "P_14EF1 out path /Users/vinay_kl/Downloads/out/ app7\n",
      "source path  /Users/vinay_kl/Downloads/in/static/Audio_ID.wavstatic/P_14EF1.wavstatic/P_14EF1.wavstatic/P_14EF1.wavstatic/P_14EF1.wavstatic/P_14EF1.wavstatic/P_14EF1.wavstatic/P_14EF1.wav\n",
      "P_14EF1.wav does not exist so  app7.wav not exported or created.\n",
      "The final out paath /Users/vinay_kl/Downloads/out/static/\n",
      "P_14EF1 out path /Users/vinay_kl/Downloads/out/ app8\n",
      "source path  /Users/vinay_kl/Downloads/in/static/Audio_ID.wavstatic/P_14EF1.wavstatic/P_14EF1.wavstatic/P_14EF1.wavstatic/P_14EF1.wavstatic/P_14EF1.wavstatic/P_14EF1.wavstatic/P_14EF1.wavstatic/P_14EF1.wav\n",
      "P_14EF1.wav does not exist so  app8.wav not exported or created.\n",
      "The final out paath /Users/vinay_kl/Downloads/out/static/\n",
      "P_14EF1 out path /Users/vinay_kl/Downloads/out/ app9\n",
      "source path  /Users/vinay_kl/Downloads/in/static/Audio_ID.wavstatic/P_14EF1.wavstatic/P_14EF1.wavstatic/P_14EF1.wavstatic/P_14EF1.wavstatic/P_14EF1.wavstatic/P_14EF1.wavstatic/P_14EF1.wavstatic/P_14EF1.wavstatic/P_14EF1.wav\n",
      "P_14EF1.wav does not exist so  app9.wav not exported or created.\n",
      "The final out paath /Users/vinay_kl/Downloads/out/static/\n",
      "P_14EF1 out path /Users/vinay_kl/Downloads/out/ app10\n",
      "source path  /Users/vinay_kl/Downloads/in/static/Audio_ID.wavstatic/P_14EF1.wavstatic/P_14EF1.wavstatic/P_14EF1.wavstatic/P_14EF1.wavstatic/P_14EF1.wavstatic/P_14EF1.wavstatic/P_14EF1.wavstatic/P_14EF1.wavstatic/P_14EF1.wavstatic/P_14EF1.wav\n",
      "P_14EF1.wav does not exist so  app10.wav not exported or created.\n",
      "The final out paath /Users/vinay_kl/Downloads/out/static/\n",
      "P_14EF1 out path /Users/vinay_kl/Downloads/out/ app11\n",
      "source path  /Users/vinay_kl/Downloads/in/static/Audio_ID.wavstatic/P_14EF1.wavstatic/P_14EF1.wavstatic/P_14EF1.wavstatic/P_14EF1.wavstatic/P_14EF1.wavstatic/P_14EF1.wavstatic/P_14EF1.wavstatic/P_14EF1.wavstatic/P_14EF1.wavstatic/P_14EF1.wavstatic/P_14EF1.wav\n",
      "P_14EF1.wav does not exist so  app11.wav not exported or created.\n",
      "The final out paath /Users/vinay_kl/Downloads/out/static/\n",
      "P_14EF1 out path /Users/vinay_kl/Downloads/out/ app12\n",
      "source path  /Users/vinay_kl/Downloads/in/static/Audio_ID.wavstatic/P_14EF1.wavstatic/P_14EF1.wavstatic/P_14EF1.wavstatic/P_14EF1.wavstatic/P_14EF1.wavstatic/P_14EF1.wavstatic/P_14EF1.wavstatic/P_14EF1.wavstatic/P_14EF1.wavstatic/P_14EF1.wavstatic/P_14EF1.wavstatic/P_14EF1.wav\n",
      "P_14EF1.wav does not exist so  app12.wav not exported or created.\n",
      "The final out paath /Users/vinay_kl/Downloads/out/static/\n",
      "P_14EF1 out path /Users/vinay_kl/Downloads/out/ app13\n",
      "source path  /Users/vinay_kl/Downloads/in/static/Audio_ID.wavstatic/P_14EF1.wavstatic/P_14EF1.wavstatic/P_14EF1.wavstatic/P_14EF1.wavstatic/P_14EF1.wavstatic/P_14EF1.wavstatic/P_14EF1.wavstatic/P_14EF1.wavstatic/P_14EF1.wavstatic/P_14EF1.wavstatic/P_14EF1.wavstatic/P_14EF1.wavstatic/P_14EF1.wav\n",
      "P_14EF1.wav does not exist so  app13.wav not exported or created.\n",
      "The final out paath /Users/vinay_kl/Downloads/out/static/\n",
      "P_14EF1 out path /Users/vinay_kl/Downloads/out/ app14\n",
      "source path  /Users/vinay_kl/Downloads/in/static/Audio_ID.wavstatic/P_14EF1.wavstatic/P_14EF1.wavstatic/P_14EF1.wavstatic/P_14EF1.wavstatic/P_14EF1.wavstatic/P_14EF1.wavstatic/P_14EF1.wavstatic/P_14EF1.wavstatic/P_14EF1.wavstatic/P_14EF1.wavstatic/P_14EF1.wavstatic/P_14EF1.wavstatic/P_14EF1.wavstatic/P_14EF1.wav\n",
      "P_14EF1.wav does not exist so  app14.wav not exported or created.\n",
      "The final out paath /Users/vinay_kl/Downloads/out/static/\n",
      "P_14EF1 out path /Users/vinay_kl/Downloads/out/ app15\n",
      "source path  /Users/vinay_kl/Downloads/in/static/Audio_ID.wavstatic/P_14EF1.wavstatic/P_14EF1.wavstatic/P_14EF1.wavstatic/P_14EF1.wavstatic/P_14EF1.wavstatic/P_14EF1.wavstatic/P_14EF1.wavstatic/P_14EF1.wavstatic/P_14EF1.wavstatic/P_14EF1.wavstatic/P_14EF1.wavstatic/P_14EF1.wavstatic/P_14EF1.wavstatic/P_14EF1.wavstatic/P_14EF1.wav\n",
      "P_14EF1.wav does not exist so  app15.wav not exported or created.\n",
      "total responses count  16\n"
     ]
    }
   ],
   "source": [
    "from pydub import AudioSegment\n",
    "import csv\n",
    "import os\n",
    "\n",
    "#audio generator\n",
    "def multiplier(sourceAudioPath,outPath,responseID,audioID):\n",
    "    #print(\"source path \", sourceAudioPath)\n",
    "    #print(\"out path \", outPath)\n",
    "    #generate or export new audios to the given output path\n",
    "    #fileName = response ID\n",
    "    #status=False\n",
    "    sourceAudio=sourceAudioPath+audioID+\".wav\"\n",
    "    if os.path.exists(sourceAudio)==True:\n",
    "        audio = AudioSegment.from_wav(sourceAudio)\n",
    "        audio.export(outPath+responseID+\".wav\", format=\"wav\")\n",
    "        print('exported ',responseID+\".wav\")\n",
    "        #status=True\n",
    "    else:\n",
    "        print(audioID+\".wav does not exist so \",responseID+\".wav not exported or created.\")\n",
    "\n",
    "\n",
    "def duplicator(sourceAudioPath, filePath, outPath, entity=False):\n",
    "    # function: read response IDs and makes duplicate audios from assigned unique audio\n",
    "    # filePath = csv file path of a template of the all duplicate responses\n",
    "#     finalOutPath=''\n",
    "    count = 0\n",
    "    static_or_ent=''\n",
    "    if entity == True:\n",
    "        static_or_ent= 'entity'\n",
    "        print(\"is within entity.\")\n",
    "    else:\n",
    "        static_or_ent = 'static'\n",
    "        print('within non entity')\n",
    "\n",
    "    # sourceAudioPath='/Users/kkabikhanganba/Downloads/SourcePrimaryResponses/'+entityPath\n",
    "    \n",
    "    with open(filePath) as csv_file:\n",
    "        csv_reader = csv.reader(csv_file)\n",
    "        for col in csv_reader:\n",
    "#             print(\"final out path is: \", finalOutPath)\n",
    "            audioID = col[0]  # audio id\n",
    "            responseID = col[1]  # responseID as fileName\n",
    "            #gender = col[3]  # if gender is not required, assign gender with empty string. gender = ''\n",
    "            sourceAudioPath = sourceAudioPath + static_or_ent + '/'+audioID+\".wav\"\n",
    "            gender=''\n",
    "            finalOutPath = outPath + static_or_ent + '/' #static or entity\n",
    "            print(\"The final out paath\",finalOutPath)\n",
    "            count += 1\n",
    "            print(audioID, \"out path\", outPath,responseID)\n",
    "            print('source path ',sourceAudioPath)\n",
    "            multiplier(sourceAudioPath, finalOutPath, responseID, audioID)\n",
    "    print('total responses count ', count)\n",
    "\n",
    "sourceAudioPath='/Users/vinay_kl/Downloads/in/'# path of unique audios/responses\n",
    "templatePath='/Users/vinay_kl/Downloads/trial.csv'# template path\n",
    "outPutPath='/Users/vinay_kl/Downloads/out/'# out path where to export\n",
    "#entity should be set as True while making duplicates for entity responses\n",
    "duplicator(sourceAudioPath,templatePath,outPutPath,entity=False)"
   ]
  },
  {
   "cell_type": "code",
   "execution_count": 2,
   "id": "004c5393",
   "metadata": {},
   "outputs": [
    {
     "name": "stdout",
     "output_type": "stream",
     "text": [
      "/n H138.wav\n",
      "/n .DS_Store\n",
      "/n H48.wav\n",
      "/n H49.wav\n",
      "/n H47.wav\n",
      "/n H46.wav\n",
      "/n H50.wav\n",
      "/n H44.wav\n",
      "/n H45.wav\n",
      "/n H42.wav\n",
      "/n H43.wav\n",
      "/n H132.wav\n",
      "/n H133.wav\n",
      "/n H131.wav\n",
      "/n H130.wav\n",
      "/n H134.wav\n",
      "/n H135.wav\n",
      "/n H137.wav\n",
      "/n H136.wav\n"
     ]
    }
   ],
   "source": [
    "sourceAudioPath = \"/Users/vinay_kl/Downloads/Emi_date_not_confirmed_Hindi_Unique/\"\n",
    "\n",
    "files = os.listdir(sourceAudioPath)\n",
    "\n",
    "data = []\n",
    "\n",
    "for f in files:\n",
    "\n",
    "    print(\"/n\",f)"
   ]
  },
  {
   "cell_type": "code",
   "execution_count": 3,
   "id": "80a56940",
   "metadata": {},
   "outputs": [],
   "source": [
    "import os "
   ]
  },
  {
   "cell_type": "code",
   "execution_count": 4,
   "id": "55d9d945",
   "metadata": {},
   "outputs": [],
   "source": [
    "import pandas as pd"
   ]
  },
  {
   "cell_type": "code",
   "execution_count": 5,
   "id": "8969c286",
   "metadata": {},
   "outputs": [],
   "source": [
    "df = pd.read_csv(\"/Users/vinay_kl/Downloads/1.csv\")"
   ]
  },
  {
   "cell_type": "code",
   "execution_count": 6,
   "id": "6d69d4f0",
   "metadata": {},
   "outputs": [
    {
     "ename": "TypeError",
     "evalue": "'Index' object is not callable",
     "output_type": "error",
     "traceback": [
      "\u001b[0;31m---------------------------------------------------------------------------\u001b[0m",
      "\u001b[0;31mTypeError\u001b[0m                                 Traceback (most recent call last)",
      "Input \u001b[0;32mIn [6]\u001b[0m, in \u001b[0;36m<cell line: 1>\u001b[0;34m()\u001b[0m\n\u001b[0;32m----> 1\u001b[0m \u001b[43mdf\u001b[49m\u001b[38;5;241;43m.\u001b[39;49m\u001b[43mcolumns\u001b[49m\u001b[43m(\u001b[49m\u001b[43m)\u001b[49m\n",
      "\u001b[0;31mTypeError\u001b[0m: 'Index' object is not callable"
     ]
    }
   ],
   "source": [
    "df.columns()"
   ]
  },
  {
   "cell_type": "code",
   "execution_count": null,
   "id": "be70573d",
   "metadata": {},
   "outputs": [],
   "source": []
  }
 ],
 "metadata": {
  "kernelspec": {
   "display_name": "Python 3 (ipykernel)",
   "language": "python",
   "name": "python3"
  },
  "language_info": {
   "codemirror_mode": {
    "name": "ipython",
    "version": 3
   },
   "file_extension": ".py",
   "mimetype": "text/x-python",
   "name": "python",
   "nbconvert_exporter": "python",
   "pygments_lexer": "ipython3",
   "version": "3.9.12"
  }
 },
 "nbformat": 4,
 "nbformat_minor": 5
}
