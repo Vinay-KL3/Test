{
 "cells": [
  {
   "cell_type": "code",
   "execution_count": 7,
   "id": "dc2ca75f",
   "metadata": {},
   "outputs": [
    {
     "name": "stdout",
     "output_type": "stream",
     "text": [
      "Requirement already satisfied: deepgram_sdk in /Users/vinay_kl/opt/anaconda3/lib/python3.9/site-packages (2.2.0)\n",
      "Requirement already satisfied: asyncio in /Users/vinay_kl/opt/anaconda3/lib/python3.9/site-packages (3.4.3)\n",
      "Requirement already satisfied: python-dotenv in /Users/vinay_kl/opt/anaconda3/lib/python3.9/site-packages (0.21.0)\n",
      "Requirement already satisfied: feedparser in /Users/vinay_kl/opt/anaconda3/lib/python3.9/site-packages (6.0.10)\n",
      "Requirement already satisfied: aiohttp in /Users/vinay_kl/opt/anaconda3/lib/python3.9/site-packages (from deepgram_sdk) (3.8.1)\n",
      "Requirement already satisfied: websockets in /Users/vinay_kl/opt/anaconda3/lib/python3.9/site-packages (from deepgram_sdk) (10.4)\n",
      "Requirement already satisfied: sgmllib3k in /Users/vinay_kl/opt/anaconda3/lib/python3.9/site-packages (from feedparser) (1.0.0)\n",
      "Requirement already satisfied: charset-normalizer<3.0,>=2.0 in /Users/vinay_kl/opt/anaconda3/lib/python3.9/site-packages (from aiohttp->deepgram_sdk) (2.0.4)\n",
      "Requirement already satisfied: aiosignal>=1.1.2 in /Users/vinay_kl/opt/anaconda3/lib/python3.9/site-packages (from aiohttp->deepgram_sdk) (1.2.0)\n",
      "Requirement already satisfied: async-timeout<5.0,>=4.0.0a3 in /Users/vinay_kl/opt/anaconda3/lib/python3.9/site-packages (from aiohttp->deepgram_sdk) (4.0.1)\n",
      "Requirement already satisfied: multidict<7.0,>=4.5 in /Users/vinay_kl/opt/anaconda3/lib/python3.9/site-packages (from aiohttp->deepgram_sdk) (5.2.0)\n",
      "Requirement already satisfied: frozenlist>=1.1.1 in /Users/vinay_kl/opt/anaconda3/lib/python3.9/site-packages (from aiohttp->deepgram_sdk) (1.2.0)\n",
      "Requirement already satisfied: yarl<2.0,>=1.0 in /Users/vinay_kl/opt/anaconda3/lib/python3.9/site-packages (from aiohttp->deepgram_sdk) (1.6.3)\n",
      "Requirement already satisfied: attrs>=17.3.0 in /Users/vinay_kl/opt/anaconda3/lib/python3.9/site-packages (from aiohttp->deepgram_sdk) (21.4.0)\n",
      "Requirement already satisfied: typing-extensions>=3.6.5 in /Users/vinay_kl/opt/anaconda3/lib/python3.9/site-packages (from async-timeout<5.0,>=4.0.0a3->aiohttp->deepgram_sdk) (4.1.1)\n",
      "Requirement already satisfied: idna>=2.0 in /Users/vinay_kl/opt/anaconda3/lib/python3.9/site-packages (from yarl<2.0,>=1.0->aiohttp->deepgram_sdk) (3.3)\n"
     ]
    }
   ],
   "source": [
    "!pip install deepgram_sdk asyncio python-dotenv feedparser"
   ]
  },
  {
   "cell_type": "code",
   "execution_count": 32,
   "id": "cb81eb33",
   "metadata": {},
   "outputs": [
    {
     "name": "stdout",
     "output_type": "stream",
     "text": [
      "Requirement already satisfied: scipy in /Users/vinay_kl/opt/anaconda3/lib/python3.9/site-packages (1.7.3)\r\n",
      "Requirement already satisfied: numpy<1.23.0,>=1.16.5 in /Users/vinay_kl/opt/anaconda3/lib/python3.9/site-packages (from scipy) (1.21.5)\r\n"
     ]
    }
   ],
   "source": [
    "!pip install scipy"
   ]
  },
  {
   "cell_type": "code",
   "execution_count": 1,
   "id": "6d8f05d7",
   "metadata": {},
   "outputs": [],
   "source": [
    "import asyncio\n",
    "import os\n",
    "from dotenv import load_dotenv\n",
    "from deepgram import Deepgram\n",
    "import feedparser\n",
    "\n",
    "import glob\n",
    "\n",
    "import pandas as pd\n",
    "import csv\n",
    "import requests\n",
    "import json\n"
   ]
  },
  {
   "cell_type": "code",
   "execution_count": 2,
   "id": "e64b71f3",
   "metadata": {},
   "outputs": [],
   "source": [
    "load_dotenv()\n",
    "DEEPGRAM_API_KEY = os.getenv('DEEPGRAM_API_KEY')"
   ]
  },
  {
   "cell_type": "code",
   "execution_count": 10,
   "id": "2200e7e2",
   "metadata": {},
   "outputs": [],
   "source": [
    "# async def main():\n",
    "#     print('Hello world')\n",
    "\n",
    "# if __name__ == '__main__':\n",
    "#     asyncio.run(main())"
   ]
  },
  {
   "cell_type": "code",
   "execution_count": 11,
   "id": "145a51a2",
   "metadata": {},
   "outputs": [
    {
     "ename": "IndentationError",
     "evalue": "expected an indented block (3604357691.py, line 4)",
     "output_type": "error",
     "traceback": [
      "\u001b[0;36m  Input \u001b[0;32mIn [11]\u001b[0;36m\u001b[0m\n\u001b[0;31m    print(path)\u001b[0m\n\u001b[0m    ^\u001b[0m\n\u001b[0;31mIndentationError\u001b[0m\u001b[0;31m:\u001b[0m expected an indented block\n"
     ]
    }
   ],
   "source": [
    "# path = '/Users/vinay_kl/Downloads/numbers/hindi/'\n",
    "\n",
    "# for filename in glob.glob(os.path.join(path, '*.wav')):\n",
    "#     print(path)"
   ]
  },
  {
   "cell_type": "code",
   "execution_count": 4,
   "id": "c7f642a4",
   "metadata": {},
   "outputs": [
    {
     "ename": "UnicodeDecodeError",
     "evalue": "'utf-8' codec can't decode byte 0xe2 in position 4: invalid continuation byte",
     "output_type": "error",
     "traceback": [
      "\u001b[0;31m---------------------------------------------------------------------------\u001b[0m",
      "\u001b[0;31mUnicodeDecodeError\u001b[0m                        Traceback (most recent call last)",
      "Input \u001b[0;32mIn [4]\u001b[0m, in \u001b[0;36m<cell line: 5>\u001b[0;34m()\u001b[0m\n\u001b[1;32m      5\u001b[0m \u001b[38;5;28;01mfor\u001b[39;00m filename \u001b[38;5;129;01min\u001b[39;00m os\u001b[38;5;241m.\u001b[39mlistdir(folder):\n\u001b[1;32m      6\u001b[0m   \u001b[38;5;66;03m# Open the file\u001b[39;00m\n\u001b[1;32m      7\u001b[0m   \u001b[38;5;28;01mwith\u001b[39;00m \u001b[38;5;28mopen\u001b[39m(os\u001b[38;5;241m.\u001b[39mpath\u001b[38;5;241m.\u001b[39mjoin(folder, filename)) \u001b[38;5;28;01mas\u001b[39;00m f:\n\u001b[1;32m      8\u001b[0m     \u001b[38;5;66;03m# Read the contents of the file\u001b[39;00m\n\u001b[0;32m----> 9\u001b[0m     contents \u001b[38;5;241m=\u001b[39m f\u001b[38;5;241m.\u001b[39mread()\n\u001b[1;32m     10\u001b[0m     \u001b[38;5;66;03m# Do something with the file contents here\u001b[39;00m\n\u001b[1;32m     16\u001b[0m     \u001b[38;5;28mprint\u001b[39m(contents)\n",
      "File \u001b[0;32m~/opt/anaconda3/lib/python3.9/codecs.py:322\u001b[0m, in \u001b[0;36mBufferedIncrementalDecoder.decode\u001b[0;34m(self, input, final)\u001b[0m\n\u001b[1;32m    319\u001b[0m \u001b[38;5;28;01mdef\u001b[39;00m \u001b[38;5;21mdecode\u001b[39m(\u001b[38;5;28mself\u001b[39m, \u001b[38;5;28minput\u001b[39m, final\u001b[38;5;241m=\u001b[39m\u001b[38;5;28;01mFalse\u001b[39;00m):\n\u001b[1;32m    320\u001b[0m     \u001b[38;5;66;03m# decode input (taking the buffer into account)\u001b[39;00m\n\u001b[1;32m    321\u001b[0m     data \u001b[38;5;241m=\u001b[39m \u001b[38;5;28mself\u001b[39m\u001b[38;5;241m.\u001b[39mbuffer \u001b[38;5;241m+\u001b[39m \u001b[38;5;28minput\u001b[39m\n\u001b[0;32m--> 322\u001b[0m     (result, consumed) \u001b[38;5;241m=\u001b[39m \u001b[38;5;28;43mself\u001b[39;49m\u001b[38;5;241;43m.\u001b[39;49m\u001b[43m_buffer_decode\u001b[49m\u001b[43m(\u001b[49m\u001b[43mdata\u001b[49m\u001b[43m,\u001b[49m\u001b[43m \u001b[49m\u001b[38;5;28;43mself\u001b[39;49m\u001b[38;5;241;43m.\u001b[39;49m\u001b[43merrors\u001b[49m\u001b[43m,\u001b[49m\u001b[43m \u001b[49m\u001b[43mfinal\u001b[49m\u001b[43m)\u001b[49m\n\u001b[1;32m    323\u001b[0m     \u001b[38;5;66;03m# keep undecoded input until the next call\u001b[39;00m\n\u001b[1;32m    324\u001b[0m     \u001b[38;5;28mself\u001b[39m\u001b[38;5;241m.\u001b[39mbuffer \u001b[38;5;241m=\u001b[39m data[consumed:]\n",
      "\u001b[0;31mUnicodeDecodeError\u001b[0m: 'utf-8' codec can't decode byte 0xe2 in position 4: invalid continuation byte"
     ]
    }
   ],
   "source": [
    "\n",
    "# Folder containing the files\n",
    "folder = '/Users/vinay_kl/Downloads/numbers/hindi/'\n",
    "\n",
    "# Loop through all files in the folder\n",
    "for filename in os.listdir(folder):\n",
    "  # Open the file\n",
    "  with open(os.path.join(folder, filename)) as f:\n",
    "    # Read the contents of the file\n",
    "    contents = f.read()\n",
    "    # Do something with the file contents here\n",
    "\n",
    "    \n",
    "    \n",
    "\n",
    "    \n",
    "    print(contents)\n",
    "    \n",
    "    with open(data, 'rb') as audio:\n",
    "        source = { 'buffer': audio, 'mimetype': 'audio/wav' }\n",
    "        transcription_options = { 'punctuate': True, 'language': 'hi' }\n",
    "        response = await deepgram.transcription.prerecorded(source, transcription_options)\n",
    "        print(response)\n"
   ]
  },
  {
   "cell_type": "code",
   "execution_count": 3,
   "id": "c5d8c4ac",
   "metadata": {},
   "outputs": [],
   "source": [
    "\n",
    "deepgram = Deepgram('e4545d2879a0fabc66f48f09fda61384e9c21c6f')"
   ]
  },
  {
   "cell_type": "code",
   "execution_count": 4,
   "id": "a60f39f3",
   "metadata": {},
   "outputs": [],
   "source": [
    "import os"
   ]
  },
  {
   "cell_type": "code",
   "execution_count": 7,
   "id": "4f384305",
   "metadata": {},
   "outputs": [
    {
     "data": {
      "text/plain": [
       "['95000.wav',\n",
       " '16.wav',\n",
       " '87000.wav',\n",
       " '99000.wav',\n",
       " '300.wav',\n",
       " '17.wav',\n",
       " '2000.wav',\n",
       " '17000.wav',\n",
       " '74000.wav',\n",
       " '15.wav',\n",
       " '29.wav',\n",
       " '78000.wav',\n",
       " '100.wav',\n",
       " '66000.wav',\n",
       " '6 LAC.wav',\n",
       " '33000.wav',\n",
       " '28.wav',\n",
       " '50000.wav',\n",
       " '14.wav',\n",
       " '21000.wav',\n",
       " '42000.wav',\n",
       " '19000.wav',\n",
       " '64000.wav',\n",
       " '38.wav',\n",
       " '10.wav',\n",
       " '7 LAC.wav',\n",
       " '76000.wav',\n",
       " '15000.wav',\n",
       " '68000.wav',\n",
       " '40000.wav',\n",
       " '23000.wav',\n",
       " '11.wav',\n",
       " '39.wav',\n",
       " '52000.wav',\n",
       " '31000.wav',\n",
       " '500.wav',\n",
       " '85000.wav',\n",
       " '700.wav',\n",
       " '13.wav',\n",
       " '89000.wav',\n",
       " '97000.wav',\n",
       " '12.wav',\n",
       " '56000.wav',\n",
       " '5 LAC.wav',\n",
       " '48000.wav',\n",
       " '35000.wav',\n",
       " '61.wav',\n",
       " '75.wav',\n",
       " '44000.wav',\n",
       " '49.wav',\n",
       " '39000.wav',\n",
       " '27000.wav',\n",
       " '72000.wav',\n",
       " '48.wav',\n",
       " '11000.wav',\n",
       " '74.wav',\n",
       " '60.wav',\n",
       " '60000.wav',\n",
       " '8000.wav',\n",
       " '76.wav',\n",
       " '62.wav',\n",
       " '89.wav',\n",
       " '4000.wav',\n",
       " '88.wav',\n",
       " '93000.wav',\n",
       " '63.wav',\n",
       " '77.wav',\n",
       " '200.wav',\n",
       " '81000.wav',\n",
       " '6000.wav',\n",
       " '9.wav',\n",
       " '73.wav',\n",
       " '67.wav',\n",
       " '98.wav',\n",
       " '600.wav',\n",
       " '83000.wav',\n",
       " '99.wav',\n",
       " '66.wav',\n",
       " '72.wav',\n",
       " '8.wav',\n",
       " '91000.wav',\n",
       " '58000.wav',\n",
       " '25000.wav',\n",
       " '4 LAC.wav',\n",
       " '46000.wav',\n",
       " '58.wav',\n",
       " '64.wav',\n",
       " '70.wav',\n",
       " '37000.wav',\n",
       " '54000.wav',\n",
       " '29000.wav',\n",
       " '400.wav',\n",
       " '62000.wav',\n",
       " '71.wav',\n",
       " '65.wav',\n",
       " '59.wav',\n",
       " '13000.wav',\n",
       " '70000.wav',\n",
       " '51000.wav',\n",
       " '32000.wav',\n",
       " '800.wav',\n",
       " '40.wav',\n",
       " '54.wav',\n",
       " '6.wav',\n",
       " '43000.wav',\n",
       " '68.wav',\n",
       " '83.wav',\n",
       " '97.wav',\n",
       " '20000.wav',\n",
       " '75000.wav',\n",
       " '96.wav',\n",
       " '82.wav',\n",
       " '69.wav',\n",
       " '1 LAC.wav',\n",
       " '55.wav',\n",
       " '7.wav',\n",
       " '16000.wav',\n",
       " '41.wav',\n",
       " '67000.wav',\n",
       " '79000.wav',\n",
       " '5.wav',\n",
       " '57.wav',\n",
       " '43.wav',\n",
       " '94.wav',\n",
       " '80.wav',\n",
       " '3000.wav',\n",
       " '81.wav',\n",
       " '95.wav',\n",
       " '42.wav',\n",
       " '94000.wav',\n",
       " '4.wav',\n",
       " '56.wav',\n",
       " '98000.wav',\n",
       " '8 LAC.wav',\n",
       " '86000.wav',\n",
       " '1000.wav',\n",
       " '52.wav',\n",
       " '46.wav',\n",
       " '91.wav',\n",
       " '85.wav',\n",
       " '84000.wav',\n",
       " '84.wav',\n",
       " '90.wav',\n",
       " '47.wav',\n",
       " '53.wav',\n",
       " '1.wav',\n",
       " '96000.wav',\n",
       " '9 LAC.wav',\n",
       " '88000.wav',\n",
       " '22000.wav',\n",
       " '41000.wav',\n",
       " '79.wav',\n",
       " '45.wav',\n",
       " '3.wav',\n",
       " '51.wav',\n",
       " '86.wav',\n",
       " '30000.wav',\n",
       " '92.wav',\n",
       " '53000.wav',\n",
       " '93.wav',\n",
       " '87.wav',\n",
       " '65000.wav',\n",
       " '2.wav',\n",
       " '50.wav',\n",
       " '44.wav',\n",
       " '78.wav',\n",
       " '18000.wav',\n",
       " '69000.wav',\n",
       " '14000.wav',\n",
       " '77000.wav',\n",
       " '92000.wav',\n",
       " '23.wav',\n",
       " '80000.wav',\n",
       " '37.wav',\n",
       " '9000.wav',\n",
       " '36.wav',\n",
       " '22.wav',\n",
       " '5000.wav',\n",
       " '10000.wav',\n",
       " '900.wav',\n",
       " '73000.wav',\n",
       " '34.wav',\n",
       " '20.wav',\n",
       " '61000.wav',\n",
       " '34000.wav',\n",
       " '49000.wav',\n",
       " '57000.wav',\n",
       " '21.wav',\n",
       " '35.wav',\n",
       " '2 LAC.wav',\n",
       " '26000.wav',\n",
       " '38000.wav',\n",
       " '45000.wav',\n",
       " '63000.wav',\n",
       " '19.wav',\n",
       " '31.wav',\n",
       " '25.wav',\n",
       " '71000.wav',\n",
       " '12000.wav',\n",
       " '10 LAC.wav',\n",
       " '47000.wav',\n",
       " '24000.wav',\n",
       " '59000.wav',\n",
       " '24.wav',\n",
       " '30.wav',\n",
       " '18.wav',\n",
       " '28000.wav',\n",
       " '55000.wav',\n",
       " '36000.wav',\n",
       " '3 LAC.wav',\n",
       " '82000.wav',\n",
       " '26.wav',\n",
       " '32.wav',\n",
       " '90000.wav',\n",
       " '33.wav',\n",
       " '27.wav',\n",
       " '7000.wav']"
      ]
     },
     "execution_count": 7,
     "metadata": {},
     "output_type": "execute_result"
    }
   ],
   "source": [
    "files = os.listdir(\"/Users/vinay_kl/Downloads/numbers/hindi/\")\n",
    "len(files)\n",
    "files"
   ]
  },
  {
   "cell_type": "code",
   "execution_count": 7,
   "id": "5dd77845",
   "metadata": {},
   "outputs": [
    {
     "name": "stdout",
     "output_type": "stream",
     "text": [
      "bajaj_1.wav \t बढ़िया. कृपया आपके नज़दीकी बजाज के branch या राशन shop से payment करें. धन्यवाद. \t 0.92333984\n"
     ]
    },
    {
     "ename": "Exception",
     "evalue": "DG: 400, message='Bad Request', url=URL('https://api.deepgram.com/v1/listen?punctuate=true&language=hi')",
     "output_type": "error",
     "traceback": [
      "\u001b[0;31m---------------------------------------------------------------------------\u001b[0m",
      "\u001b[0;31mClientResponseError\u001b[0m                       Traceback (most recent call last)",
      "File \u001b[0;32m~/opt/anaconda3/lib/python3.9/site-packages/deepgram/_utils.py:92\u001b[0m, in \u001b[0;36m_request.<locals>.attempt\u001b[0;34m()\u001b[0m\n\u001b[1;32m     91\u001b[0m \u001b[38;5;28;01mtry\u001b[39;00m:\n\u001b[0;32m---> 92\u001b[0m     \u001b[38;5;28;01masync\u001b[39;00m \u001b[38;5;28;01mwith\u001b[39;00m aiohttp\u001b[38;5;241m.\u001b[39mrequest(\n\u001b[1;32m     93\u001b[0m         method, destination, data\u001b[38;5;241m=\u001b[39m_normalize_payload(payload),\n\u001b[1;32m     94\u001b[0m         headers\u001b[38;5;241m=\u001b[39mupdated_headers, raise_for_status\u001b[38;5;241m=\u001b[39m\u001b[38;5;28;01mTrue\u001b[39;00m\n\u001b[1;32m     95\u001b[0m     ) \u001b[38;5;28;01mas\u001b[39;00m resp:\n\u001b[1;32m     96\u001b[0m         content \u001b[38;5;241m=\u001b[39m (\u001b[38;5;28;01mawait\u001b[39;00m resp\u001b[38;5;241m.\u001b[39mtext())\u001b[38;5;241m.\u001b[39mstrip()\n",
      "File \u001b[0;32m~/opt/anaconda3/lib/python3.9/site-packages/aiohttp/client.py:1186\u001b[0m, in \u001b[0;36m_SessionRequestContextManager.__aenter__\u001b[0;34m(self)\u001b[0m\n\u001b[1;32m   1185\u001b[0m \u001b[38;5;28;01mtry\u001b[39;00m:\n\u001b[0;32m-> 1186\u001b[0m     \u001b[38;5;28mself\u001b[39m\u001b[38;5;241m.\u001b[39m_resp \u001b[38;5;241m=\u001b[39m \u001b[38;5;28;01mawait\u001b[39;00m \u001b[38;5;28mself\u001b[39m\u001b[38;5;241m.\u001b[39m_coro\n\u001b[1;32m   1187\u001b[0m \u001b[38;5;28;01mexcept\u001b[39;00m \u001b[38;5;167;01mBaseException\u001b[39;00m:\n",
      "File \u001b[0;32m~/opt/anaconda3/lib/python3.9/site-packages/aiohttp/client.py:640\u001b[0m, in \u001b[0;36mClientSession._request\u001b[0;34m(self, method, str_or_url, params, data, json, cookies, headers, skip_auto_headers, auth, allow_redirects, max_redirects, compress, chunked, expect100, raise_for_status, read_until_eof, proxy, proxy_auth, timeout, verify_ssl, fingerprint, ssl_context, ssl, proxy_headers, trace_request_ctx, read_bufsize)\u001b[0m\n\u001b[1;32m    639\u001b[0m \u001b[38;5;28;01mif\u001b[39;00m raise_for_status:\n\u001b[0;32m--> 640\u001b[0m     \u001b[43mresp\u001b[49m\u001b[38;5;241;43m.\u001b[39;49m\u001b[43mraise_for_status\u001b[49m\u001b[43m(\u001b[49m\u001b[43m)\u001b[49m\n\u001b[1;32m    642\u001b[0m \u001b[38;5;66;03m# register connection\u001b[39;00m\n",
      "File \u001b[0;32m~/opt/anaconda3/lib/python3.9/site-packages/aiohttp/client_reqrep.py:1004\u001b[0m, in \u001b[0;36mClientResponse.raise_for_status\u001b[0;34m(self)\u001b[0m\n\u001b[1;32m   1003\u001b[0m \u001b[38;5;28mself\u001b[39m\u001b[38;5;241m.\u001b[39mrelease()\n\u001b[0;32m-> 1004\u001b[0m \u001b[38;5;28;01mraise\u001b[39;00m ClientResponseError(\n\u001b[1;32m   1005\u001b[0m     \u001b[38;5;28mself\u001b[39m\u001b[38;5;241m.\u001b[39mrequest_info,\n\u001b[1;32m   1006\u001b[0m     \u001b[38;5;28mself\u001b[39m\u001b[38;5;241m.\u001b[39mhistory,\n\u001b[1;32m   1007\u001b[0m     status\u001b[38;5;241m=\u001b[39m\u001b[38;5;28mself\u001b[39m\u001b[38;5;241m.\u001b[39mstatus,\n\u001b[1;32m   1008\u001b[0m     message\u001b[38;5;241m=\u001b[39m\u001b[38;5;28mself\u001b[39m\u001b[38;5;241m.\u001b[39mreason,\n\u001b[1;32m   1009\u001b[0m     headers\u001b[38;5;241m=\u001b[39m\u001b[38;5;28mself\u001b[39m\u001b[38;5;241m.\u001b[39mheaders,\n\u001b[1;32m   1010\u001b[0m )\n",
      "\u001b[0;31mClientResponseError\u001b[0m: 400, message='Bad Request', url=URL('https://api.deepgram.com/v1/listen?punctuate=true&language=hi')",
      "\nDuring handling of the above exception, another exception occurred:\n",
      "\u001b[0;31mException\u001b[0m                                 Traceback (most recent call last)",
      "Input \u001b[0;32mIn [7]\u001b[0m, in \u001b[0;36m<cell line: 3>\u001b[0;34m()\u001b[0m\n\u001b[1;32m      7\u001b[0m source \u001b[38;5;241m=\u001b[39m { \u001b[38;5;124m'\u001b[39m\u001b[38;5;124mbuffer\u001b[39m\u001b[38;5;124m'\u001b[39m: audio, \u001b[38;5;124m'\u001b[39m\u001b[38;5;124mmimetype\u001b[39m\u001b[38;5;124m'\u001b[39m: \u001b[38;5;124m'\u001b[39m\u001b[38;5;124maudio/wav\u001b[39m\u001b[38;5;124m'\u001b[39m }\n\u001b[1;32m      8\u001b[0m transcription_options \u001b[38;5;241m=\u001b[39m { \u001b[38;5;124m'\u001b[39m\u001b[38;5;124mpunctuate\u001b[39m\u001b[38;5;124m'\u001b[39m: \u001b[38;5;28;01mTrue\u001b[39;00m, \u001b[38;5;124m'\u001b[39m\u001b[38;5;124mlanguage\u001b[39m\u001b[38;5;124m'\u001b[39m: \u001b[38;5;124m'\u001b[39m\u001b[38;5;124mhi\u001b[39m\u001b[38;5;124m'\u001b[39m }\n\u001b[0;32m----> 9\u001b[0m response \u001b[38;5;241m=\u001b[39m \u001b[38;5;28;01mawait\u001b[39;00m deepgram\u001b[38;5;241m.\u001b[39mtranscription\u001b[38;5;241m.\u001b[39mprerecorded(source, transcription_options)\n\u001b[1;32m     10\u001b[0m \u001b[38;5;28mprint\u001b[39m(fi,\u001b[38;5;124m\"\u001b[39m\u001b[38;5;130;01m\\t\u001b[39;00m\u001b[38;5;124m\"\u001b[39m,response[\u001b[38;5;124m\"\u001b[39m\u001b[38;5;124mresults\u001b[39m\u001b[38;5;124m\"\u001b[39m][\u001b[38;5;124m\"\u001b[39m\u001b[38;5;124mchannels\u001b[39m\u001b[38;5;124m\"\u001b[39m][\u001b[38;5;241m0\u001b[39m][\u001b[38;5;124m\"\u001b[39m\u001b[38;5;124malternatives\u001b[39m\u001b[38;5;124m\"\u001b[39m][\u001b[38;5;241m0\u001b[39m][\u001b[38;5;124m\"\u001b[39m\u001b[38;5;124mtranscript\u001b[39m\u001b[38;5;124m\"\u001b[39m],\u001b[38;5;124m\"\u001b[39m\u001b[38;5;130;01m\\t\u001b[39;00m\u001b[38;5;124m\"\u001b[39m,response[\u001b[38;5;124m\"\u001b[39m\u001b[38;5;124mresults\u001b[39m\u001b[38;5;124m\"\u001b[39m][\u001b[38;5;124m\"\u001b[39m\u001b[38;5;124mchannels\u001b[39m\u001b[38;5;124m\"\u001b[39m][\u001b[38;5;241m0\u001b[39m][\u001b[38;5;124m\"\u001b[39m\u001b[38;5;124malternatives\u001b[39m\u001b[38;5;124m\"\u001b[39m][\u001b[38;5;241m0\u001b[39m][\u001b[38;5;124m\"\u001b[39m\u001b[38;5;124mconfidence\u001b[39m\u001b[38;5;124m\"\u001b[39m])\n",
      "File \u001b[0;32m~/opt/anaconda3/lib/python3.9/site-packages/deepgram/transcription.py:334\u001b[0m, in \u001b[0;36mTranscription.prerecorded\u001b[0;34m(self, source, options, **kwargs)\u001b[0m\n\u001b[1;32m    332\u001b[0m     options \u001b[38;5;241m=\u001b[39m {}\n\u001b[1;32m    333\u001b[0m full_options \u001b[38;5;241m=\u001b[39m cast(PrerecordedOptions, {\u001b[38;5;241m*\u001b[39m\u001b[38;5;241m*\u001b[39moptions, \u001b[38;5;241m*\u001b[39m\u001b[38;5;241m*\u001b[39mkwargs})\n\u001b[0;32m--> 334\u001b[0m \u001b[38;5;28;01mreturn\u001b[39;00m \u001b[38;5;28;01mawait\u001b[39;00m PrerecordedTranscription(\n\u001b[1;32m    335\u001b[0m     \u001b[38;5;28mself\u001b[39m\u001b[38;5;241m.\u001b[39moptions, full_options\n\u001b[1;32m    336\u001b[0m )(source)\n",
      "File \u001b[0;32m~/opt/anaconda3/lib/python3.9/site-packages/deepgram/transcription.py:59\u001b[0m, in \u001b[0;36mPrerecordedTranscription.__call__\u001b[0;34m(self, source)\u001b[0m\n\u001b[1;32m     54\u001b[0m payload \u001b[38;5;241m=\u001b[39m cast(\n\u001b[1;32m     55\u001b[0m     Union[\u001b[38;5;28mbytes\u001b[39m, Dict],\n\u001b[1;32m     56\u001b[0m     source\u001b[38;5;241m.\u001b[39mget(\u001b[38;5;124m'\u001b[39m\u001b[38;5;124mbuffer\u001b[39m\u001b[38;5;124m'\u001b[39m, {\u001b[38;5;124m'\u001b[39m\u001b[38;5;124murl\u001b[39m\u001b[38;5;124m'\u001b[39m: source\u001b[38;5;241m.\u001b[39mget(\u001b[38;5;124m'\u001b[39m\u001b[38;5;124murl\u001b[39m\u001b[38;5;124m'\u001b[39m)})\n\u001b[1;32m     57\u001b[0m )\n\u001b[1;32m     58\u001b[0m content_type \u001b[38;5;241m=\u001b[39m cast(\u001b[38;5;28mstr\u001b[39m, source\u001b[38;5;241m.\u001b[39mget(\u001b[38;5;124m'\u001b[39m\u001b[38;5;124mmimetype\u001b[39m\u001b[38;5;124m'\u001b[39m, \u001b[38;5;124m'\u001b[39m\u001b[38;5;124mapplication/json\u001b[39m\u001b[38;5;124m'\u001b[39m))\n\u001b[0;32m---> 59\u001b[0m \u001b[38;5;28;01mreturn\u001b[39;00m \u001b[38;5;28;01mawait\u001b[39;00m _request(\n\u001b[1;32m     60\u001b[0m     \u001b[38;5;124mf\u001b[39m\u001b[38;5;124m'\u001b[39m\u001b[38;5;132;01m{\u001b[39;00m\u001b[38;5;28mself\u001b[39m\u001b[38;5;241m.\u001b[39m_root\u001b[38;5;132;01m}\u001b[39;00m\u001b[38;5;132;01m{\u001b[39;00m_make_query_string(\u001b[38;5;28mself\u001b[39m\u001b[38;5;241m.\u001b[39mtranscription_options)\u001b[38;5;132;01m}\u001b[39;00m\u001b[38;5;124m'\u001b[39m,\n\u001b[1;32m     61\u001b[0m     \u001b[38;5;28mself\u001b[39m\u001b[38;5;241m.\u001b[39moptions, method\u001b[38;5;241m=\u001b[39m\u001b[38;5;124m'\u001b[39m\u001b[38;5;124mPOST\u001b[39m\u001b[38;5;124m'\u001b[39m, payload\u001b[38;5;241m=\u001b[39mpayload,\n\u001b[1;32m     62\u001b[0m     headers\u001b[38;5;241m=\u001b[39m{\u001b[38;5;124m'\u001b[39m\u001b[38;5;124mContent-Type\u001b[39m\u001b[38;5;124m'\u001b[39m: content_type}\n\u001b[1;32m     63\u001b[0m )\n",
      "File \u001b[0;32m~/opt/anaconda3/lib/python3.9/site-packages/deepgram/_utils.py:111\u001b[0m, in \u001b[0;36m_request\u001b[0;34m(path, options, method, payload, headers)\u001b[0m\n\u001b[1;32m    109\u001b[0m \u001b[38;5;28;01mwhile\u001b[39;00m tries \u001b[38;5;241m>\u001b[39m \u001b[38;5;241m0\u001b[39m:\n\u001b[1;32m    110\u001b[0m     \u001b[38;5;28;01mtry\u001b[39;00m:\n\u001b[0;32m--> 111\u001b[0m         \u001b[38;5;28;01mreturn\u001b[39;00m \u001b[38;5;28;01mawait\u001b[39;00m attempt()\n\u001b[1;32m    112\u001b[0m     \u001b[38;5;28;01mexcept\u001b[39;00m aiohttp\u001b[38;5;241m.\u001b[39mClientError \u001b[38;5;28;01mas\u001b[39;00m exc:\n\u001b[1;32m    113\u001b[0m         \u001b[38;5;28;01mif\u001b[39;00m \u001b[38;5;28misinstance\u001b[39m(payload, io\u001b[38;5;241m.\u001b[39mIOBase):\n",
      "File \u001b[0;32m~/opt/anaconda3/lib/python3.9/site-packages/deepgram/_utils.py:104\u001b[0m, in \u001b[0;36m_request.<locals>.attempt\u001b[0;34m()\u001b[0m\n\u001b[1;32m    102\u001b[0m         \u001b[38;5;28;01mreturn\u001b[39;00m body\n\u001b[1;32m    103\u001b[0m \u001b[38;5;28;01mexcept\u001b[39;00m aiohttp\u001b[38;5;241m.\u001b[39mClientResponseError \u001b[38;5;28;01mas\u001b[39;00m exc:\n\u001b[0;32m--> 104\u001b[0m     \u001b[38;5;28;01mraise\u001b[39;00m (\u001b[38;5;167;01mException\u001b[39;00m(\u001b[38;5;124mf\u001b[39m\u001b[38;5;124m'\u001b[39m\u001b[38;5;124mDG: \u001b[39m\u001b[38;5;132;01m{\u001b[39;00mexc\u001b[38;5;132;01m}\u001b[39;00m\u001b[38;5;124m'\u001b[39m) \u001b[38;5;28;01mif\u001b[39;00m exc\u001b[38;5;241m.\u001b[39mstatus \u001b[38;5;241m<\u001b[39m \u001b[38;5;241m500\u001b[39m \u001b[38;5;28;01melse\u001b[39;00m exc)\n\u001b[1;32m    105\u001b[0m \u001b[38;5;28;01mexcept\u001b[39;00m aiohttp\u001b[38;5;241m.\u001b[39mClientError \u001b[38;5;28;01mas\u001b[39;00m exc:\n\u001b[1;32m    106\u001b[0m     \u001b[38;5;28;01mraise\u001b[39;00m exc\n",
      "\u001b[0;31mException\u001b[0m: DG: 400, message='Bad Request', url=URL('https://api.deepgram.com/v1/listen?punctuate=true&language=hi')"
     ]
    }
   ],
   "source": [
    "\n",
    "files = os.listdir(\"/Users/vinay_kl/Downloads/bajaj/\")\n",
    "#print(files)\n",
    "for fi in files:\n",
    "    path = \"/Users/vinay_kl/Downloads/bajaj/\"+fi\n",
    "   \n",
    "    with open(path, 'rb') as audio:\n",
    "            source = { 'buffer': audio, 'mimetype': 'audio/wav' }\n",
    "            transcription_options = { 'punctuate': True, 'language': 'hi' }\n",
    "            response = await deepgram.transcription.prerecorded(source, transcription_options)\n",
    "            print(fi,\"\\t\",response[\"results\"][\"channels\"][0][\"alternatives\"][0][\"transcript\"],\"\\t\",response[\"results\"][\"channels\"][0][\"alternatives\"][0][\"confidence\"])\n",
    "        "
   ]
  },
  {
   "cell_type": "code",
   "execution_count": 10,
   "id": "cd05c515",
   "metadata": {},
   "outputs": [
    {
     "ename": "Exception",
     "evalue": "DG: 400, message='Bad Request', url=URL('https://api.deepgram.com/v1/listen?punctuate=true&language=hi')",
     "output_type": "error",
     "traceback": [
      "\u001b[0;31m---------------------------------------------------------------------------\u001b[0m",
      "\u001b[0;31mClientResponseError\u001b[0m                       Traceback (most recent call last)",
      "File \u001b[0;32m~/opt/anaconda3/lib/python3.9/site-packages/deepgram/_utils.py:92\u001b[0m, in \u001b[0;36m_request.<locals>.attempt\u001b[0;34m()\u001b[0m\n\u001b[1;32m     91\u001b[0m \u001b[38;5;28;01mtry\u001b[39;00m:\n\u001b[0;32m---> 92\u001b[0m     \u001b[38;5;28;01masync\u001b[39;00m \u001b[38;5;28;01mwith\u001b[39;00m aiohttp\u001b[38;5;241m.\u001b[39mrequest(\n\u001b[1;32m     93\u001b[0m         method, destination, data\u001b[38;5;241m=\u001b[39m_normalize_payload(payload),\n\u001b[1;32m     94\u001b[0m         headers\u001b[38;5;241m=\u001b[39mupdated_headers, raise_for_status\u001b[38;5;241m=\u001b[39m\u001b[38;5;28;01mTrue\u001b[39;00m\n\u001b[1;32m     95\u001b[0m     ) \u001b[38;5;28;01mas\u001b[39;00m resp:\n\u001b[1;32m     96\u001b[0m         content \u001b[38;5;241m=\u001b[39m (\u001b[38;5;28;01mawait\u001b[39;00m resp\u001b[38;5;241m.\u001b[39mtext())\u001b[38;5;241m.\u001b[39mstrip()\n",
      "File \u001b[0;32m~/opt/anaconda3/lib/python3.9/site-packages/aiohttp/client.py:1186\u001b[0m, in \u001b[0;36m_SessionRequestContextManager.__aenter__\u001b[0;34m(self)\u001b[0m\n\u001b[1;32m   1185\u001b[0m \u001b[38;5;28;01mtry\u001b[39;00m:\n\u001b[0;32m-> 1186\u001b[0m     \u001b[38;5;28mself\u001b[39m\u001b[38;5;241m.\u001b[39m_resp \u001b[38;5;241m=\u001b[39m \u001b[38;5;28;01mawait\u001b[39;00m \u001b[38;5;28mself\u001b[39m\u001b[38;5;241m.\u001b[39m_coro\n\u001b[1;32m   1187\u001b[0m \u001b[38;5;28;01mexcept\u001b[39;00m \u001b[38;5;167;01mBaseException\u001b[39;00m:\n",
      "File \u001b[0;32m~/opt/anaconda3/lib/python3.9/site-packages/aiohttp/client.py:640\u001b[0m, in \u001b[0;36mClientSession._request\u001b[0;34m(self, method, str_or_url, params, data, json, cookies, headers, skip_auto_headers, auth, allow_redirects, max_redirects, compress, chunked, expect100, raise_for_status, read_until_eof, proxy, proxy_auth, timeout, verify_ssl, fingerprint, ssl_context, ssl, proxy_headers, trace_request_ctx, read_bufsize)\u001b[0m\n\u001b[1;32m    639\u001b[0m \u001b[38;5;28;01mif\u001b[39;00m raise_for_status:\n\u001b[0;32m--> 640\u001b[0m     \u001b[43mresp\u001b[49m\u001b[38;5;241;43m.\u001b[39;49m\u001b[43mraise_for_status\u001b[49m\u001b[43m(\u001b[49m\u001b[43m)\u001b[49m\n\u001b[1;32m    642\u001b[0m \u001b[38;5;66;03m# register connection\u001b[39;00m\n",
      "File \u001b[0;32m~/opt/anaconda3/lib/python3.9/site-packages/aiohttp/client_reqrep.py:1004\u001b[0m, in \u001b[0;36mClientResponse.raise_for_status\u001b[0;34m(self)\u001b[0m\n\u001b[1;32m   1003\u001b[0m \u001b[38;5;28mself\u001b[39m\u001b[38;5;241m.\u001b[39mrelease()\n\u001b[0;32m-> 1004\u001b[0m \u001b[38;5;28;01mraise\u001b[39;00m ClientResponseError(\n\u001b[1;32m   1005\u001b[0m     \u001b[38;5;28mself\u001b[39m\u001b[38;5;241m.\u001b[39mrequest_info,\n\u001b[1;32m   1006\u001b[0m     \u001b[38;5;28mself\u001b[39m\u001b[38;5;241m.\u001b[39mhistory,\n\u001b[1;32m   1007\u001b[0m     status\u001b[38;5;241m=\u001b[39m\u001b[38;5;28mself\u001b[39m\u001b[38;5;241m.\u001b[39mstatus,\n\u001b[1;32m   1008\u001b[0m     message\u001b[38;5;241m=\u001b[39m\u001b[38;5;28mself\u001b[39m\u001b[38;5;241m.\u001b[39mreason,\n\u001b[1;32m   1009\u001b[0m     headers\u001b[38;5;241m=\u001b[39m\u001b[38;5;28mself\u001b[39m\u001b[38;5;241m.\u001b[39mheaders,\n\u001b[1;32m   1010\u001b[0m )\n",
      "\u001b[0;31mClientResponseError\u001b[0m: 400, message='Bad Request', url=URL('https://api.deepgram.com/v1/listen?punctuate=true&language=hi')",
      "\nDuring handling of the above exception, another exception occurred:\n",
      "\u001b[0;31mException\u001b[0m                                 Traceback (most recent call last)",
      "Input \u001b[0;32mIn [10]\u001b[0m, in \u001b[0;36m<cell line: 1>\u001b[0;34m()\u001b[0m\n\u001b[1;32m      2\u001b[0m source \u001b[38;5;241m=\u001b[39m { \u001b[38;5;124m'\u001b[39m\u001b[38;5;124mbuffer\u001b[39m\u001b[38;5;124m'\u001b[39m: audio, \u001b[38;5;124m'\u001b[39m\u001b[38;5;124mmimetype\u001b[39m\u001b[38;5;124m'\u001b[39m: \u001b[38;5;124m'\u001b[39m\u001b[38;5;124maudio/wav\u001b[39m\u001b[38;5;124m'\u001b[39m }\n\u001b[1;32m      3\u001b[0m transcription_options \u001b[38;5;241m=\u001b[39m { \u001b[38;5;124m'\u001b[39m\u001b[38;5;124mpunctuate\u001b[39m\u001b[38;5;124m'\u001b[39m: \u001b[38;5;28;01mTrue\u001b[39;00m, \u001b[38;5;124m'\u001b[39m\u001b[38;5;124mlanguage\u001b[39m\u001b[38;5;124m'\u001b[39m: \u001b[38;5;124m'\u001b[39m\u001b[38;5;124mhi\u001b[39m\u001b[38;5;124m'\u001b[39m }\n\u001b[0;32m----> 4\u001b[0m response \u001b[38;5;241m=\u001b[39m \u001b[38;5;28;01mawait\u001b[39;00m deepgram\u001b[38;5;241m.\u001b[39mtranscription\u001b[38;5;241m.\u001b[39mprerecorded(source, transcription_options)\n\u001b[1;32m      5\u001b[0m \u001b[38;5;28mprint\u001b[39m(response)\n",
      "File \u001b[0;32m~/opt/anaconda3/lib/python3.9/site-packages/deepgram/transcription.py:334\u001b[0m, in \u001b[0;36mTranscription.prerecorded\u001b[0;34m(self, source, options, **kwargs)\u001b[0m\n\u001b[1;32m    332\u001b[0m     options \u001b[38;5;241m=\u001b[39m {}\n\u001b[1;32m    333\u001b[0m full_options \u001b[38;5;241m=\u001b[39m cast(PrerecordedOptions, {\u001b[38;5;241m*\u001b[39m\u001b[38;5;241m*\u001b[39moptions, \u001b[38;5;241m*\u001b[39m\u001b[38;5;241m*\u001b[39mkwargs})\n\u001b[0;32m--> 334\u001b[0m \u001b[38;5;28;01mreturn\u001b[39;00m \u001b[38;5;28;01mawait\u001b[39;00m PrerecordedTranscription(\n\u001b[1;32m    335\u001b[0m     \u001b[38;5;28mself\u001b[39m\u001b[38;5;241m.\u001b[39moptions, full_options\n\u001b[1;32m    336\u001b[0m )(source)\n",
      "File \u001b[0;32m~/opt/anaconda3/lib/python3.9/site-packages/deepgram/transcription.py:59\u001b[0m, in \u001b[0;36mPrerecordedTranscription.__call__\u001b[0;34m(self, source)\u001b[0m\n\u001b[1;32m     54\u001b[0m payload \u001b[38;5;241m=\u001b[39m cast(\n\u001b[1;32m     55\u001b[0m     Union[\u001b[38;5;28mbytes\u001b[39m, Dict],\n\u001b[1;32m     56\u001b[0m     source\u001b[38;5;241m.\u001b[39mget(\u001b[38;5;124m'\u001b[39m\u001b[38;5;124mbuffer\u001b[39m\u001b[38;5;124m'\u001b[39m, {\u001b[38;5;124m'\u001b[39m\u001b[38;5;124murl\u001b[39m\u001b[38;5;124m'\u001b[39m: source\u001b[38;5;241m.\u001b[39mget(\u001b[38;5;124m'\u001b[39m\u001b[38;5;124murl\u001b[39m\u001b[38;5;124m'\u001b[39m)})\n\u001b[1;32m     57\u001b[0m )\n\u001b[1;32m     58\u001b[0m content_type \u001b[38;5;241m=\u001b[39m cast(\u001b[38;5;28mstr\u001b[39m, source\u001b[38;5;241m.\u001b[39mget(\u001b[38;5;124m'\u001b[39m\u001b[38;5;124mmimetype\u001b[39m\u001b[38;5;124m'\u001b[39m, \u001b[38;5;124m'\u001b[39m\u001b[38;5;124mapplication/json\u001b[39m\u001b[38;5;124m'\u001b[39m))\n\u001b[0;32m---> 59\u001b[0m \u001b[38;5;28;01mreturn\u001b[39;00m \u001b[38;5;28;01mawait\u001b[39;00m _request(\n\u001b[1;32m     60\u001b[0m     \u001b[38;5;124mf\u001b[39m\u001b[38;5;124m'\u001b[39m\u001b[38;5;132;01m{\u001b[39;00m\u001b[38;5;28mself\u001b[39m\u001b[38;5;241m.\u001b[39m_root\u001b[38;5;132;01m}\u001b[39;00m\u001b[38;5;132;01m{\u001b[39;00m_make_query_string(\u001b[38;5;28mself\u001b[39m\u001b[38;5;241m.\u001b[39mtranscription_options)\u001b[38;5;132;01m}\u001b[39;00m\u001b[38;5;124m'\u001b[39m,\n\u001b[1;32m     61\u001b[0m     \u001b[38;5;28mself\u001b[39m\u001b[38;5;241m.\u001b[39moptions, method\u001b[38;5;241m=\u001b[39m\u001b[38;5;124m'\u001b[39m\u001b[38;5;124mPOST\u001b[39m\u001b[38;5;124m'\u001b[39m, payload\u001b[38;5;241m=\u001b[39mpayload,\n\u001b[1;32m     62\u001b[0m     headers\u001b[38;5;241m=\u001b[39m{\u001b[38;5;124m'\u001b[39m\u001b[38;5;124mContent-Type\u001b[39m\u001b[38;5;124m'\u001b[39m: content_type}\n\u001b[1;32m     63\u001b[0m )\n",
      "File \u001b[0;32m~/opt/anaconda3/lib/python3.9/site-packages/deepgram/_utils.py:111\u001b[0m, in \u001b[0;36m_request\u001b[0;34m(path, options, method, payload, headers)\u001b[0m\n\u001b[1;32m    109\u001b[0m \u001b[38;5;28;01mwhile\u001b[39;00m tries \u001b[38;5;241m>\u001b[39m \u001b[38;5;241m0\u001b[39m:\n\u001b[1;32m    110\u001b[0m     \u001b[38;5;28;01mtry\u001b[39;00m:\n\u001b[0;32m--> 111\u001b[0m         \u001b[38;5;28;01mreturn\u001b[39;00m \u001b[38;5;28;01mawait\u001b[39;00m attempt()\n\u001b[1;32m    112\u001b[0m     \u001b[38;5;28;01mexcept\u001b[39;00m aiohttp\u001b[38;5;241m.\u001b[39mClientError \u001b[38;5;28;01mas\u001b[39;00m exc:\n\u001b[1;32m    113\u001b[0m         \u001b[38;5;28;01mif\u001b[39;00m \u001b[38;5;28misinstance\u001b[39m(payload, io\u001b[38;5;241m.\u001b[39mIOBase):\n",
      "File \u001b[0;32m~/opt/anaconda3/lib/python3.9/site-packages/deepgram/_utils.py:104\u001b[0m, in \u001b[0;36m_request.<locals>.attempt\u001b[0;34m()\u001b[0m\n\u001b[1;32m    102\u001b[0m         \u001b[38;5;28;01mreturn\u001b[39;00m body\n\u001b[1;32m    103\u001b[0m \u001b[38;5;28;01mexcept\u001b[39;00m aiohttp\u001b[38;5;241m.\u001b[39mClientResponseError \u001b[38;5;28;01mas\u001b[39;00m exc:\n\u001b[0;32m--> 104\u001b[0m     \u001b[38;5;28;01mraise\u001b[39;00m (\u001b[38;5;167;01mException\u001b[39;00m(\u001b[38;5;124mf\u001b[39m\u001b[38;5;124m'\u001b[39m\u001b[38;5;124mDG: \u001b[39m\u001b[38;5;132;01m{\u001b[39;00mexc\u001b[38;5;132;01m}\u001b[39;00m\u001b[38;5;124m'\u001b[39m) \u001b[38;5;28;01mif\u001b[39;00m exc\u001b[38;5;241m.\u001b[39mstatus \u001b[38;5;241m<\u001b[39m \u001b[38;5;241m500\u001b[39m \u001b[38;5;28;01melse\u001b[39;00m exc)\n\u001b[1;32m    105\u001b[0m \u001b[38;5;28;01mexcept\u001b[39;00m aiohttp\u001b[38;5;241m.\u001b[39mClientError \u001b[38;5;28;01mas\u001b[39;00m exc:\n\u001b[1;32m    106\u001b[0m     \u001b[38;5;28;01mraise\u001b[39;00m exc\n",
      "\u001b[0;31mException\u001b[0m: DG: 400, message='Bad Request', url=URL('https://api.deepgram.com/v1/listen?punctuate=true&language=hi')"
     ]
    }
   ],
   "source": [
    "with open(path, 'rb') as audio:\n",
    "    source = { 'buffer': audio, 'mimetype': 'audio/wav' }\n",
    "    transcription_options = { 'punctuate': True, 'language': 'hi' }\n",
    "    response = await deepgram.transcription.prerecorded(source, transcription_options)\n",
    "    print(response)"
   ]
  },
  {
   "cell_type": "code",
   "execution_count": null,
   "id": "8e9f864a",
   "metadata": {},
   "outputs": [],
   "source": []
  }
 ],
 "metadata": {
  "kernelspec": {
   "display_name": "Python 3 (ipykernel)",
   "language": "python",
   "name": "python3"
  },
  "language_info": {
   "codemirror_mode": {
    "name": "ipython",
    "version": 3
   },
   "file_extension": ".py",
   "mimetype": "text/x-python",
   "name": "python",
   "nbconvert_exporter": "python",
   "pygments_lexer": "ipython3",
   "version": "3.9.12"
  }
 },
 "nbformat": 4,
 "nbformat_minor": 5
}
