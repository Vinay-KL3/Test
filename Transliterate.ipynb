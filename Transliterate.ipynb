{
 "cells": [
  {
   "cell_type": "code",
   "execution_count": 1,
   "id": "3b4a11c1",
   "metadata": {},
   "outputs": [
    {
     "name": "stdout",
     "output_type": "stream",
     "text": [
      "Collecting indic-transliteration\n",
      "  Downloading indic_transliteration-2.3.40-py3-none-any.whl (140 kB)\n",
      "\u001b[K     |████████████████████████████████| 140 kB 555 kB/s eta 0:00:01\n",
      "\u001b[?25hRequirement already satisfied: regex in /Users/vinay_kl/opt/anaconda3/lib/python3.9/site-packages (from indic-transliteration) (2022.3.15)\n",
      "Requirement already satisfied: backports.functools-lru-cache in /Users/vinay_kl/opt/anaconda3/lib/python3.9/site-packages (from indic-transliteration) (1.6.4)\n",
      "Requirement already satisfied: toml in /Users/vinay_kl/opt/anaconda3/lib/python3.9/site-packages (from indic-transliteration) (0.10.2)\n",
      "Collecting typer\n",
      "  Downloading typer-0.7.0-py3-none-any.whl (38 kB)\n",
      "Collecting roman\n",
      "  Downloading roman-3.3-py2.py3-none-any.whl (3.9 kB)\n",
      "Requirement already satisfied: click<9.0.0,>=7.1.1 in /Users/vinay_kl/opt/anaconda3/lib/python3.9/site-packages (from typer->indic-transliteration) (8.0.4)\n",
      "Installing collected packages: typer, roman, indic-transliteration\n",
      "Successfully installed indic-transliteration-2.3.40 roman-3.3 typer-0.7.0\n",
      "Note: you may need to restart the kernel to use updated packages.\n"
     ]
    }
   ],
   "source": [
    "pip install indic-transliteration"
   ]
  },
  {
   "cell_type": "code",
   "execution_count": 10,
   "id": "a34c5356",
   "metadata": {},
   "outputs": [
    {
     "ename": "ImportError",
     "evalue": "cannot import name 'Telugu' from 'indic_transliteration' (/Users/vinay_kl/opt/anaconda3/lib/python3.9/site-packages/indic_transliteration/__init__.py)",
     "output_type": "error",
     "traceback": [
      "\u001b[0;31m---------------------------------------------------------------------------\u001b[0m",
      "\u001b[0;31mImportError\u001b[0m                               Traceback (most recent call last)",
      "Input \u001b[0;32mIn [10]\u001b[0m, in \u001b[0;36m<cell line: 1>\u001b[0;34m()\u001b[0m\n\u001b[0;32m----> 1\u001b[0m \u001b[38;5;28;01mfrom\u001b[39;00m \u001b[38;5;21;01mindic_transliteration\u001b[39;00m \u001b[38;5;28;01mimport\u001b[39;00m Telugu\n\u001b[1;32m      2\u001b[0m \u001b[38;5;28;01mfrom\u001b[39;00m \u001b[38;5;21;01mindic_transliteration\u001b[39;00m\u001b[38;5;21;01m.\u001b[39;00m\u001b[38;5;21;01mTelugu\u001b[39;00m \u001b[38;5;28;01mimport\u001b[39;00m transliterate\n",
      "\u001b[0;31mImportError\u001b[0m: cannot import name 'Telugu' from 'indic_transliteration' (/Users/vinay_kl/opt/anaconda3/lib/python3.9/site-packages/indic_transliteration/__init__.py)"
     ]
    }
   ],
   "source": [
    "from indic_transliteration import Sanscript\n",
    "from indic_transliteration.Sanscript import transliterate"
   ]
  },
  {
   "cell_type": "code",
   "execution_count": 5,
   "id": "d1c67ba2",
   "metadata": {},
   "outputs": [],
   "source": [
    "text = \"மன்னிச்சிருங்க, நான் திரும்ப சொல்றன்\""
   ]
  },
  {
   "cell_type": "code",
   "execution_count": 9,
   "id": "bd5f4984",
   "metadata": {},
   "outputs": [
    {
     "ename": "NameError",
     "evalue": "name 'ITRANS' is not defined",
     "output_type": "error",
     "traceback": [
      "\u001b[0;31m---------------------------------------------------------------------------\u001b[0m",
      "\u001b[0;31mNameError\u001b[0m                                 Traceback (most recent call last)",
      "Input \u001b[0;32mIn [9]\u001b[0m, in \u001b[0;36m<cell line: 1>\u001b[0;34m()\u001b[0m\n\u001b[0;32m----> 1\u001b[0m \u001b[38;5;28mprint\u001b[39m(transliterate(text, \u001b[43mITRANS\u001b[49m, Telugu))\n",
      "\u001b[0;31mNameError\u001b[0m: name 'ITRANS' is not defined"
     ]
    }
   ],
   "source": [
    "print(transliterate(text, ITRANS, Telugu))"
   ]
  },
  {
   "cell_type": "code",
   "execution_count": null,
   "id": "d9686636",
   "metadata": {},
   "outputs": [],
   "source": []
  },
  {
   "cell_type": "code",
   "execution_count": null,
   "id": "9275d598",
   "metadata": {},
   "outputs": [],
   "source": []
  },
  {
   "cell_type": "code",
   "execution_count": null,
   "id": "b5235a49",
   "metadata": {},
   "outputs": [],
   "source": [
    "Syntax : transliterate(text, romanization_style, script)\n",
    "\n",
    "Parameters :\n",
    "test : The text totransliterated\n",
    "romanization_style : The following romanization styles are available :\n",
    "\n",
    "HK = ‘hk’\n",
    "IAST = ‘iast’\n",
    "ITRANS = ‘itrans’\n",
    "OPTITRANS = ‘optitrans’\n",
    "KOLKATA = ‘kolkata’\n",
    "SLP1 = ‘slp1’\n",
    "VELTHUIS = ‘velthuis’\n",
    "WX = ‘wx’\n",
    "script : The script to be transliterated into. The following scripts are available :\n",
    "\n",
    "Bengali\n",
    "Devanagari\n",
    "Gujarati\n",
    "Kannada\n",
    "Malayalam\n",
    "Telugu\n",
    "Tamil\n",
    "Oriya\n",
    "Gurmukhi/ Punjabi/ Panjabi\n",
    "Returns : A string of the transliterated text."
   ]
  }
 ],
 "metadata": {
  "kernelspec": {
   "display_name": "Python 3 (ipykernel)",
   "language": "python",
   "name": "python3"
  },
  "language_info": {
   "codemirror_mode": {
    "name": "ipython",
    "version": 3
   },
   "file_extension": ".py",
   "mimetype": "text/x-python",
   "name": "python",
   "nbconvert_exporter": "python",
   "pygments_lexer": "ipython3",
   "version": "3.9.12"
  }
 },
 "nbformat": 4,
 "nbformat_minor": 5
}
