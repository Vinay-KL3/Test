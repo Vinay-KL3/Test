{
 "cells": [
  {
   "cell_type": "code",
   "execution_count": 23,
   "id": "d24120b4",
   "metadata": {},
   "outputs": [],
   "source": [
    "import requests\n",
    "import json\n",
    "# import jsonpath"
   ]
  },
  {
   "cell_type": "code",
   "execution_count": 24,
   "id": "aa80a5d8",
   "metadata": {},
   "outputs": [],
   "source": [
    "url = \"https://poojafin.saarthi.ai/lead_english/webhook\""
   ]
  },
  {
   "cell_type": "code",
   "execution_count": 25,
   "id": "e7cb5148",
   "metadata": {},
   "outputs": [
    {
     "name": "stdout",
     "output_type": "stream",
     "text": [
      "<class 'dict'> {'user_id': '7893893270', 'request_id': 'request1127', 'sender': 'vinay-shh6qvfjjlUi72ku', 'message': '/initial_message'}\n",
      "<class 'requests.models.Response'> <Response [400]>\n",
      "b'Error: Failed when parsing body as json'\n"
     ]
    }
   ],
   "source": [
    "file = open ('/Users/vinay_kl/Downloads/csvjson.json', 'r')\n",
    "json_input = file.read()\n",
    "request_json = json.loads(json_input)\n",
    "\n",
    "print (type(request_json),request_json)\n",
    "\n",
    "response = requests.post(url, request_json) \n",
    "print (type(response),response)\n",
    "print (response.content)"
   ]
  },
  {
   "cell_type": "code",
   "execution_count": 8,
   "id": "bb0e85cf",
   "metadata": {},
   "outputs": [
    {
     "name": "stdout",
     "output_type": "stream",
     "text": [
      "None\n"
     ]
    }
   ],
   "source": [
    "C = print(response.headers.get('text'))"
   ]
  },
  {
   "cell_type": "code",
   "execution_count": 10,
   "id": "31759fec",
   "metadata": {},
   "outputs": [
    {
     "ename": "SyntaxError",
     "evalue": "invalid syntax (3572268243.py, line 1)",
     "output_type": "error",
     "traceback": [
      "\u001b[0;36m  Input \u001b[0;32mIn [10]\u001b[0;36m\u001b[0m\n\u001b[0;31m    assert C = \"I'm Shiva, calling from Saarthi Bank\"\u001b[0m\n\u001b[0m             ^\u001b[0m\n\u001b[0;31mSyntaxError\u001b[0m\u001b[0;31m:\u001b[0m invalid syntax\n"
     ]
    }
   ],
   "source": [
    "assert C == \"I'm Shiva, calling from Saarthi Bank\""
   ]
  },
  {
   "cell_type": "code",
   "execution_count": 26,
   "id": "bb5deebe",
   "metadata": {},
   "outputs": [],
   "source": [
    "import requests"
   ]
  },
  {
   "cell_type": "code",
   "execution_count": null,
   "id": "05a5e7fb",
   "metadata": {},
   "outputs": [],
   "source": [
    "url = \"https://poojafin.saarthi.ai/lead_english/webhook\"\n",
    "response = requests"
   ]
  }
 ],
 "metadata": {
  "kernelspec": {
   "display_name": "Python 3 (ipykernel)",
   "language": "python",
   "name": "python3"
  },
  "language_info": {
   "codemirror_mode": {
    "name": "ipython",
    "version": 3
   },
   "file_extension": ".py",
   "mimetype": "text/x-python",
   "name": "python",
   "nbconvert_exporter": "python",
   "pygments_lexer": "ipython3",
   "version": "3.9.12"
  }
 },
 "nbformat": 4,
 "nbformat_minor": 5
}
