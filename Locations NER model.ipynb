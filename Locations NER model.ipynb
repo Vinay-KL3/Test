{
 "cells": [
  {
   "cell_type": "code",
   "execution_count": 1,
   "id": "4ad52bc9",
   "metadata": {},
   "outputs": [],
   "source": [
    "import pandas as pd\n",
    "df = pd.read_csv(\"/Users/vinay_kl/Downloads/QA _ PoliticalEdge - NER (1).csv\")\n",
    "df.head(5)\n",
    "\n",
    "ENG = df[\"Location\"]\n",
    "MAR = df[\"Translation\"]\n",
    "\n",
    "# print(ENG, MAR)\n",
    "\n",
    "english = []\n",
    "marathi = []\n",
    "\n",
    "\n",
    "for i in ENG:\n",
    "    english += [i]\n",
    "for j in MAR:\n",
    "    marathi += [j]    \n",
    "    \n",
    "lowercase_english = [item.lower() for item in english]\n",
    "    \n",
    "# print(english)\n",
    "# print(marathi)\n",
    "# print(lowercase_english)    "
   ]
  },
  {
   "cell_type": "code",
   "execution_count": 6,
   "id": "b8fb1e1b",
   "metadata": {},
   "outputs": [
    {
     "name": "stdout",
     "output_type": "stream",
     "text": [
      "please enter the text \n",
      "  @media print {\n",
      "    .ms-editor-squiggles-container {\n",
      "      display:none !important;\n",
      "    }\n",
      "  }\n",
      "  .ms-editor-squiggles-container {\n",
      "    all: initial;\n",
      "  }in dharavi or churchgate\n",
      "churchgate\n",
      "dharavi\n"
     ]
    }
   ],
   "source": [
    "Text = input(\"please enter the text \").lower()\n",
    "# T3 = Text.split()\n",
    "# T = list(set(Text))\n",
    "# T2 = [item.lower() for item in T]\n",
    "# print(T2)\n",
    "\n",
    "for i,j in zip(lowercase_english,marathi):\n",
    "    if i in Text:\n",
    "        print(i)\n",
    "    elif j in Text:\n",
    "        print(j)\n",
    "\n",
    "# def FUN(Text = None):\n",
    "#     for i in lowercase_english:\n",
    "# #         print(i)\n",
    "        \n",
    "# #         for j in T2:\n",
    "#             if i in Text:\n",
    "#                 print(i)      \n",
    "                \n",
    "# try:\n",
    "#     FUN(Text)\n",
    "# except Exception as e:\n",
    "#     print(e)"
   ]
  },
  {
   "cell_type": "code",
   "execution_count": null,
   "id": "7849016e",
   "metadata": {},
   "outputs": [],
   "source": []
  },
  {
   "cell_type": "code",
   "execution_count": null,
   "id": "c23e51ef",
   "metadata": {},
   "outputs": [],
   "source": []
  }
 ],
 "metadata": {
  "kernelspec": {
   "display_name": "Python 3 (ipykernel)",
   "language": "python",
   "name": "python3"
  },
  "language_info": {
   "codemirror_mode": {
    "name": "ipython",
    "version": 3
   },
   "file_extension": ".py",
   "mimetype": "text/x-python",
   "name": "python",
   "nbconvert_exporter": "python",
   "pygments_lexer": "ipython3",
   "version": "3.9.12"
  }
 },
 "nbformat": 4,
 "nbformat_minor": 5
}
