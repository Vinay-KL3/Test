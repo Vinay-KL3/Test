{
 "cells": [
  {
   "cell_type": "code",
   "execution_count": 17,
   "id": "7e6dda3b",
   "metadata": {},
   "outputs": [],
   "source": [
    "import hashlib\n",
    "import json\n",
    "import os\n",
    "import re\n",
    "import shutil\n",
    "import pandas as pd"
   ]
  },
  {
   "cell_type": "code",
   "execution_count": 28,
   "id": "85a26125",
   "metadata": {
    "scrolled": true
   },
   "outputs": [
    {
     "name": "stdout",
     "output_type": "stream",
     "text": [
      "Audio_ID\ttemplate_id\ttext\n"
     ]
    }
   ],
   "source": [
    "response=''\n",
    "with open(\"/Users/vinay_kl/Downloads/PFH_all.json\",\"r\") as f:\n",
    "    data=json.load(f)\n",
    "\n",
    "print(\"Audio_ID\"+\"\\t\"+\"template_id\"+\"\\t\"+\"text\")\n",
    "response = response + \"Audio_ID\"+\"\\t\"+\"template_id\"+\"\\t\"+\"text\" + \"\\n\"\n",
    "for row in data:\n",
    "    if \"{\" in row['English']:\n",
    "        english=row[\"English\"]\n",
    "        template_id = row[\"Response_ID\"]\n",
    "        id = row[\"Audio_ID\"]\n",
    "        splits=re.split(\"{\\w+}\",english)\n",
    "        for i in range(0,len(splits)):\n",
    "            try:\n",
    "                present_file_name = template_id +\"_\"+str(i+1)\n",
    "                new_file_name = id +\"_\"+str(i+1)\n",
    "                # print(new_file_name+\"\\t\"+present_file_name+\"\\t\"+splits[i])\n",
    "                response=  response+new_file_name+\"\\t\"+present_file_name+\"\\t\"+splits[i]+\"\\n\"\n",
    "                # file_write.write(present_file_name+\"\\t\\t\"+new_file_name+\"\\t\"+splits[i]+\"\\n\")\n",
    "            except:\n",
    "                pass\n",
    "    else:\n",
    "        text = row['English']\n",
    "        template_id = row[\"Response_ID\"]\n",
    "        id = row[\"Audio_ID\"]\n",
    "        # print(id+\"\\t\"+template_id+\"\\t\"+text)\n",
    "        response=response+id+\"\\t\"+template_id+\"\\t\"+text+\"\\n\"\n",
    "        # file_write_missed.write(template_id+\"\\t\\t\"+id+\"\\t\\t\"+text)\n",
    "creatFile=open(\"PFH_split.txt\",\"w\")\n",
    "creatFile.write(response)\n",
    "creatFile.close()"
   ]
  },
  {
   "cell_type": "code",
   "execution_count": null,
   "id": "862d2952",
   "metadata": {},
   "outputs": [],
   "source": []
  }
 ],
 "metadata": {
  "kernelspec": {
   "display_name": "Python 3 (ipykernel)",
   "language": "python",
   "name": "python3"
  },
  "language_info": {
   "codemirror_mode": {
    "name": "ipython",
    "version": 3
   },
   "file_extension": ".py",
   "mimetype": "text/x-python",
   "name": "python",
   "nbconvert_exporter": "python",
   "pygments_lexer": "ipython3",
   "version": "3.9.12"
  }
 },
 "nbformat": 4,
 "nbformat_minor": 5
}
