{
 "cells": [
  {
   "cell_type": "code",
   "execution_count": 1,
   "id": "8f22263d",
   "metadata": {},
   "outputs": [],
   "source": [
    "import pandas as pd"
   ]
  },
  {
   "cell_type": "code",
   "execution_count": 17,
   "id": "d34aa214",
   "metadata": {},
   "outputs": [],
   "source": [
    "df = pd.read_excel(\"/Users/vinay_kl/Downloads/Maia_DPD(1-3)_English_Unique_Personas.xlsx\")"
   ]
  },
  {
   "cell_type": "code",
   "execution_count": 3,
   "id": "d2bbdcf9",
   "metadata": {},
   "outputs": [
    {
     "data": {
      "text/html": [
       "<div>\n",
       "<style scoped>\n",
       "    .dataframe tbody tr th:only-of-type {\n",
       "        vertical-align: middle;\n",
       "    }\n",
       "\n",
       "    .dataframe tbody tr th {\n",
       "        vertical-align: top;\n",
       "    }\n",
       "\n",
       "    .dataframe thead th {\n",
       "        text-align: right;\n",
       "    }\n",
       "</style>\n",
       "<table border=\"1\" class=\"dataframe\">\n",
       "  <thead>\n",
       "    <tr style=\"text-align: right;\">\n",
       "      <th></th>\n",
       "      <th>Flow</th>\n",
       "      <th>Sub-Flow</th>\n",
       "      <th>Persona</th>\n",
       "      <th>Response_ID</th>\n",
       "      <th>Tone</th>\n",
       "      <th>Agent_Gender</th>\n",
       "      <th>Comments</th>\n",
       "      <th>E_Audio_ID</th>\n",
       "      <th>English</th>\n",
       "      <th>Status</th>\n",
       "    </tr>\n",
       "  </thead>\n",
       "  <tbody>\n",
       "    <tr>\n",
       "      <th>0</th>\n",
       "      <td>DPD(1-3)</td>\n",
       "      <td>Slots</td>\n",
       "      <td>UMYB_WAOR</td>\n",
       "      <td>utter_greet_name_dpd_1_3_UMYB_WAOR_F</td>\n",
       "      <td>Polite</td>\n",
       "      <td>Female</td>\n",
       "      <td>NaN</td>\n",
       "      <td>GEF1</td>\n",
       "      <td>Hello, am I speaking to {customer_name} sir?</td>\n",
       "      <td>New</td>\n",
       "    </tr>\n",
       "    <tr>\n",
       "      <th>1</th>\n",
       "      <td>DPD(1-3)</td>\n",
       "      <td>Slots</td>\n",
       "      <td>UMYB_WACR</td>\n",
       "      <td>utter_greet_name_dpd_1_3_UMYB_WACR_F</td>\n",
       "      <td>Polite</td>\n",
       "      <td>Female</td>\n",
       "      <td>NaN</td>\n",
       "      <td>GEF1</td>\n",
       "      <td>Hello, am I speaking to {customer_name} sir?</td>\n",
       "      <td>New</td>\n",
       "    </tr>\n",
       "    <tr>\n",
       "      <th>2</th>\n",
       "      <td>DPD(1-3)</td>\n",
       "      <td>Slots</td>\n",
       "      <td>UMYB_WIOR</td>\n",
       "      <td>utter_greet_name_dpd_1_3_UMYB_WIOR_F</td>\n",
       "      <td>Polite</td>\n",
       "      <td>Female</td>\n",
       "      <td>NaN</td>\n",
       "      <td>GEF1</td>\n",
       "      <td>Hello, am I speaking to {customer_name} sir?</td>\n",
       "      <td>New</td>\n",
       "    </tr>\n",
       "    <tr>\n",
       "      <th>3</th>\n",
       "      <td>DPD(1-3)</td>\n",
       "      <td>Slots</td>\n",
       "      <td>UMYB_WAOE</td>\n",
       "      <td>utter_greet_name_dpd_1_3_UMYB_WAOE_F</td>\n",
       "      <td>Polite</td>\n",
       "      <td>Female</td>\n",
       "      <td>NaN</td>\n",
       "      <td>GEF1</td>\n",
       "      <td>Hello, am I speaking to {customer_name} sir?</td>\n",
       "      <td>New</td>\n",
       "    </tr>\n",
       "    <tr>\n",
       "      <th>4</th>\n",
       "      <td>DPD(1-3)</td>\n",
       "      <td>Slots</td>\n",
       "      <td>UMYB_WIOE</td>\n",
       "      <td>utter_greet_name_dpd_1_3_UMYB_WIOE_F</td>\n",
       "      <td>Polite</td>\n",
       "      <td>Female</td>\n",
       "      <td>NaN</td>\n",
       "      <td>GEF1</td>\n",
       "      <td>Hello, am I speaking to {customer_name} sir?</td>\n",
       "      <td>New</td>\n",
       "    </tr>\n",
       "  </tbody>\n",
       "</table>\n",
       "</div>"
      ],
      "text/plain": [
       "       Flow Sub-Flow    Persona                           Response_ID    Tone  \\\n",
       "0  DPD(1-3)    Slots  UMYB_WAOR  utter_greet_name_dpd_1_3_UMYB_WAOR_F  Polite   \n",
       "1  DPD(1-3)    Slots  UMYB_WACR  utter_greet_name_dpd_1_3_UMYB_WACR_F  Polite   \n",
       "2  DPD(1-3)    Slots  UMYB_WIOR  utter_greet_name_dpd_1_3_UMYB_WIOR_F  Polite   \n",
       "3  DPD(1-3)    Slots  UMYB_WAOE  utter_greet_name_dpd_1_3_UMYB_WAOE_F  Polite   \n",
       "4  DPD(1-3)    Slots  UMYB_WIOE  utter_greet_name_dpd_1_3_UMYB_WIOE_F  Polite   \n",
       "\n",
       "  Agent_Gender  Comments E_Audio_ID  \\\n",
       "0       Female       NaN       GEF1   \n",
       "1       Female       NaN       GEF1   \n",
       "2       Female       NaN       GEF1   \n",
       "3       Female       NaN       GEF1   \n",
       "4       Female       NaN       GEF1   \n",
       "\n",
       "                                        English Status  \n",
       "0  Hello, am I speaking to {customer_name} sir?    New  \n",
       "1  Hello, am I speaking to {customer_name} sir?    New  \n",
       "2  Hello, am I speaking to {customer_name} sir?    New  \n",
       "3  Hello, am I speaking to {customer_name} sir?    New  \n",
       "4  Hello, am I speaking to {customer_name} sir?    New  "
      ]
     },
     "execution_count": 3,
     "metadata": {},
     "output_type": "execute_result"
    }
   ],
   "source": [
    "df.head()"
   ]
  },
  {
   "cell_type": "code",
   "execution_count": 16,
   "id": "f5c3eec6",
   "metadata": {
    "scrolled": false
   },
   "outputs": [
    {
     "ename": "AttributeError",
     "evalue": "'Series' object has no attribute 'length'",
     "output_type": "error",
     "traceback": [
      "\u001b[0;31m---------------------------------------------------------------------------\u001b[0m",
      "\u001b[0;31mAttributeError\u001b[0m                            Traceback (most recent call last)",
      "Input \u001b[0;32mIn [16]\u001b[0m, in \u001b[0;36m<cell line: 1>\u001b[0;34m()\u001b[0m\n\u001b[1;32m      1\u001b[0m \u001b[38;5;28;01mfor\u001b[39;00m persona \u001b[38;5;129;01min\u001b[39;00m df[\u001b[38;5;124m'\u001b[39m\u001b[38;5;124mPersona\u001b[39m\u001b[38;5;124m'\u001b[39m]\u001b[38;5;241m.\u001b[39munique():\n\u001b[1;32m      2\u001b[0m     \u001b[38;5;66;03m#print(persona)\u001b[39;00m\n\u001b[0;32m----> 3\u001b[0m     \u001b[43mdf\u001b[49m\u001b[43m[\u001b[49m\u001b[38;5;124;43m'\u001b[39;49m\u001b[38;5;124;43mPersona\u001b[39;49m\u001b[38;5;124;43m'\u001b[39;49m\u001b[43m]\u001b[49m\u001b[38;5;241;43m.\u001b[39;49m\u001b[43mlength\u001b[49m()\n",
      "File \u001b[0;32m~/opt/anaconda3/lib/python3.9/site-packages/pandas/core/generic.py:5575\u001b[0m, in \u001b[0;36mNDFrame.__getattr__\u001b[0;34m(self, name)\u001b[0m\n\u001b[1;32m   5568\u001b[0m \u001b[38;5;28;01mif\u001b[39;00m (\n\u001b[1;32m   5569\u001b[0m     name \u001b[38;5;129;01mnot\u001b[39;00m \u001b[38;5;129;01min\u001b[39;00m \u001b[38;5;28mself\u001b[39m\u001b[38;5;241m.\u001b[39m_internal_names_set\n\u001b[1;32m   5570\u001b[0m     \u001b[38;5;129;01mand\u001b[39;00m name \u001b[38;5;129;01mnot\u001b[39;00m \u001b[38;5;129;01min\u001b[39;00m \u001b[38;5;28mself\u001b[39m\u001b[38;5;241m.\u001b[39m_metadata\n\u001b[1;32m   5571\u001b[0m     \u001b[38;5;129;01mand\u001b[39;00m name \u001b[38;5;129;01mnot\u001b[39;00m \u001b[38;5;129;01min\u001b[39;00m \u001b[38;5;28mself\u001b[39m\u001b[38;5;241m.\u001b[39m_accessors\n\u001b[1;32m   5572\u001b[0m     \u001b[38;5;129;01mand\u001b[39;00m \u001b[38;5;28mself\u001b[39m\u001b[38;5;241m.\u001b[39m_info_axis\u001b[38;5;241m.\u001b[39m_can_hold_identifiers_and_holds_name(name)\n\u001b[1;32m   5573\u001b[0m ):\n\u001b[1;32m   5574\u001b[0m     \u001b[38;5;28;01mreturn\u001b[39;00m \u001b[38;5;28mself\u001b[39m[name]\n\u001b[0;32m-> 5575\u001b[0m \u001b[38;5;28;01mreturn\u001b[39;00m \u001b[38;5;28;43mobject\u001b[39;49m\u001b[38;5;241;43m.\u001b[39;49m\u001b[38;5;21;43m__getattribute__\u001b[39;49m\u001b[43m(\u001b[49m\u001b[38;5;28;43mself\u001b[39;49m\u001b[43m,\u001b[49m\u001b[43m \u001b[49m\u001b[43mname\u001b[49m\u001b[43m)\u001b[49m\n",
      "\u001b[0;31mAttributeError\u001b[0m: 'Series' object has no attribute 'length'"
     ]
    }
   ],
   "source": [
    "for persona in df['Persona'].unique():\n",
    "    print(persona)"
   ]
  },
  {
   "cell_type": "code",
   "execution_count": 19,
   "id": "ff3d8013",
   "metadata": {},
   "outputs": [
    {
     "data": {
      "text/plain": [
       "6528"
      ]
     },
     "execution_count": 19,
     "metadata": {},
     "output_type": "execute_result"
    }
   ],
   "source": [
    "df['Persona'].count()"
   ]
  },
  {
   "cell_type": "code",
   "execution_count": 14,
   "id": "30ea6637",
   "metadata": {},
   "outputs": [],
   "source": [
    "writer = pd.ExcelWriter(\"/Users/vinay_kl/Downloads/DPD(1-3)_English_Unique_Personas.xlsx\", engine = 'xlsxwriter')\n",
    "\n",
    "for persona in df['Persona'].unique():\n",
    "    newDf = df[df['Persona'] == persona]\n",
    "    newDf.to_excel(writer, sheet_name = persona, index = False)\n",
    "writer.save()"
   ]
  },
  {
   "cell_type": "code",
   "execution_count": 1,
   "id": "9013b259",
   "metadata": {},
   "outputs": [],
   "source": [
    "import pandas as pd"
   ]
  },
  {
   "cell_type": "code",
   "execution_count": 1,
   "id": "3c7990e9",
   "metadata": {},
   "outputs": [],
   "source": [
    "Hindi = ['UMYB_DICE', 'UMYB_WICE', 'UMYB_WAOR', 'UFYB_DICE', 'UFYB_WICE', 'UFYB_WAOR', 'RMYB_DICE', 'RMYB_WICE', 'RMYB_WAOR', 'RFYB_DICE', 'RFYB_WICE', 'RFYB_WAOR', 'UMMB_DICE', 'UMMB_WICE', 'UMMB_WAOR', 'UFMB_DICE', 'UFMB_WICE', 'UFMB_WAOR', 'RMMB_DICE', 'RMMB_WICE', 'RMMB_WAOR', 'RFMB_DICE', 'RFMB_WICE', 'RFMB_WAOR', 'UMOB_DICE', 'UMOB_WICE', 'UMOB_WAOR', 'UFOB_DICE', 'UFOB_WICE', 'UFOB_WAOR', 'RMOB_DICE', 'RMOB_WICE', 'RMOB_WAOR', 'RFOB_DICE', 'RFOB_WICE', 'RFOB_WAOR']"
   ]
  },
  {
   "cell_type": "code",
   "execution_count": 2,
   "id": "e027a1c1",
   "metadata": {},
   "outputs": [],
   "source": [
    "English = ['UMYB_DICE', 'UMYB_WICE', 'UMYB_WAOR', 'UMMB_DICE', 'UMMB_WICE', 'UMMB_WAOR', 'UMOB_DICE', 'UMOB_WAOR', 'UMOB_WICE', 'UFYB_WAOR', 'UFYB_WICE', 'UFYB_DICE']"
   ]
  },
  {
   "cell_type": "code",
   "execution_count": 3,
   "id": "41aba256",
   "metadata": {},
   "outputs": [],
   "source": [
    "df = pd.read_excel(\"/Users/vinay_kl/Downloads/English AUDI = Maia_DPD(4-7)_without_enhancement.xlsx\")"
   ]
  },
  {
   "cell_type": "code",
   "execution_count": 14,
   "id": "b07643af",
   "metadata": {},
   "outputs": [
    {
     "data": {
      "text/html": [
       "<div>\n",
       "<style scoped>\n",
       "    .dataframe tbody tr th:only-of-type {\n",
       "        vertical-align: middle;\n",
       "    }\n",
       "\n",
       "    .dataframe tbody tr th {\n",
       "        vertical-align: top;\n",
       "    }\n",
       "\n",
       "    .dataframe thead th {\n",
       "        text-align: right;\n",
       "    }\n",
       "</style>\n",
       "<table border=\"1\" class=\"dataframe\">\n",
       "  <thead>\n",
       "    <tr style=\"text-align: right;\">\n",
       "      <th></th>\n",
       "      <th>Flow</th>\n",
       "      <th>Sub-Flow</th>\n",
       "      <th>Persona</th>\n",
       "      <th>Response_ID</th>\n",
       "      <th>Tone</th>\n",
       "      <th>Agent_Gender</th>\n",
       "      <th>Comments</th>\n",
       "      <th>E_Audio_ID</th>\n",
       "      <th>English</th>\n",
       "      <th>Status</th>\n",
       "    </tr>\n",
       "  </thead>\n",
       "  <tbody>\n",
       "    <tr>\n",
       "      <th>7520</th>\n",
       "      <td>DPD(4-7)</td>\n",
       "      <td>Slots</td>\n",
       "      <td>RFMB_WAOR</td>\n",
       "      <td>utter_greet_name_dpd_4_7_trim_RFMB_WAOR_M</td>\n",
       "      <td>Polite</td>\n",
       "      <td>Male</td>\n",
       "      <td>NaN</td>\n",
       "      <td>GTEM1</td>\n",
       "      <td>Am I speaking to {customer_name} ma'am?</td>\n",
       "      <td>New</td>\n",
       "    </tr>\n",
       "    <tr>\n",
       "      <th>7521</th>\n",
       "      <td>DPD(4-7)</td>\n",
       "      <td>Slots</td>\n",
       "      <td>RFMB_WACR</td>\n",
       "      <td>utter_greet_name_dpd_4_7_trim_RFMB_WACR_M</td>\n",
       "      <td>Polite</td>\n",
       "      <td>Male</td>\n",
       "      <td>NaN</td>\n",
       "      <td>GTEM1</td>\n",
       "      <td>Am I speaking to {customer_name} ma'am?</td>\n",
       "      <td>New</td>\n",
       "    </tr>\n",
       "    <tr>\n",
       "      <th>7522</th>\n",
       "      <td>DPD(4-7)</td>\n",
       "      <td>Slots</td>\n",
       "      <td>RFMB_WIOR</td>\n",
       "      <td>utter_greet_name_dpd_4_7_trim_RFMB_WIOR_M</td>\n",
       "      <td>Polite</td>\n",
       "      <td>Male</td>\n",
       "      <td>NaN</td>\n",
       "      <td>GTEM1</td>\n",
       "      <td>Am I speaking to {customer_name} ma'am?</td>\n",
       "      <td>New</td>\n",
       "    </tr>\n",
       "    <tr>\n",
       "      <th>7523</th>\n",
       "      <td>DPD(4-7)</td>\n",
       "      <td>Slots</td>\n",
       "      <td>RFMB_WAOE</td>\n",
       "      <td>utter_greet_name_dpd_4_7_trim_RFMB_WAOE_M</td>\n",
       "      <td>Polite</td>\n",
       "      <td>Male</td>\n",
       "      <td>NaN</td>\n",
       "      <td>GTEM1</td>\n",
       "      <td>Am I speaking to {customer_name} ma'am?</td>\n",
       "      <td>New</td>\n",
       "    </tr>\n",
       "    <tr>\n",
       "      <th>7524</th>\n",
       "      <td>DPD(4-7)</td>\n",
       "      <td>Slots</td>\n",
       "      <td>RFMB_WIOE</td>\n",
       "      <td>utter_greet_name_dpd_4_7_trim_RFMB_WIOE_M</td>\n",
       "      <td>Polite</td>\n",
       "      <td>Male</td>\n",
       "      <td>NaN</td>\n",
       "      <td>GTEM1</td>\n",
       "      <td>Am I speaking to {customer_name} ma'am?</td>\n",
       "      <td>New</td>\n",
       "    </tr>\n",
       "    <tr>\n",
       "      <th>...</th>\n",
       "      <td>...</td>\n",
       "      <td>...</td>\n",
       "      <td>...</td>\n",
       "      <td>...</td>\n",
       "      <td>...</td>\n",
       "      <td>...</td>\n",
       "      <td>...</td>\n",
       "      <td>...</td>\n",
       "      <td>...</td>\n",
       "      <td>...</td>\n",
       "    </tr>\n",
       "    <tr>\n",
       "      <th>7615</th>\n",
       "      <td>DPD(4-7)</td>\n",
       "      <td>Stationary</td>\n",
       "      <td>General</td>\n",
       "      <td>utter_payment_later_not_now_AccPTP_positive_NA...</td>\n",
       "      <td>Polite</td>\n",
       "      <td>Female</td>\n",
       "      <td>NaN</td>\n",
       "      <td>NaN</td>\n",
       "      <td>NaN</td>\n",
       "      <td>NaN</td>\n",
       "    </tr>\n",
       "    <tr>\n",
       "      <th>7616</th>\n",
       "      <td>DPD(4-7)</td>\n",
       "      <td>Stationary</td>\n",
       "      <td>General</td>\n",
       "      <td>utter_payment_later_not_now_AccPTP_negative_NA...</td>\n",
       "      <td>Polite</td>\n",
       "      <td>Female</td>\n",
       "      <td>NaN</td>\n",
       "      <td>NaN</td>\n",
       "      <td>NaN</td>\n",
       "      <td>NaN</td>\n",
       "    </tr>\n",
       "    <tr>\n",
       "      <th>7617</th>\n",
       "      <td>DPD(4-7)</td>\n",
       "      <td>Stationary</td>\n",
       "      <td>General</td>\n",
       "      <td>utter_APTP_NACH_dpd_4_7_static_R_F</td>\n",
       "      <td>Polite</td>\n",
       "      <td>Female</td>\n",
       "      <td>NaN</td>\n",
       "      <td>NaN</td>\n",
       "      <td>NaN</td>\n",
       "      <td>NaN</td>\n",
       "    </tr>\n",
       "    <tr>\n",
       "      <th>7618</th>\n",
       "      <td>DPD(4-7)</td>\n",
       "      <td>Stationary</td>\n",
       "      <td>General</td>\n",
       "      <td>utter_process_payment_method_noPTPdate_NACH_dp...</td>\n",
       "      <td>Polite</td>\n",
       "      <td>Female</td>\n",
       "      <td>NaN</td>\n",
       "      <td>NaN</td>\n",
       "      <td>NaN</td>\n",
       "      <td>NaN</td>\n",
       "    </tr>\n",
       "    <tr>\n",
       "      <th>7619</th>\n",
       "      <td>DPD(4-7)</td>\n",
       "      <td>Stationary</td>\n",
       "      <td>General</td>\n",
       "      <td>utter_process_payment_method_PTPdate_NACH_dpd_...</td>\n",
       "      <td>Polite</td>\n",
       "      <td>Female</td>\n",
       "      <td>NaN</td>\n",
       "      <td>NaN</td>\n",
       "      <td>NaN</td>\n",
       "      <td>NaN</td>\n",
       "    </tr>\n",
       "  </tbody>\n",
       "</table>\n",
       "<p>100 rows × 10 columns</p>\n",
       "</div>"
      ],
      "text/plain": [
       "          Flow    Sub-Flow    Persona  \\\n",
       "7520  DPD(4-7)       Slots  RFMB_WAOR   \n",
       "7521  DPD(4-7)       Slots  RFMB_WACR   \n",
       "7522  DPD(4-7)       Slots  RFMB_WIOR   \n",
       "7523  DPD(4-7)       Slots  RFMB_WAOE   \n",
       "7524  DPD(4-7)       Slots  RFMB_WIOE   \n",
       "...        ...         ...        ...   \n",
       "7615  DPD(4-7)  Stationary    General   \n",
       "7616  DPD(4-7)  Stationary    General   \n",
       "7617  DPD(4-7)  Stationary    General   \n",
       "7618  DPD(4-7)  Stationary    General   \n",
       "7619  DPD(4-7)  Stationary    General   \n",
       "\n",
       "                                            Response_ID    Tone Agent_Gender  \\\n",
       "7520          utter_greet_name_dpd_4_7_trim_RFMB_WAOR_M  Polite         Male   \n",
       "7521          utter_greet_name_dpd_4_7_trim_RFMB_WACR_M  Polite         Male   \n",
       "7522          utter_greet_name_dpd_4_7_trim_RFMB_WIOR_M  Polite         Male   \n",
       "7523          utter_greet_name_dpd_4_7_trim_RFMB_WAOE_M  Polite         Male   \n",
       "7524          utter_greet_name_dpd_4_7_trim_RFMB_WIOE_M  Polite         Male   \n",
       "...                                                 ...     ...          ...   \n",
       "7615  utter_payment_later_not_now_AccPTP_positive_NA...  Polite       Female   \n",
       "7616  utter_payment_later_not_now_AccPTP_negative_NA...  Polite       Female   \n",
       "7617                 utter_APTP_NACH_dpd_4_7_static_R_F  Polite       Female   \n",
       "7618  utter_process_payment_method_noPTPdate_NACH_dp...  Polite       Female   \n",
       "7619  utter_process_payment_method_PTPdate_NACH_dpd_...  Polite       Female   \n",
       "\n",
       "     Comments E_Audio_ID                                  English Status  \n",
       "7520      NaN      GTEM1  Am I speaking to {customer_name} ma'am?    New  \n",
       "7521      NaN      GTEM1  Am I speaking to {customer_name} ma'am?    New  \n",
       "7522      NaN      GTEM1  Am I speaking to {customer_name} ma'am?    New  \n",
       "7523      NaN      GTEM1  Am I speaking to {customer_name} ma'am?    New  \n",
       "7524      NaN      GTEM1  Am I speaking to {customer_name} ma'am?    New  \n",
       "...       ...        ...                                      ...    ...  \n",
       "7615      NaN        NaN                                      NaN    NaN  \n",
       "7616      NaN        NaN                                      NaN    NaN  \n",
       "7617      NaN        NaN                                      NaN    NaN  \n",
       "7618      NaN        NaN                                      NaN    NaN  \n",
       "7619      NaN        NaN                                      NaN    NaN  \n",
       "\n",
       "[100 rows x 10 columns]"
      ]
     },
     "execution_count": 14,
     "metadata": {},
     "output_type": "execute_result"
    }
   ],
   "source": [
    "df.tail(100)"
   ]
  },
  {
   "cell_type": "code",
   "execution_count": 6,
   "id": "ae293b59",
   "metadata": {},
   "outputs": [
    {
     "name": "stdout",
     "output_type": "stream",
     "text": [
      "9\n",
      "9\n",
      "9\n",
      "9\n",
      "9\n",
      "9\n",
      "9\n",
      "9\n",
      "9\n",
      "9\n",
      "9\n",
      "9\n",
      "9\n",
      "9\n",
      "9\n",
      "9\n",
      "9\n",
      "9\n",
      "9\n",
      "9\n",
      "9\n",
      "9\n",
      "9\n",
      "9\n",
      "9\n",
      "9\n",
      "9\n",
      "9\n",
      "9\n",
      "9\n",
      "9\n",
      "9\n",
      "9\n",
      "9\n",
      "9\n",
      "9\n"
     ]
    }
   ],
   "source": [
    "#English_List = pd.DataFrame(English)\n",
    "length = len(Hindi)\n",
    "\n",
    "#     for i in range(length):\n",
    "#         print(English[i])\n",
    "\n",
    "# for i in Hindi:\n",
    "#     print(i)\n",
    "    \n",
    "for i in Hindi:\n",
    "    print(len(UMYB_WICE))    "
   ]
  },
  {
   "cell_type": "code",
   "execution_count": 7,
   "id": "2ade040d",
   "metadata": {},
   "outputs": [
    {
     "ename": "NameError",
     "evalue": "name 'English_List' is not defined",
     "output_type": "error",
     "traceback": [
      "\u001b[0;31m---------------------------------------------------------------------------\u001b[0m",
      "\u001b[0;31mNameError\u001b[0m                                 Traceback (most recent call last)",
      "Input \u001b[0;32mIn [7]\u001b[0m, in \u001b[0;36m<cell line: 1>\u001b[0;34m()\u001b[0m\n\u001b[0;32m----> 1\u001b[0m \u001b[43mEnglish_List\u001b[49m\u001b[38;5;241m.\u001b[39mhead(\u001b[38;5;241m15\u001b[39m)\n",
      "\u001b[0;31mNameError\u001b[0m: name 'English_List' is not defined"
     ]
    }
   ],
   "source": [
    "English_List.head(15)"
   ]
  },
  {
   "cell_type": "code",
   "execution_count": 20,
   "id": "2dee67f3",
   "metadata": {},
   "outputs": [
    {
     "ename": "KeyError",
     "evalue": "'0'",
     "output_type": "error",
     "traceback": [
      "\u001b[0;31m---------------------------------------------------------------------------\u001b[0m",
      "\u001b[0;31mKeyError\u001b[0m                                  Traceback (most recent call last)",
      "Input \u001b[0;32mIn [20]\u001b[0m, in \u001b[0;36m<cell line: 1>\u001b[0;34m()\u001b[0m\n\u001b[0;32m----> 1\u001b[0m \u001b[38;5;28;01mfor\u001b[39;00m persona \u001b[38;5;129;01min\u001b[39;00m \u001b[43mEnglish_List\u001b[49m\u001b[43m[\u001b[49m\u001b[38;5;124;43m'\u001b[39;49m\u001b[38;5;124;43m0\u001b[39;49m\u001b[38;5;124;43m'\u001b[39;49m\u001b[43m]\u001b[49m:\n\u001b[1;32m      2\u001b[0m     \u001b[38;5;28mprint\u001b[39m(persona)\n",
      "File \u001b[0;32m~/opt/anaconda3/lib/python3.9/site-packages/pandas/core/frame.py:3505\u001b[0m, in \u001b[0;36mDataFrame.__getitem__\u001b[0;34m(self, key)\u001b[0m\n\u001b[1;32m   3503\u001b[0m \u001b[38;5;28;01mif\u001b[39;00m \u001b[38;5;28mself\u001b[39m\u001b[38;5;241m.\u001b[39mcolumns\u001b[38;5;241m.\u001b[39mnlevels \u001b[38;5;241m>\u001b[39m \u001b[38;5;241m1\u001b[39m:\n\u001b[1;32m   3504\u001b[0m     \u001b[38;5;28;01mreturn\u001b[39;00m \u001b[38;5;28mself\u001b[39m\u001b[38;5;241m.\u001b[39m_getitem_multilevel(key)\n\u001b[0;32m-> 3505\u001b[0m indexer \u001b[38;5;241m=\u001b[39m \u001b[38;5;28;43mself\u001b[39;49m\u001b[38;5;241;43m.\u001b[39;49m\u001b[43mcolumns\u001b[49m\u001b[38;5;241;43m.\u001b[39;49m\u001b[43mget_loc\u001b[49m\u001b[43m(\u001b[49m\u001b[43mkey\u001b[49m\u001b[43m)\u001b[49m\n\u001b[1;32m   3506\u001b[0m \u001b[38;5;28;01mif\u001b[39;00m is_integer(indexer):\n\u001b[1;32m   3507\u001b[0m     indexer \u001b[38;5;241m=\u001b[39m [indexer]\n",
      "File \u001b[0;32m~/opt/anaconda3/lib/python3.9/site-packages/pandas/core/indexes/range.py:389\u001b[0m, in \u001b[0;36mRangeIndex.get_loc\u001b[0;34m(self, key, method, tolerance)\u001b[0m\n\u001b[1;32m    387\u001b[0m             \u001b[38;5;28;01mraise\u001b[39;00m \u001b[38;5;167;01mKeyError\u001b[39;00m(key) \u001b[38;5;28;01mfrom\u001b[39;00m \u001b[38;5;21;01merr\u001b[39;00m\n\u001b[1;32m    388\u001b[0m     \u001b[38;5;28mself\u001b[39m\u001b[38;5;241m.\u001b[39m_check_indexing_error(key)\n\u001b[0;32m--> 389\u001b[0m     \u001b[38;5;28;01mraise\u001b[39;00m \u001b[38;5;167;01mKeyError\u001b[39;00m(key)\n\u001b[1;32m    390\u001b[0m \u001b[38;5;28;01mreturn\u001b[39;00m \u001b[38;5;28msuper\u001b[39m()\u001b[38;5;241m.\u001b[39mget_loc(key, method\u001b[38;5;241m=\u001b[39mmethod, tolerance\u001b[38;5;241m=\u001b[39mtolerance)\n",
      "\u001b[0;31mKeyError\u001b[0m: '0'"
     ]
    }
   ],
   "source": [
    "for persona in English_List['0']:\n",
    "    print(persona)"
   ]
  },
  {
   "cell_type": "code",
   "execution_count": 4,
   "id": "ab928ff9",
   "metadata": {
    "scrolled": false
   },
   "outputs": [],
   "source": [
    "writer = pd.ExcelWriter(\"/Users/vinay_kl/English AUDI = Maia_DPD(4-7)_without_enhancement.xlsx\", engine = 'xlsxwriter')\n",
    "\n",
    "for i in English:\n",
    "    newDf = df[df['Persona'] == i]\n",
    "    newDf.to_excel(writer, sheet_name = i, index = False)\n",
    "writer.save()"
   ]
  },
  {
   "cell_type": "code",
   "execution_count": 17,
   "id": "9e1178e1",
   "metadata": {},
   "outputs": [
    {
     "name": "stderr",
     "output_type": "stream",
     "text": [
      "/Users/vinay_kl/opt/anaconda3/lib/python3.9/site-packages/openpyxl/worksheet/_reader.py:312: UserWarning: Unknown extension is not supported and will be removed\n",
      "  warn(msg)\n"
     ]
    }
   ],
   "source": [
    "import pandas as pd\n",
    "import os\n",
    "\n",
    "INPATH = \"/Users/vinay_kl/Downloads/sheet_split/in/Axio 8-17 - English.xlsx\"\n",
    "OUTPATH = \"/Users/vinay_kl/Downloads/sheet_split/out/Axio 8-17 - English.xlsx\"\n",
    "\n",
    "\n",
    "Hindi = ['UMYB_DICE', 'UMYB_WICE', 'UMYB_WAOR', 'UFYB_DICE', 'UFYB_WICE', 'UFYB_WAOR', 'RMYB_DICE', 'RMYB_WICE', 'RMYB_WAOR', 'RFYB_DICE', 'RFYB_WICE', 'RFYB_WAOR', 'UMMB_DICE', 'UMMB_WICE', 'UMMB_WAOR', 'UFMB_DICE', 'UFMB_WICE', 'UFMB_WAOR', 'RMMB_DICE', 'RMMB_WICE', 'RMMB_WAOR', 'RFMB_DICE', 'RFMB_WICE', 'RFMB_WAOR', 'UMOB_DICE', 'UMOB_WICE', 'UMOB_WAOR', 'UFOB_DICE', 'UFOB_WICE', 'UFOB_WAOR', 'RMOB_DICE', 'RMOB_WICE', 'RMOB_WAOR', 'RFOB_DICE', 'RFOB_WICE', 'RFOB_WAOR']\n",
    "English = ['UMYW_DICE', 'UMMW_DICE', 'UMOW_DICE', 'UFYW_DICE', 'UFMW_DICE', 'UFOW_DICE']\n",
    "\n",
    "df = pd.read_excel(INPATH)\n",
    "\n",
    "writer = pd.ExcelWriter(OUTPATH, engine = 'xlsxwriter')\n",
    "\n",
    "for i in English:\n",
    "    newDf = df[df['Persona'] == i]\n",
    "    newDf.to_excel(writer, sheet_name = i, index = False)\n",
    "writer.save()\n",
    "\n",
    "# newDf.head(5)\n",
    "\n",
    "# df.head(5)"
   ]
  },
  {
   "cell_type": "code",
   "execution_count": 5,
   "id": "d6097736",
   "metadata": {},
   "outputs": [
    {
     "name": "stdout",
     "output_type": "stream",
     "text": [
      "final inpath is =/Users/vinay_kl/Downloads/sheet_split/eng_in/.DS_Store\n",
      "final outpath is =/Users/vinay_kl/Downloads/sheet_split/eng_out/.DS_Store\n",
      "Excel file format cannot be determined, you must specify an engine manually.\n",
      "final inpath is =/Users/vinay_kl/Downloads/sheet_split/eng_in/Axio 8-17 - English.xlsx\n",
      "final outpath is =/Users/vinay_kl/Downloads/sheet_split/eng_out/Axio 8-17 - English.xlsx\n"
     ]
    },
    {
     "name": "stderr",
     "output_type": "stream",
     "text": [
      "/Users/vinay_kl/opt/anaconda3/lib/python3.9/site-packages/openpyxl/worksheet/_reader.py:312: UserWarning: Unknown extension is not supported and will be removed\n",
      "  warn(msg)\n"
     ]
    },
    {
     "name": "stdout",
     "output_type": "stream",
     "text": [
      "final inpath is =/Users/vinay_kl/Downloads/sheet_split/eng_in/Axio 8-17 - Telugu.xlsx\n",
      "final outpath is =/Users/vinay_kl/Downloads/sheet_split/eng_out/Axio 8-17 - Telugu.xlsx\n",
      "final inpath is =/Users/vinay_kl/Downloads/sheet_split/eng_in/Axio 8-17 - HINDI.xlsx\n",
      "final outpath is =/Users/vinay_kl/Downloads/sheet_split/eng_out/Axio 8-17 - HINDI.xlsx\n",
      "final inpath is =/Users/vinay_kl/Downloads/sheet_split/eng_in/Axio 8-17 - Tamil.xlsx\n",
      "final outpath is =/Users/vinay_kl/Downloads/sheet_split/eng_out/Axio 8-17 - Tamil.xlsx\n"
     ]
    }
   ],
   "source": [
    "import pandas as pd\n",
    "import os\n",
    "\n",
    "\n",
    "PAT = \"/Users/vinay_kl/Downloads/sheet_split/eng_in/\"\n",
    "PATH = \"/Users/vinay_kl/Downloads/sheet_split/\"\n",
    "\n",
    "\n",
    "ReqPersonas = ['UMYW_DICE', 'UMMW_DICE', 'UMOW_DICE', 'UFYW_DICE', 'UFMW_DICE', 'UFOW_DICE']\n",
    "\n",
    "\n",
    "files = os.listdir(PAT)\n",
    "for fi in files:\n",
    "    try:\n",
    "        \n",
    "        INPATH = PATH+\"eng_in/\"+fi\n",
    "        OUTPATH = PATH+\"eng_out/\"+fi\n",
    "        print(\"final inpath is =\"+INPATH)\n",
    "        print(\"final outpath is =\"+OUTPATH)\n",
    "        \n",
    "        df = pd.read_excel(INPATH)\n",
    "\n",
    "        writer = pd.ExcelWriter(OUTPATH, engine = 'xlsxwriter')\n",
    "\n",
    "        for i in ReqPersonas:\n",
    "            newDf = df[df['Persona'] == i]\n",
    "            newDf.to_excel(writer, sheet_name = i, index = False)\n",
    "        writer.save()\n",
    "\n",
    "        \n",
    "        \n",
    "    except Exception as e:\n",
    "        print(e)"
   ]
  },
  {
   "cell_type": "code",
   "execution_count": 4,
   "id": "0e7a3384",
   "metadata": {},
   "outputs": [
    {
     "ename": "ValueError",
     "evalue": "Excel file format cannot be determined, you must specify an engine manually.",
     "output_type": "error",
     "traceback": [
      "\u001b[0;31m---------------------------------------------------------------------------\u001b[0m",
      "\u001b[0;31mValueError\u001b[0m                                Traceback (most recent call last)",
      "Input \u001b[0;32mIn [4]\u001b[0m, in \u001b[0;36m<cell line: 21>\u001b[0;34m()\u001b[0m\n\u001b[1;32m      9\u001b[0m ReqPersonas \u001b[38;5;241m=\u001b[39m [\u001b[38;5;124m'\u001b[39m\u001b[38;5;124mUMYW_DICE\u001b[39m\u001b[38;5;124m'\u001b[39m, \u001b[38;5;124m'\u001b[39m\u001b[38;5;124mUMMW_DICE\u001b[39m\u001b[38;5;124m'\u001b[39m, \u001b[38;5;124m'\u001b[39m\u001b[38;5;124mUMOW_DICE\u001b[39m\u001b[38;5;124m'\u001b[39m, \u001b[38;5;124m'\u001b[39m\u001b[38;5;124mUFYW_DICE\u001b[39m\u001b[38;5;124m'\u001b[39m, \u001b[38;5;124m'\u001b[39m\u001b[38;5;124mUFMW_DICE\u001b[39m\u001b[38;5;124m'\u001b[39m, \u001b[38;5;124m'\u001b[39m\u001b[38;5;124mUFOW_DICE\u001b[39m\u001b[38;5;124m'\u001b[39m]\n\u001b[1;32m     12\u001b[0m \u001b[38;5;66;03m# files = os.listdir(PAT)\u001b[39;00m\n\u001b[1;32m     13\u001b[0m \u001b[38;5;66;03m# for fi in files:\u001b[39;00m\n\u001b[1;32m     14\u001b[0m \u001b[38;5;66;03m#     try:\u001b[39;00m\n\u001b[0;32m   (...)\u001b[0m\n\u001b[1;32m     18\u001b[0m \u001b[38;5;66;03m#         print(\"final inpath is =\"+INPATH)\u001b[39;00m\n\u001b[1;32m     19\u001b[0m \u001b[38;5;66;03m#         print(\"final outpath is =\"+OUTPATH)\u001b[39;00m\n\u001b[0;32m---> 21\u001b[0m df \u001b[38;5;241m=\u001b[39m \u001b[43mpd\u001b[49m\u001b[38;5;241;43m.\u001b[39;49m\u001b[43mread_excel\u001b[49m\u001b[43m(\u001b[49m\u001b[43mPATH\u001b[49m\u001b[43m)\u001b[49m\n\u001b[1;32m     23\u001b[0m \u001b[38;5;66;03m# writer = pd.ExcelWriter(OUTPATH, engine = 'xlsxwriter')\u001b[39;00m\n\u001b[1;32m     24\u001b[0m \n\u001b[1;32m     25\u001b[0m \u001b[38;5;66;03m# for i in ReqPersonas:\u001b[39;00m\n\u001b[1;32m     26\u001b[0m \u001b[38;5;66;03m#     newDf = df[df['Persona'] == i]\u001b[39;00m\n\u001b[1;32m     27\u001b[0m \u001b[38;5;66;03m#     newDf.to_excel(writer, sheet_name = i, index = False)\u001b[39;00m\n\u001b[1;32m     28\u001b[0m \u001b[38;5;66;03m# writer.save()\u001b[39;00m\n\u001b[1;32m     30\u001b[0m df\u001b[38;5;241m.\u001b[39mhead()\n",
      "File \u001b[0;32m~/opt/anaconda3/lib/python3.9/site-packages/pandas/util/_decorators.py:311\u001b[0m, in \u001b[0;36mdeprecate_nonkeyword_arguments.<locals>.decorate.<locals>.wrapper\u001b[0;34m(*args, **kwargs)\u001b[0m\n\u001b[1;32m    305\u001b[0m \u001b[38;5;28;01mif\u001b[39;00m \u001b[38;5;28mlen\u001b[39m(args) \u001b[38;5;241m>\u001b[39m num_allow_args:\n\u001b[1;32m    306\u001b[0m     warnings\u001b[38;5;241m.\u001b[39mwarn(\n\u001b[1;32m    307\u001b[0m         msg\u001b[38;5;241m.\u001b[39mformat(arguments\u001b[38;5;241m=\u001b[39marguments),\n\u001b[1;32m    308\u001b[0m         \u001b[38;5;167;01mFutureWarning\u001b[39;00m,\n\u001b[1;32m    309\u001b[0m         stacklevel\u001b[38;5;241m=\u001b[39mstacklevel,\n\u001b[1;32m    310\u001b[0m     )\n\u001b[0;32m--> 311\u001b[0m \u001b[38;5;28;01mreturn\u001b[39;00m \u001b[43mfunc\u001b[49m\u001b[43m(\u001b[49m\u001b[38;5;241;43m*\u001b[39;49m\u001b[43margs\u001b[49m\u001b[43m,\u001b[49m\u001b[43m \u001b[49m\u001b[38;5;241;43m*\u001b[39;49m\u001b[38;5;241;43m*\u001b[39;49m\u001b[43mkwargs\u001b[49m\u001b[43m)\u001b[49m\n",
      "File \u001b[0;32m~/opt/anaconda3/lib/python3.9/site-packages/pandas/io/excel/_base.py:457\u001b[0m, in \u001b[0;36mread_excel\u001b[0;34m(io, sheet_name, header, names, index_col, usecols, squeeze, dtype, engine, converters, true_values, false_values, skiprows, nrows, na_values, keep_default_na, na_filter, verbose, parse_dates, date_parser, thousands, decimal, comment, skipfooter, convert_float, mangle_dupe_cols, storage_options)\u001b[0m\n\u001b[1;32m    455\u001b[0m \u001b[38;5;28;01mif\u001b[39;00m \u001b[38;5;129;01mnot\u001b[39;00m \u001b[38;5;28misinstance\u001b[39m(io, ExcelFile):\n\u001b[1;32m    456\u001b[0m     should_close \u001b[38;5;241m=\u001b[39m \u001b[38;5;28;01mTrue\u001b[39;00m\n\u001b[0;32m--> 457\u001b[0m     io \u001b[38;5;241m=\u001b[39m \u001b[43mExcelFile\u001b[49m\u001b[43m(\u001b[49m\u001b[43mio\u001b[49m\u001b[43m,\u001b[49m\u001b[43m \u001b[49m\u001b[43mstorage_options\u001b[49m\u001b[38;5;241;43m=\u001b[39;49m\u001b[43mstorage_options\u001b[49m\u001b[43m,\u001b[49m\u001b[43m \u001b[49m\u001b[43mengine\u001b[49m\u001b[38;5;241;43m=\u001b[39;49m\u001b[43mengine\u001b[49m\u001b[43m)\u001b[49m\n\u001b[1;32m    458\u001b[0m \u001b[38;5;28;01melif\u001b[39;00m engine \u001b[38;5;129;01mand\u001b[39;00m engine \u001b[38;5;241m!=\u001b[39m io\u001b[38;5;241m.\u001b[39mengine:\n\u001b[1;32m    459\u001b[0m     \u001b[38;5;28;01mraise\u001b[39;00m \u001b[38;5;167;01mValueError\u001b[39;00m(\n\u001b[1;32m    460\u001b[0m         \u001b[38;5;124m\"\u001b[39m\u001b[38;5;124mEngine should not be specified when passing \u001b[39m\u001b[38;5;124m\"\u001b[39m\n\u001b[1;32m    461\u001b[0m         \u001b[38;5;124m\"\u001b[39m\u001b[38;5;124man ExcelFile - ExcelFile already has the engine set\u001b[39m\u001b[38;5;124m\"\u001b[39m\n\u001b[1;32m    462\u001b[0m     )\n",
      "File \u001b[0;32m~/opt/anaconda3/lib/python3.9/site-packages/pandas/io/excel/_base.py:1380\u001b[0m, in \u001b[0;36mExcelFile.__init__\u001b[0;34m(self, path_or_buffer, engine, storage_options)\u001b[0m\n\u001b[1;32m   1376\u001b[0m     ext \u001b[38;5;241m=\u001b[39m inspect_excel_format(\n\u001b[1;32m   1377\u001b[0m         content_or_path\u001b[38;5;241m=\u001b[39mpath_or_buffer, storage_options\u001b[38;5;241m=\u001b[39mstorage_options\n\u001b[1;32m   1378\u001b[0m     )\n\u001b[1;32m   1379\u001b[0m     \u001b[38;5;28;01mif\u001b[39;00m ext \u001b[38;5;129;01mis\u001b[39;00m \u001b[38;5;28;01mNone\u001b[39;00m:\n\u001b[0;32m-> 1380\u001b[0m         \u001b[38;5;28;01mraise\u001b[39;00m \u001b[38;5;167;01mValueError\u001b[39;00m(\n\u001b[1;32m   1381\u001b[0m             \u001b[38;5;124m\"\u001b[39m\u001b[38;5;124mExcel file format cannot be determined, you must specify \u001b[39m\u001b[38;5;124m\"\u001b[39m\n\u001b[1;32m   1382\u001b[0m             \u001b[38;5;124m\"\u001b[39m\u001b[38;5;124man engine manually.\u001b[39m\u001b[38;5;124m\"\u001b[39m\n\u001b[1;32m   1383\u001b[0m         )\n\u001b[1;32m   1385\u001b[0m engine \u001b[38;5;241m=\u001b[39m config\u001b[38;5;241m.\u001b[39mget_option(\u001b[38;5;124mf\u001b[39m\u001b[38;5;124m\"\u001b[39m\u001b[38;5;124mio.excel.\u001b[39m\u001b[38;5;132;01m{\u001b[39;00mext\u001b[38;5;132;01m}\u001b[39;00m\u001b[38;5;124m.reader\u001b[39m\u001b[38;5;124m\"\u001b[39m, silent\u001b[38;5;241m=\u001b[39m\u001b[38;5;28;01mTrue\u001b[39;00m)\n\u001b[1;32m   1386\u001b[0m \u001b[38;5;28;01mif\u001b[39;00m engine \u001b[38;5;241m==\u001b[39m \u001b[38;5;124m\"\u001b[39m\u001b[38;5;124mauto\u001b[39m\u001b[38;5;124m\"\u001b[39m:\n",
      "\u001b[0;31mValueError\u001b[0m: Excel file format cannot be determined, you must specify an engine manually."
     ]
    }
   ],
   "source": [
    "import pandas as pd\n",
    "import os\n",
    "\n",
    "\n",
    "# PAT = \"/Users/vinay_kl/Downloads/axio/\"\n",
    "PATH = \"/Users/vinay_kl/Downloads/axio/Axio 4-7 9th without Mandate_HINDI - Sheet1.csv\"\n",
    "OUTPATH = \"/Users/vinay_kl/Downloads/axio/Axio0 4-7 9th without Mandate_HINDI - Sheet1.csv\"\n",
    "\n",
    "ReqPersonas = ['UMYW_DICE', 'UMMW_DICE', 'UMOW_DICE', 'UFYW_DICE', 'UFMW_DICE', 'UFOW_DICE']\n",
    "\n",
    "\n",
    "# files = os.listdir(PAT)\n",
    "# for fi in files:\n",
    "#     try:\n",
    "        \n",
    "#         INPATH = PATH+\"eng_in/\"+fi\n",
    "#         OUTPATH = PATH+\"eng_out/\"+fi\n",
    "#         print(\"final inpath is =\"+INPATH)\n",
    "#         print(\"final outpath is =\"+OUTPATH)\n",
    "        \n",
    "df = pd.read_excel(PATH)\n",
    "\n",
    "# writer = pd.ExcelWriter(OUTPATH, engine = 'xlsxwriter')\n",
    "\n",
    "# for i in ReqPersonas:\n",
    "#     newDf = df[df['Persona'] == i]\n",
    "#     newDf.to_excel(writer, sheet_name = i, index = False)\n",
    "# writer.save()\n",
    "\n",
    "df.head()        \n",
    "        \n",
    "#     except Exception as e:\n",
    "#         print(e)"
   ]
  },
  {
   "cell_type": "code",
   "execution_count": null,
   "id": "08b44a75",
   "metadata": {},
   "outputs": [],
   "source": []
  }
 ],
 "metadata": {
  "kernelspec": {
   "display_name": "Python 3 (ipykernel)",
   "language": "python",
   "name": "python3"
  },
  "language_info": {
   "codemirror_mode": {
    "name": "ipython",
    "version": 3
   },
   "file_extension": ".py",
   "mimetype": "text/x-python",
   "name": "python",
   "nbconvert_exporter": "python",
   "pygments_lexer": "ipython3",
   "version": "3.9.12"
  }
 },
 "nbformat": 4,
 "nbformat_minor": 5
}
