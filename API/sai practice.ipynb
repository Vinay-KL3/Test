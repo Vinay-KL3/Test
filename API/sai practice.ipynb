{
 "cells": [
  {
   "cell_type": "markdown",
   "id": "eeb03039",
   "metadata": {},
   "source": [
    "# Sai Practice"
   ]
  },
  {
   "cell_type": "code",
   "execution_count": null,
   "id": "9add7b0d",
   "metadata": {},
   "outputs": [],
   "source": [
    "#overview\n",
    "#variables\n",
    "#data types\n",
    "#json\n",
    "#retrieving data from data types\n",
    "-------------------------------------------------\n",
    "# conditions\n",
    "# loops\n",
    "# operators\n",
    "--------------------------------------------------\n",
    "#functions\n",
    "--------------------------------------------------\n",
    "#diff modules & uses [list]\n",
    "#req modules to start\n",
    "-------------------------------------------------\n",
    "#project [can take help of Google]\n",
    "------------------------------------------------- \n",
    "#Oops concepts (need self learning) - optional for learners"
   ]
  },
  {
   "cell_type": "code",
   "execution_count": 70,
   "id": "e8c5b1f1",
   "metadata": {},
   "outputs": [
    {
     "name": "stdout",
     "output_type": "stream",
     "text": [
      "Requirement already satisfied: pandas in /Users/vinay_kl/opt/anaconda3/lib/python3.9/site-packages (1.4.2)\n",
      "\u001b[31mERROR: Could not find a version that satisfies the requirement as (from versions: none)\u001b[0m\n",
      "\u001b[31mERROR: No matching distribution found for as\u001b[0m\n"
     ]
    }
   ],
   "source": [
    "!pip install pandas as pd"
   ]
  },
  {
   "cell_type": "code",
   "execution_count": 71,
   "id": "fa061ed6",
   "metadata": {},
   "outputs": [],
   "source": [
    "import pandas as pd"
   ]
  },
  {
   "cell_type": "code",
   "execution_count": null,
   "id": "a0f2e0b5",
   "metadata": {},
   "outputs": [],
   "source": [
    "pd."
   ]
  },
  {
   "cell_type": "code",
   "execution_count": null,
   "id": "2daa112d",
   "metadata": {},
   "outputs": [],
   "source": []
  },
  {
   "cell_type": "code",
   "execution_count": null,
   "id": "9ada7704",
   "metadata": {},
   "outputs": [],
   "source": []
  },
  {
   "cell_type": "code",
   "execution_count": null,
   "id": "94409237",
   "metadata": {},
   "outputs": [],
   "source": []
  },
  {
   "cell_type": "code",
   "execution_count": null,
   "id": "c3cb9da9",
   "metadata": {},
   "outputs": [],
   "source": []
  },
  {
   "cell_type": "code",
   "execution_count": 72,
   "id": "82770495",
   "metadata": {},
   "outputs": [],
   "source": [
    "from pprint import pprint"
   ]
  },
  {
   "cell_type": "code",
   "execution_count": 26,
   "id": "005233c5",
   "metadata": {},
   "outputs": [],
   "source": [
    "name = \"sai\"   #string\n",
    "age = 29     #integer\n",
    "cls = 11      #integer\n",
    "height = 6.5 #float\n",
    "married = False  #boolean\n",
    "Aaddress = \"H:no -10/9, SCA Nagar, Delhi, 500004\" #string"
   ]
  },
  {
   "cell_type": "code",
   "execution_count": 34,
   "id": "257ab9e1",
   "metadata": {},
   "outputs": [
    {
     "name": "stdout",
     "output_type": "stream",
     "text": [
      "<class 'str'>\n"
     ]
    }
   ],
   "source": [
    "print(type(name))"
   ]
  },
  {
   "cell_type": "code",
   "execution_count": 8,
   "id": "f45818b3",
   "metadata": {
    "scrolled": true
   },
   "outputs": [
    {
     "name": "stdout",
     "output_type": "stream",
     "text": [
      "sai 29 11 6.5\n"
     ]
    }
   ],
   "source": [
    "print(name, age, cls, height)"
   ]
  },
  {
   "cell_type": "code",
   "execution_count": 73,
   "id": "d0650270",
   "metadata": {},
   "outputs": [],
   "source": [
    "Person1 = {\n",
    "    \"name\":\"sai\",\n",
    "    \"age\": \"29\",\n",
    "    \"height\" : \"6.5\",\n",
    "    \"leave_dates\" : [22,33,44,55],\n",
    "    \"marks\" : {\"eng\" : \"22\",\"maths\" : \"24\"}\n",
    "       }"
   ]
  },
  {
   "cell_type": "code",
   "execution_count": 76,
   "id": "a7f4bed2",
   "metadata": {
    "scrolled": true
   },
   "outputs": [
    {
     "name": "stdout",
     "output_type": "stream",
     "text": [
      "{'age': '29',\n",
      " 'height': '6.5',\n",
      " 'leave_dates': [22, 33, 44, 55],\n",
      " 'marks': {'eng': '22', 'maths': '24'},\n",
      " 'name': 'sai'}\n"
     ]
    }
   ],
   "source": [
    "pprint(Person1)"
   ]
  },
  {
   "cell_type": "code",
   "execution_count": 27,
   "id": "25d839df",
   "metadata": {},
   "outputs": [
    {
     "data": {
      "text/plain": [
       "False"
      ]
     },
     "execution_count": 27,
     "metadata": {},
     "output_type": "execute_result"
    }
   ],
   "source": [
    "2>3"
   ]
  },
  {
   "cell_type": "code",
   "execution_count": 35,
   "id": "410d3dd1",
   "metadata": {},
   "outputs": [],
   "source": [
    "LIST = [\"colgate paste\", \"santoor soap\", \"brush\"]\n",
    "#TUPLE =  (\"colgate paste\", \"santoor soap\", \"brush\")\n",
    "#SETS = {\"colgate paste\", \"santoor soap\", \"brush\"}\n",
    "DICTIONARY = {\"name\" : \"sai\", \"age\" : \"22\"}"
   ]
  },
  {
   "cell_type": "code",
   "execution_count": 40,
   "id": "d2bef5d3",
   "metadata": {},
   "outputs": [
    {
     "name": "stdout",
     "output_type": "stream",
     "text": [
      "sai\n"
     ]
    }
   ],
   "source": [
    "print(DICTIONARY[\"name\"])"
   ]
  },
  {
   "cell_type": "code",
   "execution_count": 68,
   "id": "7eda8aad",
   "metadata": {
    "slideshow": {
     "slide_type": "-"
    }
   },
   "outputs": [
    {
     "name": "stdout",
     "output_type": "stream",
     "text": [
      "please type the name of the voter whose age you want to know - Srilatha\n",
      "42 Thadicherla\n",
      "36 Begampeta\n"
     ]
    }
   ],
   "source": [
    "#1 - if a name is given - it has to give the street name & age\n",
    "\n",
    "\n",
    "choose = input(\"please type the name of the voter whose age you want to know - \")\n",
    "#print(choose)\n",
    "\n",
    "for i in range(0, len(voter_list[\"votersName\"])):\n",
    "    #print(voter_list[\"votersName\"][i])\n",
    "    if voter_list[\"votersName\"][i] == choose:\n",
    "        print(voter_list[\"age\"][i], voter_list[\"streetName\"][i])"
   ]
  },
  {
   "cell_type": "code",
   "execution_count": 53,
   "id": "143d5ee5",
   "metadata": {},
   "outputs": [],
   "source": [
    "from pprint import pprint"
   ]
  },
  {
   "cell_type": "code",
   "execution_count": 51,
   "id": "ec64374a",
   "metadata": {},
   "outputs": [],
   "source": [
    "voter_list = {\n",
    "    \"votersName\" : [\"Aga Rao\", \"Sarojana\", \"Narsinga Rao\", \"Srilatha\", \"Sridhar Rao\", \"Srimati\", \"Thirupathi Rao\", \"Srilatha\"],\n",
    "    \"age\" : [\"67\", \"62\", \"46\", \"42\", \"42\", \"38\", \"40\", \"36\"],\n",
    "    \"streetName\" : [\"Thadicherla\", \"Thadicherla\", \"Thadicherla\", \"Thadicherla\", \"Mutharam\", \"Mutharam\", \"Begampeta\", \"Begampeta\"]\n",
    "}"
   ]
  },
  {
   "cell_type": "markdown",
   "id": "56e1bcd6",
   "metadata": {},
   "source": [
    "# conditions, operators, loops\n",
    "## ---Snake Case, Camel Case, imports, input---\n",
    "1 - if a name is given - it has to give the street name & age\n",
    "2 - classify Y M O, based on age Y = 18-28,  M = 29-38, O = 39-120"
   ]
  },
  {
   "cell_type": "code",
   "execution_count": 89,
   "id": "aa20def8",
   "metadata": {
    "scrolled": true
   },
   "outputs": [
    {
     "name": "stdout",
     "output_type": "stream",
     "text": [
      "{'age': ['67', '62', '46', '42', '42', '38', '40', '36'],\n",
      " 'streetName': ['Thadicherla',\n",
      "                'Thadicherla',\n",
      "                'Thadicherla',\n",
      "                'Thadicherla',\n",
      "                'Mutharam',\n",
      "                'Mutharam',\n",
      "                'Begampeta',\n",
      "                'Begampeta'],\n",
      " 'votersName': ['Aga Rao',\n",
      "                'Sarojana',\n",
      "                'Narsinga Rao',\n",
      "                'Srilatha',\n",
      "                'Sridhar Rao',\n",
      "                'Srimati',\n",
      "                'Thirupathi Rao',\n",
      "                'Srilatha']}\n"
     ]
    }
   ],
   "source": [
    "pprint(voter_list)"
   ]
  },
  {
   "cell_type": "code",
   "execution_count": 62,
   "id": "17dba20f",
   "metadata": {},
   "outputs": [
    {
     "name": "stdout",
     "output_type": "stream",
     "text": [
      "46\n"
     ]
    }
   ],
   "source": [
    "print(voter_list[\"age\"][2])"
   ]
  },
  {
   "cell_type": "code",
   "execution_count": 108,
   "id": "765bec33",
   "metadata": {
    "scrolled": true
   },
   "outputs": [
    {
     "name": "stdout",
     "output_type": "stream",
     "text": [
      "please enter your age - 65\n",
      "you are old age person\n",
      "your program is completed\n"
     ]
    }
   ],
   "source": [
    "age = input(\"please enter your age - \")\n",
    "\n",
    "\n",
    "if eval(age) >=18 and eval(age) <=30:\n",
    "    print(\"you are young person\")\n",
    "    \n",
    "elif eval(age)>=31 and eval(age) <=60:\n",
    "    print(\"you are middle age person\")\n",
    "    \n",
    "elif eval (age)>=61 and eval(age)<=120:\n",
    "    print(\"you are old age person\")\n",
    "        \n",
    "    \n",
    "    \n",
    "\n",
    "else:\n",
    "    print(\"dont know\")\n",
    "    \n",
    "    \n",
    "      \n",
    "print(\"your program is completed\")\n",
    "\n",
    "\n",
    "\n",
    "\n",
    "\n",
    "\n"
   ]
  },
  {
   "cell_type": "code",
   "execution_count": 109,
   "id": "1a2f013a",
   "metadata": {},
   "outputs": [],
   "source": [
    "List = [\"Aga Rao\", \"Sarojana\", \"Narsinga Rao\", \"Srilatha\", \"Sridhar Rao\", \"Srimati\", \"Thirupathi Rao\", \"Srilatha\"]"
   ]
  },
  {
   "cell_type": "code",
   "execution_count": 123,
   "id": "c03c4c42",
   "metadata": {},
   "outputs": [
    {
     "name": "stdout",
     "output_type": "stream",
     "text": [
      "Aga Rao\n",
      "Sarojana\n",
      "Narsinga Rao\n",
      "Srilatha\n",
      "Sridhar Rao\n",
      "Srimati\n",
      "Thirupathi Rao\n",
      "Srilatha\n"
     ]
    }
   ],
   "source": [
    "for i in range(0,len(List)):\n",
    "    print(List[i])\n",
    "\n",
    "    \n",
    "# i=0\n",
    "# while i<6:\n",
    "#     print(List[i])\n",
    "#     i = i +1\n"
   ]
  },
  {
   "cell_type": "code",
   "execution_count": 122,
   "id": "4da253fc",
   "metadata": {},
   "outputs": [
    {
     "name": "stdout",
     "output_type": "stream",
     "text": [
      "8\n"
     ]
    }
   ],
   "source": [
    "print(len(List))"
   ]
  },
  {
   "cell_type": "code",
   "execution_count": null,
   "id": "38255778",
   "metadata": {},
   "outputs": [],
   "source": []
  },
  {
   "cell_type": "code",
   "execution_count": null,
   "id": "7b14b6eb",
   "metadata": {},
   "outputs": [],
   "source": []
  },
  {
   "cell_type": "code",
   "execution_count": null,
   "id": "e74acca5",
   "metadata": {},
   "outputs": [],
   "source": []
  },
  {
   "cell_type": "code",
   "execution_count": null,
   "id": "c7ce02c1",
   "metadata": {},
   "outputs": [],
   "source": []
  },
  {
   "cell_type": "markdown",
   "id": "1a57d4b4",
   "metadata": {},
   "source": [
    "# 1 - if a name is given - it has to give the street name & age\n",
    "# 2 - classify Y M O, based on age Y = 18-28,  M = 29-38, O = 39-120"
   ]
  },
  {
   "cell_type": "code",
   "execution_count": 124,
   "id": "ddb61c11",
   "metadata": {},
   "outputs": [],
   "source": [
    "voter_list = {\n",
    "    \"votersName\" : [\"Aga Rao\", \"Sarojana\", \"Narsinga Rao\", \"Srilatha\", \"Sridhar Rao\", \"Srimati\", \"Thirupathi Rao\", \"Srilatha\"],\n",
    "    \"age\" : [\"67\", \"62\", \"46\", \"42\", \"42\", \"38\", \"40\", \"36\"],\n",
    "    \"streetName\" : [\"Thadicherla\", \"Thadicherla\", \"Thadicherla\", \"Thadicherla\", \"Mutharam\", \"Mutharam\", \"Begampeta\", \"Begampeta\"]\n",
    "}"
   ]
  },
  {
   "cell_type": "code",
   "execution_count": 125,
   "id": "0ef70901",
   "metadata": {},
   "outputs": [
    {
     "name": "stdout",
     "output_type": "stream",
     "text": [
      "{'age': ['67', '62', '46', '42', '42', '38', '40', '36'],\n",
      " 'streetName': ['Thadicherla',\n",
      "                'Thadicherla',\n",
      "                'Thadicherla',\n",
      "                'Thadicherla',\n",
      "                'Mutharam',\n",
      "                'Mutharam',\n",
      "                'Begampeta',\n",
      "                'Begampeta'],\n",
      " 'votersName': ['Aga Rao',\n",
      "                'Sarojana',\n",
      "                'Narsinga Rao',\n",
      "                'Srilatha',\n",
      "                'Sridhar Rao',\n",
      "                'Srimati',\n",
      "                'Thirupathi Rao',\n",
      "                'Srilatha']}\n"
     ]
    }
   ],
   "source": [
    "pprint(voter_list)"
   ]
  },
  {
   "cell_type": "code",
   "execution_count": 142,
   "id": "114df8e2",
   "metadata": {},
   "outputs": [
    {
     "name": "stdout",
     "output_type": "stream",
     "text": [
      "67\n",
      "you are old age person\n",
      "62\n",
      "you are old age person\n",
      "46\n",
      "you are middle age person\n",
      "42\n",
      "you are middle age person\n",
      "42\n",
      "you are middle age person\n",
      "38\n",
      "you are middle age person\n",
      "40\n",
      "you are middle age person\n",
      "36\n",
      "you are middle age person\n"
     ]
    }
   ],
   "source": [
    "for i in range(0,len(voter_list[\"age\"])):\n",
    "    sai = (voter_list[\"age\"][i])\n",
    "    print(sai)\n",
    "    \n",
    "    if eval(sai) >=18 and eval(sai) <=30:\n",
    "        print(\"you are young person\")\n",
    "    \n",
    "    elif eval(sai)>=31 and eval(sai) <=60:\n",
    "        print(\"you are middle age person\")\n",
    "    \n",
    "    elif eval (sai)>=61 and eval(sai)<=120:\n",
    "        print(\"you are old age person\")\n",
    "        \n",
    "    else:\n",
    "        print(\"dont know\")\n",
    "    \n",
    "    "
   ]
  },
  {
   "cell_type": "code",
   "execution_count": 132,
   "id": "9d4d36de",
   "metadata": {},
   "outputs": [
    {
     "name": "stdout",
     "output_type": "stream",
     "text": [
      "'62'\n"
     ]
    }
   ],
   "source": [
    "i=1\n",
    "\n",
    "pprint(voter_list[\"age\"][i])"
   ]
  },
  {
   "cell_type": "code",
   "execution_count": 136,
   "id": "f411e0da",
   "metadata": {},
   "outputs": [
    {
     "name": "stdout",
     "output_type": "stream",
     "text": [
      "8\n"
     ]
    }
   ],
   "source": [
    "print(len(voter_list[\"age\"]))"
   ]
  },
  {
   "cell_type": "code",
   "execution_count": 6,
   "id": "bcedb3fd",
   "metadata": {},
   "outputs": [
    {
     "name": "stdout",
     "output_type": "stream",
     "text": [
      "please enter a number or word to check wether its a palindrome or not - \n",
      "  @media print {\n",
      "    .ms-editor-squiggles-container {\n",
      "      display:none !important;\n",
      "    }\n",
      "  }\n",
      "  .ms-editor-squiggles-container {\n",
      "    all: initial;\n",
      "  }uytyu\n",
      "you have entered a palindrome\n"
     ]
    }
   ],
   "source": [
    "given_input = input(\"please enter a number or word to check wether its a palindrome or not - \")\n",
    "\n",
    "converted_input = \"\"\n",
    "\n",
    "for i in range(0,len(given_input)):\n",
    "    \n",
    "    k = (len(given_input)-1) - i\n",
    "#     print(k)\n",
    "    converted_input = converted_input + (given_input[k])\n",
    "#     print(converted_input)\n",
    "\n",
    "\n",
    "if converted_input == given_input:\n",
    "    print(\"you have entered a palindrome\")\n",
    "\n",
    "else:\n",
    "    print(\"its not a palindrome\")"
   ]
  },
  {
   "cell_type": "code",
   "execution_count": 7,
   "id": "37429336",
   "metadata": {},
   "outputs": [],
   "source": [
    "def palindrome(given_input):\n",
    "    converted_input = \"\"\n",
    "\n",
    "    for i in range(0,len(given_input)):\n",
    "\n",
    "        k = (len(given_input)-1) - i\n",
    "    #     print(k)\n",
    "        converted_input = converted_input + (given_input[k])\n",
    "    #     print(converted_input)\n",
    "\n",
    "\n",
    "    if converted_input == given_input:\n",
    "        print(\"you have entered a palindrome\")\n",
    "\n",
    "    else:\n",
    "        print(\"its not a palindrome\")"
   ]
  },
  {
   "cell_type": "code",
   "execution_count": 10,
   "id": "3d2b2e27",
   "metadata": {},
   "outputs": [
    {
     "name": "stdout",
     "output_type": "stream",
     "text": [
      "malayalam\n",
      "you have entered a palindrome\n"
     ]
    }
   ],
   "source": [
    "freefire = input()\n",
    "\n",
    "palindrome(given_input = freefire)\n",
    "\n",
    "if ad"
   ]
  },
  {
   "cell_type": "code",
   "execution_count": null,
   "id": "05399250",
   "metadata": {},
   "outputs": [],
   "source": []
  }
 ],
 "metadata": {
  "celltoolbar": "Tags",
  "kernelspec": {
   "display_name": "Python 3 (ipykernel)",
   "language": "python",
   "name": "python3"
  },
  "language_info": {
   "codemirror_mode": {
    "name": "ipython",
    "version": 3
   },
   "file_extension": ".py",
   "mimetype": "text/x-python",
   "name": "python",
   "nbconvert_exporter": "python",
   "pygments_lexer": "ipython3",
   "version": "3.9.12"
  }
 },
 "nbformat": 4,
 "nbformat_minor": 5
}
