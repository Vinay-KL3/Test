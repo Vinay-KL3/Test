{
 "cells": [
  {
   "cell_type": "code",
   "execution_count": 12,
   "id": "7966257c",
   "metadata": {},
   "outputs": [
    {
     "name": "stdout",
     "output_type": "stream",
     "text": [
      "Requirement already satisfied: librosa in /Users/vinay_kl/opt/anaconda3/lib/python3.9/site-packages (0.9.2)\n",
      "Requirement already satisfied: audioread>=2.1.9 in /Users/vinay_kl/opt/anaconda3/lib/python3.9/site-packages (from librosa) (3.0.0)\n",
      "Requirement already satisfied: scikit-learn>=0.19.1 in /Users/vinay_kl/opt/anaconda3/lib/python3.9/site-packages (from librosa) (1.0.2)\n",
      "Requirement already satisfied: soundfile>=0.10.2 in /Users/vinay_kl/opt/anaconda3/lib/python3.9/site-packages (from librosa) (0.11.0)\n",
      "Requirement already satisfied: numpy>=1.17.0 in /Users/vinay_kl/opt/anaconda3/lib/python3.9/site-packages (from librosa) (1.21.5)\n",
      "Requirement already satisfied: packaging>=20.0 in /Users/vinay_kl/opt/anaconda3/lib/python3.9/site-packages (from librosa) (21.3)\n",
      "Requirement already satisfied: decorator>=4.0.10 in /Users/vinay_kl/opt/anaconda3/lib/python3.9/site-packages (from librosa) (5.1.1)\n",
      "Requirement already satisfied: pooch>=1.0 in /Users/vinay_kl/opt/anaconda3/lib/python3.9/site-packages (from librosa) (1.6.0)\n",
      "Requirement already satisfied: resampy>=0.2.2 in /Users/vinay_kl/opt/anaconda3/lib/python3.9/site-packages (from librosa) (0.4.2)\n",
      "Requirement already satisfied: numba>=0.45.1 in /Users/vinay_kl/opt/anaconda3/lib/python3.9/site-packages (from librosa) (0.55.1)\n",
      "Requirement already satisfied: scipy>=1.2.0 in /Users/vinay_kl/opt/anaconda3/lib/python3.9/site-packages (from librosa) (1.7.3)\n",
      "Requirement already satisfied: joblib>=0.14 in /Users/vinay_kl/opt/anaconda3/lib/python3.9/site-packages (from librosa) (1.1.0)\n",
      "Requirement already satisfied: setuptools in /Users/vinay_kl/opt/anaconda3/lib/python3.9/site-packages (from numba>=0.45.1->librosa) (61.2.0)\n",
      "Requirement already satisfied: llvmlite<0.39,>=0.38.0rc1 in /Users/vinay_kl/opt/anaconda3/lib/python3.9/site-packages (from numba>=0.45.1->librosa) (0.38.0)\n",
      "Requirement already satisfied: pyparsing!=3.0.5,>=2.0.2 in /Users/vinay_kl/opt/anaconda3/lib/python3.9/site-packages (from packaging>=20.0->librosa) (3.0.4)\n",
      "Requirement already satisfied: appdirs>=1.3.0 in /Users/vinay_kl/opt/anaconda3/lib/python3.9/site-packages (from pooch>=1.0->librosa) (1.4.4)\n",
      "Requirement already satisfied: requests>=2.19.0 in /Users/vinay_kl/opt/anaconda3/lib/python3.9/site-packages (from pooch>=1.0->librosa) (2.27.1)\n",
      "Requirement already satisfied: certifi>=2017.4.17 in /Users/vinay_kl/opt/anaconda3/lib/python3.9/site-packages (from requests>=2.19.0->pooch>=1.0->librosa) (2021.10.8)\n",
      "Requirement already satisfied: charset-normalizer~=2.0.0 in /Users/vinay_kl/opt/anaconda3/lib/python3.9/site-packages (from requests>=2.19.0->pooch>=1.0->librosa) (2.0.4)\n",
      "Requirement already satisfied: idna<4,>=2.5 in /Users/vinay_kl/opt/anaconda3/lib/python3.9/site-packages (from requests>=2.19.0->pooch>=1.0->librosa) (3.3)\n",
      "Requirement already satisfied: urllib3<1.27,>=1.21.1 in /Users/vinay_kl/opt/anaconda3/lib/python3.9/site-packages (from requests>=2.19.0->pooch>=1.0->librosa) (1.26.9)\n",
      "Requirement already satisfied: threadpoolctl>=2.0.0 in /Users/vinay_kl/opt/anaconda3/lib/python3.9/site-packages (from scikit-learn>=0.19.1->librosa) (2.2.0)\n",
      "Requirement already satisfied: cffi>=1.0 in /Users/vinay_kl/opt/anaconda3/lib/python3.9/site-packages (from soundfile>=0.10.2->librosa) (1.15.0)\n",
      "Requirement already satisfied: pycparser in /Users/vinay_kl/opt/anaconda3/lib/python3.9/site-packages (from cffi>=1.0->soundfile>=0.10.2->librosa) (2.21)\n"
     ]
    }
   ],
   "source": [
    "!pip install librosa\n",
    "#conda install -c conda-forge ffmpeg"
   ]
  },
  {
   "cell_type": "code",
   "execution_count": null,
   "id": "3355b56a",
   "metadata": {},
   "outputs": [],
   "source": []
  },
  {
   "cell_type": "code",
   "execution_count": 13,
   "id": "a6c0398c",
   "metadata": {},
   "outputs": [],
   "source": [
    "import librosa"
   ]
  },
  {
   "cell_type": "code",
   "execution_count": 14,
   "id": "42094efe",
   "metadata": {},
   "outputs": [],
   "source": [
    "y, s = librosa.load('/Users/vinay_kl/Downloads/utter_G_out_of_context_TVS_LG_CC_instaplus_F_1.wav', sr=8000)"
   ]
  },
  {
   "cell_type": "code",
   "execution_count": 15,
   "id": "14d069f8",
   "metadata": {},
   "outputs": [
    {
     "ename": "AttributeError",
     "evalue": "module 'librosa' has no attribute 'soundfile'",
     "output_type": "error",
     "traceback": [
      "\u001b[0;31m---------------------------------------------------------------------------\u001b[0m",
      "\u001b[0;31mAttributeError\u001b[0m                            Traceback (most recent call last)",
      "Input \u001b[0;32mIn [15]\u001b[0m, in \u001b[0;36m<cell line: 1>\u001b[0;34m()\u001b[0m\n\u001b[0;32m----> 1\u001b[0m \u001b[43mlibrosa\u001b[49m\u001b[38;5;241;43m.\u001b[39;49m\u001b[43msoundfile\u001b[49m\u001b[38;5;241m.\u001b[39mwrite_wav(sample\u001b[38;5;241m.\u001b[39mwav, y, sr)\n",
      "\u001b[0;31mAttributeError\u001b[0m: module 'librosa' has no attribute 'soundfile'"
     ]
    }
   ],
   "source": [
    "librosa.soundfile.write_wav(sample.wav, y, sr)"
   ]
  },
  {
   "cell_type": "code",
   "execution_count": 18,
   "id": "6cbb0b08",
   "metadata": {},
   "outputs": [
    {
     "ename": "CouldntDecodeError",
     "evalue": "Decoding failed. ffmpeg returned error code: 1\n\nOutput from ffmpeg/avlib:\n\nffmpeg version 5.1.2 Copyright (c) 2000-2022 the FFmpeg developers\n  built with Apple clang version 14.0.0 (clang-1400.0.29.102)\n  configuration: --prefix=/opt/homebrew/Cellar/ffmpeg/5.1.2 --enable-shared --enable-pthreads --enable-version3 --cc=clang --host-cflags= --host-ldflags= --enable-ffplay --enable-gnutls --enable-gpl --enable-libaom --enable-libbluray --enable-libdav1d --enable-libmp3lame --enable-libopus --enable-librav1e --enable-librist --enable-librubberband --enable-libsnappy --enable-libsrt --enable-libtesseract --enable-libtheora --enable-libvidstab --enable-libvmaf --enable-libvorbis --enable-libvpx --enable-libwebp --enable-libx264 --enable-libx265 --enable-libxml2 --enable-libxvid --enable-lzma --enable-libfontconfig --enable-libfreetype --enable-frei0r --enable-libass --enable-libopencore-amrnb --enable-libopencore-amrwb --enable-libopenjpeg --enable-libspeex --enable-libsoxr --enable-libzmq --enable-libzimg --disable-libjack --disable-indev=jack --enable-videotoolbox --enable-neon\n  libavutil      57. 28.100 / 57. 28.100\n  libavcodec     59. 37.100 / 59. 37.100\n  libavformat    59. 27.100 / 59. 27.100\n  libavdevice    59.  7.100 / 59.  7.100\n  libavfilter     8. 44.100 /  8. 44.100\n  libswscale      6.  7.100 /  6.  7.100\n  libswresample   4.  7.100 /  4.  7.100\n  libpostproc    56.  6.100 / 56.  6.100\n[wav @ 0x146704190] invalid start code [0][0][0][1] in RIFF header\n/Users/vinay_kl/Downloads/bajaj/.DS_Store: Invalid data found when processing input\n",
     "output_type": "error",
     "traceback": [
      "\u001b[0;31m---------------------------------------------------------------------------\u001b[0m",
      "\u001b[0;31mCouldntDecodeError\u001b[0m                        Traceback (most recent call last)",
      "Input \u001b[0;32mIn [18]\u001b[0m, in \u001b[0;36m<cell line: 9>\u001b[0;34m()\u001b[0m\n\u001b[1;32m     10\u001b[0m path \u001b[38;5;241m=\u001b[39m \u001b[38;5;124m\"\u001b[39m\u001b[38;5;124m/Users/vinay_kl/Downloads/bajaj/\u001b[39m\u001b[38;5;124m\"\u001b[39m\u001b[38;5;241m+\u001b[39mfi\n\u001b[1;32m     11\u001b[0m path1 \u001b[38;5;241m=\u001b[39m \u001b[38;5;124m\"\u001b[39m\u001b[38;5;124m/Users/vinay_kl/Downloads/\u001b[39m\u001b[38;5;124m\"\u001b[39m\u001b[38;5;241m+\u001b[39mfi\n\u001b[0;32m---> 13\u001b[0m sound \u001b[38;5;241m=\u001b[39m \u001b[43mam\u001b[49m\u001b[38;5;241;43m.\u001b[39;49m\u001b[43mfrom_file\u001b[49m\u001b[43m(\u001b[49m\u001b[43mpath\u001b[49m\u001b[43m,\u001b[49m\u001b[43m \u001b[49m\u001b[38;5;28;43mformat\u001b[39;49m\u001b[38;5;241;43m=\u001b[39;49m\u001b[38;5;124;43m'\u001b[39;49m\u001b[38;5;124;43mwav\u001b[39;49m\u001b[38;5;124;43m'\u001b[39;49m\u001b[43m,\u001b[49m\u001b[43m \u001b[49m\u001b[43mframe_rate\u001b[49m\u001b[38;5;241;43m=\u001b[39;49m\u001b[38;5;241;43m48000\u001b[39;49m\u001b[43m)\u001b[49m\n\u001b[1;32m     14\u001b[0m sound \u001b[38;5;241m=\u001b[39m sound\u001b[38;5;241m.\u001b[39mset_frame_rate(\u001b[38;5;241m8000\u001b[39m)\n\u001b[1;32m     15\u001b[0m sound\u001b[38;5;241m.\u001b[39mexport(path1, \u001b[38;5;28mformat\u001b[39m\u001b[38;5;241m=\u001b[39m\u001b[38;5;124m'\u001b[39m\u001b[38;5;124mwav\u001b[39m\u001b[38;5;124m'\u001b[39m)\n",
      "File \u001b[0;32m~/opt/anaconda3/lib/python3.9/site-packages/pydub/audio_segment.py:773\u001b[0m, in \u001b[0;36mAudioSegment.from_file\u001b[0;34m(cls, file, format, codec, parameters, start_second, duration, **kwargs)\u001b[0m\n\u001b[1;32m    771\u001b[0m     \u001b[38;5;28;01mif\u001b[39;00m close_file:\n\u001b[1;32m    772\u001b[0m         file\u001b[38;5;241m.\u001b[39mclose()\n\u001b[0;32m--> 773\u001b[0m     \u001b[38;5;28;01mraise\u001b[39;00m CouldntDecodeError(\n\u001b[1;32m    774\u001b[0m         \u001b[38;5;124m\"\u001b[39m\u001b[38;5;124mDecoding failed. ffmpeg returned error code: \u001b[39m\u001b[38;5;132;01m{0}\u001b[39;00m\u001b[38;5;130;01m\\n\u001b[39;00m\u001b[38;5;130;01m\\n\u001b[39;00m\u001b[38;5;124mOutput from ffmpeg/avlib:\u001b[39m\u001b[38;5;130;01m\\n\u001b[39;00m\u001b[38;5;130;01m\\n\u001b[39;00m\u001b[38;5;132;01m{1}\u001b[39;00m\u001b[38;5;124m\"\u001b[39m\u001b[38;5;241m.\u001b[39mformat(\n\u001b[1;32m    775\u001b[0m             p\u001b[38;5;241m.\u001b[39mreturncode, p_err\u001b[38;5;241m.\u001b[39mdecode(errors\u001b[38;5;241m=\u001b[39m\u001b[38;5;124m'\u001b[39m\u001b[38;5;124mignore\u001b[39m\u001b[38;5;124m'\u001b[39m) ))\n\u001b[1;32m    777\u001b[0m p_out \u001b[38;5;241m=\u001b[39m \u001b[38;5;28mbytearray\u001b[39m(p_out)\n\u001b[1;32m    778\u001b[0m fix_wav_headers(p_out)\n",
      "\u001b[0;31mCouldntDecodeError\u001b[0m: Decoding failed. ffmpeg returned error code: 1\n\nOutput from ffmpeg/avlib:\n\nffmpeg version 5.1.2 Copyright (c) 2000-2022 the FFmpeg developers\n  built with Apple clang version 14.0.0 (clang-1400.0.29.102)\n  configuration: --prefix=/opt/homebrew/Cellar/ffmpeg/5.1.2 --enable-shared --enable-pthreads --enable-version3 --cc=clang --host-cflags= --host-ldflags= --enable-ffplay --enable-gnutls --enable-gpl --enable-libaom --enable-libbluray --enable-libdav1d --enable-libmp3lame --enable-libopus --enable-librav1e --enable-librist --enable-librubberband --enable-libsnappy --enable-libsrt --enable-libtesseract --enable-libtheora --enable-libvidstab --enable-libvmaf --enable-libvorbis --enable-libvpx --enable-libwebp --enable-libx264 --enable-libx265 --enable-libxml2 --enable-libxvid --enable-lzma --enable-libfontconfig --enable-libfreetype --enable-frei0r --enable-libass --enable-libopencore-amrnb --enable-libopencore-amrwb --enable-libopenjpeg --enable-libspeex --enable-libsoxr --enable-libzmq --enable-libzimg --disable-libjack --disable-indev=jack --enable-videotoolbox --enable-neon\n  libavutil      57. 28.100 / 57. 28.100\n  libavcodec     59. 37.100 / 59. 37.100\n  libavformat    59. 27.100 / 59. 27.100\n  libavdevice    59.  7.100 / 59.  7.100\n  libavfilter     8. 44.100 /  8. 44.100\n  libswscale      6.  7.100 /  6.  7.100\n  libswresample   4.  7.100 /  4.  7.100\n  libpostproc    56.  6.100 / 56.  6.100\n[wav @ 0x146704190] invalid start code [0][0][0][1] in RIFF header\n/Users/vinay_kl/Downloads/bajaj/.DS_Store: Invalid data found when processing input\n"
     ]
    }
   ],
   "source": [
    "import os\n",
    "import pydub as pd\n",
    "from pydub import AudioSegment as am\n",
    "\n",
    "\n",
    "files = os.listdir(\"/Users/vinay_kl/Downloads/bajaj/\")\n",
    "#len(files)\n",
    "#files\n",
    "for fi in files:\n",
    "    path = \"/Users/vinay_kl/Downloads/bajaj/\"+fi\n",
    "    path1 = \"/Users/vinay_kl/Downloads/\"+fi\n",
    "    \n",
    "    sound = am.from_file(path, format='wav', frame_rate=48000)\n",
    "    sound = sound.set_frame_rate(8000)\n",
    "    sound.export(path1, format='wav')"
   ]
  },
  {
   "cell_type": "code",
   "execution_count": 10,
   "id": "f24bfb37",
   "metadata": {
    "scrolled": true
   },
   "outputs": [
    {
     "name": "stdout",
     "output_type": "stream",
     "text": [
      "Requirement already satisfied: ffmpeg in /Users/vinay_kl/opt/anaconda3/lib/python3.9/site-packages (1.4)\r\n"
     ]
    }
   ],
   "source": [
    "!pip install ffmpeg"
   ]
  },
  {
   "cell_type": "code",
   "execution_count": 11,
   "id": "0e01c8e9",
   "metadata": {},
   "outputs": [],
   "source": [
    "import pydub as pd"
   ]
  },
  {
   "cell_type": "code",
   "execution_count": 9,
   "id": "b053827a",
   "metadata": {},
   "outputs": [
    {
     "data": {
      "text/plain": [
       "<_io.BufferedRandom name='/Users/vinay_kl/Downloads/QA recorded Numbers/downsampled/Hindi_Numbers-Normal-Jyoti_Allbc4ae8ef445fe7f8c6e4d9b7f951accbff3f368448e63fe9aa7fb93f1a9ba9b1.wav'>"
      ]
     },
     "execution_count": 9,
     "metadata": {},
     "output_type": "execute_result"
    }
   ],
   "source": [
    "from pydub import AudioSegment as am\n",
    "sound = am.from_file('/Users/vinay_kl/Downloads/QA recorded Numbers/wav/Hindi_Numbers-Normal-Jyoti_Allbc4ae8ef445fe7f8c6e4d9b7f951accbff3f368448e63fe9aa7fb93f1a9ba9b1.wav', format='wav', frame_rate=200000)\n",
    "sound = sound.set_frame_rate(8000)\n",
    "sound.export('/Users/vinay_kl/Downloads/QA recorded Numbers/downsampled/Hindi_Numbers-Normal-Jyoti_Allbc4ae8ef445fe7f8c6e4d9b7f951accbff3f368448e63fe9aa7fb93f1a9ba9b1.wav', format='wav')"
   ]
  },
  {
   "cell_type": "code",
   "execution_count": null,
   "id": "1f6d6f54",
   "metadata": {},
   "outputs": [],
   "source": []
  }
 ],
 "metadata": {
  "kernelspec": {
   "display_name": "Python 3 (ipykernel)",
   "language": "python",
   "name": "python3"
  },
  "language_info": {
   "codemirror_mode": {
    "name": "ipython",
    "version": 3
   },
   "file_extension": ".py",
   "mimetype": "text/x-python",
   "name": "python",
   "nbconvert_exporter": "python",
   "pygments_lexer": "ipython3",
   "version": "3.9.12"
  }
 },
 "nbformat": 4,
 "nbformat_minor": 5
}
