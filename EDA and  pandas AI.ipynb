{
 "cells": [
  {
   "cell_type": "code",
   "execution_count": 1,
   "id": "bdbcca56",
   "metadata": {
    "collapsed": true
   },
   "outputs": [
    {
     "name": "stdout",
     "output_type": "stream",
     "text": [
      "Collecting PyGWalker\n",
      "  Obtaining dependency information for PyGWalker from https://files.pythonhosted.org/packages/b5/8e/d7e13b0149f807bcded2a6f0b6e6a5fb275ee2e2058b5cae1f163ef39f94/pygwalker-0.2.0-py3-none-any.whl.metadata\n",
      "  Downloading pygwalker-0.2.0-py3-none-any.whl.metadata (15 kB)\n",
      "Collecting astor (from PyGWalker)\n",
      "  Downloading astor-0.8.1-py2.py3-none-any.whl (27 kB)\n",
      "Requirement already satisfied: ipython in /Users/vinay_kl/anaconda3/lib/python3.11/site-packages (from PyGWalker) (8.12.0)\n",
      "Requirement already satisfied: ipywidgets in /Users/vinay_kl/anaconda3/lib/python3.11/site-packages (from PyGWalker) (8.0.4)\n",
      "Requirement already satisfied: jinja2 in /Users/vinay_kl/anaconda3/lib/python3.11/site-packages (from PyGWalker) (3.1.2)\n",
      "Requirement already satisfied: pydantic in /Users/vinay_kl/anaconda3/lib/python3.11/site-packages (from PyGWalker) (1.10.11)\n",
      "Requirement already satisfied: typing-extensions in /Users/vinay_kl/anaconda3/lib/python3.11/site-packages (from PyGWalker) (4.6.3)\n",
      "Requirement already satisfied: backcall in /Users/vinay_kl/anaconda3/lib/python3.11/site-packages (from ipython->PyGWalker) (0.2.0)\n",
      "Requirement already satisfied: decorator in /Users/vinay_kl/anaconda3/lib/python3.11/site-packages (from ipython->PyGWalker) (5.1.1)\n",
      "Requirement already satisfied: jedi>=0.16 in /Users/vinay_kl/anaconda3/lib/python3.11/site-packages (from ipython->PyGWalker) (0.18.1)\n",
      "Requirement already satisfied: matplotlib-inline in /Users/vinay_kl/anaconda3/lib/python3.11/site-packages (from ipython->PyGWalker) (0.1.6)\n",
      "Requirement already satisfied: pickleshare in /Users/vinay_kl/anaconda3/lib/python3.11/site-packages (from ipython->PyGWalker) (0.7.5)\n",
      "Requirement already satisfied: prompt-toolkit!=3.0.37,<3.1.0,>=3.0.30 in /Users/vinay_kl/anaconda3/lib/python3.11/site-packages (from ipython->PyGWalker) (3.0.36)\n",
      "Requirement already satisfied: pygments>=2.4.0 in /Users/vinay_kl/anaconda3/lib/python3.11/site-packages (from ipython->PyGWalker) (2.15.1)\n",
      "Requirement already satisfied: stack-data in /Users/vinay_kl/anaconda3/lib/python3.11/site-packages (from ipython->PyGWalker) (0.2.0)\n",
      "Requirement already satisfied: traitlets>=5 in /Users/vinay_kl/anaconda3/lib/python3.11/site-packages (from ipython->PyGWalker) (5.7.1)\n",
      "Requirement already satisfied: pexpect>4.3 in /Users/vinay_kl/anaconda3/lib/python3.11/site-packages (from ipython->PyGWalker) (4.8.0)\n",
      "Requirement already satisfied: appnope in /Users/vinay_kl/anaconda3/lib/python3.11/site-packages (from ipython->PyGWalker) (0.1.2)\n",
      "Requirement already satisfied: ipykernel>=4.5.1 in /Users/vinay_kl/anaconda3/lib/python3.11/site-packages (from ipywidgets->PyGWalker) (6.19.2)\n",
      "Requirement already satisfied: widgetsnbextension~=4.0 in /Users/vinay_kl/anaconda3/lib/python3.11/site-packages (from ipywidgets->PyGWalker) (4.0.5)\n",
      "Requirement already satisfied: jupyterlab-widgets~=3.0 in /Users/vinay_kl/anaconda3/lib/python3.11/site-packages (from ipywidgets->PyGWalker) (3.0.5)\n",
      "Requirement already satisfied: MarkupSafe>=2.0 in /Users/vinay_kl/anaconda3/lib/python3.11/site-packages (from jinja2->PyGWalker) (2.1.1)\n",
      "Requirement already satisfied: comm>=0.1.1 in /Users/vinay_kl/anaconda3/lib/python3.11/site-packages (from ipykernel>=4.5.1->ipywidgets->PyGWalker) (0.1.2)\n",
      "Requirement already satisfied: debugpy>=1.0 in /Users/vinay_kl/anaconda3/lib/python3.11/site-packages (from ipykernel>=4.5.1->ipywidgets->PyGWalker) (1.5.1)\n",
      "Requirement already satisfied: jupyter-client>=6.1.12 in /Users/vinay_kl/anaconda3/lib/python3.11/site-packages (from ipykernel>=4.5.1->ipywidgets->PyGWalker) (8.1.0)\n",
      "Requirement already satisfied: nest-asyncio in /Users/vinay_kl/anaconda3/lib/python3.11/site-packages (from ipykernel>=4.5.1->ipywidgets->PyGWalker) (1.5.6)\n",
      "Requirement already satisfied: packaging in /Users/vinay_kl/anaconda3/lib/python3.11/site-packages (from ipykernel>=4.5.1->ipywidgets->PyGWalker) (23.0)\n",
      "Requirement already satisfied: psutil in /Users/vinay_kl/anaconda3/lib/python3.11/site-packages (from ipykernel>=4.5.1->ipywidgets->PyGWalker) (5.9.0)\n",
      "Requirement already satisfied: pyzmq>=17 in /Users/vinay_kl/anaconda3/lib/python3.11/site-packages (from ipykernel>=4.5.1->ipywidgets->PyGWalker) (25.1.0)\n",
      "Requirement already satisfied: tornado>=6.1 in /Users/vinay_kl/anaconda3/lib/python3.11/site-packages (from ipykernel>=4.5.1->ipywidgets->PyGWalker) (6.2)\n",
      "Requirement already satisfied: parso<0.9.0,>=0.8.0 in /Users/vinay_kl/anaconda3/lib/python3.11/site-packages (from jedi>=0.16->ipython->PyGWalker) (0.8.3)\n",
      "Requirement already satisfied: ptyprocess>=0.5 in /Users/vinay_kl/anaconda3/lib/python3.11/site-packages (from pexpect>4.3->ipython->PyGWalker) (0.7.0)\n",
      "Requirement already satisfied: wcwidth in /Users/vinay_kl/anaconda3/lib/python3.11/site-packages (from prompt-toolkit!=3.0.37,<3.1.0,>=3.0.30->ipython->PyGWalker) (0.2.5)\n",
      "Requirement already satisfied: executing in /Users/vinay_kl/anaconda3/lib/python3.11/site-packages (from stack-data->ipython->PyGWalker) (0.8.3)\n",
      "Requirement already satisfied: asttokens in /Users/vinay_kl/anaconda3/lib/python3.11/site-packages (from stack-data->ipython->PyGWalker) (2.0.5)\n",
      "Requirement already satisfied: pure-eval in /Users/vinay_kl/anaconda3/lib/python3.11/site-packages (from stack-data->ipython->PyGWalker) (0.2.2)\n",
      "Requirement already satisfied: jupyter-core!=5.0.*,>=4.12 in /Users/vinay_kl/anaconda3/lib/python3.11/site-packages (from jupyter-client>=6.1.12->ipykernel>=4.5.1->ipywidgets->PyGWalker) (5.3.0)\n",
      "Requirement already satisfied: python-dateutil>=2.8.2 in /Users/vinay_kl/anaconda3/lib/python3.11/site-packages (from jupyter-client>=6.1.12->ipykernel>=4.5.1->ipywidgets->PyGWalker) (2.8.2)\n",
      "Requirement already satisfied: six in /Users/vinay_kl/anaconda3/lib/python3.11/site-packages (from asttokens->stack-data->ipython->PyGWalker) (1.16.0)\n",
      "Requirement already satisfied: platformdirs>=2.5 in /Users/vinay_kl/anaconda3/lib/python3.11/site-packages (from jupyter-core!=5.0.*,>=4.12->jupyter-client>=6.1.12->ipykernel>=4.5.1->ipywidgets->PyGWalker) (2.5.2)\n",
      "Downloading pygwalker-0.2.0-py3-none-any.whl (650 kB)\n",
      "\u001b[2K   \u001b[90m━━━━━━━━━━━━━━━━━━━━━━━━━━━━━━━━━━━━━━━━\u001b[0m \u001b[32m650.2/650.2 kB\u001b[0m \u001b[31m10.3 MB/s\u001b[0m eta \u001b[36m0:00:00\u001b[0ma \u001b[36m0:00:01\u001b[0m\n",
      "\u001b[?25hInstalling collected packages: astor, PyGWalker\n",
      "Successfully installed PyGWalker-0.2.0 astor-0.8.1\n"
     ]
    }
   ],
   "source": [
    "!pip install PyGWalker"
   ]
  },
  {
   "cell_type": "code",
   "execution_count": 13,
   "id": "1ce4d8d6",
   "metadata": {},
   "outputs": [],
   "source": [
    "import pandas as pd\n",
    "import pygwalker as pyg\n",
    "import seaborn as sns"
   ]
  },
  {
   "cell_type": "code",
   "execution_count": 5,
   "id": "623aa05b",
   "metadata": {},
   "outputs": [],
   "source": [
    "df = pd.read_csv(\"/Users/vinay_kl/Downloads/testSheet.csv\")"
   ]
  },
  {
   "cell_type": "code",
   "execution_count": 7,
   "id": "64970894",
   "metadata": {},
   "outputs": [
    {
     "data": {
      "text/html": [],
      "text/plain": [
       "<IPython.core.display.HTML object>"
      ]
     },
     "metadata": {},
     "output_type": "display_data"
    },
    {
     "data": {
      "application/vnd.jupyter.widget-view+json": {
       "model_id": "bea3bb423faa4c00bccbbe30f1581df8",
       "version_major": 2,
       "version_minor": 0
      },
      "text/plain": [
       "Box(children=(HTML(value='<div id=\"ifr-pyg-1\" style=\"height: auto\">\\n    <head>\\n        <meta http-equiv=\"Con…"
      ]
     },
     "metadata": {},
     "output_type": "display_data"
    },
    {
     "data": {
      "text/html": [
       "<html>\n",
       "<style>\n",
       ".tabs{\n",
       "    position:relative;\n",
       "    height:660px;\n",
       "}\n",
       ".tab-pane{\n",
       "    display:inline-block;\n",
       "}\n",
       ".tabs input[type='radio']{\n",
       "    position:absolute;\n",
       "    clip:rect(0,0,0,0)\n",
       "}\n",
       ".tab-item{\n",
       "    display:block;\n",
       "    height:34px;\n",
       "    line-height:34px;\n",
       "    cursor:pointer;\n",
       "    padding:0 10px\n",
       "}\n",
       "\n",
       ".tabs input[type='radio']:checked+.tab-item{\n",
       "    background:#2563eb;\n",
       "    color:#fff\n",
       "}\n",
       "\n",
       ".tab-content{\n",
       "    display: none;\n",
       "    position:absolute;\n",
       "    left:0;\n",
       "    top:56px;\n",
       "    bottom:0;\n",
       "    right:0;\n",
       "}\n",
       "\n",
       ".tabs input[type='radio']:checked+.tab-item+.tab-content{\n",
       "    display: block;\n",
       "}\n",
       "</style>\n",
       "\n",
       "<body>\n",
       "    <div id=\"pygwalker-preview-1\">\n",
       "        <div class=\"tabs\">\n",
       "            \n",
       "        </div>\n",
       "    </div>\n",
       "</body>\n",
       "</html>"
      ],
      "text/plain": [
       "<IPython.core.display.HTML object>"
      ]
     },
     "metadata": {},
     "output_type": "display_data"
    },
    {
     "data": {
      "text/plain": [
       "<pygwalker.api.pygwalker.PygWalker at 0x15077d190>"
      ]
     },
     "execution_count": 7,
     "metadata": {},
     "output_type": "execute_result"
    }
   ],
   "source": [
    "pyg.walk(df, dark = \"light\")"
   ]
  },
  {
   "cell_type": "code",
   "execution_count": 8,
   "id": "b1b1b6d9",
   "metadata": {},
   "outputs": [
    {
     "data": {
      "text/plain": [
       "(19, 16)"
      ]
     },
     "execution_count": 8,
     "metadata": {},
     "output_type": "execute_result"
    }
   ],
   "source": [
    "df.shape"
   ]
  },
  {
   "cell_type": "code",
   "execution_count": 10,
   "id": "744097f5",
   "metadata": {},
   "outputs": [
    {
     "data": {
      "text/plain": [
       "Index(['language', 'qa_person', 'length', 'text', 'priority_label', 'scenario',\n",
       "       'intent', 'sub-intent', 'context', 'sub-context', 'signal',\n",
       "       'delay_reason', 'third_person', 'humiliate', 'sentiment', 'lang'],\n",
       "      dtype='object')"
      ]
     },
     "execution_count": 10,
     "metadata": {},
     "output_type": "execute_result"
    }
   ],
   "source": [
    "df.columns"
   ]
  },
  {
   "cell_type": "code",
   "execution_count": 11,
   "id": "1efe750c",
   "metadata": {},
   "outputs": [
    {
     "data": {
      "text/plain": [
       "language           1\n",
       "qa_person          1\n",
       "length            11\n",
       "text              19\n",
       "priority_label     2\n",
       "scenario           4\n",
       "intent             2\n",
       "sub-intent         3\n",
       "context            4\n",
       "sub-context        5\n",
       "signal            13\n",
       "delay_reason       3\n",
       "third_person       1\n",
       "humiliate          1\n",
       "sentiment          1\n",
       "lang               1\n",
       "dtype: int64"
      ]
     },
     "execution_count": 11,
     "metadata": {},
     "output_type": "execute_result"
    }
   ],
   "source": [
    "df.nunique()"
   ]
  },
  {
   "cell_type": "code",
   "execution_count": 12,
   "id": "0f8f8f91",
   "metadata": {
    "collapsed": true
   },
   "outputs": [
    {
     "ename": "ValueError",
     "evalue": "could not convert string to float: 'hindi'",
     "output_type": "error",
     "traceback": [
      "\u001b[0;31m---------------------------------------------------------------------------\u001b[0m",
      "\u001b[0;31mValueError\u001b[0m                                Traceback (most recent call last)",
      "Cell \u001b[0;32mIn[12], line 1\u001b[0m\n\u001b[0;32m----> 1\u001b[0m corelation \u001b[38;5;241m=\u001b[39m df\u001b[38;5;241m.\u001b[39mcorr ()\n",
      "File \u001b[0;32m~/anaconda3/lib/python3.11/site-packages/pandas/core/frame.py:10054\u001b[0m, in \u001b[0;36mDataFrame.corr\u001b[0;34m(self, method, min_periods, numeric_only)\u001b[0m\n\u001b[1;32m  10052\u001b[0m cols \u001b[38;5;241m=\u001b[39m data\u001b[38;5;241m.\u001b[39mcolumns\n\u001b[1;32m  10053\u001b[0m idx \u001b[38;5;241m=\u001b[39m cols\u001b[38;5;241m.\u001b[39mcopy()\n\u001b[0;32m> 10054\u001b[0m mat \u001b[38;5;241m=\u001b[39m data\u001b[38;5;241m.\u001b[39mto_numpy(dtype\u001b[38;5;241m=\u001b[39m\u001b[38;5;28mfloat\u001b[39m, na_value\u001b[38;5;241m=\u001b[39mnp\u001b[38;5;241m.\u001b[39mnan, copy\u001b[38;5;241m=\u001b[39m\u001b[38;5;28;01mFalse\u001b[39;00m)\n\u001b[1;32m  10056\u001b[0m \u001b[38;5;28;01mif\u001b[39;00m method \u001b[38;5;241m==\u001b[39m \u001b[38;5;124m\"\u001b[39m\u001b[38;5;124mpearson\u001b[39m\u001b[38;5;124m\"\u001b[39m:\n\u001b[1;32m  10057\u001b[0m     correl \u001b[38;5;241m=\u001b[39m libalgos\u001b[38;5;241m.\u001b[39mnancorr(mat, minp\u001b[38;5;241m=\u001b[39mmin_periods)\n",
      "File \u001b[0;32m~/anaconda3/lib/python3.11/site-packages/pandas/core/frame.py:1838\u001b[0m, in \u001b[0;36mDataFrame.to_numpy\u001b[0;34m(self, dtype, copy, na_value)\u001b[0m\n\u001b[1;32m   1836\u001b[0m \u001b[38;5;28;01mif\u001b[39;00m dtype \u001b[38;5;129;01mis\u001b[39;00m \u001b[38;5;129;01mnot\u001b[39;00m \u001b[38;5;28;01mNone\u001b[39;00m:\n\u001b[1;32m   1837\u001b[0m     dtype \u001b[38;5;241m=\u001b[39m np\u001b[38;5;241m.\u001b[39mdtype(dtype)\n\u001b[0;32m-> 1838\u001b[0m result \u001b[38;5;241m=\u001b[39m \u001b[38;5;28mself\u001b[39m\u001b[38;5;241m.\u001b[39m_mgr\u001b[38;5;241m.\u001b[39mas_array(dtype\u001b[38;5;241m=\u001b[39mdtype, copy\u001b[38;5;241m=\u001b[39mcopy, na_value\u001b[38;5;241m=\u001b[39mna_value)\n\u001b[1;32m   1839\u001b[0m \u001b[38;5;28;01mif\u001b[39;00m result\u001b[38;5;241m.\u001b[39mdtype \u001b[38;5;129;01mis\u001b[39;00m \u001b[38;5;129;01mnot\u001b[39;00m dtype:\n\u001b[1;32m   1840\u001b[0m     result \u001b[38;5;241m=\u001b[39m np\u001b[38;5;241m.\u001b[39marray(result, dtype\u001b[38;5;241m=\u001b[39mdtype, copy\u001b[38;5;241m=\u001b[39m\u001b[38;5;28;01mFalse\u001b[39;00m)\n",
      "File \u001b[0;32m~/anaconda3/lib/python3.11/site-packages/pandas/core/internals/managers.py:1732\u001b[0m, in \u001b[0;36mBlockManager.as_array\u001b[0;34m(self, dtype, copy, na_value)\u001b[0m\n\u001b[1;32m   1730\u001b[0m         arr\u001b[38;5;241m.\u001b[39mflags\u001b[38;5;241m.\u001b[39mwriteable \u001b[38;5;241m=\u001b[39m \u001b[38;5;28;01mFalse\u001b[39;00m\n\u001b[1;32m   1731\u001b[0m \u001b[38;5;28;01melse\u001b[39;00m:\n\u001b[0;32m-> 1732\u001b[0m     arr \u001b[38;5;241m=\u001b[39m \u001b[38;5;28mself\u001b[39m\u001b[38;5;241m.\u001b[39m_interleave(dtype\u001b[38;5;241m=\u001b[39mdtype, na_value\u001b[38;5;241m=\u001b[39mna_value)\n\u001b[1;32m   1733\u001b[0m     \u001b[38;5;66;03m# The underlying data was copied within _interleave, so no need\u001b[39;00m\n\u001b[1;32m   1734\u001b[0m     \u001b[38;5;66;03m# to further copy if copy=True or setting na_value\u001b[39;00m\n\u001b[1;32m   1736\u001b[0m \u001b[38;5;28;01mif\u001b[39;00m na_value \u001b[38;5;129;01mis\u001b[39;00m \u001b[38;5;129;01mnot\u001b[39;00m lib\u001b[38;5;241m.\u001b[39mno_default:\n",
      "File \u001b[0;32m~/anaconda3/lib/python3.11/site-packages/pandas/core/internals/managers.py:1794\u001b[0m, in \u001b[0;36mBlockManager._interleave\u001b[0;34m(self, dtype, na_value)\u001b[0m\n\u001b[1;32m   1792\u001b[0m     \u001b[38;5;28;01melse\u001b[39;00m:\n\u001b[1;32m   1793\u001b[0m         arr \u001b[38;5;241m=\u001b[39m blk\u001b[38;5;241m.\u001b[39mget_values(dtype)\n\u001b[0;32m-> 1794\u001b[0m     result[rl\u001b[38;5;241m.\u001b[39mindexer] \u001b[38;5;241m=\u001b[39m arr\n\u001b[1;32m   1795\u001b[0m     itemmask[rl\u001b[38;5;241m.\u001b[39mindexer] \u001b[38;5;241m=\u001b[39m \u001b[38;5;241m1\u001b[39m\n\u001b[1;32m   1797\u001b[0m \u001b[38;5;28;01mif\u001b[39;00m \u001b[38;5;129;01mnot\u001b[39;00m itemmask\u001b[38;5;241m.\u001b[39mall():\n",
      "\u001b[0;31mValueError\u001b[0m: could not convert string to float: 'hindi'"
     ]
    }
   ],
   "source": [
    "corelation = df.corr ()"
   ]
  },
  {
   "cell_type": "code",
   "execution_count": 16,
   "id": "b4015378",
   "metadata": {},
   "outputs": [
    {
     "name": "stderr",
     "output_type": "stream",
     "text": [
      "/var/folders/tr/mwr4dkgn0tb5jh53c7lyvfmw0000gn/T/ipykernel_65621/3858697360.py:1: UserWarning: \n",
      "\n",
      "`distplot` is a deprecated function and will be removed in seaborn v0.14.0.\n",
      "\n",
      "Please adapt your code to use either `displot` (a figure-level function with\n",
      "similar flexibility) or `histplot` (an axes-level function for histograms).\n",
      "\n",
      "For a guide to updating your code to use the new functions, please see\n",
      "https://gist.github.com/mwaskom/de44147ed2974457ad6372750bbe5751\n",
      "\n",
      "  sns.distplot(df[\"length\"])\n"
     ]
    },
    {
     "data": {
      "text/plain": [
       "<Axes: xlabel='length', ylabel='Density'>"
      ]
     },
     "execution_count": 16,
     "metadata": {},
     "output_type": "execute_result"
    },
    {
     "data": {
      "image/png": "[encoded data removed]",
      "text/plain": [
       "<Figure size 640x480 with 1 Axes>"
      ]
     },
     "metadata": {},
     "output_type": "display_data"
    }
   ],
   "source": [
    "sns.distplot(df[\"length\"])"
   ]
  },
  {
   "cell_type": "code",
   "execution_count": 17,
   "id": "a17838a6",
   "metadata": {},
   "outputs": [
    {
     "name": "stderr",
     "output_type": "stream",
     "text": [
      "<__array_function__ internals>:200: RuntimeWarning: Converting input from bool to <class 'numpy.uint8'> for compatibility.\n"
     ]
    },
    {
     "data": {
      "text/plain": [
       "<seaborn.axisgrid.PairGrid at 0x10d069dd0>"
      ]
     },
     "execution_count": 17,
     "metadata": {},
     "output_type": "execute_result"
    },
    {
     "data": {
      "image/png": "[encoded data removed]",
      "text/plain": [
       "<Figure size 500x500 with 6 Axes>"
      ]
     },
     "metadata": {},
     "output_type": "display_data"
    }
   ],
   "source": [
    "sns.pairplot(df)"
   ]
  },
  {
   "cell_type": "code",
   "execution_count": null,
   "id": "3ba699c0",
   "metadata": {},
   "outputs": [],
   "source": [
    "sns.relplot (x= 'math score', y='reading score', hue='priority_label', data=df)"
   ]
  }
 ],
 "metadata": {
  "kernelspec": {
   "display_name": "Python 3 (ipykernel)",
   "language": "python",
   "name": "python3"
  },
  "language_info": {
   "codemirror_mode": {
    "name": "ipython",
    "version": 3
   },
   "file_extension": ".py",
   "mimetype": "text/x-python",
   "name": "python",
   "nbconvert_exporter": "python",
   "pygments_lexer": "ipython3",
   "version": "3.11.3"
  }
 },
 "nbformat": 4,
 "nbformat_minor": 5
}
