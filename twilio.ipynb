{
 "cells": [
  {
   "cell_type": "code",
   "execution_count": 3,
   "id": "31d5a4ec",
   "metadata": {},
   "outputs": [
    {
     "name": "stdout",
     "output_type": "stream",
     "text": [
      "Call SID: CA27cfa8b8e7e880d26f6f43cb47dee7d0\n"
     ]
    }
   ],
   "source": [
    "from twilio.rest import Client\n",
    "\n",
    "# Your Twilio account SID and auth token\n",
    "account_sid = 'ACe6b0368b4bf6b5dcaf8d39d089e08c8d'\n",
    "auth_token = '0d8d1b010c361f5d8e76b51d11ecd2d4'\n",
    "\n",
    "# Create a Twilio client\n",
    "client = Client(account_sid, auth_token)\n",
    "\n",
    "# Make a call\n",
    "call = client.calls.create(\n",
    "    twiml='<Response><Say voice = \"woman\">Hello, this is a test call from Twilio.</Say></Response>',\n",
    "    to='+917893893270',  # The phone number to call\n",
    "    from_='+14176204288'  # Your Twilio phone number\n",
    ")\n",
    "\n",
    "print('Call SID:', call.sid)\n"
   ]
  },
  {
   "cell_type": "code",
   "execution_count": null,
   "id": "917973e5",
   "metadata": {},
   "outputs": [],
   "source": [
    "# Download the helper library from https://www.twilio.com/docs/python/install\n",
    "import os\n",
    "from twilio.rest import Client\n",
    "\n",
    "# Set environment variables for your credentials\n",
    "# Read more at http://twil.io/secure\n",
    "\n",
    "account_sid = \"ACe6b0368b4bf6b5dcaf8d39d089e08c8d\"\n",
    "auth_token = \"0d8d1b010c361f5d8e76b51d11ecd2d4\"\n",
    "client = Client(account_sid, auth_token)\n",
    "\n",
    "call = client.calls.create(\n",
    "  url=\"http://demo.twilio.com/docs/voice.xml\",\n",
    "  to=\"+917893893270\",\n",
    "  from_=\"+14176204288\"\n",
    ")\n",
    "\n",
    "print(call.sid)"
   ]
  },
  {
   "cell_type": "code",
   "execution_count": 4,
   "id": "887f3fb3",
   "metadata": {},
   "outputs": [
    {
     "name": "stdout",
     "output_type": "stream",
     "text": [
      " * Serving Flask app \"__main__\" (lazy loading)\n",
      " * Environment: production\n",
      "\u001b[31m   WARNING: This is a development server. Do not use it in a production deployment.\u001b[0m\n",
      "\u001b[2m   Use a production WSGI server instead.\u001b[0m\n",
      " * Debug mode: on\n"
     ]
    },
    {
     "name": "stderr",
     "output_type": "stream",
     "text": [
      " * Running on http://127.0.0.1:5000/ (Press CTRL+C to quit)\n",
      " * Restarting with watchdog (fsevents)\n",
      "Traceback (most recent call last):\n",
      "  File \"/Users/vinay_kl/opt/anaconda3/lib/python3.9/site-packages/ipykernel_launcher.py\", line 15, in <module>\n",
      "    from ipykernel import kernelapp as app\n",
      "  File \"/Users/vinay_kl/opt/anaconda3/lib/python3.9/site-packages/ipykernel/__init__.py\", line 2, in <module>\n",
      "    from .connect import *\n",
      "  File \"/Users/vinay_kl/opt/anaconda3/lib/python3.9/site-packages/ipykernel/connect.py\", line 10, in <module>\n",
      "    import jupyter_client\n",
      "  File \"/Users/vinay_kl/opt/anaconda3/lib/python3.9/site-packages/jupyter_client/__init__.py\", line 6, in <module>\n",
      "    from .client import KernelClient\n",
      "  File \"/Users/vinay_kl/opt/anaconda3/lib/python3.9/site-packages/jupyter_client/client.py\", line 6, in <module>\n",
      "    from jupyter_client.channels import major_protocol_version\n",
      "  File \"/Users/vinay_kl/opt/anaconda3/lib/python3.9/site-packages/jupyter_client/channels.py\", line 10, in <module>\n",
      "    import asyncio\n",
      "  File \"/Users/vinay_kl/opt/anaconda3/lib/python3.9/site-packages/asyncio/__init__.py\", line 21, in <module>\n"
     ]
    },
    {
     "ename": "SystemExit",
     "evalue": "1",
     "output_type": "error",
     "traceback": [
      "An exception has occurred, use %tb to see the full traceback.\n",
      "\u001b[0;31mSystemExit\u001b[0m\u001b[0;31m:\u001b[0m 1\n"
     ]
    },
    {
     "name": "stderr",
     "output_type": "stream",
     "text": [
      "/Users/vinay_kl/opt/anaconda3/lib/python3.9/site-packages/IPython/core/interactiveshell.py:3377: UserWarning: To exit: use 'exit', 'quit', or Ctrl-D.\n",
      "  warn(\"To exit: use 'exit', 'quit', or Ctrl-D.\", stacklevel=1)\n",
      "    from .base_events import *\n",
      "  File \"/Users/vinay_kl/opt/anaconda3/lib/python3.9/site-packages/asyncio/base_events.py\", line 296\n",
      "    future = tasks.async(future, loop=self)\n",
      "                   ^\n",
      "SyntaxError: invalid syntax\n"
     ]
    }
   ],
   "source": [
    "from flask import Flask, request\n",
    "from twilio.twiml.voice_response import VoiceResponse\n",
    "\n",
    "app = Flask(__name__)\n",
    "\n",
    "@app.route('/voice', methods=['POST'])\n",
    "def voice():\n",
    "    response = VoiceResponse()\n",
    "\n",
    "    if 'Digits' in request.form:\n",
    "        # User has entered a digit\n",
    "        digit = request.form['Digits']\n",
    "        \n",
    "        if digit == '1':\n",
    "            # First step response\n",
    "            response.say('Welcome to Step 1. Please enter your name.')\n",
    "            response.gather(num_digits=1, action='/voice', method='POST')\n",
    "        elif digit == '2':\n",
    "            # Second step response\n",
    "            response.say('Welcome to Step 2. Please enter your age.')\n",
    "            response.gather(num_digits=2, action='/voice', method='POST')\n",
    "        else:\n",
    "            # Invalid input\n",
    "            response.say('Invalid input. Goodbye.')\n",
    "\n",
    "    else:\n",
    "        # Initial prompt\n",
    "        with response.gather(num_digits=1, action='/voice', method='POST') as gather:\n",
    "            gather.say('Welcome to the voice bot. Press 1 for Step 1. Press 2 for Step 2.')\n",
    "\n",
    "    return str(response)\n",
    "\n",
    "if __name__ == '__main__':\n",
    "    app.run(debug=True)\n"
   ]
  },
  {
   "cell_type": "code",
   "execution_count": 6,
   "id": "f507ccee",
   "metadata": {},
   "outputs": [
    {
     "name": "stdout",
     "output_type": "stream",
     "text": [
      " * Serving Flask app \"__main__\" (lazy loading)\n",
      " * Environment: production\n",
      "\u001b[31m   WARNING: This is a development server. Do not use it in a production deployment.\u001b[0m\n",
      "\u001b[2m   Use a production WSGI server instead.\u001b[0m\n",
      " * Debug mode: on\n"
     ]
    },
    {
     "name": "stderr",
     "output_type": "stream",
     "text": [
      " * Running on http://127.0.0.1:5001/ (Press CTRL+C to quit)\n",
      " * Restarting with watchdog (fsevents)\n",
      "Traceback (most recent call last):\n",
      "  File \"/Users/vinay_kl/opt/anaconda3/lib/python3.9/site-packages/ipykernel_launcher.py\", line 15, in <module>\n",
      "    from ipykernel import kernelapp as app\n",
      "  File \"/Users/vinay_kl/opt/anaconda3/lib/python3.9/site-packages/ipykernel/__init__.py\", line 2, in <module>\n",
      "    from .connect import *\n",
      "  File \"/Users/vinay_kl/opt/anaconda3/lib/python3.9/site-packages/ipykernel/connect.py\", line 10, in <module>\n",
      "    import jupyter_client\n",
      "  File \"/Users/vinay_kl/opt/anaconda3/lib/python3.9/site-packages/jupyter_client/__init__.py\", line 6, in <module>\n",
      "    from .client import KernelClient\n",
      "  File \"/Users/vinay_kl/opt/anaconda3/lib/python3.9/site-packages/jupyter_client/client.py\", line 6, in <module>\n",
      "    from jupyter_client.channels import major_protocol_version\n",
      "  File \"/Users/vinay_kl/opt/anaconda3/lib/python3.9/site-packages/jupyter_client/channels.py\", line 10, in <module>\n",
      "    import asyncio\n",
      "  File \"/Users/vinay_kl/opt/anaconda3/lib/python3.9/site-packages/asyncio/__init__.py\", line 21, in <module>\n",
      "    from .base_events import *\n",
      "  File \"/Users/vinay_kl/opt/anaconda3/lib/python3.9/site-packages/asyncio/base_events.py\", line 296\n",
      "    future = tasks.async(future, loop=self)\n",
      "                   ^\n",
      "SyntaxError: invalid syntax\n"
     ]
    },
    {
     "ename": "SystemExit",
     "evalue": "1",
     "output_type": "error",
     "traceback": [
      "An exception has occurred, use %tb to see the full traceback.\n",
      "\u001b[0;31mSystemExit\u001b[0m\u001b[0;31m:\u001b[0m 1\n"
     ]
    },
    {
     "name": "stderr",
     "output_type": "stream",
     "text": [
      "/Users/vinay_kl/opt/anaconda3/lib/python3.9/site-packages/IPython/core/interactiveshell.py:3377: UserWarning: To exit: use 'exit', 'quit', or Ctrl-D.\n",
      "  warn(\"To exit: use 'exit', 'quit', or Ctrl-D.\", stacklevel=1)\n"
     ]
    }
   ],
   "source": [
    "from flask import Flask, request\n",
    "from twilio.twiml.voice_response import VoiceResponse, Gather\n",
    "from twilio.rest import Client\n",
    "\n",
    "app = Flask(__name__)\n",
    "\n",
    "# Twilio Account SID and Auth Token from your Twilio account dashboard\n",
    "account_sid = \"ACe6b0368b4bf6b5dcaf8d39d089e08c8d\"\n",
    "auth_token = \"0d8d1b010c361f5d8e76b51d11ecd2d4\"\n",
    "twilio_phone_number = '+14176204288'  # Twilio phone number you purchased\n",
    "\n",
    "@app.route('/make_call', methods=['GET', 'POST'])\n",
    "def make_call():\n",
    "    client = Client(account_sid, auth_token)\n",
    "\n",
    "    # Replace 'recipient_number' with the phone number you want to call\n",
    "    recipient_number = '+917893893270'\n",
    "\n",
    "    # URL for handling user input during the call\n",
    "    gather_url = request.url_root + 'gather_input'\n",
    "\n",
    "    call = client.calls.create(\n",
    "        twiml=f'<Response><Say>Welcome to the Voice Bot. Please answer the following question. What is your favorite color?</Say><Gather action=\"{gather_url}\" numDigits=\"1\"></Gather></Response>',\n",
    "        to=recipient_number,\n",
    "        from_=twilio_phone_number\n",
    "    )\n",
    "\n",
    "    return f'Call initiated to {recipient_number}, Call SID: {call.sid}'\n",
    "\n",
    "@app.route('/gather_input', methods=['GET', 'POST'])\n",
    "def gather_input():\n",
    "    user_input = request.form['Digits']\n",
    "\n",
    "    # Process user's response\n",
    "    response = VoiceResponse()\n",
    "    if user_input == '1':\n",
    "        response.say(\"Great! Your favorite color is red.\")\n",
    "    else:\n",
    "        response.say(\"Sorry, we didn't get your response.\")\n",
    "\n",
    "    return str(response)\n",
    "\n",
    "if __name__ == '__main__':\n",
    "    app.run(debug=True, port=5001)\n"
   ]
  },
  {
   "cell_type": "code",
   "execution_count": null,
   "id": "7f3467be",
   "metadata": {},
   "outputs": [],
   "source": []
  }
 ],
 "metadata": {
  "kernelspec": {
   "display_name": "Python 3 (ipykernel)",
   "language": "python",
   "name": "python3"
  },
  "language_info": {
   "codemirror_mode": {
    "name": "ipython",
    "version": 3
   },
   "file_extension": ".py",
   "mimetype": "text/x-python",
   "name": "python",
   "nbconvert_exporter": "python",
   "pygments_lexer": "ipython3",
   "version": "3.9.12"
  }
 },
 "nbformat": 4,
 "nbformat_minor": 5
}
