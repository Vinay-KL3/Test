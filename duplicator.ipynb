{
 "cells": [
  {
   "cell_type": "code",
   "execution_count": 1,
   "id": "7958f1b9",
   "metadata": {},
   "outputs": [],
   "source": [
    "#!pip install pydub"
   ]
  },
  {
   "cell_type": "code",
   "execution_count": 2,
   "id": "d4c8fdaf",
   "metadata": {
    "scrolled": true
   },
   "outputs": [],
   "source": [
    "\n",
    "from pydub import AudioSegment\n",
    "import csv\n",
    "import os\n",
    "import pandas as pd"
   ]
  },
  {
   "cell_type": "code",
   "execution_count": 3,
   "id": "d30bead9",
   "metadata": {},
   "outputs": [
    {
     "name": "stdout",
     "output_type": "stream",
     "text": [
      "within non entity\n"
     ]
    },
    {
     "ename": "FileNotFoundError",
     "evalue": "[Errno 2] No such file or directory: '/Users/vinay_kl/Downloads/unique1.csv'",
     "output_type": "error",
     "traceback": [
      "\u001b[0;31m---------------------------------------------------------------------------\u001b[0m",
      "\u001b[0;31mFileNotFoundError\u001b[0m                         Traceback (most recent call last)",
      "Input \u001b[0;32mIn [3]\u001b[0m, in \u001b[0;36m<cell line: 52>\u001b[0;34m()\u001b[0m\n\u001b[1;32m     50\u001b[0m outPutPath\u001b[38;5;241m=\u001b[39m\u001b[38;5;124m'\u001b[39m\u001b[38;5;124m/Users/vinay_kl/Downloads/output_dd/static/\u001b[39m\u001b[38;5;124m'\u001b[39m\u001b[38;5;66;03m# out path where to export\u001b[39;00m\n\u001b[1;32m     51\u001b[0m \u001b[38;5;66;03m#entity should be set as True while making duplicates for entity responses\u001b[39;00m\n\u001b[0;32m---> 52\u001b[0m \u001b[43mduplicator\u001b[49m\u001b[43m(\u001b[49m\u001b[43msourceAudioPath\u001b[49m\u001b[43m,\u001b[49m\u001b[43mtemplatePath\u001b[49m\u001b[43m,\u001b[49m\u001b[43moutPutPath\u001b[49m\u001b[43m,\u001b[49m\u001b[43mentity\u001b[49m\u001b[38;5;241;43m=\u001b[39;49m\u001b[38;5;28;43;01mFalse\u001b[39;49;00m\u001b[43m)\u001b[49m\n",
      "Input \u001b[0;32mIn [3]\u001b[0m, in \u001b[0;36mduplicator\u001b[0;34m(sourceAudioPath, filePath, outPath, entity)\u001b[0m\n\u001b[1;32m     31\u001b[0m \u001b[38;5;66;03m# sourceAudioPath='/Users/kkabikhanganba/Downloads/SourcePrimaryResponses/'+entityPath\u001b[39;00m\n\u001b[1;32m     32\u001b[0m sourceAudioPath \u001b[38;5;241m=\u001b[39m sourceAudioPath \u001b[38;5;241m+\u001b[39m static_or_ent \u001b[38;5;241m+\u001b[39m \u001b[38;5;124m'\u001b[39m\u001b[38;5;124m/\u001b[39m\u001b[38;5;124m'\u001b[39m\n\u001b[0;32m---> 33\u001b[0m \u001b[38;5;28;01mwith\u001b[39;00m \u001b[38;5;28;43mopen\u001b[39;49m\u001b[43m(\u001b[49m\u001b[43mfilePath\u001b[49m\u001b[43m)\u001b[49m \u001b[38;5;28;01mas\u001b[39;00m csv_file:\n\u001b[1;32m     34\u001b[0m     csv_reader \u001b[38;5;241m=\u001b[39m csv\u001b[38;5;241m.\u001b[39mreader(csv_file)\n\u001b[1;32m     35\u001b[0m     \u001b[38;5;28;01mfor\u001b[39;00m col \u001b[38;5;129;01min\u001b[39;00m csv_reader:\n",
      "\u001b[0;31mFileNotFoundError\u001b[0m: [Errno 2] No such file or directory: '/Users/vinay_kl/Downloads/unique1.csv'"
     ]
    }
   ],
   "source": [
    "\n",
    "#audio generator\n",
    "def multiplier(sourceAudioPath,outPath,responseID,audioID):\n",
    "    #print(\"source path \", sourceAudioPath)\n",
    "    #print(\"out path \", outPath)\n",
    "    #generate or export new audios to the given output path\n",
    "    #fileName = response ID\n",
    "    #status=False\n",
    "    sourceAudio=sourceAudioPath+audioID+\".wav\"\n",
    "    if os.path.exists(sourceAudio)==True:\n",
    "        audio = AudioSegment.from_wav(sourceAudio)\n",
    "        audio.export(outPath+responseID+\".wav\", format=\"wav\")\n",
    "        print('exported ',responseID+\".wav\")\n",
    "        #status=True\n",
    "    else:\n",
    "        print(audioID+\".wav does not exist so \",responseID+\".wav not exported or created.\")\n",
    "\n",
    "\n",
    "def duplicator(sourceAudioPath, filePath, outPath, entity=False):\n",
    "    # function: read response IDs and makes duplicate audios from assigned unique audio\n",
    "    # filePath = csv file path of a template of the all duplicate responses\n",
    "    finalOutPath=''\n",
    "    count = 0\n",
    "    static_or_ent=''\n",
    "    if entity == True:\n",
    "        static_or_ent= 'entity'\n",
    "        print(\"is within entity.\")\n",
    "    else:\n",
    "        static_or_ent = 'static'\n",
    "        print('within non entity')\n",
    "\n",
    "    # sourceAudioPath='/Users/kkabikhanganba/Downloads/SourcePrimaryResponses/'+entityPath\n",
    "    sourceAudioPath = sourceAudioPath + static_or_ent + '/'\n",
    "    with open(filePath) as csv_file:\n",
    "        csv_reader = csv.reader(csv_file)\n",
    "        for col in csv_reader:\n",
    "            print(\"final out path is: \", finalOutPath)\n",
    "            audioID = col[0]  # audio id\n",
    "            responseID = col[1]  # responseID as fileName\n",
    "            #gender = col[3]  # if gender is not required, assign gender with empty string. gender = ''\n",
    "            gender=''\n",
    "            finalOutPath = outPath + static_or_ent + '/' #static or entity\n",
    "            count += 1\n",
    "            print(audioID, \"out path\", outPath,responseID)\n",
    "            print('source path ',sourceAudioPath)\n",
    "            multiplier(sourceAudioPath, finalOutPath, responseID, audioID)\n",
    "    print('total responses count ', count)\n",
    "\n",
    "sourceAudioPath='/Users/vinay_kl/Downloads/unique/'# path of unique audios/responses\n",
    "templatePath='/Users/vinay_kl/Downloads/unique1.csv'# template path\n",
    "outPutPath='/Users/vinay_kl/Downloads/output_dd/static/'# out path where to export\n",
    "#entity should be set as True while making duplicates for entity responses\n",
    "duplicator(sourceAudioPath,templatePath,outPutPath,entity=False)\n",
    "\n"
   ]
  },
  {
   "cell_type": "code",
   "execution_count": 35,
   "id": "787edeb9",
   "metadata": {
    "scrolled": true
   },
   "outputs": [
    {
     "name": "stdout",
     "output_type": "stream",
     "text": [
      "/n E1013.wav\n",
      "/n E1012.wav\n",
      "/n E1010.wav\n",
      "/n E1011.wav\n"
     ]
    }
   ],
   "source": [
    "sourceAudioPath = \"/Users/vinay_kl/Downloads/unique/\"\n",
    "\n",
    "files = os.listdir(sourceAudioPath)\n",
    "\n",
    "data = []\n",
    "\n",
    "for f in files:\n",
    "\n",
    "    print(\"/n\",f)"
   ]
  },
  {
   "cell_type": "code",
   "execution_count": null,
   "id": "187d3bd5",
   "metadata": {},
   "outputs": [],
   "source": []
  },
  {
   "cell_type": "code",
   "execution_count": null,
   "id": "c06c5725",
   "metadata": {},
   "outputs": [],
   "source": []
  }
 ],
 "metadata": {
  "kernelspec": {
   "display_name": "Python 3 (ipykernel)",
   "language": "python",
   "name": "python3"
  },
  "language_info": {
   "codemirror_mode": {
    "name": "ipython",
    "version": 3
   },
   "file_extension": ".py",
   "mimetype": "text/x-python",
   "name": "python",
   "nbconvert_exporter": "python",
   "pygments_lexer": "ipython3",
   "version": "3.9.12"
  }
 },
 "nbformat": 4,
 "nbformat_minor": 5
}
