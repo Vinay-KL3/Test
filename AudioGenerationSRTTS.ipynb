{
 "cells": [
  {
   "cell_type": "code",
   "execution_count": 1,
   "metadata": {
    "colab": {
     "base_uri": "https://localhost:8080/"
    },
    "id": "pXmE4MLZYscO",
    "outputId": "480d2928-8184-400a-9663-670a5725c16e"
   },
   "outputs": [
    {
     "ename": "ModuleNotFoundError",
     "evalue": "No module named 'google.colab'",
     "output_type": "error",
     "traceback": [
      "\u001b[0;31m---------------------------------------------------------------------------\u001b[0m",
      "\u001b[0;31mModuleNotFoundError\u001b[0m                       Traceback (most recent call last)",
      "Input \u001b[0;32mIn [1]\u001b[0m, in \u001b[0;36m<cell line: 1>\u001b[0;34m()\u001b[0m\n\u001b[0;32m----> 1\u001b[0m \u001b[38;5;28;01mfrom\u001b[39;00m \u001b[38;5;21;01mgoogle\u001b[39;00m\u001b[38;5;21;01m.\u001b[39;00m\u001b[38;5;21;01mcolab\u001b[39;00m \u001b[38;5;28;01mimport\u001b[39;00m drive\n\u001b[1;32m      2\u001b[0m drive\u001b[38;5;241m.\u001b[39mmount(\u001b[38;5;124m'\u001b[39m\u001b[38;5;124m/content/drive\u001b[39m\u001b[38;5;124m'\u001b[39m)\n",
      "\u001b[0;31mModuleNotFoundError\u001b[0m: No module named 'google.colab'"
     ]
    }
   ],
   "source": [
    "from google.colab import drive\n",
    "drive.mount('/content/drive')"
   ]
  },
  {
   "cell_type": "code",
   "execution_count": 1,
   "metadata": {
    "id": "Fenv9cZuAfx9"
   },
   "outputs": [],
   "source": [
    "import requests\n",
    "import json\n",
    "import csv"
   ]
  },
  {
   "cell_type": "code",
   "execution_count": 2,
   "metadata": {
    "id": "5uKGd_yrBIP7"
   },
   "outputs": [],
   "source": [
    "def saarthiTTS3(inputPath,outputPath):\n",
    "    countAudio=0\n",
    "    #url = \"http://35.239.2.169:8000/predict\"\n",
    "    #url='http://35.239.180.29:8890/predict'\n",
    "    url = ' http://216.48.183.17:8090/predict'\n",
    "    \n",
    "    headers = {\n",
    "        'Content-Type': 'application/json'\n",
    "      }\n",
    "    \n",
    "    with open(inputPath) as csv_file:\n",
    "        csv_reader = csv.reader(csv_file)\n",
    "        for col in csv_reader:\n",
    "            nameRoman=col[0]\n",
    "            print(nameRoman)\n",
    "            nameDeva=col[1]\n",
    "            \n",
    "            #text=\"क्या मेरी बात, \"+nameDeva+\" जी से हो रही है ?\" #क्या मेरी बात {customer_name} जी से हो रही है\n",
    "            #text=\"असुविधा के लीये माफी चाहूंगी। क्या मैं \"+nameDeva+\" जी से बात कर सकती हूं?\"\n",
    "            #text='एमाय् टॉकिङ् तु '+nameDeva+'?'\n",
    "            #text=\"क्या मेरी बात, \"+nameDeva+\" जी से हो रही है ?\"\n",
    "            #text= \"क्या मैं \"+nameDeva+\" जी से बात कर सकती हूं?\"\n",
    "            #text= \"\"+nameDeva+ \"जी कब अवेलबल रहेंगे?\"\n",
    "            text= \"\"+nameDeva+ \"?\"\n",
    "            \"\"\"\n",
    "            capri utterances------------->\n",
    "            क्या मेरी बात {customer_name} जी से हो रही है à  Naming Convention {Customer_Name1}\n",
    "            क्या मैं {customer_name} जी से बात कर सकती हूं? à Naming Convention {Customer_Name2}\n",
    "            {customer_name} जी कब अवेलबल रहेंगे? à Naming Convention {Customer_Name3}\n",
    "            \"\"\"\n",
    "            #text=nameDeva\n",
    "            print(text)\n",
    "            payload = json.dumps({\n",
    "\n",
    "                \"text\": text,\n",
    "\n",
    "                \"language\": \"hi\",\n",
    "\n",
    "                \"sample_rate\":\"200000\", #8000\n",
    "\n",
    "                \"length\":0.7,\n",
    "\n",
    "                \"name\":\"saarthi\",\n",
    "\n",
    "                \"file_name\":nameRoman+'.wav'\n",
    "\n",
    "              })\n",
    "            response = requests.request(\"POST\", url, headers=headers, data=payload)\n",
    "            with open(outputPath+nameRoman+'.wav', 'wb') as f:\n",
    "                f.write(response.content)\n",
    "                print('audio generated ',nameRoman+'1.wav')\n",
    "                f.close()\n",
    "                countAudio+=1\n",
    "                print('audio count is: ',countAudio)\n",
    "    print(\"....audio generation completed.......................!!!!!!\")"
   ]
  },
  {
   "cell_type": "code",
   "execution_count": 3,
   "metadata": {
    "colab": {
     "base_uri": "https://localhost:8080/"
    },
    "id": "c0XE4E6zCDum",
    "outputId": "80548d3e-99ad-4227-c01a-7d5e4ba774a8"
   },
   "outputs": [
    {
     "name": "stdout",
     "output_type": "stream",
     "text": [
      "\n",
      "?\n",
      "audio generated  1.wav\n",
      "audio count is:  1\n",
      "SEF81\n",
      "Oh! I understand. please try to pay on time. Thank you!?\n",
      "audio generated  SEF811.wav\n",
      "audio count is:  2\n",
      "....audio generation completed.......................!!!!!!\n"
     ]
    }
   ],
   "source": [
    "inputCsvFile='/Users/vinay_kl/Downloads/Untitled spreadsheet - Sheet1-2.csv'\n",
    "outputPath='/Users/vinay_kl/Downloads/'\n",
    "saarthiTTS3(inputCsvFile,outputPath)"
   ]
  },
  {
   "cell_type": "code",
   "execution_count": null,
   "metadata": {
    "id": "q95dX83CDtkm"
   },
   "outputs": [],
   "source": [
    "from google.colab import files\n",
    "import os\n",
    "!zip -r /content/drive/MyDrive/BajajNames/final.zip /content/drive/MyDrive/BajajNames/names_list_1/\n",
    "all_files=os.listdir(\"/content/drive/MyDrive/BajajNames/names_list_1/\")\n",
    "for file in all_files:\n",
    "  files.download(\"/content/drive/MyDrive/BajajNames/final.zip\")"
   ]
  }
 ],
 "metadata": {
  "accelerator": "GPU",
  "colab": {
   "collapsed_sections": [],
   "provenance": []
  },
  "kernelspec": {
   "display_name": "Python 3 (ipykernel)",
   "language": "python",
   "name": "python3"
  },
  "language_info": {
   "codemirror_mode": {
    "name": "ipython",
    "version": 3
   },
   "file_extension": ".py",
   "mimetype": "text/x-python",
   "name": "python",
   "nbconvert_exporter": "python",
   "pygments_lexer": "ipython3",
   "version": "3.9.12"
  }
 },
 "nbformat": 4,
 "nbformat_minor": 1
}
