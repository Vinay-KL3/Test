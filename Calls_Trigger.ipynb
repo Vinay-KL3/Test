{
 "cells": [
  {
   "cell_type": "code",
   "execution_count": 29,
   "id": "a559aa23",
   "metadata": {},
   "outputs": [],
   "source": [
    "import pandas as pd\n",
    "import csv\n",
    "import requests\n",
    "import json"
   ]
  },
  {
   "cell_type": "code",
   "execution_count": 30,
   "id": "01e9ff02",
   "metadata": {},
   "outputs": [
    {
     "name": "stdout",
     "output_type": "stream",
     "text": [
      "prediction: {'data': {'message': 'calles triggered to Epicode successfully'}}\n",
      "Vinay Kumar will receive a call\n",
      "prediction: {'data': {'message': 'calles triggered to Epicode successfully'}}\n",
      "Darsh Kolhe will receive a call\n",
      "prediction: {'data': {'message': 'calles triggered to Epicode successfully'}}\n",
      "Manikandan C will receive a call\n",
      "prediction: {'data': {'message': 'calles triggered to Epicode successfully'}}\n",
      "Apoorve K will receive a call\n",
      "prediction: {'data': {'message': 'calles triggered to Epicode successfully'}}\n",
      "Jeevesh Juneja will receive a call\n",
      "prediction: {'data': {'message': 'calles triggered to Epicode successfully'}}\n",
      "Shubham Chaurasia will receive a call\n",
      "prediction: {'data': {'message': 'calles triggered to Epicode successfully'}}\n",
      "Sanket Shah will receive a call\n",
      "prediction: {'data': {'message': 'calles triggered to Epicode successfully'}}\n",
      "Onkar Susladkar will receive a call\n",
      "prediction: {'data': {'message': 'calles triggered to Epicode successfully'}}\n",
      "Akash will receive a call\n",
      "prediction: {'data': {'message': 'calles triggered to Epicode successfully'}}\n",
      "Kabi will receive a call\n",
      "prediction: {'data': {'message': 'calles triggered to Epicode successfully'}}\n",
      "James Paul will receive a call\n",
      "prediction: {'data': {'message': 'calles triggered to Epicode successfully'}}\n",
      "Prakrithi will receive a call\n",
      "prediction: {'data': {'message': 'calles triggered to Epicode successfully'}}\n",
      "Amandeep will receive a call\n",
      "prediction: {'data': {'message': 'calles triggered to Epicode successfully'}}\n",
      "sajith c will receive a call\n",
      "prediction: {'data': {'message': 'calles triggered to Epicode successfully'}}\n",
      "Himani Kanojia will receive a call\n"
     ]
    },
    {
     "ename": "IndexError",
     "evalue": "list index out of range",
     "output_type": "error",
     "traceback": [
      "\u001b[0;31m---------------------------------------------------------------------------\u001b[0m",
      "\u001b[0;31mIndexError\u001b[0m                                Traceback (most recent call last)",
      "Input \u001b[0;32mIn [30]\u001b[0m, in \u001b[0;36m<cell line: 7>\u001b[0;34m()\u001b[0m\n\u001b[1;32m     11\u001b[0m column \u001b[38;5;241m=\u001b[39m \u001b[38;5;241m0\u001b[39m\n\u001b[1;32m     12\u001b[0m coloum \u001b[38;5;241m=\u001b[39m \u001b[38;5;241m3\u001b[39m\n\u001b[0;32m---> 13\u001b[0m Number \u001b[38;5;241m=\u001b[39m \u001b[43mthe_whole_file\u001b[49m\u001b[43m[\u001b[49m\u001b[43mrow\u001b[49m\u001b[43m]\u001b[49m[column]\n\u001b[1;32m     14\u001b[0m Name \u001b[38;5;241m=\u001b[39m the_whole_file[row][coloum]\n\u001b[1;32m     15\u001b[0m \u001b[38;5;66;03m#print (Number)  \u001b[39;00m\n\u001b[1;32m     16\u001b[0m \u001b[38;5;66;03m#print (Name)\u001b[39;00m\n",
      "\u001b[0;31mIndexError\u001b[0m: list index out of range"
     ]
    }
   ],
   "source": [
    "with open('/Users/vinay_kl/Downloads/sheet4.csv', 'r') as f:\n",
    "    reader = csv.reader(f)\n",
    "    the_whole_file = list(reader)\n",
    "    \n",
    "    \n",
    "count = 0\n",
    "while (count < 17):\n",
    "    count = count + 1\n",
    "\n",
    "    row = count\n",
    "    column = 0\n",
    "    coloum = 3\n",
    "    Number = the_whole_file[row][column]\n",
    "    Name = the_whole_file[row][coloum]\n",
    "    #print (Number)  \n",
    "    #print (Name)\n",
    "    \n",
    "\n",
    "    headers = {'Content-Type':'application/json'}\n",
    "    input_data =[\n",
    "        {\n",
    "    \"contactInfo.primary\": Number,\n",
    "    \"loanAccountDetails.emiAmount\": \"80250\",\n",
    "    \"loanAccountDetails.emiDueDate\": \"01-11-2022\",\n",
    "    \"primaryInfo.firstName\": Name,\n",
    "    \"primaryInfo.flow\": \"predue\",\n",
    "    \"primaryInfo.language\": \"English\",\n",
    "    \"email.primary\": \"qewreeds@gmail.com\",\n",
    "    \"clientName\": \"Newmaia Testing\",\n",
    "    \"loanAccountDetails.loanId\":\"test1\",\n",
    "    \"loanAccountDetails.noOfLoans\":4,\n",
    "    \"primaryInfo.age\":25,\n",
    "    \"primaryInfo.gender\":\"M\",\n",
    "    \"primaryInfo.geographicLocation\":\"bangalore\",\n",
    "    \"primaryInfo.region\":\"Urban\",\n",
    "    \"primaryInfo.collared\":\"Blue\",\n",
    "    \"loanAccountDetails.totalLoanAmount\":10000,\n",
    "    \"loanAccountDetails.interestRate\":4,\n",
    "    \"loanAccountDetails.principalAmount\":25000,\n",
    "    \"loanAccountDetails.lateFee\":100,\n",
    "    \"loanAccountDetails.loanApplicationDate\":\"02-06-2022\",\n",
    "    \"loanAccountDetails.loanEndingDate\":\"02-10-2022\",\n",
    "    \"loanAccountDetails.loanAmountRemaining\":40000,\n",
    "    \"loanAccountDetails.loanTenureLeft\":50000,\n",
    "    \"behaviourDetails.typology\":\"WAOR\",\n",
    "    \"callId\":\"12345\",\n",
    "    \"bargingCall\":\"True\",\n",
    "    \"behaviourDetails.callDisposition\":\"Delay - Death In Family\",\n",
    "    \"primaryInfo.agentname\":\"Pooja\",\n",
    "    \"primaryInfo.bankname\":\"S B I\"\n",
    "    }\n",
    "    ]    \n",
    "\n",
    "    resp = requests.post(\"https://staging-connectors.saarthi.ai/dialer/api/dialer/excotel/v1/initiateCall\", json=input_data)\n",
    "\n",
    "\n",
    "    print(\"prediction:\", resp.json())\n",
    "\n",
    "\n",
    "   \n",
    "    \n",
    "    print(Name + \" will receive a call\")\n",
    "    \n",
    "else:\n",
    "    print(\"Loop is ended\")\n",
    "\n"
   ]
  },
  {
   "cell_type": "code",
   "execution_count": null,
   "id": "719b51a1",
   "metadata": {},
   "outputs": [],
   "source": []
  },
  {
   "cell_type": "code",
   "execution_count": null,
   "id": "d440770d",
   "metadata": {},
   "outputs": [],
   "source": []
  }
 ],
 "metadata": {
  "kernelspec": {
   "display_name": "Python 3 (ipykernel)",
   "language": "python",
   "name": "python3"
  },
  "language_info": {
   "codemirror_mode": {
    "name": "ipython",
    "version": 3
   },
   "file_extension": ".py",
   "mimetype": "text/x-python",
   "name": "python",
   "nbconvert_exporter": "python",
   "pygments_lexer": "ipython3",
   "version": "3.9.12"
  }
 },
 "nbformat": 4,
 "nbformat_minor": 5
}
