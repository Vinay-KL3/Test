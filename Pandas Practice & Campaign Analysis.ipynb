{
 "cells": [
  {
   "cell_type": "code",
   "execution_count": null,
   "id": "fc5d60e3",
   "metadata": {},
   "outputs": [],
   "source": [
    "!pip install xlsxwriter\n",
    "import pandas as pd\n",
    "import numpy as np\n",
    "import glob\n",
    "import os"
   ]
  },
  {
   "cell_type": "code",
   "execution_count": null,
   "id": "3a63d7fc",
   "metadata": {},
   "outputs": [],
   "source": [
    "PATH = '/Users/vinay_kl/Downloads/new/'\n",
    "UPDATE = \"New\""
   ]
  },
  {
   "cell_type": "code",
   "execution_count": null,
   "id": "a04ad72f",
   "metadata": {},
   "outputs": [],
   "source": [
    "df = pd.read_excel(PATH, usecols=\"A,B,C,D,E,F,G,H,I\")"
   ]
  },
  {
   "cell_type": "code",
   "execution_count": null,
   "id": "ae3ba3bb",
   "metadata": {},
   "outputs": [],
   "source": [
    "files = glob.glob(PATH+'.xlsx')\n",
    "for file in files:\n",
    "    ff = file.split('/')[-1][:-5]\n",
    "    xl = pd.ExcelFile(f'{PATH}{ff}.xlsx')\n",
    "    print(xl.sheet_names)"
   ]
  },
  {
   "cell_type": "code",
   "execution_count": null,
   "id": "4de12d70",
   "metadata": {},
   "outputs": [],
   "source": [
    "df[\"Status\"] = [UPDATE]*len(df)"
   ]
  },
  {
   "cell_type": "code",
   "execution_count": null,
   "id": "309fb6e3",
   "metadata": {},
   "outputs": [],
   "source": [
    "df.head(15)"
   ]
  },
  {
   "cell_type": "code",
   "execution_count": null,
   "id": "14b30873",
   "metadata": {},
   "outputs": [],
   "source": [
    "files = os.listdir(PATH)\n",
    "for fi in files:\n",
    "    try:\n",
    "        \n",
    "        newPath = PATH+fi\n",
    "        print(\"final path is =\"+newPath)\n",
    "        df = pd.read_excel(newPath, usecols=\"A,B,C,D,E,F,G,H,I\")\n",
    "        #data = {\"key\":\"empty\"}\n",
    "        #data.to_excel(f\"{PATH}.xlsx\", ExcelWriter.engine, sheet_name= \"1\", index=False)\n",
    "        #data.to_excel(PATH, index=False)\n",
    "        CombinedData = pd.DataFrame()\n",
    "        CombinedData = CombinedData.append(df)\n",
    "\n",
    "\n",
    "\n",
    "        #finalSheet = pd.concat([new_df,df],axis=1, join='inner')\n",
    "        \n",
    "    except Exception as e:\n",
    "        print(e)\n",
    "        \n",
    "\n",
    "        \n",
    "#CombinedData.to_excel(PATH, sheet_name= \"1\", index=False)\n",
    "CombinedData.tail(15)\n",
    "        "
   ]
  },
  {
   "cell_type": "code",
   "execution_count": null,
   "id": "a69b629f",
   "metadata": {},
   "outputs": [],
   "source": [
    "df.head()"
   ]
  },
  {
   "cell_type": "code",
   "execution_count": null,
   "id": "016af854",
   "metadata": {},
   "outputs": [],
   "source": [
    "df = pd.read_excel(file_location,sheet_name='Sheet1', usecols=\"A:N\")"
   ]
  },
  {
   "cell_type": "code",
   "execution_count": null,
   "id": "f124f1c6",
   "metadata": {},
   "outputs": [],
   "source": [
    "pd.ExcelFile (\"/Users/vinay_kl/Downloads/new/Bangla_Predue_Follow_Up_utter_follow_up_callBack_with_time_predue_static_U_F.xlsx\").sheet_names"
   ]
  },
  {
   "cell_type": "code",
   "execution_count": null,
   "id": "61873916",
   "metadata": {},
   "outputs": [],
   "source": [
    "\n",
    "        \n",
    "        writer = pd.ExcelWriter(\"CombinedData.xlsx\",engine=\"xlsxwriter\")\n",
    "        CombinedData = pd.DataFrame ()\n",
    "        \n",
    "        files = os.listdir(PATH)\n",
    "        for fi in files:\n",
    "            try:\n",
    "\n",
    "                newPath = PATH+fi\n",
    "                print(\"final path is =\"+newPath)\n",
    "                df = pd.read_excel(newPath, usecols=\"A,B,C,D,E,F,G,H,I\")\n",
    "                CombinedData = CombinedData.concat(df)\n",
    "                \n",
    "            except Exception as e:\n",
    "                print(e)\n",
    "\n",
    "        \n",
    "        CombinedData.to_excel(writer, sheet_name = \"AllData\", index = False)\n",
    "        writer.save ()\n",
    "        \n",
    "\n",
    "\n",
    "\n",
    "        \n",
    "        \n",
    "    "
   ]
  },
  {
   "cell_type": "code",
   "execution_count": 10,
   "id": "7aba6c89",
   "metadata": {},
   "outputs": [
    {
     "name": "stdout",
     "output_type": "stream",
     "text": [
      "Requirement already satisfied: xlsxwriter in /Users/vinay_kl/opt/anaconda3/lib/python3.9/site-packages (3.0.3)\r\n"
     ]
    }
   ],
   "source": [
    "!pip install xlsxwriter\n",
    "import pandas as pd\n",
    "import numpy as np\n",
    "import glob\n",
    "import os"
   ]
  },
  {
   "cell_type": "code",
   "execution_count": null,
   "id": "4eae5aff",
   "metadata": {},
   "outputs": [],
   "source": [
    "Path = \"/Users/vinay_kl/Downloads/Tune Talk_2022-09-01T00/00/00_2023-02-28T23/59/59page 4.csv\""
   ]
  },
  {
   "cell_type": "code",
   "execution_count": null,
   "id": "9f58a83d",
   "metadata": {},
   "outputs": [],
   "source": [
    "df = pd.read_excel(\"/Users/vinay_kl/Downloads/TT.xlsx\")\n",
    "\n",
    "\n",
    "\n",
    "print(len(df))\n",
    "\n",
    "for Ctry in df['Category'].unique():\n",
    "         print(Ctry)\n",
    "         print(df['Category'].value_counts()[Ctry])\n",
    "            \n",
    "for Lng in df['Language'].unique():\n",
    "         print(Lng)\n",
    "         print(df['Language'].value_counts()[Lng])\n",
    "        \n",
    "for Disp in df['Disposition'].unique():\n",
    "         print(Disp)\n",
    "         print(df['Disposition'].value_counts()[Disp])"
   ]
  },
  {
   "cell_type": "code",
   "execution_count": null,
   "id": "18e0236b",
   "metadata": {},
   "outputs": [],
   "source": [
    "print(df['Category'].value_counts()[\"User Not Responding\"])\n",
    "print(df['Category'].value_counts()[\"Data and Network\"])"
   ]
  },
  {
   "cell_type": "code",
   "execution_count": null,
   "id": "79f76722",
   "metadata": {},
   "outputs": [],
   "source": []
  },
  {
   "cell_type": "code",
   "execution_count": null,
   "id": "b9db1073",
   "metadata": {},
   "outputs": [],
   "source": [
    "files = os.listdir(PATH)\n",
    "for fi in files:\n",
    "    newPath = PATH+fi\n",
    "    print(newPath)"
   ]
  },
  {
   "cell_type": "code",
   "execution_count": null,
   "id": "09c463ba",
   "metadata": {},
   "outputs": [],
   "source": [
    "df = pd.read_csv(\"/Users/vinay_kl/Downloads/Tune Talk_2022-09-01T00-00-00_2023-02-28T23-59-59page 4/Tune Talk_2022-09-01T00:00:00_2023-02-28T23:59:59page 4.csv\")\n",
    "df.to_excel(\"TT4.xlsx\", sheet_name=\"Report\", index=False)"
   ]
  },
  {
   "cell_type": "code",
   "execution_count": null,
   "id": "08ae292c",
   "metadata": {},
   "outputs": [],
   "source": []
  },
  {
   "cell_type": "code",
   "execution_count": null,
   "id": "a2632628",
   "metadata": {},
   "outputs": [],
   "source": [
    "PATH = '/Users/vinay_kl/Downloads/Tune Talk_2022-09-01T00-00-00_2023-02-28T23-59-59page 4/excel/'"
   ]
  },
  {
   "cell_type": "code",
   "execution_count": null,
   "id": "9c72e7a1",
   "metadata": {},
   "outputs": [],
   "source": [
    "files = os.listdir(PATH)\n",
    "for fi in files:\n",
    "    newPath = PATH+fi\n",
    "    print(newPath)\n",
    "    df = pd.read_excel(newPath)\n",
    "    \n",
    "    print(len(df))\n",
    "\n",
    "    for Ctry in df['Category'].unique():\n",
    "             print(Ctry)\n",
    "             print(df['Category'].value_counts()[Ctry])\n",
    "\n",
    "    for Lng in df['Language'].unique():\n",
    "             print(Lng)\n",
    "             print(df['Language'].value_counts()[Lng])\n",
    "\n",
    "    for Disp in df['Disposition'].unique():\n",
    "             print(Disp)\n",
    "             print(df['Disposition'].value_counts()[Disp])\n",
    "\n",
    "    "
   ]
  },
  {
   "cell_type": "code",
   "execution_count": null,
   "id": "42f29dc6",
   "metadata": {},
   "outputs": [],
   "source": []
  },
  {
   "cell_type": "code",
   "execution_count": 2,
   "id": "93f48b36",
   "metadata": {},
   "outputs": [],
   "source": [
    "PATH = '/Users/vinay_kl/Downloads/Tune Talk_2022-09-01T00-00-00_2023-02-28T23-59-59page 4/excel/'"
   ]
  },
  {
   "cell_type": "code",
   "execution_count": 13,
   "id": "f9439a5f",
   "metadata": {},
   "outputs": [
    {
     "name": "stdout",
     "output_type": "stream",
     "text": [
      "111435\n",
      "User Not Responding\n",
      "57524\n",
      "Mobile Number Portability\n",
      "19798\n",
      "Topup/Account\n",
      "5532\n",
      "Others\n",
      "5254\n",
      "Data and Network\n",
      "7705\n",
      "Sim\n",
      "15532\n",
      "General\n",
      "90\n",
      "English\n",
      "111435\n",
      "No Response\n",
      "49643\n",
      "Resolved\n",
      "39272\n",
      "Handoff\n",
      "22482\n",
      "-\n",
      "38\n"
     ]
    }
   ],
   "source": [
    "# files = os.listdir(PATH)\n",
    "# for fi in files:\n",
    "try:\n",
    "        \n",
    "#         newPath = PATH+fi\n",
    "#         print(\"final path is =\"+newPath)\n",
    "\n",
    "    newPath = \"/Users/vinay_kl/Downloads/Tune.csv\"\n",
    "\n",
    "    df = pd.read_csv(newPath)\n",
    "\n",
    "    print(len(df))\n",
    "\n",
    "    for Ctry in df['Category'].unique():\n",
    "             print(Ctry)\n",
    "             print(df['Category'].value_counts()[Ctry])\n",
    "\n",
    "    for Lng in df['Language'].unique():\n",
    "             print(Lng)\n",
    "             print(df['Language'].value_counts()[Lng])\n",
    "\n",
    "    for Disp in df['Disposition'].unique():\n",
    "             print(Disp)\n",
    "             print(df['Disposition'].value_counts()[Disp])\n",
    "\n",
    "    #finalSheet = pd.concat([new_df,df],axis=1, join='inner')\n",
    "\n",
    "except Exception as e:\n",
    "    print(e)"
   ]
  },
  {
   "cell_type": "code",
   "execution_count": null,
   "id": "bf628f2b",
   "metadata": {},
   "outputs": [],
   "source": [
    "#Pandas doesnot support \"NaN\"\n",
    "#we have to import numpy as np to use NaN\n",
    "#use it as np.NaN\n",
    "----------------------------------------------------\n",
    "1) dataframe import export\n",
    "2) filtering data\n",
    "3) handling missing values (fillna(method = \"ffill\"), dropna, replace, .interpolate)\n",
    "4) some useful pandas commands(.unique, .concat, .value_counts()[coloumName], .max, .min, .mean, .describe)\n",
    "5) .concate, .merge, .pivot, groupby\n",
    "6) handle large files [1. give datatype to reduce memory, 2.usecols : to consider only required coloums of data]\n",
    "\n",
    "(inplace = TRUE) : to change dataframe\n",
    "------------------------------------------------------\n",
    "g = df.groupby(coloumName)\n",
    "\n",
    "for city, city_df in g:\n",
    "    print(city)\n",
    "    print(city_df)\n",
    "------------------------------------------------------\n",
    "revision = https://youtu.be/iGFdh6_FePU\n",
    "data wrangling = https://youtu.be/EaGbS7eWSs0\n",
    "concat = https://youtu.be/WGOEFok1szA\n",
    "merge = https://youtu.be/h4hOPGo4UVU\n",
    "pivot = https://youtu.be/xPPs59pn6qU    \n",
    "int questions = https://youtu.be/B_LA2sM42ls    "
   ]
  },
  {
   "cell_type": "code",
   "execution_count": 9,
   "id": "34cfe544",
   "metadata": {},
   "outputs": [],
   "source": [
    "import time\n",
    "import datetime"
   ]
  },
  {
   "cell_type": "code",
   "execution_count": 11,
   "id": "c48dacb6",
   "metadata": {},
   "outputs": [
    {
     "name": "stdout",
     "output_type": "stream",
     "text": [
      "2023-04-03 11:58:54.460713\n"
     ]
    }
   ],
   "source": [
    "v = datetime.datetime.now()\n",
    "print(v)"
   ]
  },
  {
   "cell_type": "code",
   "execution_count": 1,
   "id": "283101e8",
   "metadata": {},
   "outputs": [
    {
     "name": "stderr",
     "output_type": "stream",
     "text": [
      "Progress: 100%|█████████████████████████████████████████████████| 1000/1000 [01:46<00:00,  9.43it/s]"
     ]
    }
   ],
   "source": [
    "from tqdm import tqdm\n",
    "import time\n",
    "\n",
    "# Define the number of iterations\n",
    "total_iterations = 1000\n",
    "\n",
    "# Create the tqdm progress bar\n",
    "progress_bar = tqdm(total=total_iterations, desc='Progress', ncols=100)\n",
    "\n",
    "# Perform the iterations\n",
    "for i in range(total_iterations):\n",
    "    # Your code here\n",
    "    # Simulating some work being done\n",
    "    time.sleep(0.1)\n",
    "\n",
    "    # Update the progress bar\n",
    "    progress_bar.update(1)\n",
    "\n",
    "# Close the progress bar\n",
    "# progress_bar.close()"
   ]
  },
  {
   "cell_type": "code",
   "execution_count": null,
   "id": "bfc90789",
   "metadata": {},
   "outputs": [],
   "source": []
  }
 ],
 "metadata": {
  "kernelspec": {
   "display_name": "Python 3 (ipykernel)",
   "language": "python",
   "name": "python3"
  },
  "language_info": {
   "codemirror_mode": {
    "name": "ipython",
    "version": 3
   },
   "file_extension": ".py",
   "mimetype": "text/x-python",
   "name": "python",
   "nbconvert_exporter": "python",
   "pygments_lexer": "ipython3",
   "version": "3.9.12"
  }
 },
 "nbformat": 4,
 "nbformat_minor": 5
}
