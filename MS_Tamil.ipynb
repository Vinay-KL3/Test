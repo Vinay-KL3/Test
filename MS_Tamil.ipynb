{
 "cells": [
  {
   "cell_type": "code",
   "execution_count": 1,
   "id": "a0cd4bbe",
   "metadata": {},
   "outputs": [],
   "source": [
    "import pandas as pd\n",
    "import csv"
   ]
  },
  {
   "cell_type": "code",
   "execution_count": 2,
   "id": "f4266147",
   "metadata": {},
   "outputs": [],
   "source": [
    "import azure.cognitiveservices.speech as speechsdk\n",
    "speech_config = speechsdk.SpeechConfig(subscription=\"bc7e749ecc774a25b1fd1c61a0699c9e\", region=\"centralindia\")\n",
    "speech_config.set_speech_synthesis_output_format(speechsdk.SpeechSynthesisOutputFormat.Riff8Khz16BitMonoPcm)\n",
    "audio_config = speechsdk.audio.AudioOutputConfig(use_default_speaker=True)"
   ]
  },
  {
   "cell_type": "code",
   "execution_count": null,
   "id": "73fcfa09",
   "metadata": {},
   "outputs": [],
   "source": [
    "with open('/Users/vinay_kl/Downloads/titanic.csv', 'r') as f:\n",
    "    reader = csv.reader(f)\n",
    "    the_whole_file = list(reader)\n",
    "\n",
    "dst_path = \"/Users/vinay_kl/Downloads/\"\n",
    "english_TTS = \"en-IN-PrabhatNeural\"\n",
    "\n",
    "count = 0\n",
    "while (count < 5):\n",
    "    count = count + 1\n",
    "\n",
    "    row = 1\n",
    "    column = count\n",
    "    cell_R1_C3 = the_whole_file[row][column]\n",
    "    #print (cell_R1_C3)  \n",
    "    \n",
    "    file_name = cell_R1_C3\n",
    "    text = cell_R1_C3\n",
    "    save_path = dst_path+file_name+\".wav\"\n",
    "    speech_config.speech_synthesis_voice_name=english_TTS\n",
    "    speech_synthesizer = speechsdk.SpeechSynthesizer(speech_config=speech_config, audio_config=audio_config)\n",
    "    speech_synthesis_result = speech_synthesizer.speak_text_async(text).get()\n",
    "    stream = speechsdk.AudioDataStream(speech_synthesis_result)\n",
    "    stream.save_to_wav_file_async(save_path)\n",
    "    \n",
    "    print(cell_R1_C3 + \" is downloaded\")\n",
    "    \n",
    "else:\n",
    "    print(\"Loop is ended\")\n"
   ]
  },
  {
   "cell_type": "code",
   "execution_count": 12,
   "id": "9ee4a682",
   "metadata": {},
   "outputs": [
    {
     "data": {
      "text/plain": [
       "<azure.cognitiveservices.speech.speech_py_impl.VoidFuture; proxy of <Swig Object of type 'FutureWrapper< void > *' at 0x7faec8df1f90> >"
      ]
     },
     "execution_count": 12,
     "metadata": {},
     "output_type": "execute_result"
    }
   ],
   "source": [
    "    dst_path = \"/Users/vinay_kl/Downloads/TVS_Tamil_Sample/\"\n",
    "    tamil_TTS = \"ta-IN-PallaviNeural\"\n",
    "    \n",
    "    file_name = \"Sample2\"\n",
    "    text = \"உங்க லோன ஈசி இஎம்ஐ ஆப்ஸன்ஸ் மூலமா, ஒவ்வொரு மாதமும் 3 ஆம் தேதி அன்னைக்கு, உங்கள் அக்கவுண்டிலிருந்து தானாக எடுத்துக்கொள்ளுவதன் மூலமா, நீங்க லோன திருப்பிச் செலுத்தலாம். இதை எப்படி ஆக்டிவேட் பண்றதுனு தெரிந்து கொள்ள வேண்டுமா\"\n",
    "    save_path = dst_path+file_name+\".wav\"\n",
    "    speech_config.speech_synthesis_voice_name=tamil_TTS\n",
    "    speech_synthesizer = speechsdk.SpeechSynthesizer(speech_config=speech_config, audio_config=audio_config)\n",
    "    speech_synthesis_result = speech_synthesizer.speak_text_async(text).get()\n",
    "    stream = speechsdk.AudioDataStream(speech_synthesis_result)\n",
    "    stream.save_to_wav_file_async(save_path)"
   ]
  },
  {
   "cell_type": "code",
   "execution_count": null,
   "id": "905b548c",
   "metadata": {},
   "outputs": [],
   "source": []
  },
  {
   "cell_type": "code",
   "execution_count": null,
   "id": "b636c0d0",
   "metadata": {},
   "outputs": [],
   "source": []
  },
  {
   "cell_type": "code",
   "execution_count": null,
   "id": "86ff0281",
   "metadata": {},
   "outputs": [],
   "source": []
  }
 ],
 "metadata": {
  "kernelspec": {
   "display_name": "Python 3 (ipykernel)",
   "language": "python",
   "name": "python3"
  },
  "language_info": {
   "codemirror_mode": {
    "name": "ipython",
    "version": 3
   },
   "file_extension": ".py",
   "mimetype": "text/x-python",
   "name": "python",
   "nbconvert_exporter": "python",
   "pygments_lexer": "ipython3",
   "version": "3.9.12"
  }
 },
 "nbformat": 4,
 "nbformat_minor": 5
}
