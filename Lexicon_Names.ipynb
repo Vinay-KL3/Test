{
 "cells": [
  {
   "cell_type": "code",
   "execution_count": 20,
   "id": "aeada1f7",
   "metadata": {},
   "outputs": [
    {
     "name": "stdout",
     "output_type": "stream",
     "text": [
      "अंकित\n",
      "विनय\n",
      "सुषमा\n",
      "Azhgard\n",
      "pranay\n",
      "rahul\n",
      "baahubali\n"
     ]
    }
   ],
   "source": [
    "import pandas as pd\n",
    "df = pd.read_csv(\"/Users/vinay_kl/Downloads/Lexicon_Names.csv\")\n",
    "# print(df.head(5))\n",
    "\n",
    "ENG = df[\"ROMAN\"]\n",
    "DEV = df[\"DEVANAGARI\"]\n",
    "\n",
    "# print(ENG, DEV)\n",
    "\n",
    "df2 = pd.read_csv(\"/Users/vinay_kl/Downloads/Campaign_Sheet.csv\")\n",
    "# print(df2.head(5))\n",
    "\n",
    "INPUT = df2[\"Citizen Name\"]\n",
    "\n",
    "# print(INPUT)\n",
    "\n",
    "CHANGED = []\n",
    "\n",
    "\n",
    "\n",
    "# for i in INPUT:\n",
    "#     for j in range(0,len(ENG)):\n",
    "#         if i == ENG[j]:\n",
    "# #             print(ENG[j])\n",
    "#             CHANGED += DEV[j]\n",
    "#             print(DEV[j])\n",
    "#         elif i not in ENG:\n",
    "#             print(i)\n",
    "#         else:\n",
    "#             CHANGED += i\n",
    "# #             print(i)\n",
    "         \n",
    "\n",
    "for value in INPUT:\n",
    "    if value in ENG.values:\n",
    "        matching_row = df.loc[ENG == value]\n",
    "#         print(matching_row)\n",
    "        adjacent_value = matching_row['DEVANAGARI'].values[0]\n",
    "        print(adjacent_value)\n",
    "#         CHANGED += str(adjacent_value)\n",
    "    else:\n",
    "        print(value)\n",
    "#         CHANGED += str(value)\n",
    "            \n",
    "\n",
    "            \n",
    "# df2[\"Final_Names\"] = CHANGED\n",
    "\n",
    "# print(CHANGED)\n",
    "# df2.to_csv(\"/Users/vinay_kl/Downloads/Campaign_Sheet_Translated.csv\", index=False)\n",
    "# df2.head(5)"
   ]
  },
  {
   "cell_type": "code",
   "execution_count": null,
   "id": "2a74d36e",
   "metadata": {},
   "outputs": [],
   "source": []
  }
 ],
 "metadata": {
  "kernelspec": {
   "display_name": "Python 3 (ipykernel)",
   "language": "python",
   "name": "python3"
  },
  "language_info": {
   "codemirror_mode": {
    "name": "ipython",
    "version": 3
   },
   "file_extension": ".py",
   "mimetype": "text/x-python",
   "name": "python",
   "nbconvert_exporter": "python",
   "pygments_lexer": "ipython3",
   "version": "3.9.12"
  }
 },
 "nbformat": 4,
 "nbformat_minor": 5
}
