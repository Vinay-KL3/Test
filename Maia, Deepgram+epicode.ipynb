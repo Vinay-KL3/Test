{
 "cells": [
  {
   "cell_type": "code",
   "execution_count": 1,
   "id": "67611a1c",
   "metadata": {
    "scrolled": true
   },
   "outputs": [
    {
     "name": "stdout",
     "output_type": "stream",
     "text": [
      "Requirement already satisfied: schedule in /Users/vinay_kl/opt/anaconda3/lib/python3.9/site-packages (1.1.0)\r\n"
     ]
    }
   ],
   "source": [
    "!pip install schedule"
   ]
  },
  {
   "cell_type": "code",
   "execution_count": 2,
   "id": "7b973c8f",
   "metadata": {},
   "outputs": [],
   "source": [
    "import pandas as pd\n",
    "import csv\n",
    "import requests\n",
    "import json\n",
    "import schedule\n",
    "import time"
   ]
  },
  {
   "cell_type": "code",
   "execution_count": 3,
   "id": "96816629",
   "metadata": {},
   "outputs": [],
   "source": [
    "link = \"https://staging-connectors.saarthi.ai/pythonCalling/call\""
   ]
  },
  {
   "cell_type": "code",
   "execution_count": 65,
   "id": "7c24fb18",
   "metadata": {},
   "outputs": [],
   "source": [
    "def request_1():\n",
    "    with open('/Users/vinay_kl/Downloads/sheet.csv', 'r') as f:\n",
    "        reader = csv.reader(f)\n",
    "        the_whole_file = list(reader)\n",
    "\n",
    "\n",
    "    count = 0\n",
    "    while (count < 10):\n",
    "        count = count + 1\n",
    "\n",
    "        row = count\n",
    "        column = 0\n",
    "        coloum = 3\n",
    "        Number = the_whole_file[row][0]\n",
    "        Name = the_whole_file[row][1]\n",
    "        print (Number)  \n",
    "        print (Name)\n",
    "\n",
    "\n",
    "        headers = {'Content-Type':'application/json'}\n",
    "        input_data =[\n",
    "            {\n",
    "            \"contactInfo.primary\": Number,\n",
    "            \"threshold_days\":3,\n",
    "            \"primaryInfo.firstName\": Name,\n",
    "            \"primaryInfo.flow\": \"rpc\",\n",
    "            \"primaryInfo.language\": \"Tamil\",\n",
    "            \"clientName\": \"TVS Credit Testing\",\n",
    "            \"contact_no\": \"18001070\",\n",
    "            \"primaryInfo.agentname\":\"Suhasini\"\n",
    "            }\n",
    "                    ]    \n",
    "\n",
    "        resp = requests.post(link, json=input_data)\n",
    "\n",
    "\n",
    "        print(\"prediction:\", resp.json())\n",
    "\n",
    "\n",
    "\n",
    "\n",
    "        print(Name + \" will receive a call\")\n",
    "\n",
    "    else:\n",
    "        print(\"Loop is ended\")\n",
    "\n"
   ]
  },
  {
   "cell_type": "code",
   "execution_count": 66,
   "id": "be7abacc",
   "metadata": {},
   "outputs": [
    {
     "name": "stdout",
     "output_type": "stream",
     "text": [
      "9952448946\n",
      "Sathiya \n",
      "prediction: {'data': {'message': 'calles triggered to Epicode successfully'}}\n",
      "Sathiya  will receive a call\n",
      "9123559207\n",
      "Santhosh\n",
      "prediction: {'data': {'message': 'calles triggered to Epicode successfully'}}\n",
      "Santhosh will receive a call\n",
      "7893893270\n",
      "Vinay \n",
      "prediction: {'data': {'message': 'calles triggered to Epicode successfully'}}\n",
      "Vinay  will receive a call\n",
      "7094555520\n",
      "Aravinth\n",
      "prediction: {'data': {'message': 'calles triggered to Epicode successfully'}}\n",
      "Aravinth will receive a call\n",
      "9943499237\n",
      "Elavarasan\n",
      "prediction: {'data': {'message': 'calles triggered to Epicode successfully'}}\n",
      "Elavarasan will receive a call\n"
     ]
    },
    {
     "ename": "IndexError",
     "evalue": "list index out of range",
     "output_type": "error",
     "traceback": [
      "\u001b[0;31m---------------------------------------------------------------------------\u001b[0m",
      "\u001b[0;31mIndexError\u001b[0m                                Traceback (most recent call last)",
      "Input \u001b[0;32mIn [66]\u001b[0m, in \u001b[0;36m<cell line: 6>\u001b[0;34m()\u001b[0m\n\u001b[1;32m      1\u001b[0m schedule\u001b[38;5;241m.\u001b[39mevery(\u001b[38;5;241m1\u001b[39m)\u001b[38;5;241m.\u001b[39mminutes\u001b[38;5;241m.\u001b[39mdo(request_1)\n\u001b[1;32m      2\u001b[0m \u001b[38;5;28;01mwhile\u001b[39;00m \u001b[38;5;28;01mTrue\u001b[39;00m:\n\u001b[1;32m      3\u001b[0m \n\u001b[1;32m      4\u001b[0m         \u001b[38;5;66;03m# Checks whether a scheduled task\u001b[39;00m\n\u001b[1;32m      5\u001b[0m         \u001b[38;5;66;03m# is pending to run or not\u001b[39;00m\n\u001b[0;32m----> 6\u001b[0m         \u001b[43mschedule\u001b[49m\u001b[38;5;241;43m.\u001b[39;49m\u001b[43mrun_pending\u001b[49m\u001b[43m(\u001b[49m\u001b[43m)\u001b[49m\n\u001b[1;32m      7\u001b[0m         time\u001b[38;5;241m.\u001b[39msleep(\u001b[38;5;241m1\u001b[39m)\n",
      "File \u001b[0;32m~/opt/anaconda3/lib/python3.9/site-packages/schedule/__init__.py:780\u001b[0m, in \u001b[0;36mrun_pending\u001b[0;34m()\u001b[0m\n\u001b[1;32m    776\u001b[0m \u001b[38;5;28;01mdef\u001b[39;00m \u001b[38;5;21mrun_pending\u001b[39m() \u001b[38;5;241m-\u001b[39m\u001b[38;5;241m>\u001b[39m \u001b[38;5;28;01mNone\u001b[39;00m:\n\u001b[1;32m    777\u001b[0m     \u001b[38;5;124;03m\"\"\"Calls :meth:`run_pending <Scheduler.run_pending>` on the\u001b[39;00m\n\u001b[1;32m    778\u001b[0m \u001b[38;5;124;03m    :data:`default scheduler instance <default_scheduler>`.\u001b[39;00m\n\u001b[1;32m    779\u001b[0m \u001b[38;5;124;03m    \"\"\"\u001b[39;00m\n\u001b[0;32m--> 780\u001b[0m     \u001b[43mdefault_scheduler\u001b[49m\u001b[38;5;241;43m.\u001b[39;49m\u001b[43mrun_pending\u001b[49m\u001b[43m(\u001b[49m\u001b[43m)\u001b[49m\n",
      "File \u001b[0;32m~/opt/anaconda3/lib/python3.9/site-packages/schedule/__init__.py:100\u001b[0m, in \u001b[0;36mScheduler.run_pending\u001b[0;34m(self)\u001b[0m\n\u001b[1;32m     98\u001b[0m runnable_jobs \u001b[38;5;241m=\u001b[39m (job \u001b[38;5;28;01mfor\u001b[39;00m job \u001b[38;5;129;01min\u001b[39;00m \u001b[38;5;28mself\u001b[39m\u001b[38;5;241m.\u001b[39mjobs \u001b[38;5;28;01mif\u001b[39;00m job\u001b[38;5;241m.\u001b[39mshould_run)\n\u001b[1;32m     99\u001b[0m \u001b[38;5;28;01mfor\u001b[39;00m job \u001b[38;5;129;01min\u001b[39;00m \u001b[38;5;28msorted\u001b[39m(runnable_jobs):\n\u001b[0;32m--> 100\u001b[0m     \u001b[38;5;28;43mself\u001b[39;49m\u001b[38;5;241;43m.\u001b[39;49m\u001b[43m_run_job\u001b[49m\u001b[43m(\u001b[49m\u001b[43mjob\u001b[49m\u001b[43m)\u001b[49m\n",
      "File \u001b[0;32m~/opt/anaconda3/lib/python3.9/site-packages/schedule/__init__.py:172\u001b[0m, in \u001b[0;36mScheduler._run_job\u001b[0;34m(self, job)\u001b[0m\n\u001b[1;32m    171\u001b[0m \u001b[38;5;28;01mdef\u001b[39;00m \u001b[38;5;21m_run_job\u001b[39m(\u001b[38;5;28mself\u001b[39m, job: \u001b[38;5;124m\"\u001b[39m\u001b[38;5;124mJob\u001b[39m\u001b[38;5;124m\"\u001b[39m) \u001b[38;5;241m-\u001b[39m\u001b[38;5;241m>\u001b[39m \u001b[38;5;28;01mNone\u001b[39;00m:\n\u001b[0;32m--> 172\u001b[0m     ret \u001b[38;5;241m=\u001b[39m \u001b[43mjob\u001b[49m\u001b[38;5;241;43m.\u001b[39;49m\u001b[43mrun\u001b[49m\u001b[43m(\u001b[49m\u001b[43m)\u001b[49m\n\u001b[1;32m    173\u001b[0m     \u001b[38;5;28;01mif\u001b[39;00m \u001b[38;5;28misinstance\u001b[39m(ret, CancelJob) \u001b[38;5;129;01mor\u001b[39;00m ret \u001b[38;5;129;01mis\u001b[39;00m CancelJob:\n\u001b[1;32m    174\u001b[0m         \u001b[38;5;28mself\u001b[39m\u001b[38;5;241m.\u001b[39mcancel_job(job)\n",
      "File \u001b[0;32m~/opt/anaconda3/lib/python3.9/site-packages/schedule/__init__.py:661\u001b[0m, in \u001b[0;36mJob.run\u001b[0;34m(self)\u001b[0m\n\u001b[1;32m    658\u001b[0m     \u001b[38;5;28;01mreturn\u001b[39;00m CancelJob\n\u001b[1;32m    660\u001b[0m logger\u001b[38;5;241m.\u001b[39mdebug(\u001b[38;5;124m\"\u001b[39m\u001b[38;5;124mRunning job \u001b[39m\u001b[38;5;132;01m%s\u001b[39;00m\u001b[38;5;124m\"\u001b[39m, \u001b[38;5;28mself\u001b[39m)\n\u001b[0;32m--> 661\u001b[0m ret \u001b[38;5;241m=\u001b[39m \u001b[38;5;28;43mself\u001b[39;49m\u001b[38;5;241;43m.\u001b[39;49m\u001b[43mjob_func\u001b[49m\u001b[43m(\u001b[49m\u001b[43m)\u001b[49m\n\u001b[1;32m    662\u001b[0m \u001b[38;5;28mself\u001b[39m\u001b[38;5;241m.\u001b[39mlast_run \u001b[38;5;241m=\u001b[39m datetime\u001b[38;5;241m.\u001b[39mdatetime\u001b[38;5;241m.\u001b[39mnow()\n\u001b[1;32m    663\u001b[0m \u001b[38;5;28mself\u001b[39m\u001b[38;5;241m.\u001b[39m_schedule_next_run()\n",
      "Input \u001b[0;32mIn [33]\u001b[0m, in \u001b[0;36mrequest_1\u001b[0;34m()\u001b[0m\n\u001b[1;32m     12\u001b[0m column \u001b[38;5;241m=\u001b[39m \u001b[38;5;241m0\u001b[39m\n\u001b[1;32m     13\u001b[0m coloum \u001b[38;5;241m=\u001b[39m \u001b[38;5;241m1\u001b[39m\n\u001b[0;32m---> 14\u001b[0m Number \u001b[38;5;241m=\u001b[39m \u001b[43mthe_whole_file\u001b[49m\u001b[43m[\u001b[49m\u001b[43mrow\u001b[49m\u001b[43m]\u001b[49m[column]\n\u001b[1;32m     15\u001b[0m Name \u001b[38;5;241m=\u001b[39m the_whole_file[row][coloum]\n\u001b[1;32m     16\u001b[0m \u001b[38;5;28mprint\u001b[39m (Number)  \n",
      "\u001b[0;31mIndexError\u001b[0m: list index out of range"
     ]
    }
   ],
   "source": [
    " \n",
    "schedule.every(5).minutes.do(request_1)\n",
    "while True:\n",
    "\n",
    "        # Checks whether a scheduled task\n",
    "        # is pending to run or not\n",
    "        schedule.run_pending()\n",
    "        time.sleep(1)\n",
    "    "
   ]
  },
  {
   "cell_type": "code",
   "execution_count": 3,
   "id": "47097cf0",
   "metadata": {},
   "outputs": [
    {
     "name": "stdout",
     "output_type": "stream",
     "text": [
      "prediction: {'data': {'message': 'calles triggered to Epicode successfully'}}\n"
     ]
    }
   ],
   "source": [
    "#request_1(Number=7893893270,Name=\"vinay\")"
   ]
  },
  {
   "cell_type": "code",
   "execution_count": null,
   "id": "d5eb4593",
   "metadata": {},
   "outputs": [],
   "source": []
  }
 ],
 "metadata": {
  "kernelspec": {
   "display_name": "Python 3 (ipykernel)",
   "language": "python",
   "name": "python3"
  },
  "language_info": {
   "codemirror_mode": {
    "name": "ipython",
    "version": 3
   },
   "file_extension": ".py",
   "mimetype": "text/x-python",
   "name": "python",
   "nbconvert_exporter": "python",
   "pygments_lexer": "ipython3",
   "version": "3.9.12"
  }
 },
 "nbformat": 4,
 "nbformat_minor": 5
}
