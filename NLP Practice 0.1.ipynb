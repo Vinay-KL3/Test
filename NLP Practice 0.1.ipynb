{
 "cells": [
  {
   "cell_type": "code",
   "execution_count": 1,
   "id": "63d67c7d",
   "metadata": {},
   "outputs": [
    {
     "name": "stdout",
     "output_type": "stream",
     "text": [
      "Requirement already satisfied: jupyter_contrib_nbextensions in /Users/vinay_kl/opt/anaconda3/lib/python3.9/site-packages (0.7.0)\n",
      "Requirement already satisfied: lxml in /Users/vinay_kl/opt/anaconda3/lib/python3.9/site-packages (from jupyter_contrib_nbextensions) (4.8.0)\n",
      "Requirement already satisfied: ipython-genutils in /Users/vinay_kl/opt/anaconda3/lib/python3.9/site-packages (from jupyter_contrib_nbextensions) (0.2.0)\n",
      "Requirement already satisfied: jupyter-core in /Users/vinay_kl/opt/anaconda3/lib/python3.9/site-packages (from jupyter_contrib_nbextensions) (4.9.2)\n",
      "Requirement already satisfied: tornado in /Users/vinay_kl/opt/anaconda3/lib/python3.9/site-packages (from jupyter_contrib_nbextensions) (6.1)\n",
      "Requirement already satisfied: traitlets>=4.1 in /Users/vinay_kl/opt/anaconda3/lib/python3.9/site-packages (from jupyter_contrib_nbextensions) (5.1.1)\n",
      "Requirement already satisfied: jupyter-highlight-selected-word>=0.1.1 in /Users/vinay_kl/opt/anaconda3/lib/python3.9/site-packages (from jupyter_contrib_nbextensions) (0.2.0)\n",
      "Requirement already satisfied: jupyter-contrib-core>=0.3.3 in /Users/vinay_kl/opt/anaconda3/lib/python3.9/site-packages (from jupyter_contrib_nbextensions) (0.4.2)\n",
      "Requirement already satisfied: jupyter-nbextensions-configurator>=0.4.0 in /Users/vinay_kl/opt/anaconda3/lib/python3.9/site-packages (from jupyter_contrib_nbextensions) (0.6.1)\n",
      "Requirement already satisfied: nbconvert>=6.0 in /Users/vinay_kl/opt/anaconda3/lib/python3.9/site-packages (from jupyter_contrib_nbextensions) (6.4.4)\n",
      "Requirement already satisfied: notebook>=6.0 in /Users/vinay_kl/opt/anaconda3/lib/python3.9/site-packages (from jupyter_contrib_nbextensions) (6.4.8)\n",
      "Requirement already satisfied: setuptools in /Users/vinay_kl/opt/anaconda3/lib/python3.9/site-packages (from jupyter-contrib-core>=0.3.3->jupyter_contrib_nbextensions) (61.2.0)\n",
      "Requirement already satisfied: pyyaml in /Users/vinay_kl/opt/anaconda3/lib/python3.9/site-packages (from jupyter-nbextensions-configurator>=0.4.0->jupyter_contrib_nbextensions) (6.0)\n",
      "Requirement already satisfied: nbclient<0.6.0,>=0.5.0 in /Users/vinay_kl/opt/anaconda3/lib/python3.9/site-packages (from nbconvert>=6.0->jupyter_contrib_nbextensions) (0.5.13)\n",
      "Requirement already satisfied: pygments>=2.4.1 in /Users/vinay_kl/opt/anaconda3/lib/python3.9/site-packages (from nbconvert>=6.0->jupyter_contrib_nbextensions) (2.11.2)\n",
      "Requirement already satisfied: nbformat>=4.4 in /Users/vinay_kl/opt/anaconda3/lib/python3.9/site-packages (from nbconvert>=6.0->jupyter_contrib_nbextensions) (5.3.0)\n",
      "Requirement already satisfied: pandocfilters>=1.4.1 in /Users/vinay_kl/opt/anaconda3/lib/python3.9/site-packages (from nbconvert>=6.0->jupyter_contrib_nbextensions) (1.5.0)\n",
      "Requirement already satisfied: bleach in /Users/vinay_kl/opt/anaconda3/lib/python3.9/site-packages (from nbconvert>=6.0->jupyter_contrib_nbextensions) (4.1.0)\n",
      "Requirement already satisfied: testpath in /Users/vinay_kl/opt/anaconda3/lib/python3.9/site-packages (from nbconvert>=6.0->jupyter_contrib_nbextensions) (0.5.0)\n",
      "Requirement already satisfied: beautifulsoup4 in /Users/vinay_kl/opt/anaconda3/lib/python3.9/site-packages (from nbconvert>=6.0->jupyter_contrib_nbextensions) (4.11.1)\n",
      "Requirement already satisfied: mistune<2,>=0.8.1 in /Users/vinay_kl/opt/anaconda3/lib/python3.9/site-packages (from nbconvert>=6.0->jupyter_contrib_nbextensions) (0.8.4)\n",
      "Requirement already satisfied: defusedxml in /Users/vinay_kl/opt/anaconda3/lib/python3.9/site-packages (from nbconvert>=6.0->jupyter_contrib_nbextensions) (0.7.1)\n",
      "Requirement already satisfied: jupyterlab-pygments in /Users/vinay_kl/opt/anaconda3/lib/python3.9/site-packages (from nbconvert>=6.0->jupyter_contrib_nbextensions) (0.1.2)\n",
      "Requirement already satisfied: jinja2>=2.4 in /Users/vinay_kl/opt/anaconda3/lib/python3.9/site-packages (from nbconvert>=6.0->jupyter_contrib_nbextensions) (2.11.3)\n",
      "Requirement already satisfied: entrypoints>=0.2.2 in /Users/vinay_kl/opt/anaconda3/lib/python3.9/site-packages (from nbconvert>=6.0->jupyter_contrib_nbextensions) (0.4)\n",
      "Requirement already satisfied: MarkupSafe>=0.23 in /Users/vinay_kl/opt/anaconda3/lib/python3.9/site-packages (from jinja2>=2.4->nbconvert>=6.0->jupyter_contrib_nbextensions) (2.0.1)\n",
      "Requirement already satisfied: nest-asyncio in /Users/vinay_kl/opt/anaconda3/lib/python3.9/site-packages (from nbclient<0.6.0,>=0.5.0->nbconvert>=6.0->jupyter_contrib_nbextensions) (1.5.5)\n",
      "Requirement already satisfied: jupyter-client>=6.1.5 in /Users/vinay_kl/opt/anaconda3/lib/python3.9/site-packages (from nbclient<0.6.0,>=0.5.0->nbconvert>=6.0->jupyter_contrib_nbextensions) (6.1.12)\n",
      "Requirement already satisfied: python-dateutil>=2.1 in /Users/vinay_kl/opt/anaconda3/lib/python3.9/site-packages (from jupyter-client>=6.1.5->nbclient<0.6.0,>=0.5.0->nbconvert>=6.0->jupyter_contrib_nbextensions) (2.8.2)\n",
      "Requirement already satisfied: pyzmq>=13 in /Users/vinay_kl/opt/anaconda3/lib/python3.9/site-packages (from jupyter-client>=6.1.5->nbclient<0.6.0,>=0.5.0->nbconvert>=6.0->jupyter_contrib_nbextensions) (22.3.0)\n",
      "Requirement already satisfied: fastjsonschema in /Users/vinay_kl/opt/anaconda3/lib/python3.9/site-packages (from nbformat>=4.4->nbconvert>=6.0->jupyter_contrib_nbextensions) (2.15.1)\n",
      "Requirement already satisfied: jsonschema>=2.6 in /Users/vinay_kl/opt/anaconda3/lib/python3.9/site-packages (from nbformat>=4.4->nbconvert>=6.0->jupyter_contrib_nbextensions) (4.4.0)\n",
      "Requirement already satisfied: pyrsistent!=0.17.0,!=0.17.1,!=0.17.2,>=0.14.0 in /Users/vinay_kl/opt/anaconda3/lib/python3.9/site-packages (from jsonschema>=2.6->nbformat>=4.4->nbconvert>=6.0->jupyter_contrib_nbextensions) (0.18.0)\n",
      "Requirement already satisfied: attrs>=17.4.0 in /Users/vinay_kl/opt/anaconda3/lib/python3.9/site-packages (from jsonschema>=2.6->nbformat>=4.4->nbconvert>=6.0->jupyter_contrib_nbextensions) (21.4.0)\n",
      "Requirement already satisfied: Send2Trash>=1.8.0 in /Users/vinay_kl/opt/anaconda3/lib/python3.9/site-packages (from notebook>=6.0->jupyter_contrib_nbextensions) (1.8.0)\n",
      "Requirement already satisfied: argon2-cffi in /Users/vinay_kl/opt/anaconda3/lib/python3.9/site-packages (from notebook>=6.0->jupyter_contrib_nbextensions) (21.3.0)\n",
      "Requirement already satisfied: terminado>=0.8.3 in /Users/vinay_kl/opt/anaconda3/lib/python3.9/site-packages (from notebook>=6.0->jupyter_contrib_nbextensions) (0.13.1)\n",
      "Requirement already satisfied: ipykernel in /Users/vinay_kl/opt/anaconda3/lib/python3.9/site-packages (from notebook>=6.0->jupyter_contrib_nbextensions) (6.9.1)\n",
      "Requirement already satisfied: prometheus-client in /Users/vinay_kl/opt/anaconda3/lib/python3.9/site-packages (from notebook>=6.0->jupyter_contrib_nbextensions) (0.13.1)\n",
      "Requirement already satisfied: six>=1.5 in /Users/vinay_kl/opt/anaconda3/lib/python3.9/site-packages (from python-dateutil>=2.1->jupyter-client>=6.1.5->nbclient<0.6.0,>=0.5.0->nbconvert>=6.0->jupyter_contrib_nbextensions) (1.16.0)\n",
      "Requirement already satisfied: ptyprocess in /Users/vinay_kl/opt/anaconda3/lib/python3.9/site-packages (from terminado>=0.8.3->notebook>=6.0->jupyter_contrib_nbextensions) (0.7.0)\n",
      "Requirement already satisfied: argon2-cffi-bindings in /Users/vinay_kl/opt/anaconda3/lib/python3.9/site-packages (from argon2-cffi->notebook>=6.0->jupyter_contrib_nbextensions) (21.2.0)\n",
      "Requirement already satisfied: cffi>=1.0.1 in /Users/vinay_kl/opt/anaconda3/lib/python3.9/site-packages (from argon2-cffi-bindings->argon2-cffi->notebook>=6.0->jupyter_contrib_nbextensions) (1.15.0)\n",
      "Requirement already satisfied: pycparser in /Users/vinay_kl/opt/anaconda3/lib/python3.9/site-packages (from cffi>=1.0.1->argon2-cffi-bindings->argon2-cffi->notebook>=6.0->jupyter_contrib_nbextensions) (2.21)\n",
      "Requirement already satisfied: soupsieve>1.2 in /Users/vinay_kl/opt/anaconda3/lib/python3.9/site-packages (from beautifulsoup4->nbconvert>=6.0->jupyter_contrib_nbextensions) (2.3.1)\n",
      "Requirement already satisfied: webencodings in /Users/vinay_kl/opt/anaconda3/lib/python3.9/site-packages (from bleach->nbconvert>=6.0->jupyter_contrib_nbextensions) (0.5.1)\n",
      "Requirement already satisfied: packaging in /Users/vinay_kl/opt/anaconda3/lib/python3.9/site-packages (from bleach->nbconvert>=6.0->jupyter_contrib_nbextensions) (21.3)\n",
      "Requirement already satisfied: ipython>=7.23.1 in /Users/vinay_kl/opt/anaconda3/lib/python3.9/site-packages (from ipykernel->notebook>=6.0->jupyter_contrib_nbextensions) (8.2.0)\n",
      "Requirement already satisfied: debugpy<2.0,>=1.0.0 in /Users/vinay_kl/opt/anaconda3/lib/python3.9/site-packages (from ipykernel->notebook>=6.0->jupyter_contrib_nbextensions) (1.5.1)\n",
      "Requirement already satisfied: matplotlib-inline<0.2.0,>=0.1.0 in /Users/vinay_kl/opt/anaconda3/lib/python3.9/site-packages (from ipykernel->notebook>=6.0->jupyter_contrib_nbextensions) (0.1.2)\n",
      "Requirement already satisfied: appnope in /Users/vinay_kl/opt/anaconda3/lib/python3.9/site-packages (from ipykernel->notebook>=6.0->jupyter_contrib_nbextensions) (0.1.2)\n",
      "Requirement already satisfied: jedi>=0.16 in /Users/vinay_kl/opt/anaconda3/lib/python3.9/site-packages (from ipython>=7.23.1->ipykernel->notebook>=6.0->jupyter_contrib_nbextensions) (0.18.1)\n",
      "Requirement already satisfied: pexpect>4.3 in /Users/vinay_kl/opt/anaconda3/lib/python3.9/site-packages (from ipython>=7.23.1->ipykernel->notebook>=6.0->jupyter_contrib_nbextensions) (4.8.0)\n",
      "Requirement already satisfied: decorator in /Users/vinay_kl/opt/anaconda3/lib/python3.9/site-packages (from ipython>=7.23.1->ipykernel->notebook>=6.0->jupyter_contrib_nbextensions) (5.1.1)\n",
      "Requirement already satisfied: backcall in /Users/vinay_kl/opt/anaconda3/lib/python3.9/site-packages (from ipython>=7.23.1->ipykernel->notebook>=6.0->jupyter_contrib_nbextensions) (0.2.0)\n",
      "Requirement already satisfied: pickleshare in /Users/vinay_kl/opt/anaconda3/lib/python3.9/site-packages (from ipython>=7.23.1->ipykernel->notebook>=6.0->jupyter_contrib_nbextensions) (0.7.5)\n",
      "Requirement already satisfied: stack-data in /Users/vinay_kl/opt/anaconda3/lib/python3.9/site-packages (from ipython>=7.23.1->ipykernel->notebook>=6.0->jupyter_contrib_nbextensions) (0.2.0)\n",
      "Requirement already satisfied: prompt-toolkit!=3.0.0,!=3.0.1,<3.1.0,>=2.0.0 in /Users/vinay_kl/opt/anaconda3/lib/python3.9/site-packages (from ipython>=7.23.1->ipykernel->notebook>=6.0->jupyter_contrib_nbextensions) (3.0.20)\n"
     ]
    },
    {
     "name": "stdout",
     "output_type": "stream",
     "text": [
      "Requirement already satisfied: parso<0.9.0,>=0.8.0 in /Users/vinay_kl/opt/anaconda3/lib/python3.9/site-packages (from jedi>=0.16->ipython>=7.23.1->ipykernel->notebook>=6.0->jupyter_contrib_nbextensions) (0.8.3)\n",
      "Requirement already satisfied: wcwidth in /Users/vinay_kl/opt/anaconda3/lib/python3.9/site-packages (from prompt-toolkit!=3.0.0,!=3.0.1,<3.1.0,>=2.0.0->ipython>=7.23.1->ipykernel->notebook>=6.0->jupyter_contrib_nbextensions) (0.2.5)\n",
      "Requirement already satisfied: pyparsing!=3.0.5,>=2.0.2 in /Users/vinay_kl/opt/anaconda3/lib/python3.9/site-packages (from packaging->bleach->nbconvert>=6.0->jupyter_contrib_nbextensions) (3.0.4)\n",
      "Requirement already satisfied: asttokens in /Users/vinay_kl/opt/anaconda3/lib/python3.9/site-packages (from stack-data->ipython>=7.23.1->ipykernel->notebook>=6.0->jupyter_contrib_nbextensions) (2.0.5)\n",
      "Requirement already satisfied: executing in /Users/vinay_kl/opt/anaconda3/lib/python3.9/site-packages (from stack-data->ipython>=7.23.1->ipykernel->notebook>=6.0->jupyter_contrib_nbextensions) (0.8.3)\n",
      "Requirement already satisfied: pure-eval in /Users/vinay_kl/opt/anaconda3/lib/python3.9/site-packages (from stack-data->ipython>=7.23.1->ipykernel->notebook>=6.0->jupyter_contrib_nbextensions) (0.2.2)\n"
     ]
    }
   ],
   "source": [
    "!pip install jupyter_contrib_nbextensions"
   ]
  },
  {
   "cell_type": "markdown",
   "id": "2b1cc956",
   "metadata": {},
   "source": [
    "# NLP has 2 high demand packages ( Spacy & NLTK)\n",
    "Regular Expressions\n",
    "Parts of Speech (POS)\n",
    "Tokenisation - splitting to individual words\n",
    "stemming - narrowing down to root words (*** spacy dont have this library as its simillar to lemmitaisation)\n",
    "lemmitaisation - narrowing down to deep root word\n",
    "stop words - non useful words in a sentence/paragraph\n",
    "visualisers (entities and dependencies)\n",
    "\n",
    "\n",
    "\n",
    ".text   ---the original word text\n",
    ".lemma_   ---the base form of the word\n",
    ".pos_   ---simple parts of speech tag\n",
    ".tag_   ---detailed parts of speech tag\n",
    ".shape_   ---the word shape (like, captalisation,punctuation, digits...)\n",
    ".is_alpha   ---prints True, if the token is a alpha charecter\n",
    ".is_stop   ---prints True, if the token is a stop word\n",
    "\n",
    "As stemming is not in spacy, we need to use NLTK for stemming\n",
    "1) portStemmer\n",
    "2) snowBallStemmer"
   ]
  },
  {
   "cell_type": "code",
   "execution_count": 2,
   "id": "f2f2fd19",
   "metadata": {},
   "outputs": [
    {
     "name": "stdout",
     "output_type": "stream",
     "text": [
      "['777-555-4444']\n"
     ]
    }
   ],
   "source": [
    "# Regular Expressions\n",
    "\n",
    "import re\n",
    "\n",
    "pattern = \"\\d{3}-\\d{3}-\\d{4}\"\n",
    "text = \"my number is 777-555-4444\"\n",
    "\n",
    "required = re.findall(pattern,text)\n",
    "print(required)"
   ]
  },
  {
   "cell_type": "code",
   "execution_count": 5,
   "id": "28c2c9f1",
   "metadata": {},
   "outputs": [
    {
     "name": "stdout",
     "output_type": "stream",
     "text": [
      "Requirement already satisfied: spacy in /Users/vinay_kl/opt/anaconda3/lib/python3.9/site-packages (3.5.1)\n",
      "Requirement already satisfied: langcodes<4.0.0,>=3.2.0 in /Users/vinay_kl/opt/anaconda3/lib/python3.9/site-packages (from spacy) (3.3.0)\n",
      "Requirement already satisfied: spacy-loggers<2.0.0,>=1.0.0 in /Users/vinay_kl/opt/anaconda3/lib/python3.9/site-packages (from spacy) (1.0.4)\n",
      "Requirement already satisfied: packaging>=20.0 in /Users/vinay_kl/opt/anaconda3/lib/python3.9/site-packages (from spacy) (21.3)\n",
      "Requirement already satisfied: requests<3.0.0,>=2.13.0 in /Users/vinay_kl/opt/anaconda3/lib/python3.9/site-packages (from spacy) (2.27.1)\n",
      "Requirement already satisfied: pydantic!=1.8,!=1.8.1,<1.11.0,>=1.7.4 in /Users/vinay_kl/opt/anaconda3/lib/python3.9/site-packages (from spacy) (1.10.7)\n",
      "Requirement already satisfied: thinc<8.2.0,>=8.1.8 in /Users/vinay_kl/opt/anaconda3/lib/python3.9/site-packages (from spacy) (8.1.9)\n",
      "Requirement already satisfied: typer<0.8.0,>=0.3.0 in /Users/vinay_kl/opt/anaconda3/lib/python3.9/site-packages (from spacy) (0.7.0)\n",
      "Requirement already satisfied: pathy>=0.10.0 in /Users/vinay_kl/opt/anaconda3/lib/python3.9/site-packages (from spacy) (0.10.1)\n",
      "Requirement already satisfied: numpy>=1.15.0 in /Users/vinay_kl/opt/anaconda3/lib/python3.9/site-packages (from spacy) (1.21.5)\n",
      "Requirement already satisfied: spacy-legacy<3.1.0,>=3.0.11 in /Users/vinay_kl/opt/anaconda3/lib/python3.9/site-packages (from spacy) (3.0.12)\n",
      "Requirement already satisfied: tqdm<5.0.0,>=4.38.0 in /Users/vinay_kl/opt/anaconda3/lib/python3.9/site-packages (from spacy) (4.64.0)\n",
      "Requirement already satisfied: srsly<3.0.0,>=2.4.3 in /Users/vinay_kl/opt/anaconda3/lib/python3.9/site-packages (from spacy) (2.4.6)\n",
      "Requirement already satisfied: setuptools in /Users/vinay_kl/opt/anaconda3/lib/python3.9/site-packages (from spacy) (61.2.0)\n",
      "Requirement already satisfied: preshed<3.1.0,>=3.0.2 in /Users/vinay_kl/opt/anaconda3/lib/python3.9/site-packages (from spacy) (3.0.8)\n",
      "Requirement already satisfied: cymem<2.1.0,>=2.0.2 in /Users/vinay_kl/opt/anaconda3/lib/python3.9/site-packages (from spacy) (2.0.7)\n",
      "Requirement already satisfied: jinja2 in /Users/vinay_kl/opt/anaconda3/lib/python3.9/site-packages (from spacy) (2.11.3)\n",
      "Requirement already satisfied: murmurhash<1.1.0,>=0.28.0 in /Users/vinay_kl/opt/anaconda3/lib/python3.9/site-packages (from spacy) (1.0.9)\n",
      "Requirement already satisfied: catalogue<2.1.0,>=2.0.6 in /Users/vinay_kl/opt/anaconda3/lib/python3.9/site-packages (from spacy) (2.0.8)\n",
      "Requirement already satisfied: smart-open<7.0.0,>=5.2.1 in /Users/vinay_kl/opt/anaconda3/lib/python3.9/site-packages (from spacy) (6.3.0)\n",
      "Requirement already satisfied: wasabi<1.2.0,>=0.9.1 in /Users/vinay_kl/opt/anaconda3/lib/python3.9/site-packages (from spacy) (1.1.1)\n",
      "Requirement already satisfied: pyparsing!=3.0.5,>=2.0.2 in /Users/vinay_kl/opt/anaconda3/lib/python3.9/site-packages (from packaging>=20.0->spacy) (3.0.4)\n",
      "Requirement already satisfied: typing-extensions>=4.2.0 in /Users/vinay_kl/opt/anaconda3/lib/python3.9/site-packages (from pydantic!=1.8,!=1.8.1,<1.11.0,>=1.7.4->spacy) (4.5.0)\n",
      "Requirement already satisfied: certifi>=2017.4.17 in /Users/vinay_kl/opt/anaconda3/lib/python3.9/site-packages (from requests<3.0.0,>=2.13.0->spacy) (2021.10.8)\n",
      "Requirement already satisfied: charset-normalizer~=2.0.0 in /Users/vinay_kl/opt/anaconda3/lib/python3.9/site-packages (from requests<3.0.0,>=2.13.0->spacy) (2.0.4)\n",
      "Requirement already satisfied: urllib3<1.27,>=1.21.1 in /Users/vinay_kl/opt/anaconda3/lib/python3.9/site-packages (from requests<3.0.0,>=2.13.0->spacy) (1.26.9)\n",
      "Requirement already satisfied: idna<4,>=2.5 in /Users/vinay_kl/opt/anaconda3/lib/python3.9/site-packages (from requests<3.0.0,>=2.13.0->spacy) (3.3)\n",
      "Requirement already satisfied: blis<0.8.0,>=0.7.8 in /Users/vinay_kl/opt/anaconda3/lib/python3.9/site-packages (from thinc<8.2.0,>=8.1.8->spacy) (0.7.9)\n",
      "Requirement already satisfied: confection<1.0.0,>=0.0.1 in /Users/vinay_kl/opt/anaconda3/lib/python3.9/site-packages (from thinc<8.2.0,>=8.1.8->spacy) (0.0.4)\n",
      "Requirement already satisfied: click<9.0.0,>=7.1.1 in /Users/vinay_kl/opt/anaconda3/lib/python3.9/site-packages (from typer<0.8.0,>=0.3.0->spacy) (8.0.4)\n",
      "Requirement already satisfied: MarkupSafe>=0.23 in /Users/vinay_kl/opt/anaconda3/lib/python3.9/site-packages (from jinja2->spacy) (2.0.1)\n",
      "Traceback (most recent call last):\n",
      "  File \"/Users/vinay_kl/opt/anaconda3/lib/python3.9/runpy.py\", line 188, in _run_module_as_main\n",
      "    mod_name, mod_spec, code = _get_module_details(mod_name, _Error)\n",
      "  File \"/Users/vinay_kl/opt/anaconda3/lib/python3.9/runpy.py\", line 147, in _get_module_details\n",
      "    return _get_module_details(pkg_main_name, error)\n",
      "  File \"/Users/vinay_kl/opt/anaconda3/lib/python3.9/runpy.py\", line 111, in _get_module_details\n",
      "    __import__(pkg_name)\n",
      "  File \"/Users/vinay_kl/opt/anaconda3/lib/python3.9/site-packages/spacy/__init__.py\", line 6, in <module>\n",
      "    from .errors import setup_default_warnings\n",
      "  File \"/Users/vinay_kl/opt/anaconda3/lib/python3.9/site-packages/spacy/errors.py\", line 2, in <module>\n",
      "    from .compat import Literal\n",
      "  File \"/Users/vinay_kl/opt/anaconda3/lib/python3.9/site-packages/spacy/compat.py\", line 3, in <module>\n",
      "    from thinc.util import copy_array\n",
      "  File \"/Users/vinay_kl/opt/anaconda3/lib/python3.9/site-packages/thinc/__init__.py\", line 5, in <module>\n",
      "    from .config import registry\n",
      "  File \"/Users/vinay_kl/opt/anaconda3/lib/python3.9/site-packages/thinc/config.py\", line 2, in <module>\n",
      "    import confection\n",
      "  File \"/Users/vinay_kl/opt/anaconda3/lib/python3.9/site-packages/confection/__init__.py\", line 10, in <module>\n",
      "    from pydantic import BaseModel, create_model, ValidationError, Extra\n",
      "  File \"pydantic/__init__.py\", line 2, in init pydantic.__init__\n",
      "  File \"pydantic/dataclasses.py\", line 48, in init pydantic.dataclasses\n",
      "    # +=========+=========================================+\n",
      "  File \"pydantic/main.py\", line 120, in init pydantic.main\n",
      "TypeError: dataclass_transform() got an unexpected keyword argument 'field_specifiers'\n"
     ]
    },
    {
     "ename": "TypeError",
     "evalue": "dataclass_transform() got an unexpected keyword argument 'field_specifiers'",
     "output_type": "error",
     "traceback": [
      "\u001b[0;31m---------------------------------------------------------------------------\u001b[0m",
      "\u001b[0;31mTypeError\u001b[0m                                 Traceback (most recent call last)",
      "Input \u001b[0;32mIn [5]\u001b[0m, in \u001b[0;36m<cell line: 6>\u001b[0;34m()\u001b[0m\n\u001b[1;32m      3\u001b[0m get_ipython()\u001b[38;5;241m.\u001b[39msystem(\u001b[38;5;124m'\u001b[39m\u001b[38;5;124mpip install spacy\u001b[39m\u001b[38;5;124m'\u001b[39m)\n\u001b[1;32m      4\u001b[0m get_ipython()\u001b[38;5;241m.\u001b[39msystem(\u001b[38;5;124m'\u001b[39m\u001b[38;5;124mpython -m spacy download en_core_web_sm\u001b[39m\u001b[38;5;124m'\u001b[39m)\n\u001b[0;32m----> 6\u001b[0m \u001b[38;5;28;01mimport\u001b[39;00m \u001b[38;5;21;01mspacy\u001b[39;00m\n\u001b[1;32m      8\u001b[0m spacy\u001b[38;5;241m.\u001b[39mprefer_gpu()\n\u001b[1;32m     10\u001b[0m nlp \u001b[38;5;241m=\u001b[39m spacy\u001b[38;5;241m.\u001b[39mload(\u001b[38;5;124m\"\u001b[39m\u001b[38;5;124men_core_web_sm\u001b[39m\u001b[38;5;124m\"\u001b[39m)\n",
      "File \u001b[0;32m~/opt/anaconda3/lib/python3.9/site-packages/spacy/__init__.py:6\u001b[0m, in \u001b[0;36m<module>\u001b[0;34m\u001b[0m\n\u001b[1;32m      3\u001b[0m \u001b[38;5;28;01mimport\u001b[39;00m \u001b[38;5;21;01msys\u001b[39;00m\n\u001b[1;32m      5\u001b[0m \u001b[38;5;66;03m# set library-specific custom warning handling before doing anything else\u001b[39;00m\n\u001b[0;32m----> 6\u001b[0m \u001b[38;5;28;01mfrom\u001b[39;00m \u001b[38;5;21;01m.\u001b[39;00m\u001b[38;5;21;01merrors\u001b[39;00m \u001b[38;5;28;01mimport\u001b[39;00m setup_default_warnings\n\u001b[1;32m      8\u001b[0m setup_default_warnings()  \u001b[38;5;66;03m# noqa: E402\u001b[39;00m\n\u001b[1;32m     10\u001b[0m \u001b[38;5;66;03m# These are imported as part of the API\u001b[39;00m\n",
      "File \u001b[0;32m~/opt/anaconda3/lib/python3.9/site-packages/spacy/errors.py:2\u001b[0m, in \u001b[0;36m<module>\u001b[0;34m\u001b[0m\n\u001b[1;32m      1\u001b[0m \u001b[38;5;28;01mimport\u001b[39;00m \u001b[38;5;21;01mwarnings\u001b[39;00m\n\u001b[0;32m----> 2\u001b[0m \u001b[38;5;28;01mfrom\u001b[39;00m \u001b[38;5;21;01m.\u001b[39;00m\u001b[38;5;21;01mcompat\u001b[39;00m \u001b[38;5;28;01mimport\u001b[39;00m Literal\n\u001b[1;32m      5\u001b[0m \u001b[38;5;28;01mclass\u001b[39;00m \u001b[38;5;21;01mErrorsWithCodes\u001b[39;00m(\u001b[38;5;28mtype\u001b[39m):\n\u001b[1;32m      6\u001b[0m     \u001b[38;5;28;01mdef\u001b[39;00m \u001b[38;5;21m__getattribute__\u001b[39m(\u001b[38;5;28mself\u001b[39m, code):\n",
      "File \u001b[0;32m~/opt/anaconda3/lib/python3.9/site-packages/spacy/compat.py:3\u001b[0m, in \u001b[0;36m<module>\u001b[0;34m\u001b[0m\n\u001b[1;32m      1\u001b[0m \u001b[38;5;124;03m\"\"\"Helpers for Python and platform compatibility.\"\"\"\u001b[39;00m\n\u001b[1;32m      2\u001b[0m \u001b[38;5;28;01mimport\u001b[39;00m \u001b[38;5;21;01msys\u001b[39;00m\n\u001b[0;32m----> 3\u001b[0m \u001b[38;5;28;01mfrom\u001b[39;00m \u001b[38;5;21;01mthinc\u001b[39;00m\u001b[38;5;21;01m.\u001b[39;00m\u001b[38;5;21;01mutil\u001b[39;00m \u001b[38;5;28;01mimport\u001b[39;00m copy_array\n\u001b[1;32m      5\u001b[0m \u001b[38;5;28;01mtry\u001b[39;00m:\n\u001b[1;32m      6\u001b[0m     \u001b[38;5;28;01mimport\u001b[39;00m \u001b[38;5;21;01mcPickle\u001b[39;00m \u001b[38;5;28;01mas\u001b[39;00m \u001b[38;5;21;01mpickle\u001b[39;00m\n",
      "File \u001b[0;32m~/opt/anaconda3/lib/python3.9/site-packages/thinc/__init__.py:5\u001b[0m, in \u001b[0;36m<module>\u001b[0;34m\u001b[0m\n\u001b[1;32m      2\u001b[0m \u001b[38;5;28;01mimport\u001b[39;00m \u001b[38;5;21;01mnumpy\u001b[39;00m\n\u001b[1;32m      4\u001b[0m \u001b[38;5;28;01mfrom\u001b[39;00m \u001b[38;5;21;01m.\u001b[39;00m\u001b[38;5;21;01mabout\u001b[39;00m \u001b[38;5;28;01mimport\u001b[39;00m __version__\n\u001b[0;32m----> 5\u001b[0m \u001b[38;5;28;01mfrom\u001b[39;00m \u001b[38;5;21;01m.\u001b[39;00m\u001b[38;5;21;01mconfig\u001b[39;00m \u001b[38;5;28;01mimport\u001b[39;00m registry\n\u001b[1;32m      8\u001b[0m \u001b[38;5;66;03m# fmt: off\u001b[39;00m\n\u001b[1;32m      9\u001b[0m __all__ \u001b[38;5;241m=\u001b[39m [\n\u001b[1;32m     10\u001b[0m     \u001b[38;5;124m\"\u001b[39m\u001b[38;5;124mregistry\u001b[39m\u001b[38;5;124m\"\u001b[39m,\n\u001b[1;32m     11\u001b[0m     \u001b[38;5;124m\"\u001b[39m\u001b[38;5;124m__version__\u001b[39m\u001b[38;5;124m\"\u001b[39m,\n\u001b[1;32m     12\u001b[0m ]\n",
      "File \u001b[0;32m~/opt/anaconda3/lib/python3.9/site-packages/thinc/config.py:2\u001b[0m, in \u001b[0;36m<module>\u001b[0;34m\u001b[0m\n\u001b[1;32m      1\u001b[0m \u001b[38;5;28;01mimport\u001b[39;00m \u001b[38;5;21;01mcatalogue\u001b[39;00m\n\u001b[0;32m----> 2\u001b[0m \u001b[38;5;28;01mimport\u001b[39;00m \u001b[38;5;21;01mconfection\u001b[39;00m\n\u001b[1;32m      3\u001b[0m \u001b[38;5;28;01mfrom\u001b[39;00m \u001b[38;5;21;01mconfection\u001b[39;00m \u001b[38;5;28;01mimport\u001b[39;00m Config, ConfigValidationError, Promise, VARIABLE_RE\n\u001b[1;32m      4\u001b[0m \u001b[38;5;28;01mfrom\u001b[39;00m \u001b[38;5;21;01m.\u001b[39;00m\u001b[38;5;21;01mtypes\u001b[39;00m \u001b[38;5;28;01mimport\u001b[39;00m Decorator\n",
      "File \u001b[0;32m~/opt/anaconda3/lib/python3.9/site-packages/confection/__init__.py:10\u001b[0m, in \u001b[0;36m<module>\u001b[0;34m\u001b[0m\n\u001b[1;32m      8\u001b[0m \u001b[38;5;28;01mfrom\u001b[39;00m \u001b[38;5;21;01mconfigparser\u001b[39;00m \u001b[38;5;28;01mimport\u001b[39;00m ParsingError\n\u001b[1;32m      9\u001b[0m \u001b[38;5;28;01mfrom\u001b[39;00m \u001b[38;5;21;01mpathlib\u001b[39;00m \u001b[38;5;28;01mimport\u001b[39;00m Path\n\u001b[0;32m---> 10\u001b[0m \u001b[38;5;28;01mfrom\u001b[39;00m \u001b[38;5;21;01mpydantic\u001b[39;00m \u001b[38;5;28;01mimport\u001b[39;00m BaseModel, create_model, ValidationError, Extra\n\u001b[1;32m     11\u001b[0m \u001b[38;5;28;01mfrom\u001b[39;00m \u001b[38;5;21;01mpydantic\u001b[39;00m\u001b[38;5;21;01m.\u001b[39;00m\u001b[38;5;21;01mmain\u001b[39;00m \u001b[38;5;28;01mimport\u001b[39;00m ModelMetaclass\n\u001b[1;32m     12\u001b[0m \u001b[38;5;28;01mfrom\u001b[39;00m \u001b[38;5;21;01mpydantic\u001b[39;00m\u001b[38;5;21;01m.\u001b[39;00m\u001b[38;5;21;01mfields\u001b[39;00m \u001b[38;5;28;01mimport\u001b[39;00m ModelField\n",
      "File \u001b[0;32m~/opt/anaconda3/lib/python3.9/site-packages/pydantic/__init__.py:2\u001b[0m, in \u001b[0;36minit pydantic.__init__\u001b[0;34m()\u001b[0m\n",
      "File \u001b[0;32m~/opt/anaconda3/lib/python3.9/site-packages/pydantic/dataclasses.py:48\u001b[0m, in \u001b[0;36minit pydantic.dataclasses\u001b[0;34m()\u001b[0m\n",
      "File \u001b[0;32m~/opt/anaconda3/lib/python3.9/site-packages/pydantic/main.py:120\u001b[0m, in \u001b[0;36minit pydantic.main\u001b[0;34m()\u001b[0m\n",
      "\u001b[0;31mTypeError\u001b[0m: dataclass_transform() got an unexpected keyword argument 'field_specifiers'"
     ]
    }
   ],
   "source": [
    "#Installing + loading \"Spacy\"\n",
    "\n",
    "!pip install spacy\n",
    "!python -m spacy download en_core_web_sm\n",
    "\n",
    "import spacy\n",
    "\n",
    "#spacy.prefer_gpu()\n",
    "\n",
    "nlp = spacy.load(\"en_core_web_sm\")\n"
   ]
  },
  {
   "cell_type": "code",
   "execution_count": 4,
   "id": "3a6c7f6e",
   "metadata": {},
   "outputs": [
    {
     "ename": "NameError",
     "evalue": "name 'nlp' is not defined",
     "output_type": "error",
     "traceback": [
      "\u001b[0;31m---------------------------------------------------------------------------\u001b[0m",
      "\u001b[0;31mNameError\u001b[0m                                 Traceback (most recent call last)",
      "Input \u001b[0;32mIn [4]\u001b[0m, in \u001b[0;36m<cell line: 4>\u001b[0;34m()\u001b[0m\n\u001b[1;32m      1\u001b[0m \u001b[38;5;66;03m# Parts of Speech  +   Tokenisation   + lemmataisation\u001b[39;00m\n\u001b[0;32m----> 4\u001b[0m Text \u001b[38;5;241m=\u001b[39m \u001b[43mnlp\u001b[49m(\u001b[38;5;124mu\u001b[39m\u001b[38;5;124m\"\u001b[39m\u001b[38;5;124mSaarthi is looking to launch its version of chat gpt worth $10 million at 10:30 pm today in Banglore.\u001b[39m\u001b[38;5;124m\"\u001b[39m)\n\u001b[1;32m      6\u001b[0m \u001b[38;5;28;01mfor\u001b[39;00m i \u001b[38;5;129;01min\u001b[39;00m Text:\n\u001b[1;32m      7\u001b[0m     \u001b[38;5;28mprint\u001b[39m(i\u001b[38;5;241m.\u001b[39mtext,\u001b[38;5;124m\"\u001b[39m\u001b[38;5;130;01m\\t\u001b[39;00m\u001b[38;5;124m\"\u001b[39m,i\u001b[38;5;241m.\u001b[39mpos_,\u001b[38;5;124m\"\u001b[39m\u001b[38;5;130;01m\\t\u001b[39;00m\u001b[38;5;124m\"\u001b[39m,i\u001b[38;5;241m.\u001b[39mtag_,\u001b[38;5;124m\"\u001b[39m\u001b[38;5;130;01m\\t\u001b[39;00m\u001b[38;5;124m\"\u001b[39m,i\u001b[38;5;241m.\u001b[39mlemma,\u001b[38;5;124m\"\u001b[39m\u001b[38;5;130;01m\\t\u001b[39;00m\u001b[38;5;124m\"\u001b[39m,i\u001b[38;5;241m.\u001b[39mlemma_,\u001b[38;5;124m\"\u001b[39m\u001b[38;5;130;01m\\t\u001b[39;00m\u001b[38;5;124m\"\u001b[39m,i\u001b[38;5;241m.\u001b[39mshape_)\n",
      "\u001b[0;31mNameError\u001b[0m: name 'nlp' is not defined"
     ]
    }
   ],
   "source": [
    "# Parts of Speech  +   Tokenisation   + lemmataisation\n",
    "\n",
    "\n",
    "Text = nlp(u\"Saarthi is looking to launch its version of chat gpt worth $10 million at 10:30 pm today in Banglore.\")\n",
    "\n",
    "for i in Text:\n",
    "    print(i.text,\"\\t\",i.pos_,\"\\t\",i.tag_,\"\\t\",i.lemma,\"\\t\",i.lemma_,\"\\t\",i.shape_)"
   ]
  },
  {
   "cell_type": "code",
   "execution_count": null,
   "id": "e8170f53",
   "metadata": {},
   "outputs": [],
   "source": [
    "# Visualisers (DEPENDENCIES(dep) and NER(ent))\n",
    "\n",
    "from spacy import displacy\n",
    "\n",
    "\n",
    "displacy.render(Text, style = \"ent\", jupyter = True)   #entities\n",
    "displacy.render(Text, style = \"dep\", jupyter = True)   #dependencies"
   ]
  },
  {
   "cell_type": "code",
   "execution_count": null,
   "id": "4ecb7dcb",
   "metadata": {},
   "outputs": [],
   "source": [
    "#stemming from NLTK\n",
    "\n",
    "from nltk.stem.porter import PorterStemmer   #importing\n",
    "from nltk.stem.snowball import SnowballStemmer   #importing\n",
    "\n",
    "P_stemmer = PorterStemmer()   #calling object\n",
    "S_stemmer = SnowballStemmer(language = \"english\")   #calling object\n",
    "\n",
    "words = [\"runner\", \"run\", \"running\", \"runs\", \"ran\", \"ruined\", \"his\", \"life\"]\n",
    "\n",
    "for i in words:\n",
    "    print(i + \"----->\" + P_stemmer.stem(i))\n",
    "    print(i + \"----->\" + S_stemmer.stem(i))"
   ]
  },
  {
   "cell_type": "code",
   "execution_count": null,
   "id": "b695e990",
   "metadata": {},
   "outputs": [],
   "source": [
    "# stop words\n",
    "\n",
    "#to check total default stopwords in spacy english\n",
    "\n",
    "len(nlp.Defaults.stop_words)\n",
    "\n",
    "\n",
    "\n",
    "\n",
    "#to print all default stopwords\n",
    "\n",
    "print(nlp.Defaults.stop_words)\n",
    "\n",
    "\n",
    "\n",
    "\n",
    "#to check whether any word is a stopword or not\n",
    "\n",
    "nlp.vocab[\"beforehand\"].is_stop\n",
    "\n",
    "\n",
    "\n",
    "#to add any word in stopwords\n",
    "nlp.Defaults.stop_words.add(\"vinay\")\n",
    "\n",
    "nlp.vocab[\"vinay\"].is_stop\n"
   ]
  },
  {
   "cell_type": "code",
   "execution_count": null,
   "id": "fa987a8b",
   "metadata": {},
   "outputs": [],
   "source": []
  }
 ],
 "metadata": {
  "kernelspec": {
   "display_name": "Python 3 (ipykernel)",
   "language": "python",
   "name": "python3"
  },
  "language_info": {
   "codemirror_mode": {
    "name": "ipython",
    "version": 3
   },
   "file_extension": ".py",
   "mimetype": "text/x-python",
   "name": "python",
   "nbconvert_exporter": "python",
   "pygments_lexer": "ipython3",
   "version": "3.9.12"
  }
 },
 "nbformat": 4,
 "nbformat_minor": 5
}
