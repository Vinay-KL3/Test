{
 "cells": [
  {
   "cell_type": "code",
   "execution_count": 2,
   "id": "e9f05783",
   "metadata": {},
   "outputs": [
    {
     "name": "stdout",
     "output_type": "stream",
     "text": [
      "Requirement already satisfied: selenium in /Users/vinay_kl/opt/anaconda3/lib/python3.9/site-packages (4.8.2)\n",
      "Requirement already satisfied: certifi>=2021.10.8 in /Users/vinay_kl/opt/anaconda3/lib/python3.9/site-packages (from selenium) (2021.10.8)\n",
      "Requirement already satisfied: trio-websocket~=0.9 in /Users/vinay_kl/opt/anaconda3/lib/python3.9/site-packages (from selenium) (0.9.2)\n",
      "Requirement already satisfied: trio~=0.17 in /Users/vinay_kl/opt/anaconda3/lib/python3.9/site-packages (from selenium) (0.22.0)\n",
      "Requirement already satisfied: urllib3[socks]~=1.26 in /Users/vinay_kl/opt/anaconda3/lib/python3.9/site-packages (from selenium) (1.26.9)\n",
      "Requirement already satisfied: exceptiongroup>=1.0.0rc9 in /Users/vinay_kl/opt/anaconda3/lib/python3.9/site-packages (from trio~=0.17->selenium) (1.1.0)\n",
      "Requirement already satisfied: sortedcontainers in /Users/vinay_kl/opt/anaconda3/lib/python3.9/site-packages (from trio~=0.17->selenium) (2.4.0)\n",
      "Requirement already satisfied: attrs>=19.2.0 in /Users/vinay_kl/opt/anaconda3/lib/python3.9/site-packages (from trio~=0.17->selenium) (21.4.0)\n",
      "Requirement already satisfied: async-generator>=1.9 in /Users/vinay_kl/opt/anaconda3/lib/python3.9/site-packages (from trio~=0.17->selenium) (1.10)\n",
      "Requirement already satisfied: sniffio in /Users/vinay_kl/opt/anaconda3/lib/python3.9/site-packages (from trio~=0.17->selenium) (1.2.0)\n",
      "Requirement already satisfied: outcome in /Users/vinay_kl/opt/anaconda3/lib/python3.9/site-packages (from trio~=0.17->selenium) (1.2.0)\n",
      "Requirement already satisfied: idna in /Users/vinay_kl/opt/anaconda3/lib/python3.9/site-packages (from trio~=0.17->selenium) (3.3)\n",
      "Requirement already satisfied: wsproto>=0.14 in /Users/vinay_kl/opt/anaconda3/lib/python3.9/site-packages (from trio-websocket~=0.9->selenium) (1.2.0)\n",
      "Requirement already satisfied: PySocks!=1.5.7,<2.0,>=1.5.6 in /Users/vinay_kl/opt/anaconda3/lib/python3.9/site-packages (from urllib3[socks]~=1.26->selenium) (1.7.1)\n",
      "Requirement already satisfied: h11<1,>=0.9.0 in /Users/vinay_kl/opt/anaconda3/lib/python3.9/site-packages (from wsproto>=0.14->trio-websocket~=0.9->selenium) (0.14.0)\n",
      "Note: you may need to restart the kernel to use updated packages.\n"
     ]
    }
   ],
   "source": [
    "pip install selenium"
   ]
  },
  {
   "cell_type": "code",
   "execution_count": 3,
   "id": "9b556423",
   "metadata": {
    "scrolled": true
   },
   "outputs": [],
   "source": [
    "from selenium import webdriver\n",
    "import time\n",
    "from selenium.webdriver.common.alert import Alert\n",
    "from selenium.webdriver.common.keys import Keys\n",
    "from selenium.webdriver.common.action_chains import ActionChains\n",
    "from selenium.webdriver.support.select import Select"
   ]
  },
  {
   "cell_type": "code",
   "execution_count": 6,
   "id": "edc61731",
   "metadata": {},
   "outputs": [
    {
     "name": "stderr",
     "output_type": "stream",
     "text": [
      "/var/folders/tr/mwr4dkgn0tb5jh53c7lyvfmw0000gn/T/ipykernel_17164/4228695047.py:1: DeprecationWarning: executable_path has been deprecated, please pass in a Service object\n",
      "  driver = webdriver.Chrome(\"chromedriver.exe\")\n"
     ]
    }
   ],
   "source": [
    "driver = webdriver.Chrome(\"chromedriver.exe\")"
   ]
  },
  {
   "cell_type": "code",
   "execution_count": 40,
   "id": "8ad1bfbb",
   "metadata": {},
   "outputs": [
    {
     "name": "stderr",
     "output_type": "stream",
     "text": [
      "/var/folders/tr/mwr4dkgn0tb5jh53c7lyvfmw0000gn/T/ipykernel_17164/4045811271.py:1: DeprecationWarning: executable_path has been deprecated, please pass in a Service object\n",
      "  driver = webdriver.Chrome(\"chromedriver.exe\")\n"
     ]
    },
    {
     "ename": "ElementNotInteractableException",
     "evalue": "Message: element not interactable\n  (Session info: chrome=110.0.5481.177)\nStacktrace:\n0   chromedriver                        0x0000000100b26138 chromedriver + 4923704\n1   chromedriver                        0x0000000100a9e9d3 chromedriver + 4368851\n2   chromedriver                        0x00000001006e75fd chromedriver + 472573\n3   chromedriver                        0x000000010072d381 chromedriver + 758657\n4   chromedriver                        0x000000010071e303 chromedriver + 697091\n5   chromedriver                        0x0000000100754fb2 chromedriver + 921522\n6   chromedriver                        0x000000010071d971 chromedriver + 694641\n7   chromedriver                        0x00000001007551de chromedriver + 922078\n8   chromedriver                        0x000000010076fc0f chromedriver + 1031183\n9   chromedriver                        0x0000000100754d23 chromedriver + 920867\n10  chromedriver                        0x000000010071ba4b chromedriver + 686667\n11  chromedriver                        0x000000010071d044 chromedriver + 692292\n12  chromedriver                        0x0000000100af18fe chromedriver + 4708606\n13  chromedriver                        0x0000000100af6e22 chromedriver + 4730402\n14  chromedriver                        0x0000000100aff6bf chromedriver + 4765375\n15  chromedriver                        0x0000000100af7e80 chromedriver + 4734592\n16  chromedriver                        0x0000000100ac8975 chromedriver + 4540789\n17  chromedriver                        0x0000000100b19e78 chromedriver + 4873848\n18  chromedriver                        0x0000000100b19ff5 chromedriver + 4874229\n19  chromedriver                        0x0000000100b2e6de chromedriver + 4957918\n20  libsystem_pthread.dylib             0x00007ff81c55b259 _pthread_start + 125\n21  libsystem_pthread.dylib             0x00007ff81c556c7b thread_start + 15\n",
     "output_type": "error",
     "traceback": [
      "\u001b[0;31m---------------------------------------------------------------------------\u001b[0m",
      "\u001b[0;31mElementNotInteractableException\u001b[0m           Traceback (most recent call last)",
      "Input \u001b[0;32mIn [40]\u001b[0m, in \u001b[0;36m<cell line: 33>\u001b[0;34m()\u001b[0m\n\u001b[1;32m     31\u001b[0m driver\u001b[38;5;241m.\u001b[39mimplicitly_wait(\u001b[38;5;241m10\u001b[39m)\n\u001b[1;32m     32\u001b[0m driver\u001b[38;5;241m.\u001b[39mfind_element(\u001b[38;5;124m\"\u001b[39m\u001b[38;5;124mxpath\u001b[39m\u001b[38;5;124m\"\u001b[39m, \u001b[38;5;124m'\u001b[39m\u001b[38;5;124m//*[@id=\u001b[39m\u001b[38;5;124m\"\u001b[39m\u001b[38;5;124mSCAItextMessage\u001b[39m\u001b[38;5;124m\"\u001b[39m\u001b[38;5;124m]\u001b[39m\u001b[38;5;124m'\u001b[39m)\u001b[38;5;241m.\u001b[39msend_keys(\u001b[38;5;124m\"\u001b[39m\u001b[38;5;124m7893893270\u001b[39m\u001b[38;5;124m\"\u001b[39m)\n\u001b[0;32m---> 33\u001b[0m \u001b[43mdriver\u001b[49m\u001b[38;5;241;43m.\u001b[39;49m\u001b[43mfind_element\u001b[49m\u001b[43m(\u001b[49m\u001b[38;5;124;43m\"\u001b[39;49m\u001b[38;5;124;43mxpath\u001b[39;49m\u001b[38;5;124;43m\"\u001b[39;49m\u001b[43m,\u001b[49m\u001b[43m \u001b[49m\u001b[38;5;124;43m'\u001b[39;49m\u001b[38;5;124;43m//*[@id=\u001b[39;49m\u001b[38;5;124;43m\"\u001b[39;49m\u001b[38;5;124;43m<Path>\u001b[39;49m\u001b[38;5;124;43m\"\u001b[39;49m\u001b[38;5;124;43m]\u001b[39;49m\u001b[38;5;124;43m'\u001b[39;49m\u001b[43m)\u001b[49m\u001b[38;5;241;43m.\u001b[39;49m\u001b[43mclick\u001b[49m\u001b[43m(\u001b[49m\u001b[43m)\u001b[49m\n\u001b[1;32m     35\u001b[0m driver\u001b[38;5;241m.\u001b[39mimplicitly_wait(\u001b[38;5;241m10\u001b[39m)\n\u001b[1;32m     36\u001b[0m driver\u001b[38;5;241m.\u001b[39mfind_element(\u001b[38;5;124m\"\u001b[39m\u001b[38;5;124mxpath\u001b[39m\u001b[38;5;124m\"\u001b[39m, \u001b[38;5;124m'\u001b[39m\u001b[38;5;124m//*[@id=\u001b[39m\u001b[38;5;124m\"\u001b[39m\u001b[38;5;124mSCAItextMessage\u001b[39m\u001b[38;5;124m\"\u001b[39m\u001b[38;5;124m]\u001b[39m\u001b[38;5;124m'\u001b[39m)\u001b[38;5;241m.\u001b[39msend_keys(\u001b[38;5;124m\"\u001b[39m\u001b[38;5;124mvinay lingampelly\u001b[39m\u001b[38;5;124m\"\u001b[39m)\n",
      "File \u001b[0;32m~/opt/anaconda3/lib/python3.9/site-packages/selenium/webdriver/remote/webelement.py:93\u001b[0m, in \u001b[0;36mWebElement.click\u001b[0;34m(self)\u001b[0m\n\u001b[1;32m     91\u001b[0m \u001b[38;5;28;01mdef\u001b[39;00m \u001b[38;5;21mclick\u001b[39m(\u001b[38;5;28mself\u001b[39m) \u001b[38;5;241m-\u001b[39m\u001b[38;5;241m>\u001b[39m \u001b[38;5;28;01mNone\u001b[39;00m:\n\u001b[1;32m     92\u001b[0m     \u001b[38;5;124;03m\"\"\"Clicks the element.\"\"\"\u001b[39;00m\n\u001b[0;32m---> 93\u001b[0m     \u001b[38;5;28;43mself\u001b[39;49m\u001b[38;5;241;43m.\u001b[39;49m\u001b[43m_execute\u001b[49m\u001b[43m(\u001b[49m\u001b[43mCommand\u001b[49m\u001b[38;5;241;43m.\u001b[39;49m\u001b[43mCLICK_ELEMENT\u001b[49m\u001b[43m)\u001b[49m\n",
      "File \u001b[0;32m~/opt/anaconda3/lib/python3.9/site-packages/selenium/webdriver/remote/webelement.py:403\u001b[0m, in \u001b[0;36mWebElement._execute\u001b[0;34m(self, command, params)\u001b[0m\n\u001b[1;32m    401\u001b[0m     params \u001b[38;5;241m=\u001b[39m {}\n\u001b[1;32m    402\u001b[0m params[\u001b[38;5;124m\"\u001b[39m\u001b[38;5;124mid\u001b[39m\u001b[38;5;124m\"\u001b[39m] \u001b[38;5;241m=\u001b[39m \u001b[38;5;28mself\u001b[39m\u001b[38;5;241m.\u001b[39m_id\n\u001b[0;32m--> 403\u001b[0m \u001b[38;5;28;01mreturn\u001b[39;00m \u001b[38;5;28;43mself\u001b[39;49m\u001b[38;5;241;43m.\u001b[39;49m\u001b[43m_parent\u001b[49m\u001b[38;5;241;43m.\u001b[39;49m\u001b[43mexecute\u001b[49m\u001b[43m(\u001b[49m\u001b[43mcommand\u001b[49m\u001b[43m,\u001b[49m\u001b[43m \u001b[49m\u001b[43mparams\u001b[49m\u001b[43m)\u001b[49m\n",
      "File \u001b[0;32m~/opt/anaconda3/lib/python3.9/site-packages/selenium/webdriver/remote/webdriver.py:440\u001b[0m, in \u001b[0;36mWebDriver.execute\u001b[0;34m(self, driver_command, params)\u001b[0m\n\u001b[1;32m    438\u001b[0m response \u001b[38;5;241m=\u001b[39m \u001b[38;5;28mself\u001b[39m\u001b[38;5;241m.\u001b[39mcommand_executor\u001b[38;5;241m.\u001b[39mexecute(driver_command, params)\n\u001b[1;32m    439\u001b[0m \u001b[38;5;28;01mif\u001b[39;00m response:\n\u001b[0;32m--> 440\u001b[0m     \u001b[38;5;28;43mself\u001b[39;49m\u001b[38;5;241;43m.\u001b[39;49m\u001b[43merror_handler\u001b[49m\u001b[38;5;241;43m.\u001b[39;49m\u001b[43mcheck_response\u001b[49m\u001b[43m(\u001b[49m\u001b[43mresponse\u001b[49m\u001b[43m)\u001b[49m\n\u001b[1;32m    441\u001b[0m     response[\u001b[38;5;124m\"\u001b[39m\u001b[38;5;124mvalue\u001b[39m\u001b[38;5;124m\"\u001b[39m] \u001b[38;5;241m=\u001b[39m \u001b[38;5;28mself\u001b[39m\u001b[38;5;241m.\u001b[39m_unwrap_value(response\u001b[38;5;241m.\u001b[39mget(\u001b[38;5;124m\"\u001b[39m\u001b[38;5;124mvalue\u001b[39m\u001b[38;5;124m\"\u001b[39m, \u001b[38;5;28;01mNone\u001b[39;00m))\n\u001b[1;32m    442\u001b[0m     \u001b[38;5;28;01mreturn\u001b[39;00m response\n",
      "File \u001b[0;32m~/opt/anaconda3/lib/python3.9/site-packages/selenium/webdriver/remote/errorhandler.py:245\u001b[0m, in \u001b[0;36mErrorHandler.check_response\u001b[0;34m(self, response)\u001b[0m\n\u001b[1;32m    243\u001b[0m         alert_text \u001b[38;5;241m=\u001b[39m value[\u001b[38;5;124m\"\u001b[39m\u001b[38;5;124malert\u001b[39m\u001b[38;5;124m\"\u001b[39m]\u001b[38;5;241m.\u001b[39mget(\u001b[38;5;124m\"\u001b[39m\u001b[38;5;124mtext\u001b[39m\u001b[38;5;124m\"\u001b[39m)\n\u001b[1;32m    244\u001b[0m     \u001b[38;5;28;01mraise\u001b[39;00m exception_class(message, screen, stacktrace, alert_text)  \u001b[38;5;66;03m# type: ignore[call-arg]  # mypy is not smart enough here\u001b[39;00m\n\u001b[0;32m--> 245\u001b[0m \u001b[38;5;28;01mraise\u001b[39;00m exception_class(message, screen, stacktrace)\n",
      "\u001b[0;31mElementNotInteractableException\u001b[0m: Message: element not interactable\n  (Session info: chrome=110.0.5481.177)\nStacktrace:\n0   chromedriver                        0x0000000100b26138 chromedriver + 4923704\n1   chromedriver                        0x0000000100a9e9d3 chromedriver + 4368851\n2   chromedriver                        0x00000001006e75fd chromedriver + 472573\n3   chromedriver                        0x000000010072d381 chromedriver + 758657\n4   chromedriver                        0x000000010071e303 chromedriver + 697091\n5   chromedriver                        0x0000000100754fb2 chromedriver + 921522\n6   chromedriver                        0x000000010071d971 chromedriver + 694641\n7   chromedriver                        0x00000001007551de chromedriver + 922078\n8   chromedriver                        0x000000010076fc0f chromedriver + 1031183\n9   chromedriver                        0x0000000100754d23 chromedriver + 920867\n10  chromedriver                        0x000000010071ba4b chromedriver + 686667\n11  chromedriver                        0x000000010071d044 chromedriver + 692292\n12  chromedriver                        0x0000000100af18fe chromedriver + 4708606\n13  chromedriver                        0x0000000100af6e22 chromedriver + 4730402\n14  chromedriver                        0x0000000100aff6bf chromedriver + 4765375\n15  chromedriver                        0x0000000100af7e80 chromedriver + 4734592\n16  chromedriver                        0x0000000100ac8975 chromedriver + 4540789\n17  chromedriver                        0x0000000100b19e78 chromedriver + 4873848\n18  chromedriver                        0x0000000100b19ff5 chromedriver + 4874229\n19  chromedriver                        0x0000000100b2e6de chromedriver + 4957918\n20  libsystem_pthread.dylib             0x00007ff81c55b259 _pthread_start + 125\n21  libsystem_pthread.dylib             0x00007ff81c556c7b thread_start + 15\n"
     ]
    }
   ],
   "source": [
    "driver = webdriver.Chrome(\"chromedriver.exe\")\n",
    "\n",
    "driver.get(\"https://www.tunetalk.com/my/en\")\n",
    "time.sleep(20)\n",
    "#driver.implicitly_wait(20)\n",
    "\n",
    "#action = ActionChains(driver)\n",
    "#driver.keys(\"Escape\");\n",
    "#driver.send_keys(Keys.ESCAPE).perform()\n",
    "#driver.find_element_by_tag_name('body').send_keys(Keys.ESCAPE)\n",
    "#action.send_keys(Keys.ESCAPE).perform()\n",
    "\n",
    "#driver.switch_to_alert().dismiss();\n",
    "#Alert(driver).dismiss()\n",
    "\n",
    "#driver.find_element_by_xpath('//*[@id=\"SCAIclose_window\"]').click()\n",
    "#driver.implicitly_wait(10)\n",
    "\n",
    "driver.find_element(\"xpath\", '//*[@id=\"SCAIclose_window\"]').click()\n",
    "driver.implicitly_wait(10)\n",
    "driver.find_element(\"xpath\", '//*[@id=\"SCAIBtn_ID_12\"]').click()\n",
    "driver.implicitly_wait(10)\n",
    "driver.find_element(\"xpath\", '//*[@id=\"SCAIBtn_ID_12\"]').click()\n",
    "driver.implicitly_wait(10)\n",
    "driver.find_element(\"xpath\", '//*[@id=\"SCAIBtn_ID_12\"]').click()\n",
    "driver.implicitly_wait(10)\n",
    "driver.find_element(\"xpath\", '//*[@id=\"SCAIBtn_ID_11\"]').click()\n",
    "driver.implicitly_wait(10)\n",
    "driver.find_element(\"xpath\", '//*[@id=\"SCAIBtn_ID_11\"]').click()\n",
    "\n",
    "driver.implicitly_wait(10)\n",
    "driver.find_element(\"xpath\", '//*[@id=\"SCAItextMessage\"]').send_keys(\"7893893270\")\n",
    "driver.find_element(\"xpath\", '//*[@id=\"<Path>\"]').click()\n",
    "\n",
    "driver.implicitly_wait(10)\n",
    "driver.find_element(\"xpath\", '//*[@id=\"SCAItextMessage\"]').send_keys(\"vinay lingampelly\")\n",
    "driver.find_element(\"xpath\", '//*[@id=\"SCAIbutton_send\"]/svg').click()\n",
    "\n",
    "driver.implicitly_wait(10)\n",
    "driver.find_element(\"xpath\", '//*[@id=\"SCAItextMessage\"]').send_keys(\"tifreelancer01@gmail.com\")\n",
    "driver.find_element(\"xpath\", '//*[@id=\"SCAIbutton_send\"]/svg').click()\n",
    "\n",
    "driver.implicitly_wait(10)\n",
    "driver.find_element(\"xpath\", '//*[@id=\"SCAItextMessage\"]').send_keys(\"Can you speak English\")\n",
    "driver.find_element(\"xpath\", '//*[@id=\"SCAIbutton_send\"]/svg').click()\n",
    "\n",
    "time.sleep(10)\n",
    "\n",
    "\n",
    "\n",
    "driver.quit()"
   ]
  },
  {
   "cell_type": "code",
   "execution_count": null,
   "id": "fe8fc9dc",
   "metadata": {},
   "outputs": [],
   "source": [
    "driver.quit()"
   ]
  },
  {
   "cell_type": "code",
   "execution_count": null,
   "id": "1b9d1eb8",
   "metadata": {},
   "outputs": [],
   "source": [
    "//*[@id=\"SCAIBtn_ID_12\"]\n",
    "\n",
    "//*[@id=\"SCAIBtn_ID_12\"]\n",
    "//*[@id=\"SCAIBtn_ID_11\"]\n",
    "//*[@id=\"SCAIBtn_ID_11\"]\n",
    "                            7893893270\n",
    "                            vinay lingampelly\n",
    "                            tifreelancer01@gmail.com\n",
    "//*[@id=\"SCAItextMessage\"]                            Can you speak English\n",
    "\n",
    "\n",
    "//*[@id=\"SCAIManuButtonId\"]/img      Home button\n",
    "\n",
    "\n",
    "\n",
    "//*[@id=\"<Path>\"]\n",
    "//button[@id='SCAIbutton_send']//*[name()='svg']//*[name()='g' and @id='Layer 3']//*[name()='g' and @id='<Group>']//*[name()='path' and @id='<Path>']"
   ]
  }
 ],
 "metadata": {
  "kernelspec": {
   "display_name": "Python 3 (ipykernel)",
   "language": "python",
   "name": "python3"
  },
  "language_info": {
   "codemirror_mode": {
    "name": "ipython",
    "version": 3
   },
   "file_extension": ".py",
   "mimetype": "text/x-python",
   "name": "python",
   "nbconvert_exporter": "python",
   "pygments_lexer": "ipython3",
   "version": "3.9.12"
  }
 },
 "nbformat": 4,
 "nbformat_minor": 5
}
