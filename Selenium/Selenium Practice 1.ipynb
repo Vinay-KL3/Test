{
 "cells": [
  {
   "cell_type": "code",
   "execution_count": 2,
   "id": "e9f05783",
   "metadata": {},
   "outputs": [
    {
     "name": "stdout",
     "output_type": "stream",
     "text": [
      "Requirement already satisfied: selenium in /Users/vinay_kl/opt/anaconda3/lib/python3.9/site-packages (4.8.2)\n",
      "Requirement already satisfied: certifi>=2021.10.8 in /Users/vinay_kl/opt/anaconda3/lib/python3.9/site-packages (from selenium) (2021.10.8)\n",
      "Requirement already satisfied: trio-websocket~=0.9 in /Users/vinay_kl/opt/anaconda3/lib/python3.9/site-packages (from selenium) (0.9.2)\n",
      "Requirement already satisfied: trio~=0.17 in /Users/vinay_kl/opt/anaconda3/lib/python3.9/site-packages (from selenium) (0.22.0)\n",
      "Requirement already satisfied: urllib3[socks]~=1.26 in /Users/vinay_kl/opt/anaconda3/lib/python3.9/site-packages (from selenium) (1.26.9)\n",
      "Requirement already satisfied: exceptiongroup>=1.0.0rc9 in /Users/vinay_kl/opt/anaconda3/lib/python3.9/site-packages (from trio~=0.17->selenium) (1.1.0)\n",
      "Requirement already satisfied: sortedcontainers in /Users/vinay_kl/opt/anaconda3/lib/python3.9/site-packages (from trio~=0.17->selenium) (2.4.0)\n",
      "Requirement already satisfied: attrs>=19.2.0 in /Users/vinay_kl/opt/anaconda3/lib/python3.9/site-packages (from trio~=0.17->selenium) (21.4.0)\n",
      "Requirement already satisfied: async-generator>=1.9 in /Users/vinay_kl/opt/anaconda3/lib/python3.9/site-packages (from trio~=0.17->selenium) (1.10)\n",
      "Requirement already satisfied: sniffio in /Users/vinay_kl/opt/anaconda3/lib/python3.9/site-packages (from trio~=0.17->selenium) (1.2.0)\n",
      "Requirement already satisfied: outcome in /Users/vinay_kl/opt/anaconda3/lib/python3.9/site-packages (from trio~=0.17->selenium) (1.2.0)\n",
      "Requirement already satisfied: idna in /Users/vinay_kl/opt/anaconda3/lib/python3.9/site-packages (from trio~=0.17->selenium) (3.3)\n",
      "Requirement already satisfied: wsproto>=0.14 in /Users/vinay_kl/opt/anaconda3/lib/python3.9/site-packages (from trio-websocket~=0.9->selenium) (1.2.0)\n",
      "Requirement already satisfied: PySocks!=1.5.7,<2.0,>=1.5.6 in /Users/vinay_kl/opt/anaconda3/lib/python3.9/site-packages (from urllib3[socks]~=1.26->selenium) (1.7.1)\n",
      "Requirement already satisfied: h11<1,>=0.9.0 in /Users/vinay_kl/opt/anaconda3/lib/python3.9/site-packages (from wsproto>=0.14->trio-websocket~=0.9->selenium) (0.14.0)\n",
      "Note: you may need to restart the kernel to use updated packages.\n"
     ]
    }
   ],
   "source": [
    "pip install selenium"
   ]
  },
  {
   "cell_type": "code",
   "execution_count": 2,
   "id": "9b556423",
   "metadata": {
    "scrolled": true
   },
   "outputs": [],
   "source": [
    "from selenium import webdriver\n",
    "import time\n",
    "from selenium.webdriver.common.alert import Alert\n",
    "from selenium.webdriver.common.keys import Keys\n",
    "from selenium.webdriver.common.action_chains import ActionChains\n",
    "from selenium.webdriver.support.select import Select"
   ]
  },
  {
   "cell_type": "code",
   "execution_count": 6,
   "id": "edc61731",
   "metadata": {},
   "outputs": [
    {
     "name": "stderr",
     "output_type": "stream",
     "text": [
      "/var/folders/tr/mwr4dkgn0tb5jh53c7lyvfmw0000gn/T/ipykernel_17164/4228695047.py:1: DeprecationWarning: executable_path has been deprecated, please pass in a Service object\n",
      "  driver = webdriver.Chrome(\"chromedriver.exe\")\n"
     ]
    }
   ],
   "source": [
    "driver = webdriver.Chrome(\"chromedriver.exe\")"
   ]
  },
  {
   "cell_type": "code",
   "execution_count": 3,
   "id": "8ad1bfbb",
   "metadata": {},
   "outputs": [
    {
     "name": "stderr",
     "output_type": "stream",
     "text": [
      "/var/folders/tr/mwr4dkgn0tb5jh53c7lyvfmw0000gn/T/ipykernel_68634/4045811271.py:1: DeprecationWarning: executable_path has been deprecated, please pass in a Service object\n",
      "  driver = webdriver.Chrome(\"chromedriver.exe\")\n"
     ]
    },
    {
     "ename": "NoSuchWindowException",
     "evalue": "Message: no such window: target window already closed\nfrom unknown error: web view not found\n  (Session info: chrome=114.0.5735.198)\nStacktrace:\n0   chromedriver                        0x00000001049dc6b8 chromedriver + 4937400\n1   chromedriver                        0x00000001049d3b73 chromedriver + 4901747\n2   chromedriver                        0x0000000104591616 chromedriver + 435734\n3   chromedriver                        0x000000010456658c chromedriver + 259468\n4   chromedriver                        0x00000001045fe64f chromedriver + 882255\n5   chromedriver                        0x0000000104613516 chromedriver + 967958\n6   chromedriver                        0x00000001045f8de3 chromedriver + 859619\n7   chromedriver                        0x00000001045c6d7f chromedriver + 654719\n8   chromedriver                        0x00000001045c80de chromedriver + 659678\n9   chromedriver                        0x00000001049982ad chromedriver + 4657837\n10  chromedriver                        0x000000010499d130 chromedriver + 4677936\n11  chromedriver                        0x00000001049a3def chromedriver + 4705775\n12  chromedriver                        0x000000010499e05a chromedriver + 4681818\n13  chromedriver                        0x000000010497092c chromedriver + 4495660\n14  chromedriver                        0x00000001049bb838 chromedriver + 4802616\n15  chromedriver                        0x00000001049bb9b7 chromedriver + 4802999\n16  chromedriver                        0x00000001049cc99f chromedriver + 4872607\n17  libsystem_pthread.dylib             0x00007ff818bff1d3 _pthread_start + 125\n18  libsystem_pthread.dylib             0x00007ff818bfabd3 thread_start + 15\n",
     "output_type": "error",
     "traceback": [
      "\u001b[0;31m---------------------------------------------------------------------------\u001b[0m",
      "\u001b[0;31mNoSuchWindowException\u001b[0m                     Traceback (most recent call last)",
      "Input \u001b[0;32mIn [3]\u001b[0m, in \u001b[0;36m<cell line: 19>\u001b[0;34m()\u001b[0m\n\u001b[1;32m      4\u001b[0m time\u001b[38;5;241m.\u001b[39msleep(\u001b[38;5;241m20\u001b[39m)\n\u001b[1;32m      5\u001b[0m \u001b[38;5;66;03m#driver.implicitly_wait(20)\u001b[39;00m\n\u001b[1;32m      6\u001b[0m \n\u001b[1;32m      7\u001b[0m \u001b[38;5;66;03m#action = ActionChains(driver)\u001b[39;00m\n\u001b[0;32m   (...)\u001b[0m\n\u001b[1;32m     16\u001b[0m \u001b[38;5;66;03m#driver.find_element_by_xpath('//*[@id=\"SCAIclose_window\"]').click()\u001b[39;00m\n\u001b[1;32m     17\u001b[0m \u001b[38;5;66;03m#driver.implicitly_wait(10)\u001b[39;00m\n\u001b[0;32m---> 19\u001b[0m \u001b[43mdriver\u001b[49m\u001b[38;5;241;43m.\u001b[39;49m\u001b[43mfind_element\u001b[49m\u001b[43m(\u001b[49m\u001b[38;5;124;43m\"\u001b[39;49m\u001b[38;5;124;43mxpath\u001b[39;49m\u001b[38;5;124;43m\"\u001b[39;49m\u001b[43m,\u001b[49m\u001b[43m \u001b[49m\u001b[38;5;124;43m'\u001b[39;49m\u001b[38;5;124;43m//*[@id=\u001b[39;49m\u001b[38;5;124;43m\"\u001b[39;49m\u001b[38;5;124;43mSCAIclose_window\u001b[39;49m\u001b[38;5;124;43m\"\u001b[39;49m\u001b[38;5;124;43m]\u001b[39;49m\u001b[38;5;124;43m'\u001b[39;49m\u001b[43m)\u001b[49m\u001b[38;5;241m.\u001b[39mclick()\n\u001b[1;32m     20\u001b[0m driver\u001b[38;5;241m.\u001b[39mimplicitly_wait(\u001b[38;5;241m10\u001b[39m)\n\u001b[1;32m     21\u001b[0m driver\u001b[38;5;241m.\u001b[39mfind_element(\u001b[38;5;124m\"\u001b[39m\u001b[38;5;124mxpath\u001b[39m\u001b[38;5;124m\"\u001b[39m, \u001b[38;5;124m'\u001b[39m\u001b[38;5;124m//*[@id=\u001b[39m\u001b[38;5;124m\"\u001b[39m\u001b[38;5;124mSCAIBtn_ID_12\u001b[39m\u001b[38;5;124m\"\u001b[39m\u001b[38;5;124m]\u001b[39m\u001b[38;5;124m'\u001b[39m)\u001b[38;5;241m.\u001b[39mclick()\n",
      "File \u001b[0;32m~/opt/anaconda3/lib/python3.9/site-packages/selenium/webdriver/remote/webdriver.py:830\u001b[0m, in \u001b[0;36mWebDriver.find_element\u001b[0;34m(self, by, value)\u001b[0m\n\u001b[1;32m    827\u001b[0m     by \u001b[38;5;241m=\u001b[39m By\u001b[38;5;241m.\u001b[39mCSS_SELECTOR\n\u001b[1;32m    828\u001b[0m     value \u001b[38;5;241m=\u001b[39m \u001b[38;5;124mf\u001b[39m\u001b[38;5;124m'\u001b[39m\u001b[38;5;124m[name=\u001b[39m\u001b[38;5;124m\"\u001b[39m\u001b[38;5;132;01m{\u001b[39;00mvalue\u001b[38;5;132;01m}\u001b[39;00m\u001b[38;5;124m\"\u001b[39m\u001b[38;5;124m]\u001b[39m\u001b[38;5;124m'\u001b[39m\n\u001b[0;32m--> 830\u001b[0m \u001b[38;5;28;01mreturn\u001b[39;00m \u001b[38;5;28;43mself\u001b[39;49m\u001b[38;5;241;43m.\u001b[39;49m\u001b[43mexecute\u001b[49m\u001b[43m(\u001b[49m\u001b[43mCommand\u001b[49m\u001b[38;5;241;43m.\u001b[39;49m\u001b[43mFIND_ELEMENT\u001b[49m\u001b[43m,\u001b[49m\u001b[43m \u001b[49m\u001b[43m{\u001b[49m\u001b[38;5;124;43m\"\u001b[39;49m\u001b[38;5;124;43musing\u001b[39;49m\u001b[38;5;124;43m\"\u001b[39;49m\u001b[43m:\u001b[49m\u001b[43m \u001b[49m\u001b[43mby\u001b[49m\u001b[43m,\u001b[49m\u001b[43m \u001b[49m\u001b[38;5;124;43m\"\u001b[39;49m\u001b[38;5;124;43mvalue\u001b[39;49m\u001b[38;5;124;43m\"\u001b[39;49m\u001b[43m:\u001b[49m\u001b[43m \u001b[49m\u001b[43mvalue\u001b[49m\u001b[43m}\u001b[49m\u001b[43m)\u001b[49m[\u001b[38;5;124m\"\u001b[39m\u001b[38;5;124mvalue\u001b[39m\u001b[38;5;124m\"\u001b[39m]\n",
      "File \u001b[0;32m~/opt/anaconda3/lib/python3.9/site-packages/selenium/webdriver/remote/webdriver.py:440\u001b[0m, in \u001b[0;36mWebDriver.execute\u001b[0;34m(self, driver_command, params)\u001b[0m\n\u001b[1;32m    438\u001b[0m response \u001b[38;5;241m=\u001b[39m \u001b[38;5;28mself\u001b[39m\u001b[38;5;241m.\u001b[39mcommand_executor\u001b[38;5;241m.\u001b[39mexecute(driver_command, params)\n\u001b[1;32m    439\u001b[0m \u001b[38;5;28;01mif\u001b[39;00m response:\n\u001b[0;32m--> 440\u001b[0m     \u001b[38;5;28;43mself\u001b[39;49m\u001b[38;5;241;43m.\u001b[39;49m\u001b[43merror_handler\u001b[49m\u001b[38;5;241;43m.\u001b[39;49m\u001b[43mcheck_response\u001b[49m\u001b[43m(\u001b[49m\u001b[43mresponse\u001b[49m\u001b[43m)\u001b[49m\n\u001b[1;32m    441\u001b[0m     response[\u001b[38;5;124m\"\u001b[39m\u001b[38;5;124mvalue\u001b[39m\u001b[38;5;124m\"\u001b[39m] \u001b[38;5;241m=\u001b[39m \u001b[38;5;28mself\u001b[39m\u001b[38;5;241m.\u001b[39m_unwrap_value(response\u001b[38;5;241m.\u001b[39mget(\u001b[38;5;124m\"\u001b[39m\u001b[38;5;124mvalue\u001b[39m\u001b[38;5;124m\"\u001b[39m, \u001b[38;5;28;01mNone\u001b[39;00m))\n\u001b[1;32m    442\u001b[0m     \u001b[38;5;28;01mreturn\u001b[39;00m response\n",
      "File \u001b[0;32m~/opt/anaconda3/lib/python3.9/site-packages/selenium/webdriver/remote/errorhandler.py:245\u001b[0m, in \u001b[0;36mErrorHandler.check_response\u001b[0;34m(self, response)\u001b[0m\n\u001b[1;32m    243\u001b[0m         alert_text \u001b[38;5;241m=\u001b[39m value[\u001b[38;5;124m\"\u001b[39m\u001b[38;5;124malert\u001b[39m\u001b[38;5;124m\"\u001b[39m]\u001b[38;5;241m.\u001b[39mget(\u001b[38;5;124m\"\u001b[39m\u001b[38;5;124mtext\u001b[39m\u001b[38;5;124m\"\u001b[39m)\n\u001b[1;32m    244\u001b[0m     \u001b[38;5;28;01mraise\u001b[39;00m exception_class(message, screen, stacktrace, alert_text)  \u001b[38;5;66;03m# type: ignore[call-arg]  # mypy is not smart enough here\u001b[39;00m\n\u001b[0;32m--> 245\u001b[0m \u001b[38;5;28;01mraise\u001b[39;00m exception_class(message, screen, stacktrace)\n",
      "\u001b[0;31mNoSuchWindowException\u001b[0m: Message: no such window: target window already closed\nfrom unknown error: web view not found\n  (Session info: chrome=114.0.5735.198)\nStacktrace:\n0   chromedriver                        0x00000001049dc6b8 chromedriver + 4937400\n1   chromedriver                        0x00000001049d3b73 chromedriver + 4901747\n2   chromedriver                        0x0000000104591616 chromedriver + 435734\n3   chromedriver                        0x000000010456658c chromedriver + 259468\n4   chromedriver                        0x00000001045fe64f chromedriver + 882255\n5   chromedriver                        0x0000000104613516 chromedriver + 967958\n6   chromedriver                        0x00000001045f8de3 chromedriver + 859619\n7   chromedriver                        0x00000001045c6d7f chromedriver + 654719\n8   chromedriver                        0x00000001045c80de chromedriver + 659678\n9   chromedriver                        0x00000001049982ad chromedriver + 4657837\n10  chromedriver                        0x000000010499d130 chromedriver + 4677936\n11  chromedriver                        0x00000001049a3def chromedriver + 4705775\n12  chromedriver                        0x000000010499e05a chromedriver + 4681818\n13  chromedriver                        0x000000010497092c chromedriver + 4495660\n14  chromedriver                        0x00000001049bb838 chromedriver + 4802616\n15  chromedriver                        0x00000001049bb9b7 chromedriver + 4802999\n16  chromedriver                        0x00000001049cc99f chromedriver + 4872607\n17  libsystem_pthread.dylib             0x00007ff818bff1d3 _pthread_start + 125\n18  libsystem_pthread.dylib             0x00007ff818bfabd3 thread_start + 15\n"
     ]
    }
   ],
   "source": [
    "driver = webdriver.Chrome(\"chromedriver.exe\")\n",
    "\n",
    "driver.get(\"https://www.tunetalk.com/my/en\")\n",
    "time.sleep(20)\n",
    "#driver.implicitly_wait(20)\n",
    "\n",
    "#action = ActionChains(driver)\n",
    "#driver.keys(\"Escape\");\n",
    "#driver.send_keys(Keys.ESCAPE).perform()\n",
    "#driver.find_element_by_tag_name('body').send_keys(Keys.ESCAPE)\n",
    "#action.send_keys(Keys.ESCAPE).perform()\n",
    "\n",
    "#driver.switch_to_alert().dismiss();\n",
    "#Alert(driver).dismiss()\n",
    "\n",
    "#driver.find_element_by_xpath('//*[@id=\"SCAIclose_window\"]').click()\n",
    "#driver.implicitly_wait(10)\n",
    "\n",
    "driver.find_element(\"xpath\", '//*[@id=\"SCAIclose_window\"]').click()\n",
    "driver.implicitly_wait(10)\n",
    "driver.find_element(\"xpath\", '//*[@id=\"SCAIBtn_ID_12\"]').click()\n",
    "driver.implicitly_wait(10)\n",
    "driver.find_element(\"xpath\", '//*[@id=\"SCAIBtn_ID_12\"]').click()\n",
    "driver.implicitly_wait(10)\n",
    "driver.find_element(\"xpath\", '//*[@id=\"SCAIBtn_ID_12\"]').click()\n",
    "driver.implicitly_wait(10)\n",
    "driver.find_element(\"xpath\", '//*[@id=\"SCAIBtn_ID_11\"]').click()\n",
    "driver.implicitly_wait(10)\n",
    "driver.find_element(\"xpath\", '//*[@id=\"SCAIBtn_ID_11\"]').click()\n",
    "\n",
    "driver.implicitly_wait(10)\n",
    "driver.find_element(\"xpath\", '//*[@id=\"SCAItextMessage\"]').send_keys(\"7893893270\")\n",
    "driver.find_element(\"xpath\", '//*[@id=\"<Path>\"]').click()\n",
    "\n",
    "driver.implicitly_wait(10)\n",
    "driver.find_element(\"xpath\", '//*[@id=\"SCAItextMessage\"]').send_keys(\"vinay lingampelly\")\n",
    "driver.find_element(\"xpath\", '//*[@id=\"SCAIbutton_send\"]/svg').click()\n",
    "\n",
    "driver.implicitly_wait(10)\n",
    "driver.find_element(\"xpath\", '//*[@id=\"SCAItextMessage\"]').send_keys(\"tifreelancer01@gmail.com\")\n",
    "driver.find_element(\"xpath\", '//*[@id=\"SCAIbutton_send\"]/svg').click()\n",
    "\n",
    "driver.implicitly_wait(10)\n",
    "driver.find_element(\"xpath\", '//*[@id=\"SCAItextMessage\"]').send_keys(\"Can you speak English\")\n",
    "driver.find_element(\"xpath\", '//*[@id=\"SCAIbutton_send\"]/svg').click()\n",
    "\n",
    "time.sleep(10)\n",
    "\n",
    "\n",
    "\n",
    "driver.quit()"
   ]
  },
  {
   "cell_type": "code",
   "execution_count": null,
   "id": "fe8fc9dc",
   "metadata": {},
   "outputs": [],
   "source": [
    "driver.quit()"
   ]
  },
  {
   "cell_type": "code",
   "execution_count": null,
   "id": "1b9d1eb8",
   "metadata": {},
   "outputs": [],
   "source": [
    "//*[@id=\"SCAIBtn_ID_12\"]\n",
    "\n",
    "//*[@id=\"SCAIBtn_ID_12\"]\n",
    "//*[@id=\"SCAIBtn_ID_11\"]\n",
    "//*[@id=\"SCAIBtn_ID_11\"]\n",
    "                            7893893270\n",
    "                            vinay lingampelly\n",
    "                            tifreelancer01@gmail.com\n",
    "//*[@id=\"SCAItextMessage\"]                            Can you speak English\n",
    "\n",
    "\n",
    "//*[@id=\"SCAIManuButtonId\"]/img      Home button\n",
    "\n",
    "\n",
    "\n",
    "//*[@id=\"<Path>\"]\n",
    "//button[@id='SCAIbutton_send']//*[name()='svg']//*[name()='g' and @id='Layer 3']//*[name()='g' and @id='<Group>']//*[name()='path' and @id='<Path>']"
   ]
  }
 ],
 "metadata": {
  "kernelspec": {
   "display_name": "Python 3 (ipykernel)",
   "language": "python",
   "name": "python3"
  },
  "language_info": {
   "codemirror_mode": {
    "name": "ipython",
    "version": 3
   },
   "file_extension": ".py",
   "mimetype": "text/x-python",
   "name": "python",
   "nbconvert_exporter": "python",
   "pygments_lexer": "ipython3",
   "version": "3.9.12"
  }
 },
 "nbformat": 4,
 "nbformat_minor": 5
}
