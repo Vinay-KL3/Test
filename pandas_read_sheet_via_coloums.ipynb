{
 "cells": [
  {
   "cell_type": "code",
   "execution_count": 1,
   "id": "a5ab540c",
   "metadata": {},
   "outputs": [],
   "source": [
    "import pandas as pd\n",
    "import csv"
   ]
  },
  {
   "cell_type": "code",
   "execution_count": 14,
   "id": "d73be7ea",
   "metadata": {},
   "outputs": [],
   "source": [
    "import azure.cognitiveservices.speech as speechsdk\n",
    "speech_config = speechsdk.SpeechConfig(subscription=\"bc7e749ecc774a25b1fd1c61a0699c9e\", region=\"centralindia\")\n",
    "speech_config.set_speech_synthesis_output_format(speechsdk.SpeechSynthesisOutputFormat.Riff8Khz16BitMonoPcm)\n",
    "audio_config = speechsdk.audio.AudioOutputConfig(use_default_speaker=True)"
   ]
  },
  {
   "cell_type": "code",
   "execution_count": 3,
   "id": "3a2a6047",
   "metadata": {},
   "outputs": [
    {
     "name": "stdout",
     "output_type": "stream",
     "text": [
      "   contactInfo.primary primaryInfo.firstName\n",
      "0           7893893270           Vinay Kumar\n",
      "1           9022715057           Darsh Kolhe\n",
      "2           7893893270           Vinay Kumar\n",
      "3           7893893270           Vinay Kumar\n"
     ]
    }
   ],
   "source": [
    "df = pd.read_csv(\"/Users/vinay_kl/Downloads/sheet2.csv\", usecols = ['contactInfo.primary','primaryInfo.firstName'])\n",
    "print(df)"
   ]
  },
  {
   "cell_type": "code",
   "execution_count": 7,
   "id": "22fa012f",
   "metadata": {},
   "outputs": [
    {
     "name": "stdout",
     "output_type": "stream",
     "text": [
      "7893893270\n"
     ]
    }
   ],
   "source": [
    "with open('/Users/vinay_kl/Downloads/sheet2.csv', 'r') as f:\n",
    "    reader = csv.reader(f)\n",
    "    the_whole_file = list(reader)\n",
    "    \n",
    "    \n",
    "row = 1\n",
    "column = 0\n",
    "cell_R1_C3 = the_whole_file[row][column]\n",
    "\n",
    "print (cell_R1_C3)"
   ]
  },
  {
   "cell_type": "code",
   "execution_count": 17,
   "id": "c53b47ef",
   "metadata": {},
   "outputs": [
    {
     "name": "stdout",
     "output_type": "stream",
     "text": [
      "3 is downloaded\n",
      "Mr. Owen Harris Braund is downloaded\n",
      "1 is downloaded\n",
      "22 is downloaded\n",
      "1 is downloaded\n",
      "Loop is ended\n"
     ]
    }
   ],
   "source": [
    "with open('/Users/vinay_kl/Downloads/titanic.csv', 'r') as f:\n",
    "    reader = csv.reader(f)\n",
    "    the_whole_file = list(reader)\n",
    "\n",
    "dst_path = \"/Users/vinay_kl/Downloads/\"\n",
    "english_TTS = \"en-IN-PrabhatNeural\"\n",
    "\n",
    "count = 0\n",
    "while (count < 5):\n",
    "    count = count + 1\n",
    "\n",
    "    row = 1\n",
    "    column = count\n",
    "    cell_R1_C3 = the_whole_file[row][column]\n",
    "    #print (cell_R1_C3)  \n",
    "    \n",
    "    file_name = cell_R1_C3\n",
    "    text = cell_R1_C3\n",
    "    save_path = dst_path+file_name+\".wav\"\n",
    "    speech_config.speech_synthesis_voice_name=english_TTS\n",
    "    speech_synthesizer = speechsdk.SpeechSynthesizer(speech_config=speech_config, audio_config=audio_config)\n",
    "    speech_synthesis_result = speech_synthesizer.speak_text_async(text).get()\n",
    "    stream = speechsdk.AudioDataStream(speech_synthesis_result)\n",
    "    stream.save_to_wav_file_async(save_path)\n",
    "    \n",
    "    print(cell_R1_C3 + \" is downloaded\")\n",
    "    \n",
    "else:\n",
    "    print(\"Loop is ended\")\n"
   ]
  },
  {
   "cell_type": "code",
   "execution_count": 20,
   "id": "5548d2bf",
   "metadata": {},
   "outputs": [
    {
     "name": "stdout",
     "output_type": "stream",
     "text": [
      "3984735501529951073\n"
     ]
    }
   ],
   "source": [
    "S=\"I'm Maia Calling from Saarthi Bank\"\n",
    "print(hash(S))"
   ]
  }
 ],
 "metadata": {
  "kernelspec": {
   "display_name": "Python 3 (ipykernel)",
   "language": "python",
   "name": "python3"
  },
  "language_info": {
   "codemirror_mode": {
    "name": "ipython",
    "version": 3
   },
   "file_extension": ".py",
   "mimetype": "text/x-python",
   "name": "python",
   "nbconvert_exporter": "python",
   "pygments_lexer": "ipython3",
   "version": "3.9.12"
  }
 },
 "nbformat": 4,
 "nbformat_minor": 5
}
