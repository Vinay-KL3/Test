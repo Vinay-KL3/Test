{
 "cells": [
  {
   "cell_type": "code",
   "execution_count": null,
   "id": "229c3728",
   "metadata": {},
   "outputs": [],
   "source": []
  },
  {
   "cell_type": "code",
   "execution_count": 7,
   "id": "dc2ca75f",
   "metadata": {},
   "outputs": [
    {
     "name": "stdout",
     "output_type": "stream",
     "text": [
      "Requirement already satisfied: deepgram_sdk in /Users/vinay_kl/opt/anaconda3/lib/python3.9/site-packages (2.2.0)\n",
      "Requirement already satisfied: asyncio in /Users/vinay_kl/opt/anaconda3/lib/python3.9/site-packages (3.4.3)\n",
      "Requirement already satisfied: python-dotenv in /Users/vinay_kl/opt/anaconda3/lib/python3.9/site-packages (0.21.0)\n",
      "Requirement already satisfied: feedparser in /Users/vinay_kl/opt/anaconda3/lib/python3.9/site-packages (6.0.10)\n",
      "Requirement already satisfied: aiohttp in /Users/vinay_kl/opt/anaconda3/lib/python3.9/site-packages (from deepgram_sdk) (3.8.1)\n",
      "Requirement already satisfied: websockets in /Users/vinay_kl/opt/anaconda3/lib/python3.9/site-packages (from deepgram_sdk) (10.4)\n",
      "Requirement already satisfied: sgmllib3k in /Users/vinay_kl/opt/anaconda3/lib/python3.9/site-packages (from feedparser) (1.0.0)\n",
      "Requirement already satisfied: charset-normalizer<3.0,>=2.0 in /Users/vinay_kl/opt/anaconda3/lib/python3.9/site-packages (from aiohttp->deepgram_sdk) (2.0.4)\n",
      "Requirement already satisfied: aiosignal>=1.1.2 in /Users/vinay_kl/opt/anaconda3/lib/python3.9/site-packages (from aiohttp->deepgram_sdk) (1.2.0)\n",
      "Requirement already satisfied: async-timeout<5.0,>=4.0.0a3 in /Users/vinay_kl/opt/anaconda3/lib/python3.9/site-packages (from aiohttp->deepgram_sdk) (4.0.1)\n",
      "Requirement already satisfied: multidict<7.0,>=4.5 in /Users/vinay_kl/opt/anaconda3/lib/python3.9/site-packages (from aiohttp->deepgram_sdk) (5.2.0)\n",
      "Requirement already satisfied: frozenlist>=1.1.1 in /Users/vinay_kl/opt/anaconda3/lib/python3.9/site-packages (from aiohttp->deepgram_sdk) (1.2.0)\n",
      "Requirement already satisfied: yarl<2.0,>=1.0 in /Users/vinay_kl/opt/anaconda3/lib/python3.9/site-packages (from aiohttp->deepgram_sdk) (1.6.3)\n",
      "Requirement already satisfied: attrs>=17.3.0 in /Users/vinay_kl/opt/anaconda3/lib/python3.9/site-packages (from aiohttp->deepgram_sdk) (21.4.0)\n",
      "Requirement already satisfied: typing-extensions>=3.6.5 in /Users/vinay_kl/opt/anaconda3/lib/python3.9/site-packages (from async-timeout<5.0,>=4.0.0a3->aiohttp->deepgram_sdk) (4.1.1)\n",
      "Requirement already satisfied: idna>=2.0 in /Users/vinay_kl/opt/anaconda3/lib/python3.9/site-packages (from yarl<2.0,>=1.0->aiohttp->deepgram_sdk) (3.3)\n"
     ]
    }
   ],
   "source": [
    "!pip install deepgram_sdk asyncio python-dotenv feedparser"
   ]
  },
  {
   "cell_type": "code",
   "execution_count": 32,
   "id": "cb81eb33",
   "metadata": {},
   "outputs": [
    {
     "name": "stdout",
     "output_type": "stream",
     "text": [
      "Requirement already satisfied: scipy in /Users/vinay_kl/opt/anaconda3/lib/python3.9/site-packages (1.7.3)\r\n",
      "Requirement already satisfied: numpy<1.23.0,>=1.16.5 in /Users/vinay_kl/opt/anaconda3/lib/python3.9/site-packages (from scipy) (1.21.5)\r\n"
     ]
    }
   ],
   "source": [
    "!pip install scipy"
   ]
  },
  {
   "cell_type": "code",
   "execution_count": 33,
   "id": "6d8f05d7",
   "metadata": {},
   "outputs": [],
   "source": [
    "import asyncio\n",
    "import os\n",
    "from dotenv import load_dotenv\n",
    "from deepgram import Deepgram\n",
    "import feedparser\n",
    "\n",
    "import glob\n",
    "\n",
    "import pandas as pd\n",
    "import csv\n",
    "import requests\n",
    "import json\n"
   ]
  },
  {
   "cell_type": "code",
   "execution_count": 36,
   "id": "e64b71f3",
   "metadata": {},
   "outputs": [],
   "source": [
    "load_dotenv()\n",
    "DEEPGRAM_API_KEY = os.getenv('DEEPGRAM_API_KEY')"
   ]
  },
  {
   "cell_type": "code",
   "execution_count": 10,
   "id": "2200e7e2",
   "metadata": {},
   "outputs": [],
   "source": [
    "# async def main():\n",
    "#     print('Hello world')\n",
    "\n",
    "# if __name__ == '__main__':\n",
    "#     asyncio.run(main())"
   ]
  },
  {
   "cell_type": "code",
   "execution_count": 11,
   "id": "145a51a2",
   "metadata": {},
   "outputs": [
    {
     "ename": "IndentationError",
     "evalue": "expected an indented block (3604357691.py, line 4)",
     "output_type": "error",
     "traceback": [
      "\u001b[0;36m  Input \u001b[0;32mIn [11]\u001b[0;36m\u001b[0m\n\u001b[0;31m    print(path)\u001b[0m\n\u001b[0m    ^\u001b[0m\n\u001b[0;31mIndentationError\u001b[0m\u001b[0;31m:\u001b[0m expected an indented block\n"
     ]
    }
   ],
   "source": [
    "# path = '/Users/vinay_kl/Downloads/numbers/hindi/'\n",
    "\n",
    "# for filename in glob.glob(os.path.join(path, '*.wav')):\n",
    "#     print(path)"
   ]
  },
  {
   "cell_type": "code",
   "execution_count": 41,
   "id": "c7f642a4",
   "metadata": {},
   "outputs": [
    {
     "ename": "UnicodeDecodeError",
     "evalue": "'utf-8' codec can't decode byte 0xe2 in position 4: invalid continuation byte",
     "output_type": "error",
     "traceback": [
      "\u001b[0;31m---------------------------------------------------------------------------\u001b[0m",
      "\u001b[0;31mUnicodeDecodeError\u001b[0m                        Traceback (most recent call last)",
      "Input \u001b[0;32mIn [41]\u001b[0m, in \u001b[0;36m<cell line: 5>\u001b[0;34m()\u001b[0m\n\u001b[1;32m      5\u001b[0m \u001b[38;5;28;01mfor\u001b[39;00m filename \u001b[38;5;129;01min\u001b[39;00m os\u001b[38;5;241m.\u001b[39mlistdir(folder):\n\u001b[1;32m      6\u001b[0m   \u001b[38;5;66;03m# Open the file\u001b[39;00m\n\u001b[1;32m      7\u001b[0m   \u001b[38;5;28;01mwith\u001b[39;00m \u001b[38;5;28mopen\u001b[39m(os\u001b[38;5;241m.\u001b[39mpath\u001b[38;5;241m.\u001b[39mjoin(folder, filename)) \u001b[38;5;28;01mas\u001b[39;00m f:\n\u001b[1;32m      8\u001b[0m     \u001b[38;5;66;03m# Read the contents of the file\u001b[39;00m\n\u001b[0;32m----> 9\u001b[0m     contents \u001b[38;5;241m=\u001b[39m \u001b[43mf\u001b[49m\u001b[38;5;241;43m.\u001b[39;49m\u001b[43mread\u001b[49m\u001b[43m(\u001b[49m\u001b[43m)\u001b[49m\n\u001b[1;32m     10\u001b[0m     \u001b[38;5;66;03m# Do something with the file contents here\u001b[39;00m\n\u001b[1;32m     16\u001b[0m     \u001b[38;5;28mprint\u001b[39m(contents)\n",
      "File \u001b[0;32m~/opt/anaconda3/lib/python3.9/codecs.py:322\u001b[0m, in \u001b[0;36mBufferedIncrementalDecoder.decode\u001b[0;34m(self, input, final)\u001b[0m\n\u001b[1;32m    319\u001b[0m \u001b[38;5;28;01mdef\u001b[39;00m \u001b[38;5;21mdecode\u001b[39m(\u001b[38;5;28mself\u001b[39m, \u001b[38;5;28minput\u001b[39m, final\u001b[38;5;241m=\u001b[39m\u001b[38;5;28;01mFalse\u001b[39;00m):\n\u001b[1;32m    320\u001b[0m     \u001b[38;5;66;03m# decode input (taking the buffer into account)\u001b[39;00m\n\u001b[1;32m    321\u001b[0m     data \u001b[38;5;241m=\u001b[39m \u001b[38;5;28mself\u001b[39m\u001b[38;5;241m.\u001b[39mbuffer \u001b[38;5;241m+\u001b[39m \u001b[38;5;28minput\u001b[39m\n\u001b[0;32m--> 322\u001b[0m     (result, consumed) \u001b[38;5;241m=\u001b[39m \u001b[38;5;28;43mself\u001b[39;49m\u001b[38;5;241;43m.\u001b[39;49m\u001b[43m_buffer_decode\u001b[49m\u001b[43m(\u001b[49m\u001b[43mdata\u001b[49m\u001b[43m,\u001b[49m\u001b[43m \u001b[49m\u001b[38;5;28;43mself\u001b[39;49m\u001b[38;5;241;43m.\u001b[39;49m\u001b[43merrors\u001b[49m\u001b[43m,\u001b[49m\u001b[43m \u001b[49m\u001b[43mfinal\u001b[49m\u001b[43m)\u001b[49m\n\u001b[1;32m    323\u001b[0m     \u001b[38;5;66;03m# keep undecoded input until the next call\u001b[39;00m\n\u001b[1;32m    324\u001b[0m     \u001b[38;5;28mself\u001b[39m\u001b[38;5;241m.\u001b[39mbuffer \u001b[38;5;241m=\u001b[39m data[consumed:]\n",
      "\u001b[0;31mUnicodeDecodeError\u001b[0m: 'utf-8' codec can't decode byte 0xe2 in position 4: invalid continuation byte"
     ]
    }
   ],
   "source": [
    "\n",
    "# Folder containing the files\n",
    "folder = '/Users/vinay_kl/Downloads/numbers/hindi/'\n",
    "\n",
    "# Loop through all files in the folder\n",
    "for filename in os.listdir(folder):\n",
    "  # Open the file\n",
    "  with open(os.path.join(folder, filename)) as f:\n",
    "    # Read the contents of the file\n",
    "    contents = f.read()\n",
    "    # Do something with the file contents here\n",
    "\n",
    "    \n",
    "    \n",
    "\n",
    "    \n",
    "    print(contents)\n",
    "    \n",
    "    with open(data, 'rb') as audio:\n",
    "        source = { 'buffer': audio, 'mimetype': 'audio/wav' }\n",
    "        transcription_options = { 'punctuate': True, 'language': 'hi' }\n",
    "        response = await deepgram.transcription.prerecorded(source, transcription_options)\n",
    "        print(response)\n"
   ]
  },
  {
   "cell_type": "code",
   "execution_count": 3,
   "id": "c5d8c4ac",
   "metadata": {},
   "outputs": [],
   "source": [
    "\n",
    "deepgram = Deepgram('e4545d2879a0fabc66f48f09fda61384e9c21c6f')"
   ]
  },
  {
   "cell_type": "code",
   "execution_count": 31,
   "id": "5dd77845",
   "metadata": {},
   "outputs": [
    {
     "name": "stdout",
     "output_type": "stream",
     "text": [
      "{'metadata': {'transaction_key': 'deprecated', 'request_id': '96fb9983-51e0-49b4-ab96-cbbcb7c8b6a3', 'sha256': 'aa60bdb86ba86a0915c68368d3c90ac82c70980f326e5d63603105c5f07e4353', 'created': '2022-12-14T12:38:08.425Z', 'duration': 0.794375, 'channels': 1, 'models': ['5ebf7a37-2fcd-4f06-a7df-8b0e4defe578'], 'model_info': {'5ebf7a37-2fcd-4f06-a7df-8b0e4defe578': {'name': 'general', 'version': '2021-06-03.0', 'tier': 'base'}}}, 'results': {'channels': [{'alternatives': [{'transcript': 'एक', 'confidence': 0.99316406, 'words': [{'word': 'एक', 'start': 0.3315, 'end': 0.794375, 'confidence': 0.99316406, 'punctuated_word': 'एक'}]}]}]}}\n",
      "{'metadata': {'transaction_key': 'deprecated', 'request_id': 'e4e5a13f-c673-4055-9949-7ddad526381b', 'sha256': 'a2fa1b09900223e53aa3b69199a44ac7d9b0d4d50c207cb29a109e70ea605a25', 'created': '2022-12-14T12:38:10.526Z', 'duration': 1.534375, 'channels': 1, 'models': ['5ebf7a37-2fcd-4f06-a7df-8b0e4defe578'], 'model_info': {'5ebf7a37-2fcd-4f06-a7df-8b0e4defe578': {'name': 'general', 'version': '2021-06-03.0', 'tier': 'base'}}}, 'results': {'channels': [{'alternatives': [{'transcript': 'दो lakh', 'confidence': 0.9970703, 'words': [{'word': 'दो', 'start': 0.29999998, 'end': 0.53999996, 'confidence': 0.98291016, 'punctuated_word': 'दो'}, {'word': 'lakh', 'start': 0.53999996, 'end': 1.04, 'confidence': 0.9970703, 'punctuated_word': 'lakh'}]}]}]}}\n",
      "{'metadata': {'transaction_key': 'deprecated', 'request_id': '69a5c6b0-5691-4d14-aed8-412d622ce8cb', 'sha256': '646f3bf229221e2b4054f874abfbb1a3d7d1679723b688653fddf712a7e6903a', 'created': '2022-12-14T12:38:12.285Z', 'duration': 0.85975, 'channels': 1, 'models': ['5ebf7a37-2fcd-4f06-a7df-8b0e4defe578'], 'model_info': {'5ebf7a37-2fcd-4f06-a7df-8b0e4defe578': {'name': 'general', 'version': '2021-06-03.0', 'tier': 'base'}}}, 'results': {'channels': [{'alternatives': [{'transcript': 'दो', 'confidence': 0.9321289, 'words': [{'word': 'दो', 'start': 0.25113633, 'end': 0.7511363, 'confidence': 0.9321289, 'punctuated_word': 'दो'}]}]}]}}\n",
      "{'metadata': {'transaction_key': 'deprecated', 'request_id': 'b6fda904-b7bd-408d-883e-24fd0fe9912a', 'sha256': 'ee3db3feb3a0cb6d40d13fe5d66bb78e81852308bd0ad2bdaccf42cd9592231a', 'created': '2022-12-14T12:38:13.957Z', 'duration': 1.3, 'channels': 1, 'models': ['5ebf7a37-2fcd-4f06-a7df-8b0e4defe578'], 'model_info': {'5ebf7a37-2fcd-4f06-a7df-8b0e4defe578': {'name': 'general', 'version': '2021-06-03.0', 'tier': 'base'}}}, 'results': {'channels': [{'alternatives': [{'transcript': 'तीन lakh', 'confidence': 0.99609375, 'words': [{'word': 'तीन', 'start': 0.37136364, 'end': 0.7622727, 'confidence': 0.9946289, 'punctuated_word': 'तीन'}, {'word': 'lakh', 'start': 0.7622727, 'end': 1.2622727, 'confidence': 0.99609375, 'punctuated_word': 'lakh'}]}]}]}}\n",
      "{'metadata': {'transaction_key': 'deprecated', 'request_id': '389ca559-bf4f-446f-b88c-60d38964fe0d', 'sha256': '2672f501f2387439f5afd2a1eee9a86bb94421e25a9662610f1ebdca64b00006', 'created': '2022-12-14T12:38:18.761Z', 'duration': 0.83375, 'channels': 1, 'models': ['5ebf7a37-2fcd-4f06-a7df-8b0e4defe578'], 'model_info': {'5ebf7a37-2fcd-4f06-a7df-8b0e4defe578': {'name': 'general', 'version': '2021-06-03.0', 'tier': 'base'}}}, 'results': {'channels': [{'alternatives': [{'transcript': 'तीन', 'confidence': 0.98095703, 'words': [{'word': 'तीन', 'start': 0.17571428, 'end': 0.67571425, 'confidence': 0.98095703, 'punctuated_word': 'तीन'}]}]}]}}\n",
      "{'metadata': {'transaction_key': 'deprecated', 'request_id': 'f0382c62-68e9-447e-b49e-76999211264a', 'sha256': 'd7a7800edf095e4bfac8159a9d9fe1e1b8479be0df535fa6910b59ad1961b9fc', 'created': '2022-12-14T12:38:20.988Z', 'duration': 1.6835, 'channels': 1, 'models': ['5ebf7a37-2fcd-4f06-a7df-8b0e4defe578'], 'model_info': {'5ebf7a37-2fcd-4f06-a7df-8b0e4defe578': {'name': 'general', 'version': '2021-06-03.0', 'tier': 'base'}}}, 'results': {'channels': [{'alternatives': [{'transcript': 'चार lakh', 'confidence': 0.9975586, 'words': [{'word': 'चार', 'start': 0.49702382, 'end': 0.815119, 'confidence': 0.9975586, 'punctuated_word': 'चार'}, {'word': 'lakh', 'start': 0.815119, 'end': 1.315119, 'confidence': 0.99658203, 'punctuated_word': 'lakh'}]}]}]}}\n",
      "{'metadata': {'transaction_key': 'deprecated', 'request_id': '8ac165ed-7af1-4eb6-92ff-689a22dcb93e', 'sha256': '12efd353262367eac63c658a9b7b17078eafe298bad915dd5c94e7ae622b5062', 'created': '2022-12-14T12:38:22.494Z', 'duration': 0.894625, 'channels': 1, 'models': ['5ebf7a37-2fcd-4f06-a7df-8b0e4defe578'], 'model_info': {'5ebf7a37-2fcd-4f06-a7df-8b0e4defe578': {'name': 'general', 'version': '2021-06-03.0', 'tier': 'base'}}}, 'results': {'channels': [{'alternatives': [{'transcript': 'चार', 'confidence': 0.93359375, 'words': [{'word': 'चार', 'start': 0.38, 'end': 0.88, 'confidence': 0.93359375, 'punctuated_word': 'चार'}]}]}]}}\n",
      "{'metadata': {'transaction_key': 'deprecated', 'request_id': '2a4bf6c0-ef4e-4da3-81b5-57e9f24f1b0f', 'sha256': '7765969cb25d8c2a6fa9aeb264ba6a790d3b633b40197735842ed807cca3f4e6', 'created': '2022-12-14T12:38:25.283Z', 'duration': 1.10825, 'channels': 1, 'models': ['5ebf7a37-2fcd-4f06-a7df-8b0e4defe578'], 'model_info': {'5ebf7a37-2fcd-4f06-a7df-8b0e4defe578': {'name': 'general', 'version': '2021-06-03.0', 'tier': 'base'}}}, 'results': {'channels': [{'alternatives': [{'transcript': 'पांच lakh', 'confidence': 0.99902344, 'words': [{'word': 'पांच', 'start': 0.21607141, 'end': 0.6482142, 'confidence': 0.96484375, 'punctuated_word': 'पांच'}, {'word': 'lakh', 'start': 0.6482142, 'end': 1.10825, 'confidence': 0.99902344, 'punctuated_word': 'lakh'}]}]}]}}\n",
      "{'metadata': {'transaction_key': 'deprecated', 'request_id': 'a683e7a1-b64e-4429-a9a3-10d6b917e1f5', 'sha256': '5f1b37ac7dece4a17eed3043023e5cda5b18909e68dbb3a5c42e61c7f7f40437', 'created': '2022-12-14T12:38:27.201Z', 'duration': 1.214125, 'channels': 1, 'models': ['5ebf7a37-2fcd-4f06-a7df-8b0e4defe578'], 'model_info': {'5ebf7a37-2fcd-4f06-a7df-8b0e4defe578': {'name': 'general', 'version': '2021-06-03.0', 'tier': 'base'}}}, 'results': {'channels': [{'alternatives': [{'transcript': 'पांच', 'confidence': 0.8798828, 'words': [{'word': 'पांच', 'start': 0.29999998, 'end': 0.79999995, 'confidence': 0.8798828, 'punctuated_word': 'पांच'}]}]}]}}\n",
      "{'metadata': {'transaction_key': 'deprecated', 'request_id': 'e37fb7ea-84e7-447b-ae01-d447f37119ca', 'sha256': 'f13dfdfaa01b6ecc18f2de29e0dd75c064a539e808874548c55d2edbdb3b9636', 'created': '2022-12-14T12:38:35.938Z', 'duration': 1.244625, 'channels': 1, 'models': ['5ebf7a37-2fcd-4f06-a7df-8b0e4defe578'], 'model_info': {'5ebf7a37-2fcd-4f06-a7df-8b0e4defe578': {'name': 'general', 'version': '2021-06-03.0', 'tier': 'base'}}}, 'results': {'channels': [{'alternatives': [{'transcript': 'छह lakh', 'confidence': 0.9980469, 'words': [{'word': 'छह', 'start': 0.25790322, 'end': 0.57532257, 'confidence': 0.9765625, 'punctuated_word': 'छह'}, {'word': 'lakh', 'start': 0.57532257, 'end': 1.0753226, 'confidence': 0.9980469, 'punctuated_word': 'lakh'}]}]}]}}\n",
      "{'metadata': {'transaction_key': 'deprecated', 'request_id': '09e812c0-6eef-473f-b71d-becf2ebe9d93', 'sha256': '1955522e905b7b7be313b1a58a08bb11faa14861f8a7435ab5efbe222e5ffb63', 'created': '2022-12-14T12:38:40.744Z', 'duration': 1.45825, 'channels': 1, 'models': ['5ebf7a37-2fcd-4f06-a7df-8b0e4defe578'], 'model_info': {'5ebf7a37-2fcd-4f06-a7df-8b0e4defe578': {'name': 'general', 'version': '2021-06-03.0', 'tier': 'base'}}}, 'results': {'channels': [{'alternatives': [{'transcript': 'छह,', 'confidence': 0.91503906, 'words': [{'word': 'छह', 'start': 0.529054, 'end': 0.88175666, 'confidence': 0.91503906, 'punctuated_word': 'छह,'}]}]}]}}\n",
      "{'metadata': {'transaction_key': 'deprecated', 'request_id': '9835899b-2614-4433-a661-6079c0963598', 'sha256': '15995345644da3212c159ba4e84107b262534190af0a963a177a2a2102db06db', 'created': '2022-12-14T12:38:42.793Z', 'duration': 1.239625, 'channels': 1, 'models': ['5ebf7a37-2fcd-4f06-a7df-8b0e4defe578'], 'model_info': {'5ebf7a37-2fcd-4f06-a7df-8b0e4defe578': {'name': 'general', 'version': '2021-06-03.0', 'tier': 'base'}}}, 'results': {'channels': [{'alternatives': [{'transcript': 'सात lakh', 'confidence': 0.99940145, 'words': [{'word': 'सात', 'start': 0.29758063, 'end': 0.69435483, 'confidence': 0.97242975, 'punctuated_word': 'सात'}, {'word': 'lakh', 'start': 0.69435483, 'end': 1.1943548, 'confidence': 0.99940145, 'punctuated_word': 'lakh'}]}]}]}}\n"
     ]
    },
    {
     "name": "stdout",
     "output_type": "stream",
     "text": [
      "{'metadata': {'transaction_key': 'deprecated', 'request_id': 'fb2888d0-ac30-4c5c-801a-d5bd85024f16', 'sha256': '674cd5052c23f08a43b0eb76dbcc94bc213cbe617031857f42d29465d50343f3', 'created': '2022-12-14T12:38:47.491Z', 'duration': 1.06425, 'channels': 1, 'models': ['5ebf7a37-2fcd-4f06-a7df-8b0e4defe578'], 'model_info': {'5ebf7a37-2fcd-4f06-a7df-8b0e4defe578': {'name': 'general', 'version': '2021-06-03.0', 'tier': 'base'}}}, 'results': {'channels': [{'alternatives': [{'transcript': 'सात', 'confidence': 0.6982422, 'words': [{'word': 'सात', 'start': 0.4472222, 'end': 0.94722223, 'confidence': 0.6982422, 'punctuated_word': 'सात'}]}]}]}}\n",
      "{'metadata': {'transaction_key': 'deprecated', 'request_id': 'ece38f87-8d60-4d2c-810e-c258eaedef72', 'sha256': 'd284dbaf007534913e15a005d796d20d722a6dc9a96bb278f86b5d71c8747a41', 'created': '2022-12-14T12:38:49.908Z', 'duration': 1.50525, 'channels': 1, 'models': ['5ebf7a37-2fcd-4f06-a7df-8b0e4defe578'], 'model_info': {'5ebf7a37-2fcd-4f06-a7df-8b0e4defe578': {'name': 'general', 'version': '2021-06-03.0', 'tier': 'base'}}}, 'results': {'channels': [{'alternatives': [{'transcript': 'आठ lakh', 'confidence': 0.9979188, 'words': [{'word': 'आठ', 'start': 0.6118421, 'end': 1.0065789, 'confidence': 0.97949946, 'punctuated_word': 'आठ'}, {'word': 'lakh', 'start': 1.0065789, 'end': 1.50525, 'confidence': 0.9979188, 'punctuated_word': 'lakh'}]}]}]}}\n",
      "{'metadata': {'transaction_key': 'deprecated', 'request_id': 'dabfe218-3785-4ee7-a66c-887eac897512', 'sha256': 'c9ce5acb552023bd95841fbb5b7e834a74df478087b87aff91090c2da02ffbe2', 'created': '2022-12-14T12:38:51.711Z', 'duration': 1.042875, 'channels': 1, 'models': ['5ebf7a37-2fcd-4f06-a7df-8b0e4defe578'], 'model_info': {'5ebf7a37-2fcd-4f06-a7df-8b0e4defe578': {'name': 'general', 'version': '2021-06-03.0', 'tier': 'base'}}}, 'results': {'channels': [{'alternatives': [{'transcript': 'आठ,', 'confidence': 0.8354492, 'words': [{'word': 'आठ', 'start': 0.41596153, 'end': 0.85173076, 'confidence': 0.8354492, 'punctuated_word': 'आठ,'}]}]}]}}\n"
     ]
    },
    {
     "ename": "Exception",
     "evalue": "DG: 408, message='Request Timeout', url=URL('https://api.deepgram.com/v1/listen?punctuate=true&language=hi')",
     "output_type": "error",
     "traceback": [
      "\u001b[0;31m---------------------------------------------------------------------------\u001b[0m",
      "\u001b[0;31mClientResponseError\u001b[0m                       Traceback (most recent call last)",
      "File \u001b[0;32m~/opt/anaconda3/lib/python3.9/site-packages/deepgram/_utils.py:92\u001b[0m, in \u001b[0;36m_request.<locals>.attempt\u001b[0;34m()\u001b[0m\n\u001b[1;32m     91\u001b[0m \u001b[38;5;28;01mtry\u001b[39;00m:\n\u001b[0;32m---> 92\u001b[0m     \u001b[38;5;28;01masync\u001b[39;00m \u001b[38;5;28;01mwith\u001b[39;00m aiohttp\u001b[38;5;241m.\u001b[39mrequest(\n\u001b[1;32m     93\u001b[0m         method, destination, data\u001b[38;5;241m=\u001b[39m_normalize_payload(payload),\n\u001b[1;32m     94\u001b[0m         headers\u001b[38;5;241m=\u001b[39mupdated_headers, raise_for_status\u001b[38;5;241m=\u001b[39m\u001b[38;5;28;01mTrue\u001b[39;00m\n\u001b[1;32m     95\u001b[0m     ) \u001b[38;5;28;01mas\u001b[39;00m resp:\n\u001b[1;32m     96\u001b[0m         content \u001b[38;5;241m=\u001b[39m (\u001b[38;5;28;01mawait\u001b[39;00m resp\u001b[38;5;241m.\u001b[39mtext())\u001b[38;5;241m.\u001b[39mstrip()\n",
      "File \u001b[0;32m~/opt/anaconda3/lib/python3.9/site-packages/aiohttp/client.py:1186\u001b[0m, in \u001b[0;36m_SessionRequestContextManager.__aenter__\u001b[0;34m(self)\u001b[0m\n\u001b[1;32m   1185\u001b[0m \u001b[38;5;28;01mtry\u001b[39;00m:\n\u001b[0;32m-> 1186\u001b[0m     \u001b[38;5;28mself\u001b[39m\u001b[38;5;241m.\u001b[39m_resp \u001b[38;5;241m=\u001b[39m \u001b[38;5;28;01mawait\u001b[39;00m \u001b[38;5;28mself\u001b[39m\u001b[38;5;241m.\u001b[39m_coro\n\u001b[1;32m   1187\u001b[0m \u001b[38;5;28;01mexcept\u001b[39;00m \u001b[38;5;167;01mBaseException\u001b[39;00m:\n",
      "File \u001b[0;32m~/opt/anaconda3/lib/python3.9/site-packages/aiohttp/client.py:640\u001b[0m, in \u001b[0;36mClientSession._request\u001b[0;34m(self, method, str_or_url, params, data, json, cookies, headers, skip_auto_headers, auth, allow_redirects, max_redirects, compress, chunked, expect100, raise_for_status, read_until_eof, proxy, proxy_auth, timeout, verify_ssl, fingerprint, ssl_context, ssl, proxy_headers, trace_request_ctx, read_bufsize)\u001b[0m\n\u001b[1;32m    639\u001b[0m \u001b[38;5;28;01mif\u001b[39;00m raise_for_status:\n\u001b[0;32m--> 640\u001b[0m     \u001b[43mresp\u001b[49m\u001b[38;5;241;43m.\u001b[39;49m\u001b[43mraise_for_status\u001b[49m\u001b[43m(\u001b[49m\u001b[43m)\u001b[49m\n\u001b[1;32m    642\u001b[0m \u001b[38;5;66;03m# register connection\u001b[39;00m\n",
      "File \u001b[0;32m~/opt/anaconda3/lib/python3.9/site-packages/aiohttp/client_reqrep.py:1004\u001b[0m, in \u001b[0;36mClientResponse.raise_for_status\u001b[0;34m(self)\u001b[0m\n\u001b[1;32m   1003\u001b[0m \u001b[38;5;28mself\u001b[39m\u001b[38;5;241m.\u001b[39mrelease()\n\u001b[0;32m-> 1004\u001b[0m \u001b[38;5;28;01mraise\u001b[39;00m ClientResponseError(\n\u001b[1;32m   1005\u001b[0m     \u001b[38;5;28mself\u001b[39m\u001b[38;5;241m.\u001b[39mrequest_info,\n\u001b[1;32m   1006\u001b[0m     \u001b[38;5;28mself\u001b[39m\u001b[38;5;241m.\u001b[39mhistory,\n\u001b[1;32m   1007\u001b[0m     status\u001b[38;5;241m=\u001b[39m\u001b[38;5;28mself\u001b[39m\u001b[38;5;241m.\u001b[39mstatus,\n\u001b[1;32m   1008\u001b[0m     message\u001b[38;5;241m=\u001b[39m\u001b[38;5;28mself\u001b[39m\u001b[38;5;241m.\u001b[39mreason,\n\u001b[1;32m   1009\u001b[0m     headers\u001b[38;5;241m=\u001b[39m\u001b[38;5;28mself\u001b[39m\u001b[38;5;241m.\u001b[39mheaders,\n\u001b[1;32m   1010\u001b[0m )\n",
      "\u001b[0;31mClientResponseError\u001b[0m: 408, message='Request Timeout', url=URL('https://api.deepgram.com/v1/listen?punctuate=true&language=hi')",
      "\nDuring handling of the above exception, another exception occurred:\n",
      "\u001b[0;31mException\u001b[0m                                 Traceback (most recent call last)",
      "Input \u001b[0;32mIn [31]\u001b[0m, in \u001b[0;36m<cell line: 7>\u001b[0;34m()\u001b[0m\n\u001b[1;32m     20\u001b[0m source \u001b[38;5;241m=\u001b[39m { \u001b[38;5;124m'\u001b[39m\u001b[38;5;124mbuffer\u001b[39m\u001b[38;5;124m'\u001b[39m: audio, \u001b[38;5;124m'\u001b[39m\u001b[38;5;124mmimetype\u001b[39m\u001b[38;5;124m'\u001b[39m: \u001b[38;5;124m'\u001b[39m\u001b[38;5;124maudio/wav\u001b[39m\u001b[38;5;124m'\u001b[39m }\n\u001b[1;32m     21\u001b[0m transcription_options \u001b[38;5;241m=\u001b[39m { \u001b[38;5;124m'\u001b[39m\u001b[38;5;124mpunctuate\u001b[39m\u001b[38;5;124m'\u001b[39m: \u001b[38;5;28;01mTrue\u001b[39;00m, \u001b[38;5;124m'\u001b[39m\u001b[38;5;124mlanguage\u001b[39m\u001b[38;5;124m'\u001b[39m: \u001b[38;5;124m'\u001b[39m\u001b[38;5;124mhi\u001b[39m\u001b[38;5;124m'\u001b[39m }\n\u001b[0;32m---> 22\u001b[0m response \u001b[38;5;241m=\u001b[39m \u001b[38;5;28;01mawait\u001b[39;00m deepgram\u001b[38;5;241m.\u001b[39mtranscription\u001b[38;5;241m.\u001b[39mprerecorded(source, transcription_options)\n\u001b[1;32m     23\u001b[0m \u001b[38;5;28mprint\u001b[39m(response)\n",
      "File \u001b[0;32m~/opt/anaconda3/lib/python3.9/site-packages/deepgram/transcription.py:334\u001b[0m, in \u001b[0;36mTranscription.prerecorded\u001b[0;34m(self, source, options, **kwargs)\u001b[0m\n\u001b[1;32m    332\u001b[0m     options \u001b[38;5;241m=\u001b[39m {}\n\u001b[1;32m    333\u001b[0m full_options \u001b[38;5;241m=\u001b[39m cast(PrerecordedOptions, {\u001b[38;5;241m*\u001b[39m\u001b[38;5;241m*\u001b[39moptions, \u001b[38;5;241m*\u001b[39m\u001b[38;5;241m*\u001b[39mkwargs})\n\u001b[0;32m--> 334\u001b[0m \u001b[38;5;28;01mreturn\u001b[39;00m \u001b[38;5;28;01mawait\u001b[39;00m PrerecordedTranscription(\n\u001b[1;32m    335\u001b[0m     \u001b[38;5;28mself\u001b[39m\u001b[38;5;241m.\u001b[39moptions, full_options\n\u001b[1;32m    336\u001b[0m )(source)\n",
      "File \u001b[0;32m~/opt/anaconda3/lib/python3.9/site-packages/deepgram/transcription.py:59\u001b[0m, in \u001b[0;36mPrerecordedTranscription.__call__\u001b[0;34m(self, source)\u001b[0m\n\u001b[1;32m     54\u001b[0m payload \u001b[38;5;241m=\u001b[39m cast(\n\u001b[1;32m     55\u001b[0m     Union[\u001b[38;5;28mbytes\u001b[39m, Dict],\n\u001b[1;32m     56\u001b[0m     source\u001b[38;5;241m.\u001b[39mget(\u001b[38;5;124m'\u001b[39m\u001b[38;5;124mbuffer\u001b[39m\u001b[38;5;124m'\u001b[39m, {\u001b[38;5;124m'\u001b[39m\u001b[38;5;124murl\u001b[39m\u001b[38;5;124m'\u001b[39m: source\u001b[38;5;241m.\u001b[39mget(\u001b[38;5;124m'\u001b[39m\u001b[38;5;124murl\u001b[39m\u001b[38;5;124m'\u001b[39m)})\n\u001b[1;32m     57\u001b[0m )\n\u001b[1;32m     58\u001b[0m content_type \u001b[38;5;241m=\u001b[39m cast(\u001b[38;5;28mstr\u001b[39m, source\u001b[38;5;241m.\u001b[39mget(\u001b[38;5;124m'\u001b[39m\u001b[38;5;124mmimetype\u001b[39m\u001b[38;5;124m'\u001b[39m, \u001b[38;5;124m'\u001b[39m\u001b[38;5;124mapplication/json\u001b[39m\u001b[38;5;124m'\u001b[39m))\n\u001b[0;32m---> 59\u001b[0m \u001b[38;5;28;01mreturn\u001b[39;00m \u001b[38;5;28;01mawait\u001b[39;00m _request(\n\u001b[1;32m     60\u001b[0m     \u001b[38;5;124mf\u001b[39m\u001b[38;5;124m'\u001b[39m\u001b[38;5;132;01m{\u001b[39;00m\u001b[38;5;28mself\u001b[39m\u001b[38;5;241m.\u001b[39m_root\u001b[38;5;132;01m}\u001b[39;00m\u001b[38;5;132;01m{\u001b[39;00m_make_query_string(\u001b[38;5;28mself\u001b[39m\u001b[38;5;241m.\u001b[39mtranscription_options)\u001b[38;5;132;01m}\u001b[39;00m\u001b[38;5;124m'\u001b[39m,\n\u001b[1;32m     61\u001b[0m     \u001b[38;5;28mself\u001b[39m\u001b[38;5;241m.\u001b[39moptions, method\u001b[38;5;241m=\u001b[39m\u001b[38;5;124m'\u001b[39m\u001b[38;5;124mPOST\u001b[39m\u001b[38;5;124m'\u001b[39m, payload\u001b[38;5;241m=\u001b[39mpayload,\n\u001b[1;32m     62\u001b[0m     headers\u001b[38;5;241m=\u001b[39m{\u001b[38;5;124m'\u001b[39m\u001b[38;5;124mContent-Type\u001b[39m\u001b[38;5;124m'\u001b[39m: content_type}\n\u001b[1;32m     63\u001b[0m )\n",
      "File \u001b[0;32m~/opt/anaconda3/lib/python3.9/site-packages/deepgram/_utils.py:111\u001b[0m, in \u001b[0;36m_request\u001b[0;34m(path, options, method, payload, headers)\u001b[0m\n\u001b[1;32m    109\u001b[0m \u001b[38;5;28;01mwhile\u001b[39;00m tries \u001b[38;5;241m>\u001b[39m \u001b[38;5;241m0\u001b[39m:\n\u001b[1;32m    110\u001b[0m     \u001b[38;5;28;01mtry\u001b[39;00m:\n\u001b[0;32m--> 111\u001b[0m         \u001b[38;5;28;01mreturn\u001b[39;00m \u001b[38;5;28;01mawait\u001b[39;00m attempt()\n\u001b[1;32m    112\u001b[0m     \u001b[38;5;28;01mexcept\u001b[39;00m aiohttp\u001b[38;5;241m.\u001b[39mClientError \u001b[38;5;28;01mas\u001b[39;00m exc:\n\u001b[1;32m    113\u001b[0m         \u001b[38;5;28;01mif\u001b[39;00m \u001b[38;5;28misinstance\u001b[39m(payload, io\u001b[38;5;241m.\u001b[39mIOBase):\n",
      "File \u001b[0;32m~/opt/anaconda3/lib/python3.9/site-packages/deepgram/_utils.py:104\u001b[0m, in \u001b[0;36m_request.<locals>.attempt\u001b[0;34m()\u001b[0m\n\u001b[1;32m    102\u001b[0m         \u001b[38;5;28;01mreturn\u001b[39;00m body\n\u001b[1;32m    103\u001b[0m \u001b[38;5;28;01mexcept\u001b[39;00m aiohttp\u001b[38;5;241m.\u001b[39mClientResponseError \u001b[38;5;28;01mas\u001b[39;00m exc:\n\u001b[0;32m--> 104\u001b[0m     \u001b[38;5;28;01mraise\u001b[39;00m (\u001b[38;5;167;01mException\u001b[39;00m(\u001b[38;5;124mf\u001b[39m\u001b[38;5;124m'\u001b[39m\u001b[38;5;124mDG: \u001b[39m\u001b[38;5;132;01m{\u001b[39;00mexc\u001b[38;5;132;01m}\u001b[39;00m\u001b[38;5;124m'\u001b[39m) \u001b[38;5;28;01mif\u001b[39;00m exc\u001b[38;5;241m.\u001b[39mstatus \u001b[38;5;241m<\u001b[39m \u001b[38;5;241m500\u001b[39m \u001b[38;5;28;01melse\u001b[39;00m exc)\n\u001b[1;32m    105\u001b[0m \u001b[38;5;28;01mexcept\u001b[39;00m aiohttp\u001b[38;5;241m.\u001b[39mClientError \u001b[38;5;28;01mas\u001b[39;00m exc:\n\u001b[1;32m    106\u001b[0m     \u001b[38;5;28;01mraise\u001b[39;00m exc\n",
      "\u001b[0;31mException\u001b[0m: DG: 408, message='Request Timeout', url=URL('https://api.deepgram.com/v1/listen?punctuate=true&language=hi')"
     ]
    }
   ],
   "source": [
    "with open('/Users/vinay_kl/Downloads/Numbers_ASR_Check - Sheet7.csv', 'r') as f:\n",
    "    reader = csv.reader(f)\n",
    "    the_whole_file = list(reader)\n",
    "    \n",
    "    \n",
    "count = 0\n",
    "while (count < 300):\n",
    "    count = count + 1\n",
    "\n",
    "    row = count\n",
    "    column = 0\n",
    "    coloum = 3\n",
    "    path = the_whole_file[row][column]\n",
    "    #Name = the_whole_file[row][coloum]\n",
    "    \n",
    "    #print(path)\n",
    "    \n",
    "    \n",
    "    with open(path, 'rb') as audio:\n",
    "        source = { 'buffer': audio, 'mimetype': 'audio/wav' }\n",
    "        transcription_options = { 'punctuate': True, 'language': 'hi' }\n",
    "        response = await deepgram.transcription.prerecorded(source, transcription_options)\n",
    "        print(response)"
   ]
  },
  {
   "cell_type": "code",
   "execution_count": 5,
   "id": "cd05c515",
   "metadata": {},
   "outputs": [
    {
     "name": "stdout",
     "output_type": "stream",
     "text": [
      "{'metadata': {'transaction_key': 'deprecated', 'request_id': '10e00353-abd3-46ab-a35e-dfa735077f32', 'sha256': '9ebaef4aff6cc1da39a3de49829621a71b92eec95f096c0a6e39b08d35e8ac02', 'created': '2022-12-14T12:06:12.181Z', 'duration': 226.13913, 'channels': 1, 'models': ['5ebf7a37-2fcd-4f06-a7df-8b0e4defe578'], 'model_info': {'5ebf7a37-2fcd-4f06-a7df-8b0e4defe578': {'name': 'general', 'version': '2021-06-03.0', 'tier': 'base'}}}, 'results': {'channels': [{'alternatives': [{'transcript': 'hi जी, जी हां, जी हां हो रहा हूं, जी बिल्कुल जी सही यश बोलिए. Yes कहिए है, यश सो रही है. जय हां बात हो रही है. यश बात हो रही है. जी मैं ही बात कर रहा हूं. हां जी madam मैं ही बात कर रहा हूं. जी हां madam मुझसे ही बात हो रही है. हां कहिए. हां यह बताइए आज जी बोलिए बोलिए. नहीं नहीं, नहीं रहने दो. नहीं मुझे नहीं जानना. नहीं चाहिए मुझे. नहीं करना है. नहीं है नहीं करना कुछ active. नहीं madam नहीं, किस चीज़ के service? क्या service? कई k service कुछ नए activate करना मुझे. मुझे नहीं ध्यान कुछ activate करना. Sorry not interest set. नहीं sorry मुझे नहीं करना है activate. Madam sir पर मुझे attract नहीं करना. एक काम करो शाम में call करो. शाम को call करो थोड़ी देर पर call कीजिए. अभी थोड़ी देर में call करो. बताता हूं मैं अब बाद में अब rest तो बात में करो आप दोपहर में. कल करो. एक हफ्ते के बाद करो, दो दिन बाद call करो, और समय call कीजिए. मुझे नहीं चाहिए. मुझे interest नहीं है.', 'confidence': 0.8848891, 'words': [{'word': 'hi', 'start': 2.1, 'end': 2.26, 'confidence': 0.4205096, 'punctuated_word': 'hi'}, {'word': 'जी', 'start': 2.26, 'end': 2.46, 'confidence': 0.882008, 'punctuated_word': 'जी,'}, {'word': 'जी', 'start': 4.18, 'end': 4.38, 'confidence': 0.9922305, 'punctuated_word': 'जी'}, {'word': 'हां', 'start': 4.38, 'end': 4.66, 'confidence': 0.85373557, 'punctuated_word': 'हां,'}, {'word': 'जी', 'start': 9.63335, 'end': 9.753198, 'confidence': 0.88845867, 'punctuated_word': 'जी'}, {'word': 'हां', 'start': 9.753198, 'end': 9.952944, 'confidence': 0.7263786, 'punctuated_word': 'हां'}, {'word': 'हो', 'start': 9.952944, 'end': 10.072792, 'confidence': 0.88541055, 'punctuated_word': 'हो'}, {'word': 'रहा', 'start': 10.072792, 'end': 10.272538, 'confidence': 0.98740375, 'punctuated_word': 'रहा'}, {'word': 'हूं', 'start': 10.272538, 'end': 10.512234, 'confidence': 0.71503353, 'punctuated_word': 'हूं,'}, {'word': 'जी', 'start': 15.346091, 'end': 15.705635, 'confidence': 0.56417197, 'punctuated_word': 'जी'}, {'word': 'बिल्कुल', 'start': 15.705635, 'end': 16.205635, 'confidence': 0.7089773, 'punctuated_word': 'बिल्कुल'}, {'word': 'जी', 'start': 18.551441, 'end': 18.710855, 'confidence': 0.7392586, 'punctuated_word': 'जी'}, {'word': 'सही', 'start': 18.710855, 'end': 19.210855, 'confidence': 0.40983284, 'punctuated_word': 'सही'}, {'word': 'यश', 'start': 22.81578, 'end': 23.094757, 'confidence': 0.5345724, 'punctuated_word': 'यश'}, {'word': 'बोलिए', 'start': 23.094757, 'end': 23.45344, 'confidence': 0.540992, 'punctuated_word': 'बोलिए.'}, {'word': 'yes', 'start': 26.93971, 'end': 27.17921, 'confidence': 0.8964856, 'punctuated_word': 'Yes'}, {'word': 'कहिए', 'start': 27.17921, 'end': 27.378794, 'confidence': 0.74383205, 'punctuated_word': 'कहिए'}, {'word': 'है', 'start': 27.378794, 'end': 27.53846, 'confidence': 0.75130004, 'punctuated_word': 'है,'}, {'word': 'यश', 'start': 32.248627, 'end': 32.44821, 'confidence': 0.7035978, 'punctuated_word': 'यश'}, {'word': 'सो', 'start': 32.44821, 'end': 32.607876, 'confidence': 0.60055983, 'punctuated_word': 'सो'}, {'word': 'रही', 'start': 32.607876, 'end': 32.767544, 'confidence': 0.97894883, 'punctuated_word': 'रही'}, {'word': 'है', 'start': 32.767544, 'end': 32.92721, 'confidence': 0.9359955, 'punctuated_word': 'है.'}, {'word': 'जय', 'start': 36.292934, 'end': 36.49232, 'confidence': 0.5190221, 'punctuated_word': 'जय'}, {'word': 'हां', 'start': 36.49232, 'end': 36.731583, 'confidence': 0.45466262, 'punctuated_word': 'हां'}, {'word': 'बात', 'start': 36.731583, 'end': 36.930965, 'confidence': 0.9880541, 'punctuated_word': 'बात'}, {'word': 'हो', 'start': 36.930965, 'end': 37.090477, 'confidence': 0.9960174, 'punctuated_word': 'हो'}, {'word': 'रही', 'start': 37.090477, 'end': 37.249985, 'confidence': 0.99587715, 'punctuated_word': 'रही'}, {'word': 'है', 'start': 37.249985, 'end': 37.409492, 'confidence': 0.92405623, 'punctuated_word': 'है.'}, {'word': 'यश', 'start': 42.753017, 'end': 43.032158, 'confidence': 0.74137133, 'punctuated_word': 'यश'}, {'word': 'बात', 'start': 43.032158, 'end': 43.23154, 'confidence': 0.99937266, 'punctuated_word': 'बात'}, {'word': 'हो', 'start': 43.23154, 'end': 43.351173, 'confidence': 0.9986212, 'punctuated_word': 'हो'}, {'word': 'रही', 'start': 43.351173, 'end': 43.51068, 'confidence': 0.9897488, 'punctuated_word': 'रही'}, {'word': 'है', 'start': 43.51068, 'end': 43.63031, 'confidence': 0.947428, 'punctuated_word': 'है.'}, {'word': 'जी', 'start': 48.399506, 'end': 48.679176, 'confidence': 0.9904428, 'punctuated_word': 'जी'}, {'word': 'मैं', 'start': 48.679176, 'end': 48.799034, 'confidence': 0.99451464, 'punctuated_word': 'मैं'}, {'word': 'ही', 'start': 48.799034, 'end': 48.958847, 'confidence': 0.8884387, 'punctuated_word': 'ही'}, {'word': 'बात', 'start': 48.958847, 'end': 49.198563, 'confidence': 0.9992951, 'punctuated_word': 'बात'}, {'word': 'कर', 'start': 49.198563, 'end': 49.31842, 'confidence': 0.9982029, 'punctuated_word': 'कर'}, {'word': 'रहा', 'start': 49.31842, 'end': 49.438282, 'confidence': 0.9786212, 'punctuated_word': 'रहा'}, {'word': 'हूं', 'start': 49.438282, 'end': 49.59809, 'confidence': 0.79446983, 'punctuated_word': 'हूं.'}, {'word': 'हां', 'start': 53.168068, 'end': 53.32774, 'confidence': 0.8102132, 'punctuated_word': 'हां'}, {'word': 'जी', 'start': 53.32774, 'end': 53.48741, 'confidence': 0.7105473, 'punctuated_word': 'जी'}, {'word': 'madam', 'start': 53.48741, 'end': 53.766834, 'confidence': 0.9997645, 'punctuated_word': 'madam'}, {'word': 'मैं', 'start': 53.766834, 'end': 53.84667, 'confidence': 0.9878693, 'punctuated_word': 'मैं'}, {'word': 'ही', 'start': 53.84667, 'end': 54.00634, 'confidence': 0.48010778, 'punctuated_word': 'ही'}, {'word': 'बात', 'start': 54.00634, 'end': 54.20593, 'confidence': 0.9996062, 'punctuated_word': 'बात'}, {'word': 'कर', 'start': 54.20593, 'end': 54.325684, 'confidence': 0.99779046, 'punctuated_word': 'कर'}, {'word': 'रहा', 'start': 54.325684, 'end': 54.405518, 'confidence': 0.9886628, 'punctuated_word': 'रहा'}, {'word': 'हूं', 'start': 54.405518, 'end': 54.56519, 'confidence': 0.82873267, 'punctuated_word': 'हूं.'}, {'word': 'जी', 'start': 58.71663, 'end': 58.8763, 'confidence': 0.802544, 'punctuated_word': 'जी'}, {'word': 'हां', 'start': 58.8763, 'end': 59.035973, 'confidence': 0.6758607, 'punctuated_word': 'हां'}, {'word': 'madam', 'start': 59.035973, 'end': 59.315395, 'confidence': 0.99932265, 'punctuated_word': 'madam'}, {'word': 'मुझसे', 'start': 59.315395, 'end': 59.514984, 'confidence': 0.7641918, 'punctuated_word': 'मुझसे'}, {'word': 'ही', 'start': 59.514984, 'end': 59.634735, 'confidence': 0.68258417, 'punctuated_word': 'ही'}, {'word': 'बात', 'start': 59.634735, 'end': 59.834324, 'confidence': 0.9969746, 'punctuated_word': 'बात'}, {'word': 'हो', 'start': 59.834324, 'end': 59.95408, 'confidence': 0.97247535, 'punctuated_word': 'हो'}, {'word': 'रही', 'start': 59.95408, 'end': 60.113747, 'confidence': 0.9788211, 'punctuated_word': 'रही'}, {'word': 'है', 'start': 60.113747, 'end': 60.27342, 'confidence': 0.90592843, 'punctuated_word': 'है.'}, {'word': 'हां', 'start': 63.005005, 'end': 63.245003, 'confidence': 0.8269899, 'punctuated_word': 'हां'}, {'word': 'कहिए', 'start': 63.245003, 'end': 63.605003, 'confidence': 0.9170571, 'punctuated_word': 'कहिए.'}, {'word': 'हां', 'start': 65.885, 'end': 66.165, 'confidence': 0.7092536, 'punctuated_word': 'हां'}, {'word': 'यह', 'start': 66.165, 'end': 66.365005, 'confidence': 0.56183225, 'punctuated_word': 'यह'}, {'word': 'बताइए', 'start': 66.365005, 'end': 66.865005, 'confidence': 0.9283819, 'punctuated_word': 'बताइए'}, {'word': 'आज', 'start': 69.005005, 'end': 69.165, 'confidence': 0.49509147, 'punctuated_word': 'आज'}, {'word': 'जी', 'start': 69.165, 'end': 69.365005, 'confidence': 0.7585457, 'punctuated_word': 'जी'}, {'word': 'बोलिए', 'start': 69.365005, 'end': 69.645004, 'confidence': 0.8741508, 'punctuated_word': 'बोलिए'}, {'word': 'बोलिए', 'start': 69.645004, 'end': 69.965004, 'confidence': 0.93610364, 'punctuated_word': 'बोलिए.'}, {'word': 'नहीं', 'start': 74.05157, 'end': 74.290695, 'confidence': 0.9354243, 'punctuated_word': 'नहीं'}, {'word': 'नहीं', 'start': 74.290695, 'end': 74.56969, 'confidence': 0.97696847, 'punctuated_word': 'नहीं,'}, {'word': 'नहीं', 'start': 79.11324, 'end': 79.392235, 'confidence': 0.9492843, 'punctuated_word': 'नहीं'}, {'word': 'रहने', 'start': 79.392235, 'end': 79.71108, 'confidence': 0.9962714, 'punctuated_word': 'रहने'}, {'word': 'दो', 'start': 79.71108, 'end': 79.83065, 'confidence': 0.9781083, 'punctuated_word': 'दो.'}, {'word': 'नहीं', 'start': 85.4387, 'end': 85.718376, 'confidence': 0.95897007, 'punctuated_word': 'नहीं'}, {'word': 'मुझे', 'start': 85.718376, 'end': 85.95809, 'confidence': 0.9934998, 'punctuated_word': 'मुझे'}, {'word': 'नहीं', 'start': 85.95809, 'end': 86.15786, 'confidence': 0.9748674, 'punctuated_word': 'नहीं'}, {'word': 'जानना', 'start': 86.15786, 'end': 86.557396, 'confidence': 0.97719836, 'punctuated_word': 'जानना.'}, {'word': 'नहीं', 'start': 92.05, 'end': 92.25001, 'confidence': 0.94583607, 'punctuated_word': 'नहीं'}, {'word': 'चाहिए', 'start': 92.25001, 'end': 92.53001, 'confidence': 0.95260864, 'punctuated_word': 'चाहिए'}, {'word': 'मुझे', 'start': 92.53001, 'end': 92.850006, 'confidence': 0.85720074, 'punctuated_word': 'मुझे.'}, {'word': 'नहीं', 'start': 97.3015, 'end': 97.50108, 'confidence': 0.9321456, 'punctuated_word': 'नहीं'}, {'word': 'करना', 'start': 97.50108, 'end': 97.70066, 'confidence': 0.43599737, 'punctuated_word': 'करना'}, {'word': 'है', 'start': 97.70066, 'end': 98.20066, 'confidence': 0.40247792, 'punctuated_word': 'है.'}, {'word': 'नहीं', 'start': 102.570366, 'end': 102.73003, 'confidence': 0.94112575, 'punctuated_word': 'नहीं'}, {'word': 'है', 'start': 102.73003, 'end': 102.96952, 'confidence': 0.4528197, 'punctuated_word': 'है'}, {'word': 'नहीं', 'start': 102.96952, 'end': 103.1691, 'confidence': 0.9377679, 'punctuated_word': 'नहीं'}, {'word': 'करना', 'start': 103.1691, 'end': 103.40859, 'confidence': 0.9808486, 'punctuated_word': 'करना'}, {'word': 'कुछ', 'start': 103.40859, 'end': 103.56825, 'confidence': 0.98498255, 'punctuated_word': 'कुछ'}, {'word': 'active', 'start': 103.56825, 'end': 104.04724, 'confidence': 0.7070203, 'punctuated_word': 'active.'}, {'word': 'नहीं', 'start': 108.46, 'end': 108.66, 'confidence': 0.8574889, 'punctuated_word': 'नहीं'}, {'word': 'madam', 'start': 108.66, 'end': 108.98, 'confidence': 0.999183, 'punctuated_word': 'madam'}, {'word': 'नहीं', 'start': 108.98, 'end': 109.26, 'confidence': 0.9792862, 'punctuated_word': 'नहीं,'}, {'word': 'किस', 'start': 112.060005, 'end': 112.26, 'confidence': 0.9583989, 'punctuated_word': 'किस'}, {'word': 'चीज़', 'start': 112.26, 'end': 112.46, 'confidence': 0.9074655, 'punctuated_word': 'चीज़'}, {'word': 'के', 'start': 112.46, 'end': 112.62, 'confidence': 0.7864054, 'punctuated_word': 'के'}, {'word': 'service', 'start': 112.62, 'end': 112.94, 'confidence': 0.9326721, 'punctuated_word': 'service?'}, {'word': 'क्या', 'start': 116.62717, 'end': 116.86644, 'confidence': 0.8112386, 'punctuated_word': 'क्या'}, {'word': 'service', 'start': 116.86644, 'end': 117.22534, 'confidence': 0.9579274, 'punctuated_word': 'service?'}, {'word': 'कई', 'start': 121.09356, 'end': 121.29295, 'confidence': 0.6716523, 'punctuated_word': 'कई'}, {'word': 'k', 'start': 121.29295, 'end': 121.49235, 'confidence': 0.21191606, 'punctuated_word': 'k'}, {'word': 'service', 'start': 121.49235, 'end': 121.99235, 'confidence': 0.88115084, 'punctuated_word': 'service'}, {'word': 'कुछ', 'start': 126.299995, 'end': 126.46, 'confidence': 0.99477106, 'punctuated_word': 'कुछ'}, {'word': 'नए', 'start': 126.46, 'end': 126.86, 'confidence': 0.8488419, 'punctuated_word': 'नए'}, {'word': 'activate', 'start': 126.86, 'end': 127.06, 'confidence': 0.92913604, 'punctuated_word': 'activate'}, {'word': 'करना', 'start': 127.06, 'end': 127.46, 'confidence': 0.9752798, 'punctuated_word': 'करना'}, {'word': 'मुझे', 'start': 127.46, 'end': 127.659996, 'confidence': 0.6804129, 'punctuated_word': 'मुझे.'}, {'word': 'मुझे', 'start': 131.75394, 'end': 132.03358, 'confidence': 0.99200106, 'punctuated_word': 'मुझे'}, {'word': 'नहीं', 'start': 132.03358, 'end': 132.23332, 'confidence': 0.929412, 'punctuated_word': 'नहीं'}, {'word': 'ध्यान', 'start': 132.23332, 'end': 132.59286, 'confidence': 0.28516334, 'punctuated_word': 'ध्यान'}, {'word': 'कुछ', 'start': 132.59286, 'end': 132.9524, 'confidence': 0.9832881, 'punctuated_word': 'कुछ'}, {'word': 'activate', 'start': 132.9524, 'end': 133.19208, 'confidence': 0.89706296, 'punctuated_word': 'activate'}, {'word': 'करना', 'start': 133.19208, 'end': 133.51167, 'confidence': 0.99647456, 'punctuated_word': 'करना.'}, {'word': 'sorry', 'start': 141.4, 'end': 141.72, 'confidence': 0.48836216, 'punctuated_word': 'Sorry'}, {'word': 'not', 'start': 141.72, 'end': 142.12, 'confidence': 0.943885, 'punctuated_word': 'not'}, {'word': 'interest', 'start': 142.12, 'end': 142.31999, 'confidence': 0.4523277, 'punctuated_word': 'interest'}, {'word': 'set', 'start': 142.31999, 'end': 142.52, 'confidence': 0.3000171, 'punctuated_word': 'set.'}, {'word': 'नहीं', 'start': 146.375, 'end': 146.655, 'confidence': 0.9376551, 'punctuated_word': 'नहीं'}, {'word': 'sorry', 'start': 146.655, 'end': 147.015, 'confidence': 0.96345377, 'punctuated_word': 'sorry'}, {'word': 'मुझे', 'start': 147.015, 'end': 147.255, 'confidence': 0.9920461, 'punctuated_word': 'मुझे'}, {'word': 'नहीं', 'start': 147.255, 'end': 147.455, 'confidence': 0.9575681, 'punctuated_word': 'नहीं'}, {'word': 'करना', 'start': 147.455, 'end': 147.615, 'confidence': 0.96519625, 'punctuated_word': 'करना'}, {'word': 'है', 'start': 147.615, 'end': 147.895, 'confidence': 0.8209249, 'punctuated_word': 'है'}, {'word': 'activate', 'start': 147.895, 'end': 148.175, 'confidence': 0.88347125, 'punctuated_word': 'activate.'}, {'word': 'madam', 'start': 152.855, 'end': 153.215, 'confidence': 0.99298084, 'punctuated_word': 'Madam'}, {'word': 'sir', 'start': 153.215, 'end': 153.535, 'confidence': 0.5775246, 'punctuated_word': 'sir'}, {'word': 'पर', 'start': 153.535, 'end': 153.735, 'confidence': 0.8896032, 'punctuated_word': 'पर'}, {'word': 'मुझे', 'start': 153.735, 'end': 154.135, 'confidence': 0.89266866, 'punctuated_word': 'मुझे'}, {'word': 'attract', 'start': 154.135, 'end': 154.295, 'confidence': 0.24659953, 'punctuated_word': 'attract'}, {'word': 'नहीं', 'start': 154.295, 'end': 154.495, 'confidence': 0.97654784, 'punctuated_word': 'नहीं'}, {'word': 'करना', 'start': 154.495, 'end': 154.815, 'confidence': 0.99460346, 'punctuated_word': 'करना.'}, {'word': 'एक', 'start': 159.57268, 'end': 159.7719, 'confidence': 0.99691904, 'punctuated_word': 'एक'}, {'word': 'काम', 'start': 159.7719, 'end': 160.01096, 'confidence': 0.99478614, 'punctuated_word': 'काम'}, {'word': 'करो', 'start': 160.01096, 'end': 160.28987, 'confidence': 0.79923475, 'punctuated_word': 'करो'}, {'word': 'शाम', 'start': 160.28987, 'end': 160.44925, 'confidence': 0.82807773, 'punctuated_word': 'शाम'}, {'word': 'में', 'start': 160.44925, 'end': 160.60863, 'confidence': 0.9090516, 'punctuated_word': 'में'}, {'word': 'call', 'start': 160.60863, 'end': 160.80786, 'confidence': 0.98271006, 'punctuated_word': 'call'}, {'word': 'करो', 'start': 160.80786, 'end': 161.00708, 'confidence': 0.83463484, 'punctuated_word': 'करो.'}, {'word': 'शाम', 'start': 165.40529, 'end': 165.64438, 'confidence': 0.9416541, 'punctuated_word': 'शाम'}, {'word': 'को', 'start': 165.64438, 'end': 165.80377, 'confidence': 0.8848891, 'punctuated_word': 'को'}, {'word': 'call', 'start': 165.80377, 'end': 166.04288, 'confidence': 0.746595, 'punctuated_word': 'call'}, {'word': 'करो', 'start': 166.04288, 'end': 166.54288, 'confidence': 0.93614733, 'punctuated_word': 'करो'}, {'word': 'थोड़ी', 'start': 172.51268, 'end': 172.75168, 'confidence': 0.55384034, 'punctuated_word': 'थोड़ी'}, {'word': 'देर', 'start': 172.75168, 'end': 172.95084, 'confidence': 0.99729234, 'punctuated_word': 'देर'}, {'word': 'पर', 'start': 172.95084, 'end': 173.11015, 'confidence': 0.65357417, 'punctuated_word': 'पर'}, {'word': 'call', 'start': 173.11015, 'end': 173.4288, 'confidence': 0.9452403, 'punctuated_word': 'call'}, {'word': 'कीजिए', 'start': 173.4288, 'end': 173.6678, 'confidence': 0.925646, 'punctuated_word': 'कीजिए.'}, {'word': 'अभी', 'start': 178.22415, 'end': 178.42365, 'confidence': 0.91127014, 'punctuated_word': 'अभी'}, {'word': 'थोड़ी', 'start': 178.42365, 'end': 178.66304, 'confidence': 0.5630298, 'punctuated_word': 'थोड़ी'}, {'word': 'देर', 'start': 178.66304, 'end': 178.86253, 'confidence': 0.9940738, 'punctuated_word': 'देर'}, {'word': 'में', 'start': 178.86253, 'end': 178.98224, 'confidence': 0.93416965, 'punctuated_word': 'में'}, {'word': 'call', 'start': 178.98224, 'end': 179.18173, 'confidence': 0.6459901, 'punctuated_word': 'call'}, {'word': 'करो', 'start': 179.18173, 'end': 179.46101, 'confidence': 0.9677204, 'punctuated_word': 'करो.'}, {'word': 'बताता', 'start': 182.97214, 'end': 183.21152, 'confidence': 0.8701587, 'punctuated_word': 'बताता'}, {'word': 'हूं', 'start': 183.21152, 'end': 183.37112, 'confidence': 0.678748, 'punctuated_word': 'हूं'}, {'word': 'मैं', 'start': 183.37112, 'end': 183.49081, 'confidence': 0.9453054, 'punctuated_word': 'मैं'}, {'word': 'अब', 'start': 183.49081, 'end': 183.73021, 'confidence': 0.41606343, 'punctuated_word': 'अब'}, {'word': 'बाद', 'start': 183.73021, 'end': 183.9696, 'confidence': 0.95868355, 'punctuated_word': 'बाद'}, {'word': 'में', 'start': 183.9696, 'end': 184.4696, 'confidence': 0.96234095, 'punctuated_word': 'में'}, {'word': 'अब', 'start': 188.57167, 'end': 188.73119, 'confidence': 0.49632135, 'punctuated_word': 'अब'}, {'word': 'rest', 'start': 188.73119, 'end': 188.97046, 'confidence': 0.17382935, 'punctuated_word': 'rest'}, {'word': 'तो', 'start': 188.97046, 'end': 189.12999, 'confidence': 0.6913398, 'punctuated_word': 'तो'}, {'word': 'बात', 'start': 189.12999, 'end': 189.32938, 'confidence': 0.7746167, 'punctuated_word': 'बात'}, {'word': 'में', 'start': 189.32938, 'end': 189.4889, 'confidence': 0.8492784, 'punctuated_word': 'में'}, {'word': 'करो', 'start': 189.4889, 'end': 189.68831, 'confidence': 0.92695624, 'punctuated_word': 'करो'}, {'word': 'आप', 'start': 189.68831, 'end': 189.96747, 'confidence': 0.74338454, 'punctuated_word': 'आप'}, {'word': 'दोपहर', 'start': 189.96747, 'end': 190.16687, 'confidence': 0.9681534, 'punctuated_word': 'दोपहर'}, {'word': 'में', 'start': 190.16687, 'end': 190.32639, 'confidence': 0.88590926, 'punctuated_word': 'में.'}, {'word': 'कल', 'start': 194.51378, 'end': 194.99234, 'confidence': 0.45779333, 'punctuated_word': 'कल'}, {'word': 'करो', 'start': 194.99234, 'end': 195.23163, 'confidence': 0.983299, 'punctuated_word': 'करो.'}, {'word': 'एक', 'start': 200.75006, 'end': 200.90958, 'confidence': 0.9961663, 'punctuated_word': 'एक'}, {'word': 'हफ्ते', 'start': 200.90958, 'end': 201.14886, 'confidence': 0.98952496, 'punctuated_word': 'हफ्ते'}, {'word': 'के', 'start': 201.14886, 'end': 201.30838, 'confidence': 0.59883976, 'punctuated_word': 'के'}, {'word': 'बाद', 'start': 201.30838, 'end': 201.50778, 'confidence': 0.55127394, 'punctuated_word': 'बाद'}, {'word': 'करो', 'start': 201.50778, 'end': 201.74707, 'confidence': 0.9395174, 'punctuated_word': 'करो,'}, {'word': 'दो', 'start': 206.47, 'end': 206.59001, 'confidence': 0.9885606, 'punctuated_word': 'दो'}, {'word': 'दिन', 'start': 206.59001, 'end': 206.79001, 'confidence': 0.92821723, 'punctuated_word': 'दिन'}, {'word': 'बाद', 'start': 206.79001, 'end': 206.99, 'confidence': 0.99398696, 'punctuated_word': 'बाद'}, {'word': 'call', 'start': 206.99, 'end': 207.19, 'confidence': 0.9845683, 'punctuated_word': 'call'}, {'word': 'करो', 'start': 207.19, 'end': 207.43001, 'confidence': 0.9875167, 'punctuated_word': 'करो,'}, {'word': 'और', 'start': 210.71, 'end': 210.95, 'confidence': 0.38598284, 'punctuated_word': 'और'}, {'word': 'समय', 'start': 210.95, 'end': 211.11, 'confidence': 0.59326893, 'punctuated_word': 'समय'}, {'word': 'call', 'start': 211.11, 'end': 211.39, 'confidence': 0.90997577, 'punctuated_word': 'call'}, {'word': 'कीजिए', 'start': 211.39, 'end': 211.63, 'confidence': 0.89713204, 'punctuated_word': 'कीजिए.'}, {'word': 'मुझे', 'start': 216.0807, 'end': 216.31987, 'confidence': 0.99648535, 'punctuated_word': 'मुझे'}, {'word': 'नहीं', 'start': 216.31987, 'end': 216.5192, 'confidence': 0.95242995, 'punctuated_word': 'नहीं'}, {'word': 'चाहिए', 'start': 216.5192, 'end': 216.83809, 'confidence': 0.9964742, 'punctuated_word': 'चाहिए.'}, {'word': 'मुझे', 'start': 220.26631, 'end': 220.62508, 'confidence': 0.9786389, 'punctuated_word': 'मुझे'}, {'word': 'interest', 'start': 220.62508, 'end': 220.86426, 'confidence': 0.9909369, 'punctuated_word': 'interest'}, {'word': 'नहीं', 'start': 220.86426, 'end': 221.06357, 'confidence': 0.98848325, 'punctuated_word': 'नहीं'}, {'word': 'है', 'start': 221.06357, 'end': 221.18317, 'confidence': 0.94223976, 'punctuated_word': 'है.'}]}]}]}}\n"
     ]
    }
   ],
   "source": [
    "with open(path, 'rb') as audio:\n",
    "    source = { 'buffer': audio, 'mimetype': 'audio/wav' }\n",
    "    transcription_options = { 'punctuate': True, 'language': 'hi' }\n",
    "    response = await deepgram.transcription.prerecorded(source, transcription_options)\n",
    "    print(response)"
   ]
  },
  {
   "cell_type": "code",
   "execution_count": null,
   "id": "8e9f864a",
   "metadata": {},
   "outputs": [],
   "source": []
  }
 ],
 "metadata": {
  "kernelspec": {
   "display_name": "Python 3 (ipykernel)",
   "language": "python",
   "name": "python3"
  },
  "language_info": {
   "codemirror_mode": {
    "name": "ipython",
    "version": 3
   },
   "file_extension": ".py",
   "mimetype": "text/x-python",
   "name": "python",
   "nbconvert_exporter": "python",
   "pygments_lexer": "ipython3",
   "version": "3.9.12"
  }
 },
 "nbformat": 4,
 "nbformat_minor": 5
}
