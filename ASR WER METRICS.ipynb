{
 "cells": [
  {
   "cell_type": "code",
   "execution_count": 1,
   "id": "9ee4222f",
   "metadata": {},
   "outputs": [
    {
     "name": "stdout",
     "output_type": "stream",
     "text": [
      "Collecting jiwer\n",
      "  Downloading jiwer-2.5.1-py3-none-any.whl (15 kB)\n",
      "Collecting levenshtein==0.20.2\n",
      "  Downloading Levenshtein-0.20.2-cp39-cp39-macosx_10_9_x86_64.whl (137 kB)\n",
      "\u001b[K     |████████████████████████████████| 137 kB 2.8 MB/s eta 0:00:01\n",
      "\u001b[?25hCollecting rapidfuzz<3.0.0,>=2.3.0\n",
      "  Downloading rapidfuzz-2.13.7-cp39-cp39-macosx_10_9_x86_64.whl (1.8 MB)\n",
      "\u001b[K     |████████████████████████████████| 1.8 MB 5.4 MB/s eta 0:00:01\n",
      "\u001b[?25hInstalling collected packages: rapidfuzz, levenshtein, jiwer\n",
      "Successfully installed jiwer-2.5.1 levenshtein-0.20.2 rapidfuzz-2.13.7\n"
     ]
    }
   ],
   "source": [
    "!pip install jiwer"
   ]
  },
  {
   "cell_type": "code",
   "execution_count": 6,
   "id": "5fec99ef",
   "metadata": {},
   "outputs": [],
   "source": [
    "from jiwer import wer\n",
    "\n",
    "ground_truth = \"hello world\"\n",
    "hypothesis = \"going\"\n",
    "\n",
    "error = wer(ground_truth, hypothesis)"
   ]
  },
  {
   "cell_type": "code",
   "execution_count": 7,
   "id": "9ff060b6",
   "metadata": {},
   "outputs": [
    {
     "data": {
      "text/plain": [
       "1.0"
      ]
     },
     "execution_count": 7,
     "metadata": {},
     "output_type": "execute_result"
    }
   ],
   "source": [
    "error"
   ]
  },
  {
   "cell_type": "code",
   "execution_count": 17,
   "id": "a30907b9",
   "metadata": {},
   "outputs": [
    {
     "data": {
      "text/plain": [
       "0.5"
      ]
     },
     "execution_count": 17,
     "metadata": {},
     "output_type": "execute_result"
    }
   ],
   "source": [
    "utterance = \"go in\"\n",
    "asr_prediction = \"go in Darsh\"\n",
    "\n",
    "error = wer(utterance, asr_prediction)\n",
    "\n",
    "error"
   ]
  },
  {
   "cell_type": "code",
   "execution_count": 28,
   "id": "9203e8e6",
   "metadata": {},
   "outputs": [],
   "source": [
    "def WER(A=None,B=None):\n",
    "    utterance = A\n",
    "    asr_prediction = B\n",
    "\n",
    "    error = wer(utterance, asr_prediction)\n",
    "\n",
    "    print(error)"
   ]
  },
  {
   "cell_type": "code",
   "execution_count": 1,
   "id": "4e980e26",
   "metadata": {},
   "outputs": [
    {
     "name": "stdout",
     "output_type": "stream",
     "text": [
      "Requirement already satisfied: jiwer in /Users/vinay_kl/opt/anaconda3/lib/python3.9/site-packages (2.5.1)\r\n",
      "Requirement already satisfied: levenshtein==0.20.2 in /Users/vinay_kl/opt/anaconda3/lib/python3.9/site-packages (from jiwer) (0.20.2)\r\n",
      "Requirement already satisfied: rapidfuzz<3.0.0,>=2.3.0 in /Users/vinay_kl/opt/anaconda3/lib/python3.9/site-packages (from levenshtein==0.20.2->jiwer) (2.13.7)\r\n"
     ]
    }
   ],
   "source": [
    "!pip install jiwer\n",
    "from jiwer import wer\n",
    "from jiwer import mer\n",
    "from jiwer import wil\n",
    "import csv"
   ]
  },
  {
   "cell_type": "code",
   "execution_count": 2,
   "id": "c7bc578b",
   "metadata": {},
   "outputs": [],
   "source": [
    "path = \"/Users/vinay_kl/Downloads/Azure_ASR_Testing - Telugu.csv\""
   ]
  },
  {
   "cell_type": "code",
   "execution_count": 4,
   "id": "7939a090",
   "metadata": {},
   "outputs": [
    {
     "name": "stdout",
     "output_type": "stream",
     "text": [
      "0.2\n",
      "1.0\n",
      "0.8571428571428571\n",
      "0.25\n",
      "0.5\n",
      "0.6666666666666666\n",
      "0.4\n",
      "0.2\n",
      "1.0\n",
      "0.2\n",
      "0.2\n",
      "0.25\n",
      "0.4\n",
      "0.375\n",
      "0.6666666666666666\n",
      "0.6\n",
      "0.42857142857142855\n",
      "0.5714285714285714\n",
      "0.5\n",
      "0.6\n",
      "1.0\n",
      "0.42857142857142855\n",
      "0.5\n",
      "1.0\n",
      "0.625\n",
      "0.7142857142857143\n",
      "0.6666666666666666\n",
      "0.3333333333333333\n",
      "0.5\n",
      "0.4\n",
      "0.6666666666666666\n",
      "0.8333333333333334\n",
      "1.0\n",
      "0.3333333333333333\n",
      "0.8\n",
      "0.8\n",
      "0.2857142857142857\n",
      "0.4\n",
      "0.5714285714285714\n",
      "0.5\n",
      "0.5\n",
      "0.4\n",
      "0.4\n",
      "0.6666666666666666\n",
      "0.4\n",
      "0.6\n",
      "0.4\n",
      "0.6\n",
      "0.2857142857142857\n",
      "0.6\n",
      "0.5\n",
      "0.625\n",
      "1.0\n",
      "0.42857142857142855\n",
      "0.3333333333333333\n",
      "0.25\n",
      "0.42857142857142855\n",
      "0.6\n",
      "0.7692307692307693\n",
      "0.75\n",
      "0.75\n",
      "0.42857142857142855\n",
      "0.25\n",
      "0.4\n",
      "1.0\n",
      "0.5\n",
      "0.42857142857142855\n",
      "0.42857142857142855\n",
      "0.5\n",
      "0.4\n",
      "1.0\n",
      "0.16666666666666666\n",
      "0.8333333333333334\n",
      "0.5\n",
      "0.75\n",
      "0.3333333333333333\n",
      "0.6666666666666666\n",
      "0.4444444444444444\n",
      "0.8333333333333334\n",
      "0.7142857142857143\n",
      "0.16666666666666666\n",
      "1.0\n",
      "1.0\n",
      "1.0\n",
      "1.0\n",
      "0.3333333333333333\n",
      "1.0\n",
      "1.0\n",
      "0.4666666666666667\n",
      "0.46153846153846156\n",
      "0.7857142857142857\n",
      "0.45\n",
      "0.6\n",
      "0.6470588235294118\n",
      "0.5\n",
      "0.75\n",
      "0.2\n",
      "0.3333333333333333\n",
      "0.6666666666666666\n",
      "0.42857142857142855\n",
      "1.0\n",
      "1.0\n"
     ]
    },
    {
     "ename": "IndexError",
     "evalue": "list index out of range",
     "output_type": "error",
     "traceback": [
      "\u001b[0;31m---------------------------------------------------------------------------\u001b[0m",
      "\u001b[0;31mIndexError\u001b[0m                                Traceback (most recent call last)",
      "Input \u001b[0;32mIn [4]\u001b[0m, in \u001b[0;36m<cell line: 6>\u001b[0;34m()\u001b[0m\n\u001b[1;32m      6\u001b[0m \u001b[38;5;28;01mwhile\u001b[39;00m(count \u001b[38;5;241m<\u001b[39m \u001b[38;5;28mlen\u001b[39m(the_whole_file)):\n\u001b[1;32m      7\u001b[0m     count \u001b[38;5;241m=\u001b[39m count \u001b[38;5;241m+\u001b[39m \u001b[38;5;241m1\u001b[39m\n\u001b[0;32m----> 8\u001b[0m     A \u001b[38;5;241m=\u001b[39m \u001b[43mthe_whole_file\u001b[49m\u001b[43m[\u001b[49m\u001b[43mcount\u001b[49m\u001b[43m]\u001b[49m[\u001b[38;5;241m1\u001b[39m]\n\u001b[1;32m      9\u001b[0m     B \u001b[38;5;241m=\u001b[39m the_whole_file[count][\u001b[38;5;241m2\u001b[39m]\n\u001b[1;32m     11\u001b[0m     \u001b[38;5;28;01mtry\u001b[39;00m:\n",
      "\u001b[0;31mIndexError\u001b[0m: list index out of range"
     ]
    }
   ],
   "source": [
    "with open(path, 'r') as f:\n",
    "    reader = csv.reader(f)\n",
    "    the_whole_file = list(reader)    \n",
    "    \n",
    "count = 0\n",
    "while(count < len(the_whole_file)):\n",
    "    count = count + 1\n",
    "    A = the_whole_file[count][1]\n",
    "    B = the_whole_file[count][2]\n",
    "    \n",
    "    try:\n",
    "        error = wer(A,B)\n",
    "        #error_1 = mer(A,B)\n",
    "        #error_2 = wil(A,B)\n",
    "        #print(error+error_1+error_2)\n",
    "        print(error)\n",
    "        \n",
    "    except Exception as e:\n",
    "        print(e)    \n",
    "    \n",
    "    #print(A+\"\\n\"+B+\"\\n\\n\")\n",
    "    \n"
   ]
  },
  {
   "cell_type": "code",
   "execution_count": 9,
   "id": "f8382dbb",
   "metadata": {},
   "outputs": [
    {
     "name": "stdout",
     "output_type": "stream",
     "text": [
      "0.0\n",
      "correct\n"
     ]
    }
   ],
   "source": [
    "from jiwer import wer\n",
    "\n",
    "A = 'apple'\n",
    "B = 'apple'\n",
    "\n",
    "a = wer(A,B)\n",
    "print(a)\n",
    "\n",
    "if A==B:\n",
    "    print(\"correct\")\n",
    "    \n",
    "e =     "
   ]
  },
  {
   "cell_type": "code",
   "execution_count": null,
   "id": "83c1dac3",
   "metadata": {},
   "outputs": [],
   "source": []
  },
  {
   "cell_type": "code",
   "execution_count": null,
   "id": "b957a24f",
   "metadata": {},
   "outputs": [],
   "source": []
  }
 ],
 "metadata": {
  "kernelspec": {
   "display_name": "Python 3 (ipykernel)",
   "language": "python",
   "name": "python3"
  },
  "language_info": {
   "codemirror_mode": {
    "name": "ipython",
    "version": 3
   },
   "file_extension": ".py",
   "mimetype": "text/x-python",
   "name": "python",
   "nbconvert_exporter": "python",
   "pygments_lexer": "ipython3",
   "version": "3.9.12"
  }
 },
 "nbformat": 4,
 "nbformat_minor": 5
}
